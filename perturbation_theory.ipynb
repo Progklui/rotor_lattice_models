{
 "cells": [
  {
   "cell_type": "code",
   "execution_count": 1,
   "metadata": {},
   "outputs": [],
   "source": [
    "import numpy as np\n",
    "import scipy\n",
    "import matplotlib.pyplot as plt\n",
    "import time, os, sys, gc\n",
    "\n",
    "import h5py \n",
    "\n",
    "import svgutils.transform as sg \n",
    "import sys \n",
    "\n",
    "import matplotlib.patches as patches\n",
    "\n",
    "from scipy.integrate import solve_ivp\n",
    "\n",
    "import class_energy as energy\n",
    "import class_equations_of_motion as eom \n",
    "\n",
    "import class_handle_input as h_in\n",
    "import class_handle_wavefunctions as h_wavef\n",
    "\n",
    "import class_visualization as vis\n",
    "import class_mass_size as mass_size"
   ]
  },
  {
   "cell_type": "code",
   "execution_count": 20,
   "metadata": {},
   "outputs": [],
   "source": [
    "def integrate_self_energy(V_0, tx, ty, B, E):\n",
    "    E_self = lambda kx, ky: (2*V_0**2)/(4*np.pi**2)*(1-np.cos(kx)*np.cos(ky))/(B-E-2*tx*np.cos(kx)-2*ty*np.cos(ky))\n",
    "    E_self_int = scipy.integrate.dblquad(E_self, -np.pi,np.pi, -np.pi,np.pi)\n",
    "    return E_self_int\n",
    "\n",
    "def find_Ep(V_0, tx, ty, B, E_guess):\n",
    "    E_self_int = lambda E: E+integrate_self_energy(V_0, tx, ty, B, E-2*tx-2*ty)[0]\n",
    "    E_min = scipy.optimize.fsolve(E_self_int, [E_guess])\n",
    "    return E_min\n",
    "\n",
    "def guess_Ep(V_0):\n",
    "    return -0.004649*V_0**2-0.07471*V_0+0.8718"
   ]
  },
  {
   "cell_type": "code",
   "execution_count": 3,
   "metadata": {},
   "outputs": [],
   "source": [
    "def quick_pot_scan(params, V_0_arr):\n",
    "    print('\\nvGH Calculations:')\n",
    "    E_arr = np.zeros(len(V_0_arr), dtype=complex)\n",
    "    for i in range(len(V_0_arr)):\n",
    "        print('V0 =', V_0_arr[i])\n",
    "        params[\"V_0\"] = V_0_arr[i]\n",
    "\n",
    "        eom_object = eom.eom(params=params)\n",
    "        wavefunc_object = h_wavef.wavefunctions(params=params)\n",
    "        wfn_manip = h_wavef.wavefunc_operations(params=params)\n",
    "        ''' \n",
    "        Init wavefunction\n",
    "        '''\n",
    "        psi_init = wavefunc_object.create_init_wavefunction(params['init_choice'])\n",
    "        psi_init = wfn_manip.reshape_one_dim(psi_init)\n",
    "        ''' \n",
    "        Imaginary Time Propagation\n",
    "        '''\n",
    "        psi, E_evo, epsilon_evo = eom_object.solve_for_fixed_params_imag_time_prop_new(psi_init)\n",
    "        E_arr[i] = E_evo[-1]\n",
    "    \n",
    "    return E_arr\n",
    "\n",
    "def pert_pot_scan(params, V_0_arr):\n",
    "    print('\\nPerturbative Calculations:')\n",
    "    E_arr = np.zeros(len(V_0_arr), dtype=complex)\n",
    "    for i in range(len(V_0_arr)):\n",
    "        print('V0 =', V_0_arr[i])\n",
    "        E_min = find_Ep(V_0_arr[i], params[\"tx\"], params[\"ty\"], params[\"B\"], guess_Ep(V_0_arr[i]))\n",
    "        E_arr[i] = E_min[0]\n",
    "    \n",
    "    return E_arr\n",
    "\n",
    "def get_Ep_from_E_vGH(E_vGH, tx, ty):\n",
    "    return E_vGH+2*tx+2*ty\n",
    "\n",
    "def get_E_from_Ep(E_vGH, tx, ty):\n",
    "    return E_vGH-2*tx-2*ty\n",
    "\n",
    "def get_energies(params,V_0_range):\n",
    "    E_arr1 = np.zeros(len(V_0_range))\n",
    "\n",
    "    Ep_pert = pert_pot_scan(params, V_0_range)\n",
    "    E_vGH = quick_pot_scan(params, V_0_range)\n",
    "\n",
    "    E_pert = get_E_from_Ep(Ep_pert, params[\"tx\"], params[\"ty\"])\n",
    "    return E_pert, E_vGH"
   ]
  },
  {
   "cell_type": "code",
   "execution_count": 4,
   "metadata": {},
   "outputs": [],
   "source": [
    "params = {\"n\": 256,\n",
    "\"M\": 36,\n",
    "\"Mx\": 16,\n",
    "\"Mx_display\": 4,\n",
    "\"converge_new_lattice\": \"no\",\n",
    "\"My\": 16,\n",
    "\"My_display\": 4,\n",
    "\"B\": 1.0,\n",
    "\"tx\": 100,\n",
    "\"ty\": 100,\n",
    "\"V_0\": 150.0,\n",
    "\"qx\": 0,\n",
    "\"qy\": 0,\n",
    "\"init_choice\": \"uniform\",\n",
    "\"external_wf_tag\": \" \",\n",
    "\"excitation_no\": 11,\n",
    "\"angle_pattern\": [0,0,0,0],\n",
    "\"V_0_pattern\": [0,0,0,0],\n",
    "\"n_states\": 0,\n",
    "\"path_to_input_wavefunction\": \" \",\n",
    "\"dt\": 0.001,\n",
    "\"tol\": 1e-7}\n",
    "\n",
    "x = (2*np.pi/params[\"n\"])*np.arange(params[\"n\"])\n",
    "\n",
    "''' \n",
    "I/O Object\n",
    "'''\n",
    "h5_io_object = h_in.io_hdf5()"
   ]
  },
  {
   "cell_type": "code",
   "execution_count": null,
   "metadata": {},
   "outputs": [
    {
     "name": "stdout",
     "output_type": "stream",
     "text": [
      "\n",
      "vGH Calculations:\n",
      "V0 = 0.0\n",
      "V0 = 5.0\n",
      "V0 = 10.0\n",
      "V0 = 15.0\n",
      "V0 = 20.0\n",
      "V0 = 25.0\n",
      "V0 = 30.0\n",
      "V0 = 35.0\n",
      "V0 = 40.0\n",
      "V0 = 45.0\n",
      "V0 = 50.0\n",
      "V0 = 55.0\n",
      "V0 = 60.0\n",
      "V0 = 65.0\n",
      "V0 = 70.0\n",
      "V0 = 75.0\n",
      "V0 = 80.0\n",
      "V0 = 85.0\n",
      "V0 = 90.0\n",
      "V0 = 95.0\n",
      "V0 = 100.0\n",
      "\n",
      "Perturbative Calculations:\n",
      "V0 = 0.0\n",
      "V0 = 5.0\n",
      "V0 = 10.0\n",
      "V0 = 15.0\n",
      "V0 = 20.0\n",
      "V0 = 25.0\n",
      "V0 = 30.0\n",
      "V0 = 35.0\n",
      "V0 = 40.0\n",
      "V0 = 45.0\n",
      "V0 = 50.0\n",
      "V0 = 55.0\n",
      "V0 = 60.0\n",
      "V0 = 65.0\n",
      "V0 = 70.0\n",
      "V0 = 75.0\n",
      "V0 = 80.0\n",
      "V0 = 85.0\n",
      "V0 = 90.0\n",
      "V0 = 95.0\n",
      "V0 = 100.0\n",
      "\n",
      "vGH Calculations:\n",
      "V0 = 0.0\n",
      "V0 = 5.0\n",
      "V0 = 10.0\n",
      "V0 = 15.0\n",
      "V0 = 20.0\n",
      "V0 = 25.0\n",
      "V0 = 30.0\n",
      "V0 = 35.0\n",
      "V0 = 40.0\n",
      "V0 = 45.0\n",
      "V0 = 50.0\n",
      "V0 = 55.0\n",
      "V0 = 60.0\n",
      "V0 = 65.0\n",
      "V0 = 70.0\n",
      "V0 = 75.0\n",
      "V0 = 80.0\n",
      "V0 = 85.0\n",
      "V0 = 90.0\n",
      "V0 = 95.0\n",
      "V0 = 100.0\n",
      "\n",
      "Perturbative Calculations:\n",
      "V0 = 0.0\n",
      "V0 = 5.0\n",
      "V0 = 10.0\n",
      "V0 = 15.0\n",
      "V0 = 20.0\n",
      "V0 = 25.0\n",
      "V0 = 30.0\n",
      "V0 = 35.0\n",
      "V0 = 40.0\n",
      "V0 = 45.0\n",
      "V0 = 50.0\n",
      "V0 = 55.0\n",
      "V0 = 60.0\n",
      "V0 = 65.0\n",
      "V0 = 70.0\n",
      "V0 = 75.0\n",
      "V0 = 80.0\n",
      "V0 = 85.0\n",
      "V0 = 90.0\n",
      "V0 = 95.0\n",
      "V0 = 100.0\n",
      "\n",
      "vGH Calculations:\n",
      "V0 = 0.0\n",
      "V0 = 5.0\n",
      "V0 = 10.0\n",
      "V0 = 15.0\n",
      "V0 = 20.0\n",
      "V0 = 25.0\n",
      "V0 = 30.0\n",
      "V0 = 35.0\n",
      "V0 = 40.0\n",
      "V0 = 45.0\n",
      "V0 = 50.0\n",
      "V0 = 55.0\n",
      "V0 = 60.0\n",
      "V0 = 65.0\n",
      "V0 = 70.0\n",
      "V0 = 75.0\n",
      "V0 = 80.0\n",
      "V0 = 85.0\n",
      "V0 = 90.0\n",
      "V0 = 95.0\n",
      "V0 = 100.0\n",
      "\n",
      "Perturbative Calculations:\n",
      "V0 = 0.0\n",
      "V0 = 5.0\n",
      "V0 = 10.0\n",
      "V0 = 15.0\n"
     ]
    }
   ],
   "source": [
    "V_0_range = np.linspace(0,100,21)\n",
    "\n",
    "params[\"tx\"] = 100\n",
    "params[\"ty\"] = 100\n",
    "t = params[\"tx\"] + params[\"ty\"]\n",
    "E_pert1, E_vGH1 = get_energies(params,V_0_range)\n",
    "\n",
    "params[\"tx\"] = 50\n",
    "params[\"ty\"] = 150\n",
    "E_pert2, E_vGH2 = get_energies(params,V_0_range)\n",
    "\n",
    "params[\"tx\"] = 10\n",
    "params[\"ty\"] = 190\n",
    "E_pert3, E_vGH3 = get_energies(params,V_0_range)"
   ]
  },
  {
   "cell_type": "code",
   "execution_count": 6,
   "metadata": {},
   "outputs": [
    {
     "data": {
      "image/png": "[encoded data removed]",
      "text/plain": [
       "<Figure size 432x288 with 1 Axes>"
      ]
     },
     "metadata": {
      "needs_background": "light"
     },
     "output_type": "display_data"
    }
   ],
   "source": [
    "A = 6\n",
    "plt.rc('figure', figsize=[46.82 * .5**(.5 * A), 33.11 * .5**(.5 * A)])\n",
    "plt.rc('text', usetex=True)\n",
    "plt.rc('font', family='serif')\n",
    "font_size = 20\n",
    "\n",
    "fig, axs = plt.subplots()\n",
    "\n",
    "plt.plot(V_0_range/t, -(E_pert1.real+2*t+0*100)/t, marker='x', color='tab:blue', linestyle='solid', label=r'$t_x = 100, t_y = 100$')\n",
    "plt.plot(V_0_range/t, -(E_vGH1.real+2*t+0*100)/t, marker='x', color='tab:blue', linestyle='dashed')\n",
    "\n",
    "plt.plot(V_0_range/t, -(E_pert2.real+2*t+0*80)/t, marker='x', color='tab:orange', linestyle='solid', label=r'$t_x = 80, t_y = 120$')\n",
    "plt.plot(V_0_range/t, -(E_vGH2.real+2*t+0*80)/t, marker='x', color='tab:orange', linestyle='dashed')\n",
    "\n",
    "plt.plot(V_0_range/t, -(E_pert3.real+2*t)/t, marker='x', color='tab:red', linestyle='solid', label=r'$t_x = 50, t_y = 150$')\n",
    "plt.plot(V_0_range/t, -(E_vGH3.real+2*t)/t, marker='x', color='tab:red', linestyle='dashed')\n",
    "\n",
    "plt.xlabel(r'$V_0/t$', fontsize=font_size)\n",
    "plt.ylabel(r'$E/t$', fontsize=font_size)\n",
    "\n",
    "plt.xticks(fontsize=font_size)\n",
    "plt.yticks(fontsize=font_size)\n",
    "\n",
    "axs.set_xscale('log', base=10)\n",
    "axs.set_yscale('log', base=10)\n",
    "#axs.set_yscale('log')\n",
    "\n",
    "plt.legend(fontsize=15)\n",
    "\n",
    "plt.tick_params(axis='x', direction='in', length=4, top=True)\n",
    "plt.tick_params(axis='y', direction='in', length=4, right=True)\n",
    "plt.tick_params(axis='x', which='minor', direction='in', length=4, right=True)\n",
    "\n",
    "plt.tick_params(which='minor', axis='y', direction='in', right=True)"
   ]
  },
  {
   "cell_type": "code",
   "execution_count": 9,
   "metadata": {},
   "outputs": [
    {
     "data": {
      "text/plain": [
       "[<matplotlib.lines.Line2D at 0x14df096e0e20>]"
      ]
     },
     "execution_count": 9,
     "metadata": {},
     "output_type": "execute_result"
    },
    {
     "data": {
      "image/png": "[encoded data removed]",
      "text/plain": [
       "<Figure size 432x288 with 1 Axes>"
      ]
     },
     "metadata": {
      "needs_background": "light"
     },
     "output_type": "display_data"
    }
   ],
   "source": [
    "plt.plot(V_0_range/t, (E_pert3.real+2*t)/t, marker='x', color='tab:blue', linestyle='solid', label=r'$t_x = 100, t_y = 100$')\n",
    "plt.plot(V_0_range/t, (E_vGH3.real+2*t)/t, marker='x', color='tab:blue', linestyle='dashed')\n",
    "plt.plot(V_0_range/t, 0.5*(V_0_range/t)**2, marker='x', color='tab:green', linestyle='dashed')\n",
    "\n",
    "#plt.xscale('log')\n",
    "#plt.yscale('log')"
   ]
  },
  {
   "cell_type": "code",
   "execution_count": 10,
   "metadata": {},
   "outputs": [
    {
     "name": "stdout",
     "output_type": "stream",
     "text": [
      "[ 0.00000000e+00+0.j -6.34577993e-02+0.j -8.91385847e-02+0.j\n",
      "  2.86725439e-02+0.j  4.04314791e-01+0.j  1.19277566e+00+0.j\n",
      "  2.63951021e+00+0.j  2.96469093e+01+0.j  3.84551674e+01+0.j\n",
      "  4.71987854e+01+0.j  5.58861994e+01+0.j  6.45411553e+01+0.j\n",
      "  7.31596512e+01+0.j  8.17487789e+01+0.j  9.03055906e+01+0.j\n",
      "  9.88392177e+01+0.j  1.07355881e+02+0.j  1.15843977e+02+0.j\n",
      "  1.24323469e+02+0.j  1.32781320e+02+0.j  1.41220264e+02+0.j]\n"
     ]
    }
   ],
   "source": [
    "print(E_pert3-E_vGH3)"
   ]
  },
  {
   "cell_type": "code",
   "execution_count": 19,
   "metadata": {},
   "outputs": [
    {
     "name": "stdout",
     "output_type": "stream",
     "text": [
      "\n",
      "vGH Calculations:\n",
      "V0 = 0.0\n",
      "V0 = 5.0\n",
      "V0 = 10.0\n",
      "\n",
      "Perturbative Calculations:\n",
      "V0 = 0.0\n",
      "V0 = 5.0\n",
      "V0 = 10.0\n",
      "[ 0.        +0.j -0.00675135+0.j  0.00912571+0.j]\n"
     ]
    }
   ],
   "source": [
    "V_0_range = np.linspace(0,10,3)\n",
    "\n",
    "params[\"tol\"] = 1e-8\n",
    "\n",
    "params[\"tx\"] = 100\n",
    "params[\"ty\"] = 100\n",
    "t = params[\"tx\"] + params[\"ty\"]\n",
    "E_pert1, E_vGH1 = get_energies(params,V_0_range)\n",
    "\n",
    "print(E_pert1-E_vGH1)"
   ]
  },
  {
   "cell_type": "code",
   "execution_count": null,
   "metadata": {},
   "outputs": [],
   "source": []
  }
 ],
 "metadata": {
  "kernelspec": {
   "display_name": "Python 3 (ipykernel)",
   "language": "python",
   "name": "python3"
  },
  "language_info": {
   "codemirror_mode": {
    "name": "ipython",
    "version": 3
   },
   "file_extension": ".py",
   "mimetype": "text/x-python",
   "name": "python",
   "nbconvert_exporter": "python",
   "pygments_lexer": "ipython3",
   "version": "3.9.9"
  },
  "vscode": {
   "interpreter": {
    "hash": "916dbcbb3f70747c44a77c7bcd40155683ae19c65e1c03b4aa3499c5328201f1"
   }
  }
 },
 "nbformat": 4,
 "nbformat_minor": 4
}
