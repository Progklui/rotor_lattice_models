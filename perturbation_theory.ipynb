{
 "cells": [
  {
   "attachments": {},
   "cell_type": "markdown",
   "metadata": {},
   "source": [
    "# Perturbation Theory\n",
    "\n",
    "In this notebook, we compare the perturbation theory calculations with the ones from the vGH Ansatz."
   ]
  },
  {
   "cell_type": "code",
   "execution_count": 57,
   "metadata": {},
   "outputs": [],
   "source": [
    "import numpy as np\n",
    "import scipy\n",
    "import matplotlib.pyplot as plt\n",
    "import time, os, sys, gc\n",
    "\n",
    "import h5py \n",
    "\n",
    "import svgutils.transform as sg \n",
    "import sys \n",
    "\n",
    "import matplotlib.patches as patches\n",
    "\n",
    "from scipy.integrate import solve_ivp\n",
    "\n",
    "import class_energy as energy\n",
    "import class_equations_of_motion as eom \n",
    "\n",
    "import class_handle_input as h_in\n",
    "import class_handle_wavefunctions as h_wavef\n",
    "\n",
    "import class_visualization as vis\n",
    "import class_mass_size as mass_size"
   ]
  },
  {
   "attachments": {},
   "cell_type": "markdown",
   "metadata": {},
   "source": [
    "### Self Energy expression\n",
    "\n",
    "We compute the self-energy obtained from the perturbative Ansatz and find the energy that fulfills the self-consistent equation."
   ]
  },
  {
   "cell_type": "code",
   "execution_count": 58,
   "metadata": {},
   "outputs": [],
   "source": [
    "def integrate_self_energy(V_0, tx, ty, B, E):\n",
    "    E_self = lambda kx, ky: (2*V_0**2)/(4*np.pi**2)*(1-np.cos(kx)*np.cos(ky))/(B-E-2*tx*np.cos(kx)-2*ty*np.cos(ky))\n",
    "    E_self_int = scipy.integrate.dblquad(E_self, -np.pi,np.pi, -np.pi,np.pi)\n",
    "    return E_self_int\n",
    "\n",
    "def find_Ep(V_0, tx, ty, B, E_guess):\n",
    "    E_self_int = lambda E: E+integrate_self_energy(V_0, tx, ty, B, E-2*tx-2*ty)[0]\n",
    "    E_min = scipy.optimize.fsolve(E_self_int, [E_guess])\n",
    "    return E_min\n",
    "\n",
    "def guess_Ep(V_0):\n",
    "    return -0.004649*V_0**2-0.07471*V_0+0.8718"
   ]
  },
  {
   "attachments": {},
   "cell_type": "markdown",
   "metadata": {},
   "source": [
    "Here we define functions that compute the vGH and perturbative energies for different potentials."
   ]
  },
  {
   "cell_type": "code",
   "execution_count": 81,
   "metadata": {},
   "outputs": [],
   "source": [
    "def quick_pot_scan(params, V_0_arr, folder):\n",
    "    h5_io_object = h_in.io_hdf5()\n",
    "\n",
    "    print('\\nvGH Calculations:')\n",
    "    E_arr = np.zeros(len(V_0_arr), dtype=complex)\n",
    "    for i in range(len(V_0_arr)):\n",
    "        print('V0 =', V_0_arr[i])\n",
    "        params[\"V_0\"] = V_0_arr[i]\n",
    "\n",
    "        eom_object = eom.eom(params=params)\n",
    "        wavefunc_object = h_wavef.wavefunctions(params=params)\n",
    "        wfn_manip = h_wavef.wavefunc_operations(params=params)\n",
    "        ''' \n",
    "        Init wavefunction\n",
    "        '''\n",
    "        psi_init = wavefunc_object.create_init_wavefunction(params['init_choice'])\n",
    "        psi_init = wfn_manip.reshape_one_dim(psi_init)\n",
    "        ''' \n",
    "        Imaginary Time Propagation\n",
    "        '''\n",
    "        psi, E_evo, epsilon_evo = eom_object.solve_for_fixed_params_imag_time_prop_new(psi_init)\n",
    "        E_arr[i] = E_evo[-1]\n",
    "\n",
    "        h5_io_object.save_calculation_run(psi, E_evo, epsilon_evo, params, folder)\n",
    "\n",
    "    return E_arr\n",
    "\n",
    "def pert_pot_scan(params, V_0_arr):\n",
    "    print('\\nPerturbative Calculations:')\n",
    "    E_arr = np.zeros(len(V_0_arr), dtype=complex)\n",
    "    for i in range(len(V_0_arr)):\n",
    "        E_min = find_Ep(V_0_arr[i], params[\"tx\"], params[\"ty\"], params[\"B\"], guess_Ep(V_0_arr[i]))\n",
    "        E_arr[i] = E_min[0]\n",
    "        print('V0 =', V_0_arr[i], ', E =', E_arr[i])\n",
    "        \n",
    "    return E_arr\n",
    "\n",
    "def get_Ep_from_E_vGH(E_vGH, tx, ty):\n",
    "    return E_vGH+2*tx+2*ty\n",
    "\n",
    "def get_E_from_Ep(E_vGH, tx, ty):\n",
    "    return E_vGH-2*tx-2*ty\n",
    "\n",
    "def get_E_arr(V_0_range, folder, check_sys, check_sym):\n",
    "    h5_io_object = h_in.io_hdf5()\n",
    "    \n",
    "    E_arr = np.zeros(len(V_0_range), dtype=complex)\n",
    "    for i in range(len(V_0_range)):\n",
    "        check_sys_n = check_sys+'_V0_'+str(V_0_range[i])\n",
    "        file_list = [f for f in os.listdir(folder) if check_sys_n in f and check_sym in f]\n",
    "        \n",
    "        if len(file_list) > 1: \n",
    "            break\n",
    "        for file in file_list:\n",
    "            file_name = folder+file\n",
    "            psi, params = h5_io_object.get_psi(file_name)\n",
    "\n",
    "            energy_object = energy.energy(params=params)\n",
    "            E, E_T, E_B, E_V = energy_object.calc_energy(psi)\n",
    "            E_arr[i] = E\n",
    "    return E_arr"
   ]
  },
  {
   "attachments": {},
   "cell_type": "markdown",
   "metadata": {},
   "source": [
    "### Define the calculation parameters"
   ]
  },
  {
   "cell_type": "code",
   "execution_count": 60,
   "metadata": {},
   "outputs": [],
   "source": [
    "params = {\"n\": 256,\n",
    "\"M\": 36,\n",
    "\"Mx\": 16,\n",
    "\"Mx_display\": 4,\n",
    "\"converge_new_lattice\": \"no\",\n",
    "\"My\": 16,\n",
    "\"My_display\": 4,\n",
    "\"B\": 1.0,\n",
    "\"tx\": 100,\n",
    "\"ty\": 100,\n",
    "\"V_0\": 150.0,\n",
    "\"qx\": 0,\n",
    "\"qy\": 0,\n",
    "\"init_choice\": \"uniform\",\n",
    "\"external_wf_tag\": \" \",\n",
    "\"excitation_no\": 11,\n",
    "\"angle_pattern\": [0,0,0,0],\n",
    "\"V_0_pattern\": [0,0,0,0],\n",
    "\"n_states\": 0,\n",
    "\"path_to_input_wavefunction\": \" \",\n",
    "\"dt\": 0.001,\n",
    "\"tol\": 1e-10}\n",
    "\n",
    "x = (2*np.pi/params[\"n\"])*np.arange(params[\"n\"])\n",
    "\n",
    "''' \n",
    "I/O Object\n",
    "'''\n",
    "h5_io_object = h_in.io_hdf5()"
   ]
  },
  {
   "attachments": {},
   "cell_type": "markdown",
   "metadata": {},
   "source": [
    "### Perturbation Energies"
   ]
  },
  {
   "cell_type": "code",
   "execution_count": 130,
   "metadata": {},
   "outputs": [
    {
     "name": "stdout",
     "output_type": "stream",
     "text": [
      "\n",
      "Perturbative Calculations:\n",
      "V0 = 0.0 , E = 0j\n",
      "V0 = 5.0 , E = (-0.15756118433857913+0j)\n",
      "V0 = 10.0 , E = (-0.6280968875135562+0j)\n",
      "V0 = 15.0 , E = (-1.4057483402862088+0j)\n",
      "V0 = 20.0 , E = (-2.4820391863270785+0j)\n",
      "V0 = 25.0 , E = (-3.84675875098263+0j)\n",
      "V0 = 30.0 , E = (-5.488576562078756+0j)\n",
      "V0 = 35.0 , E = (-7.395486163337717+0j)\n",
      "V0 = 40.0 , E = (-9.555138060845504+0j)\n",
      "V0 = 45.0 , E = (-11.955092800556313+0j)\n",
      "V0 = 50.0 , E = (-14.583012770676213+0j)\n",
      "V0 = 55.0 , E = (-17.426805640758136+0j)\n",
      "V0 = 60.0 , E = (-20.47472924359307+0j)\n",
      "V0 = 65.0 , E = (-23.715465697369453+0j)\n",
      "V0 = 70.0 , E = (-27.138171099410776+0j)\n",
      "V0 = 75.0 , E = (-30.73250597101567+0j)\n",
      "V0 = 80.0 , E = (-34.48865069283798+0j)\n",
      "V0 = 85.0 , E = (-38.397309389311424+0j)\n",
      "V0 = 90.0 , E = (-42.449705068434206+0j)\n",
      "V0 = 95.0 , E = (-46.63756827894525+0j)\n",
      "V0 = 100.0 , E = (-50.95312109450629+0j)\n",
      "\n",
      "Perturbative Calculations:\n",
      "V0 = 0.0 , E = 0j\n",
      "V0 = 5.0 , E = (-0.08896820050269921+0j)\n",
      "V0 = 10.0 , E = (-0.35568977629792947+0j)\n",
      "V0 = 15.0 , E = (-0.7996176239940378+0j)\n",
      "V0 = 20.0 , E = (-1.4198464330567082+0j)\n",
      "V0 = 25.0 , E = (-2.215122303385776+0j)\n",
      "V0 = 30.0 , E = (-3.183855868063767+0j)\n",
      "V0 = 35.0 , E = (-4.324138598264456+0j)\n",
      "V0 = 40.0 , E = (-5.633761900419453+0j)\n",
      "V0 = 45.0 , E = (-7.110238565400611+0j)\n",
      "V0 = 50.0 , E = (-8.750826096904257+0j)\n",
      "V0 = 55.0 , E = (-10.552551431555205+0j)\n",
      "V0 = 60.0 , E = (-12.51223656562417+0j)\n",
      "V0 = 65.0 , E = (-14.626524620973534+0j)\n",
      "V0 = 70.0 , E = (-16.89190591358804+0j)\n",
      "V0 = 75.0 , E = (-19.30474362908239+0j)\n",
      "V0 = 80.0 , E = (-21.861298758011312+0j)\n",
      "V0 = 85.0 , E = (-24.557753996777322+0j)\n",
      "V0 = 90.0 , E = (-27.39023637477814+0j)\n",
      "V0 = 95.0 , E = (-30.354838422829214+0j)\n",
      "V0 = 100.0 , E = (-33.44763774991105+0j)\n",
      "\n",
      "Perturbative Calculations:\n",
      "V0 = 0.0 , E = 0j\n",
      "V0 = 5.0 , E = (-0.181384910420237+0j)\n",
      "V0 = 10.0 , E = (-0.7219632807520281+0j)\n",
      "V0 = 15.0 , E = (-1.612160726160581+0j)\n",
      "V0 = 20.0 , E = (-2.8384879367626805+0j)\n",
      "V0 = 25.0 , E = (-4.3851478312166545+0j)\n",
      "V0 = 30.0 , E = (-6.235111536862015+0j)\n",
      "V0 = 35.0 , E = (-8.370860372649656+0j)\n",
      "V0 = 40.0 , E = (-10.774906839504887+0j)\n",
      "V0 = 45.0 , E = (-13.430156729808191+0j)\n",
      "V0 = 50.0 , E = (-16.320152948440583+0j)\n",
      "V0 = 55.0 , E = (-19.429230735038995+0j)\n",
      "V0 = 60.0 , E = (-22.742607040542797+0j)\n",
      "V0 = 65.0 , E = (-26.246421715238725+0j)\n",
      "V0 = 70.0 , E = (-29.927744174654055+0j)\n",
      "V0 = 75.0 , E = (-33.7745560219526+0j)\n",
      "V0 = 80.0 , E = (-37.775717561220674+0j)\n",
      "V0 = 85.0 , E = (-41.920924123224786+0j)\n",
      "V0 = 90.0 , E = (-46.20065655170818+0j)\n",
      "V0 = 95.0 , E = (-50.60612898374805+0j)\n",
      "V0 = 100.0 , E = (-55.12923613214484+0j)\n",
      "\n",
      "Perturbative Calculations:\n",
      "V0 = 0.0 , E = 0j\n",
      "V0 = 5.0 , E = (-0.09324491406275626+0j)\n",
      "V0 = 10.0 , E = (-0.3727600529871692+0j)\n",
      "V0 = 15.0 , E = (-0.8378893472631329+0j)\n",
      "V0 = 20.0 , E = (-1.4875484006596298+0j)\n",
      "V0 = 25.0 , E = (-2.3202377894035604+0j)\n",
      "V0 = 30.0 , E = (-3.3340611358821683+0j)\n",
      "V0 = 35.0 , E = (-4.526747446237778+0j)\n",
      "V0 = 40.0 , E = (-5.895677101442079+0j)\n",
      "V0 = 45.0 , E = (-7.437910821056016+0j)\n",
      "V0 = 50.0 , E = (-9.150220879422182+0j)\n",
      "V0 = 55.0 , E = (-11.029123844925252+0j)\n",
      "V0 = 60.0 , E = (-13.070914131777359+0j)\n",
      "V0 = 65.0 , E = (-15.27169769667749+0j)\n",
      "V0 = 70.0 , E = (-17.627425274823274+0j)\n",
      "V0 = 75.0 , E = (-20.133924625805527+0j)\n",
      "V0 = 80.0 , E = (-22.786931344548588+0j)\n",
      "V0 = 85.0 , E = (-25.58211788068368+0j)\n",
      "V0 = 90.0 , E = (-28.515120497196584+0j)\n",
      "V0 = 95.0 , E = (-31.581563982320052+0j)\n",
      "V0 = 100.0 , E = (-34.77708400476382+0j)\n",
      "\n",
      "Perturbative Calculations:\n",
      "V0 = 0.0 , E = 0j\n",
      "V0 = 5.0 , E = (-0.3487124057756977+0j)\n",
      "V0 = 10.0 , E = (-1.3588299744922339+0j)\n",
      "V0 = 15.0 , E = (-2.949296571831091+0j)\n",
      "V0 = 20.0 , E = (-5.0312697769998955+0j)\n",
      "V0 = 25.0 , E = (-7.525070336013441+0j)\n",
      "V0 = 30.0 , E = (-10.364617683907609+0j)\n",
      "V0 = 35.0 , E = (-13.496865162742086+0j)\n",
      "V0 = 40.0 , E = (-16.879678274756746+0j)\n",
      "V0 = 45.0 , E = (-20.479555141785433+0j)\n",
      "V0 = 50.0 , E = (-24.269662721345586+0j)\n",
      "V0 = 55.0 , E = (-28.228282216118146+0j)\n",
      "V0 = 60.0 , E = (-32.337623111548496+0j)\n",
      "V0 = 65.0 , E = (-36.58293198337462+0j)\n",
      "V0 = 70.0 , E = (-40.9518252448641+0j)\n",
      "V0 = 75.0 , E = (-45.433788199824775+0j)\n",
      "V0 = 80.0 , E = (-50.01979655767695+0j)\n",
      "V0 = 85.0 , E = (-54.70202806478208+0j)\n",
      "V0 = 90.0 , E = (-59.47364070220465+0j)\n",
      "V0 = 95.0 , E = (-64.32860037034096+0j)\n",
      "V0 = 100.0 , E = (-69.26154565514449+0j)\n"
     ]
    }
   ],
   "source": [
    "V_0_range = np.linspace(0,100,21)\n",
    "\n",
    "params[\"B\"] = 1.0\n",
    "params[\"tx\"] = 100\n",
    "params[\"ty\"] = 100\n",
    "t = params[\"tx\"] + params[\"ty\"]\n",
    "Ep_pert1_B_1 = pert_pot_scan(params, V_0_range)\n",
    "E_pert1_B_1 = get_E_from_Ep(Ep_pert1_B_1, params[\"tx\"], params[\"ty\"])\n",
    "\n",
    "params[\"B\"] = 200.0\n",
    "Ep_pert1_B_200 = pert_pot_scan(params, V_0_range)\n",
    "E_pert1_B_200 = get_E_from_Ep(Ep_pert1_B_200, params[\"tx\"], params[\"ty\"])\n",
    "\n",
    "\n",
    "\n",
    "params[\"B\"] = 1.0\n",
    "params[\"tx\"] = 50\n",
    "params[\"ty\"] = 150\n",
    "Ep_pert2_B_1 = pert_pot_scan(params, V_0_range)\n",
    "E_pert2_B_1 = get_E_from_Ep(Ep_pert2_B_1, params[\"tx\"], params[\"ty\"])\n",
    "\n",
    "params[\"B\"] = 200.0\n",
    "Ep_pert2_B_200 = pert_pot_scan(params, V_0_range)\n",
    "E_pert2_B_200 = get_E_from_Ep(Ep_pert2_B_200, params[\"tx\"], params[\"ty\"])\n",
    "\n",
    "\n",
    "\n",
    "params[\"B\"] = 1.0\n",
    "params[\"tx\"] = 10\n",
    "params[\"ty\"] = 190\n",
    "Ep_pert3 = pert_pot_scan(params, V_0_range)\n",
    "E_pert3 = get_E_from_Ep(Ep_pert3, params[\"tx\"], params[\"ty\"])"
   ]
  },
  {
   "attachments": {},
   "cell_type": "markdown",
   "metadata": {},
   "source": [
    "### vGH energies\n",
    "\n",
    "#### Note: for big lattices, it is better to use the stand-alone python script! This cell is just suited for quick computations"
   ]
  },
  {
   "cell_type": "code",
   "execution_count": 6,
   "metadata": {},
   "outputs": [
    {
     "name": "stdout",
     "output_type": "stream",
     "text": [
      "\n",
      "vGH Calculations:\n",
      "V0 = 0.0\n",
      "V0 = 5.0\n"
     ]
    },
    {
     "ename": "KeyboardInterrupt",
     "evalue": "",
     "output_type": "error",
     "traceback": [
      "\u001b[0;31m---------------------------------------------------------------------------\u001b[0m",
      "\u001b[0;31mKeyboardInterrupt\u001b[0m                         Traceback (most recent call last)",
      "Cell \u001b[0;32mIn[6], line 7\u001b[0m\n\u001b[1;32m      5\u001b[0m params[\u001b[38;5;124m\"\u001b[39m\u001b[38;5;124mty\u001b[39m\u001b[38;5;124m\"\u001b[39m] \u001b[38;5;241m=\u001b[39m \u001b[38;5;241m100\u001b[39m\n\u001b[1;32m      6\u001b[0m folder \u001b[38;5;241m=\u001b[39m \u001b[38;5;124m'\u001b[39m\u001b[38;5;124mresults/perturbation_theory/tx_100_ty_100/\u001b[39m\u001b[38;5;124m'\u001b[39m\n\u001b[0;32m----> 7\u001b[0m E_vGH1 \u001b[38;5;241m=\u001b[39m \u001b[43mquick_pot_scan\u001b[49m\u001b[43m(\u001b[49m\u001b[43mparams\u001b[49m\u001b[43m,\u001b[49m\u001b[43m \u001b[49m\u001b[43mV_0_range\u001b[49m\u001b[43m,\u001b[49m\u001b[43m \u001b[49m\u001b[43mfolder\u001b[49m\u001b[43m)\u001b[49m\n\u001b[1;32m      9\u001b[0m params[\u001b[38;5;124m\"\u001b[39m\u001b[38;5;124mB\u001b[39m\u001b[38;5;124m\"\u001b[39m] \u001b[38;5;241m=\u001b[39m \u001b[38;5;241m10.0\u001b[39m\n\u001b[1;32m     10\u001b[0m E_vGH1_B_10 \u001b[38;5;241m=\u001b[39m quick_pot_scan(params, V_0_range, folder)\n",
      "Cell \u001b[0;32mIn[3], line 21\u001b[0m, in \u001b[0;36mquick_pot_scan\u001b[0;34m(params, V_0_arr, folder)\u001b[0m\n\u001b[1;32m     17\u001b[0m psi_init \u001b[38;5;241m=\u001b[39m wfn_manip\u001b[38;5;241m.\u001b[39mreshape_one_dim(psi_init)\n\u001b[1;32m     18\u001b[0m \u001b[38;5;124;03m''' \u001b[39;00m\n\u001b[1;32m     19\u001b[0m \u001b[38;5;124;03mImaginary Time Propagation\u001b[39;00m\n\u001b[1;32m     20\u001b[0m \u001b[38;5;124;03m'''\u001b[39;00m\n\u001b[0;32m---> 21\u001b[0m psi, E_evo, epsilon_evo \u001b[38;5;241m=\u001b[39m \u001b[43meom_object\u001b[49m\u001b[38;5;241;43m.\u001b[39;49m\u001b[43msolve_for_fixed_params_imag_time_prop_new\u001b[49m\u001b[43m(\u001b[49m\u001b[43mpsi_init\u001b[49m\u001b[43m)\u001b[49m\n\u001b[1;32m     22\u001b[0m E_arr[i] \u001b[38;5;241m=\u001b[39m E_evo[\u001b[38;5;241m-\u001b[39m\u001b[38;5;241m1\u001b[39m]\n\u001b[1;32m     24\u001b[0m h5_io_object\u001b[38;5;241m.\u001b[39msave_calculation_run(psi, E_evo, epsilon_evo, params, folder)\n",
      "File \u001b[0;32m~/paper_calculations/rotor_lattice_models/class_equations_of_motion.py:500\u001b[0m, in \u001b[0;36meom.solve_for_fixed_params_imag_time_prop_new\u001b[0;34m(self, psi_init)\u001b[0m\n\u001b[1;32m    496\u001b[0m \u001b[38;5;28;01mwhile\u001b[39;00m epsilon \u001b[38;5;241m>\u001b[39m tol:\n\u001b[1;32m    497\u001b[0m     \u001b[38;5;124;03m'''\u001b[39;00m\n\u001b[1;32m    498\u001b[0m \u001b[38;5;124;03m    imag time evolution for dt\u001b[39;00m\n\u001b[1;32m    499\u001b[0m \u001b[38;5;124;03m    '''\u001b[39;00m\n\u001b[0;32m--> 500\u001b[0m     sol \u001b[38;5;241m=\u001b[39m \u001b[43msolve_ivp\u001b[49m\u001b[43m(\u001b[49m\u001b[43mfunc\u001b[49m\u001b[43m,\u001b[49m\u001b[43m \u001b[49m\u001b[43m[\u001b[49m\u001b[38;5;241;43m0\u001b[39;49m\u001b[43m,\u001b[49m\u001b[38;5;28;43mself\u001b[39;49m\u001b[38;5;241;43m.\u001b[39;49m\u001b[43mdt\u001b[49m\u001b[43m]\u001b[49m\u001b[43m,\u001b[49m\u001b[43m \u001b[49m\u001b[43mpsi_init\u001b[49m\u001b[43m,\u001b[49m\u001b[43m \u001b[49m\u001b[43mmethod\u001b[49m\u001b[38;5;241;43m=\u001b[39;49m\u001b[38;5;124;43m'\u001b[39;49m\u001b[38;5;124;43mRK45\u001b[39;49m\u001b[38;5;124;43m'\u001b[39;49m\u001b[43m,\u001b[49m\u001b[43m \u001b[49m\u001b[43mrtol\u001b[49m\u001b[38;5;241;43m=\u001b[39;49m\u001b[38;5;241;43m1e-9\u001b[39;49m\u001b[43m,\u001b[49m\u001b[43m \u001b[49m\u001b[43matol\u001b[49m\u001b[38;5;241;43m=\u001b[39;49m\u001b[38;5;241;43m1e-9\u001b[39;49m\u001b[43m)\u001b[49m \u001b[38;5;66;03m# method='RK45','DOP853'\u001b[39;00m\n\u001b[1;32m    502\u001b[0m     \u001b[38;5;124;03m'''\u001b[39;00m\n\u001b[1;32m    503\u001b[0m \u001b[38;5;124;03m    normalize\u001b[39;00m\n\u001b[1;32m    504\u001b[0m \u001b[38;5;124;03m    '''\u001b[39;00m\n\u001b[1;32m    505\u001b[0m     psi_iter \u001b[38;5;241m=\u001b[39m sol\u001b[38;5;241m.\u001b[39my\u001b[38;5;241m.\u001b[39mT[\u001b[38;5;241m-\u001b[39m\u001b[38;5;241m1\u001b[39m]\n",
      "File \u001b[0;32m/mnt/nfs/clustersw/Debian/bullseye/JupyterPython/2.0/lib/python3.9/site-packages/scipy/integrate/_ivp/ivp.py:602\u001b[0m, in \u001b[0;36msolve_ivp\u001b[0;34m(fun, t_span, y0, method, t_eval, dense_output, events, vectorized, args, **options)\u001b[0m\n\u001b[1;32m    600\u001b[0m status \u001b[38;5;241m=\u001b[39m \u001b[38;5;28;01mNone\u001b[39;00m\n\u001b[1;32m    601\u001b[0m \u001b[38;5;28;01mwhile\u001b[39;00m status \u001b[38;5;129;01mis\u001b[39;00m \u001b[38;5;28;01mNone\u001b[39;00m:\n\u001b[0;32m--> 602\u001b[0m     message \u001b[38;5;241m=\u001b[39m \u001b[43msolver\u001b[49m\u001b[38;5;241;43m.\u001b[39;49m\u001b[43mstep\u001b[49m\u001b[43m(\u001b[49m\u001b[43m)\u001b[49m\n\u001b[1;32m    604\u001b[0m     \u001b[38;5;28;01mif\u001b[39;00m solver\u001b[38;5;241m.\u001b[39mstatus \u001b[38;5;241m==\u001b[39m \u001b[38;5;124m'\u001b[39m\u001b[38;5;124mfinished\u001b[39m\u001b[38;5;124m'\u001b[39m:\n\u001b[1;32m    605\u001b[0m         status \u001b[38;5;241m=\u001b[39m \u001b[38;5;241m0\u001b[39m\n",
      "File \u001b[0;32m/mnt/nfs/clustersw/Debian/bullseye/JupyterPython/2.0/lib/python3.9/site-packages/scipy/integrate/_ivp/base.py:197\u001b[0m, in \u001b[0;36mOdeSolver.step\u001b[0;34m(self)\u001b[0m\n\u001b[1;32m    195\u001b[0m \u001b[38;5;28;01melse\u001b[39;00m:\n\u001b[1;32m    196\u001b[0m     t \u001b[38;5;241m=\u001b[39m \u001b[38;5;28mself\u001b[39m\u001b[38;5;241m.\u001b[39mt\n\u001b[0;32m--> 197\u001b[0m     success, message \u001b[38;5;241m=\u001b[39m \u001b[38;5;28;43mself\u001b[39;49m\u001b[38;5;241;43m.\u001b[39;49m\u001b[43m_step_impl\u001b[49m\u001b[43m(\u001b[49m\u001b[43m)\u001b[49m\n\u001b[1;32m    199\u001b[0m     \u001b[38;5;28;01mif\u001b[39;00m \u001b[38;5;129;01mnot\u001b[39;00m success:\n\u001b[1;32m    200\u001b[0m         \u001b[38;5;28mself\u001b[39m\u001b[38;5;241m.\u001b[39mstatus \u001b[38;5;241m=\u001b[39m \u001b[38;5;124m'\u001b[39m\u001b[38;5;124mfailed\u001b[39m\u001b[38;5;124m'\u001b[39m\n",
      "File \u001b[0;32m/mnt/nfs/clustersw/Debian/bullseye/JupyterPython/2.0/lib/python3.9/site-packages/scipy/integrate/_ivp/rk.py:144\u001b[0m, in \u001b[0;36mRungeKutta._step_impl\u001b[0;34m(self)\u001b[0m\n\u001b[1;32m    141\u001b[0m h \u001b[38;5;241m=\u001b[39m t_new \u001b[38;5;241m-\u001b[39m t\n\u001b[1;32m    142\u001b[0m h_abs \u001b[38;5;241m=\u001b[39m np\u001b[38;5;241m.\u001b[39mabs(h)\n\u001b[0;32m--> 144\u001b[0m y_new, f_new \u001b[38;5;241m=\u001b[39m \u001b[43mrk_step\u001b[49m\u001b[43m(\u001b[49m\u001b[38;5;28;43mself\u001b[39;49m\u001b[38;5;241;43m.\u001b[39;49m\u001b[43mfun\u001b[49m\u001b[43m,\u001b[49m\u001b[43m \u001b[49m\u001b[43mt\u001b[49m\u001b[43m,\u001b[49m\u001b[43m \u001b[49m\u001b[43my\u001b[49m\u001b[43m,\u001b[49m\u001b[43m \u001b[49m\u001b[38;5;28;43mself\u001b[39;49m\u001b[38;5;241;43m.\u001b[39;49m\u001b[43mf\u001b[49m\u001b[43m,\u001b[49m\u001b[43m \u001b[49m\u001b[43mh\u001b[49m\u001b[43m,\u001b[49m\u001b[43m \u001b[49m\u001b[38;5;28;43mself\u001b[39;49m\u001b[38;5;241;43m.\u001b[39;49m\u001b[43mA\u001b[49m\u001b[43m,\u001b[49m\n\u001b[1;32m    145\u001b[0m \u001b[43m                       \u001b[49m\u001b[38;5;28;43mself\u001b[39;49m\u001b[38;5;241;43m.\u001b[39;49m\u001b[43mB\u001b[49m\u001b[43m,\u001b[49m\u001b[43m \u001b[49m\u001b[38;5;28;43mself\u001b[39;49m\u001b[38;5;241;43m.\u001b[39;49m\u001b[43mC\u001b[49m\u001b[43m,\u001b[49m\u001b[43m \u001b[49m\u001b[38;5;28;43mself\u001b[39;49m\u001b[38;5;241;43m.\u001b[39;49m\u001b[43mK\u001b[49m\u001b[43m)\u001b[49m\n\u001b[1;32m    146\u001b[0m scale \u001b[38;5;241m=\u001b[39m atol \u001b[38;5;241m+\u001b[39m np\u001b[38;5;241m.\u001b[39mmaximum(np\u001b[38;5;241m.\u001b[39mabs(y), np\u001b[38;5;241m.\u001b[39mabs(y_new)) \u001b[38;5;241m*\u001b[39m rtol\n\u001b[1;32m    147\u001b[0m error_norm \u001b[38;5;241m=\u001b[39m \u001b[38;5;28mself\u001b[39m\u001b[38;5;241m.\u001b[39m_estimate_error_norm(\u001b[38;5;28mself\u001b[39m\u001b[38;5;241m.\u001b[39mK, h, scale)\n",
      "File \u001b[0;32m/mnt/nfs/clustersw/Debian/bullseye/JupyterPython/2.0/lib/python3.9/site-packages/scipy/integrate/_ivp/rk.py:64\u001b[0m, in \u001b[0;36mrk_step\u001b[0;34m(fun, t, y, f, h, A, B, C, K)\u001b[0m\n\u001b[1;32m     62\u001b[0m \u001b[38;5;28;01mfor\u001b[39;00m s, (a, c) \u001b[38;5;129;01min\u001b[39;00m \u001b[38;5;28menumerate\u001b[39m(\u001b[38;5;28mzip\u001b[39m(A[\u001b[38;5;241m1\u001b[39m:], C[\u001b[38;5;241m1\u001b[39m:]), start\u001b[38;5;241m=\u001b[39m\u001b[38;5;241m1\u001b[39m):\n\u001b[1;32m     63\u001b[0m     dy \u001b[38;5;241m=\u001b[39m np\u001b[38;5;241m.\u001b[39mdot(K[:s]\u001b[38;5;241m.\u001b[39mT, a[:s]) \u001b[38;5;241m*\u001b[39m h\n\u001b[0;32m---> 64\u001b[0m     K[s] \u001b[38;5;241m=\u001b[39m \u001b[43mfun\u001b[49m\u001b[43m(\u001b[49m\u001b[43mt\u001b[49m\u001b[43m \u001b[49m\u001b[38;5;241;43m+\u001b[39;49m\u001b[43m \u001b[49m\u001b[43mc\u001b[49m\u001b[43m \u001b[49m\u001b[38;5;241;43m*\u001b[39;49m\u001b[43m \u001b[49m\u001b[43mh\u001b[49m\u001b[43m,\u001b[49m\u001b[43m \u001b[49m\u001b[43my\u001b[49m\u001b[43m \u001b[49m\u001b[38;5;241;43m+\u001b[39;49m\u001b[43m \u001b[49m\u001b[43mdy\u001b[49m\u001b[43m)\u001b[49m\n\u001b[1;32m     66\u001b[0m y_new \u001b[38;5;241m=\u001b[39m y \u001b[38;5;241m+\u001b[39m h \u001b[38;5;241m*\u001b[39m np\u001b[38;5;241m.\u001b[39mdot(K[:\u001b[38;5;241m-\u001b[39m\u001b[38;5;241m1\u001b[39m]\u001b[38;5;241m.\u001b[39mT, B)\n\u001b[1;32m     67\u001b[0m f_new \u001b[38;5;241m=\u001b[39m fun(t \u001b[38;5;241m+\u001b[39m h, y_new)\n",
      "File \u001b[0;32m/mnt/nfs/clustersw/Debian/bullseye/JupyterPython/2.0/lib/python3.9/site-packages/scipy/integrate/_ivp/base.py:154\u001b[0m, in \u001b[0;36mOdeSolver.__init__.<locals>.fun\u001b[0;34m(t, y)\u001b[0m\n\u001b[1;32m    152\u001b[0m \u001b[38;5;28;01mdef\u001b[39;00m \u001b[38;5;21mfun\u001b[39m(t, y):\n\u001b[1;32m    153\u001b[0m     \u001b[38;5;28mself\u001b[39m\u001b[38;5;241m.\u001b[39mnfev \u001b[38;5;241m+\u001b[39m\u001b[38;5;241m=\u001b[39m \u001b[38;5;241m1\u001b[39m\n\u001b[0;32m--> 154\u001b[0m     \u001b[38;5;28;01mreturn\u001b[39;00m \u001b[38;5;28;43mself\u001b[39;49m\u001b[38;5;241;43m.\u001b[39;49m\u001b[43mfun_single\u001b[49m\u001b[43m(\u001b[49m\u001b[43mt\u001b[49m\u001b[43m,\u001b[49m\u001b[43m \u001b[49m\u001b[43my\u001b[49m\u001b[43m)\u001b[49m\n",
      "File \u001b[0;32m/mnt/nfs/clustersw/Debian/bullseye/JupyterPython/2.0/lib/python3.9/site-packages/scipy/integrate/_ivp/base.py:23\u001b[0m, in \u001b[0;36mcheck_arguments.<locals>.fun_wrapped\u001b[0;34m(t, y)\u001b[0m\n\u001b[1;32m     22\u001b[0m \u001b[38;5;28;01mdef\u001b[39;00m \u001b[38;5;21mfun_wrapped\u001b[39m(t, y):\n\u001b[0;32m---> 23\u001b[0m     \u001b[38;5;28;01mreturn\u001b[39;00m np\u001b[38;5;241m.\u001b[39masarray(\u001b[43mfun\u001b[49m\u001b[43m(\u001b[49m\u001b[43mt\u001b[49m\u001b[43m,\u001b[49m\u001b[43m \u001b[49m\u001b[43my\u001b[49m\u001b[43m)\u001b[49m, dtype\u001b[38;5;241m=\u001b[39mdtype)\n",
      "File \u001b[0;32m~/paper_calculations/rotor_lattice_models/class_equations_of_motion.py:331\u001b[0m, in \u001b[0;36meom.create_integration_function_imag_time_prop.<locals>.<lambda>\u001b[0;34m(t_, psi_)\u001b[0m\n\u001b[1;32m    316\u001b[0m \u001b[38;5;28;01mdef\u001b[39;00m \u001b[38;5;21mcreate_integration_function_imag_time_prop\u001b[39m(\u001b[38;5;28mself\u001b[39m): \n\u001b[1;32m    317\u001b[0m     \u001b[38;5;124;03m'''\u001b[39;00m\n\u001b[1;32m    318\u001b[0m \u001b[38;5;124;03m        Computes: lambda expression for imaginary time propagation\u001b[39;00m\n\u001b[1;32m    319\u001b[0m \n\u001b[0;32m   (...)\u001b[0m\n\u001b[1;32m    328\u001b[0m \u001b[38;5;124;03m        ----\u001b[39;00m\n\u001b[1;32m    329\u001b[0m \u001b[38;5;124;03m    '''\u001b[39;00m\n\u001b[0;32m--> 331\u001b[0m     \u001b[38;5;28;01mreturn\u001b[39;00m \u001b[38;5;28;01mlambda\u001b[39;00m t_, psi_ : \u001b[38;5;241m-\u001b[39m\u001b[38;5;241m1.0\u001b[39m\u001b[38;5;241m*\u001b[39m\u001b[38;5;28;43mself\u001b[39;49m\u001b[38;5;241;43m.\u001b[39;49m\u001b[43mrhs_lang_firsov_imag_time_prop\u001b[49m\u001b[43m(\u001b[49m\u001b[43mpsi_\u001b[49m\u001b[38;5;241;43m.\u001b[39;49m\u001b[43mreshape\u001b[49m\u001b[43m(\u001b[49m\u001b[43m(\u001b[49m\u001b[38;5;28;43mself\u001b[39;49m\u001b[38;5;241;43m.\u001b[39;49m\u001b[43mMy\u001b[49m\u001b[43m,\u001b[49m\u001b[38;5;28;43mself\u001b[39;49m\u001b[38;5;241;43m.\u001b[39;49m\u001b[43mMx\u001b[49m\u001b[43m,\u001b[49m\u001b[38;5;28;43mself\u001b[39;49m\u001b[38;5;241;43m.\u001b[39;49m\u001b[43mn\u001b[49m\u001b[43m)\u001b[49m\u001b[43m)\u001b[49m\u001b[43m)\u001b[49m\n",
      "File \u001b[0;32m~/paper_calculations/rotor_lattice_models/class_equations_of_motion.py:254\u001b[0m, in \u001b[0;36meom.rhs_lang_firsov_imag_time_prop\u001b[0;34m(self, psi_collection)\u001b[0m\n\u001b[1;32m    234\u001b[0m \u001b[38;5;28;01mdef\u001b[39;00m \u001b[38;5;21mrhs_lang_firsov_imag_time_prop\u001b[39m(\u001b[38;5;28mself\u001b[39m, psi_collection):\n\u001b[1;32m    235\u001b[0m     \u001b[38;5;124;03m'''\u001b[39;00m\n\u001b[1;32m    236\u001b[0m \u001b[38;5;124;03m        Computes: right-hand-side of the variational e.o.m. for imaginary time propagation\u001b[39;00m\n\u001b[1;32m    237\u001b[0m \n\u001b[0;32m   (...)\u001b[0m\n\u001b[1;32m    252\u001b[0m \u001b[38;5;124;03m        ----\u001b[39;00m\n\u001b[1;32m    253\u001b[0m \u001b[38;5;124;03m    '''\u001b[39;00m\n\u001b[0;32m--> 254\u001b[0m     H_psi \u001b[38;5;241m=\u001b[39m \u001b[38;5;28;43mself\u001b[39;49m\u001b[38;5;241;43m.\u001b[39;49m\u001b[43mhpsi_lang_firsov\u001b[49m\u001b[43m(\u001b[49m\u001b[43mpsi_collection\u001b[49m\u001b[43m)\u001b[49m\n\u001b[1;32m    256\u001b[0m     lagrange_multiplier \u001b[38;5;241m=\u001b[39m np\u001b[38;5;241m.\u001b[39meinsum(\u001b[38;5;124m'\u001b[39m\u001b[38;5;124mijk,ijk->ij\u001b[39m\u001b[38;5;124m'\u001b[39m, np\u001b[38;5;241m.\u001b[39mconjugate(psi_collection), H_psi)\n\u001b[1;32m    258\u001b[0m     H_psi \u001b[38;5;241m=\u001b[39m H_psi \u001b[38;5;241m-\u001b[39m lagrange_multiplier[:, :, np\u001b[38;5;241m.\u001b[39mnewaxis] \u001b[38;5;241m*\u001b[39m psi_collection\n",
      "File \u001b[0;32m~/paper_calculations/rotor_lattice_models/class_equations_of_motion.py:187\u001b[0m, in \u001b[0;36meom.hpsi_lang_firsov\u001b[0;34m(self, psi_collection)\u001b[0m\n\u001b[1;32m    172\u001b[0m \u001b[38;5;28;01mdef\u001b[39;00m \u001b[38;5;21mhpsi_lang_firsov\u001b[39m(\u001b[38;5;28mself\u001b[39m, psi_collection):\n\u001b[1;32m    173\u001b[0m     \u001b[38;5;124;03m'''\u001b[39;00m\n\u001b[1;32m    174\u001b[0m \u001b[38;5;124;03m        Computes: H_psi of the variational equations of motion\u001b[39;00m\n\u001b[1;32m    175\u001b[0m \n\u001b[0;32m   (...)\u001b[0m\n\u001b[1;32m    184\u001b[0m \u001b[38;5;124;03m        ----\u001b[39;00m\n\u001b[1;32m    185\u001b[0m \u001b[38;5;124;03m    '''\u001b[39;00m\n\u001b[0;32m--> 187\u001b[0m     H_psi \u001b[38;5;241m=\u001b[39m \u001b[38;5;28;43mself\u001b[39;49m\u001b[38;5;241;43m.\u001b[39;49m\u001b[43mhpsi_transfer_and_rot\u001b[49m\u001b[43m(\u001b[49m\u001b[43mpsi_collection\u001b[49m\u001b[43m)\u001b[49m\n\u001b[1;32m    189\u001b[0m     \u001b[38;5;124;03m'''\u001b[39;00m\n\u001b[1;32m    190\u001b[0m \u001b[38;5;124;03m    interaction terms\u001b[39;00m\n\u001b[1;32m    191\u001b[0m \u001b[38;5;124;03m    '''\u001b[39;00m\n\u001b[1;32m    192\u001b[0m     H_psi[\u001b[38;5;28mself\u001b[39m\u001b[38;5;241m.\u001b[39mMy\u001b[38;5;241m-\u001b[39m\u001b[38;5;241m1\u001b[39m,\u001b[38;5;241m0\u001b[39m]         \u001b[38;5;241m+\u001b[39m\u001b[38;5;241m=\u001b[39m \u001b[38;5;28mself\u001b[39m\u001b[38;5;241m.\u001b[39mV_0\u001b[38;5;241m*\u001b[39mnp\u001b[38;5;241m.\u001b[39mcos(\u001b[38;5;28mself\u001b[39m\u001b[38;5;241m.\u001b[39mx\u001b[38;5;241m-\u001b[39m\u001b[38;5;241m0.25\u001b[39m\u001b[38;5;241m*\u001b[39mnp\u001b[38;5;241m.\u001b[39mpi)\u001b[38;5;241m*\u001b[39mpsi_collection[\u001b[38;5;28mself\u001b[39m\u001b[38;5;241m.\u001b[39mMy\u001b[38;5;241m-\u001b[39m\u001b[38;5;241m1\u001b[39m,\u001b[38;5;241m0\u001b[39m]\n",
      "File \u001b[0;32m~/paper_calculations/rotor_lattice_models/class_equations_of_motion.py:150\u001b[0m, in \u001b[0;36meom.hpsi_transfer_and_rot\u001b[0;34m(self, psi_collection)\u001b[0m\n\u001b[1;32m    146\u001b[0m \u001b[38;5;124;03m'''\u001b[39;00m\n\u001b[1;32m    147\u001b[0m \u001b[38;5;124;03mproducts of transfer integrals: in every entry (i,j), the (i,j)-th produc is missing\u001b[39;00m\n\u001b[1;32m    148\u001b[0m \u001b[38;5;124;03m'''\u001b[39;00m\n\u001b[1;32m    149\u001b[0m TDr \u001b[38;5;241m=\u001b[39m \u001b[38;5;28mself\u001b[39m\u001b[38;5;241m.\u001b[39mcompute_T_matrix_eom(TD_arr)\n\u001b[0;32m--> 150\u001b[0m TUr \u001b[38;5;241m=\u001b[39m \u001b[38;5;28;43mself\u001b[39;49m\u001b[38;5;241;43m.\u001b[39;49m\u001b[43mcompute_T_matrix_eom\u001b[49m\u001b[43m(\u001b[49m\u001b[43mTU_arr\u001b[49m\u001b[43m)\u001b[49m\n\u001b[1;32m    151\u001b[0m TRr \u001b[38;5;241m=\u001b[39m \u001b[38;5;28mself\u001b[39m\u001b[38;5;241m.\u001b[39mcompute_T_matrix_eom(TR_arr)\n\u001b[1;32m    152\u001b[0m TLr \u001b[38;5;241m=\u001b[39m \u001b[38;5;28mself\u001b[39m\u001b[38;5;241m.\u001b[39mcompute_T_matrix_eom(TL_arr)\n",
      "File \u001b[0;32m~/paper_calculations/rotor_lattice_models/class_equations_of_motion.py:91\u001b[0m, in \u001b[0;36meom.compute_T_matrix_eom\u001b[0;34m(self, Tarr)\u001b[0m\n\u001b[1;32m     89\u001b[0m     \u001b[38;5;28;01mfor\u001b[39;00m j \u001b[38;5;129;01min\u001b[39;00m \u001b[38;5;28mrange\u001b[39m(\u001b[38;5;28mself\u001b[39m\u001b[38;5;241m.\u001b[39mMx):\n\u001b[1;32m     90\u001b[0m         T_cur_arr[i,j] \u001b[38;5;241m=\u001b[39m \u001b[38;5;241m1.0\u001b[39m\u001b[38;5;241m+\u001b[39m\u001b[38;5;241m0\u001b[39mj\n\u001b[0;32m---> 91\u001b[0m         Tarr_new[i,j] \u001b[38;5;241m=\u001b[39m \u001b[43mnp\u001b[49m\u001b[38;5;241;43m.\u001b[39;49m\u001b[43mprod\u001b[49m\u001b[43m(\u001b[49m\u001b[43mT_cur_arr\u001b[49m\u001b[43m)\u001b[49m\n\u001b[1;32m     93\u001b[0m         T_cur_arr[i,j] \u001b[38;5;241m=\u001b[39m Tarr[i,j]\n\u001b[1;32m     95\u001b[0m Tarr_new \u001b[38;5;241m=\u001b[39m Tarr_new[:, :, np\u001b[38;5;241m.\u001b[39mnewaxis]\n",
      "File \u001b[0;32m<__array_function__ internals>:200\u001b[0m, in \u001b[0;36mprod\u001b[0;34m(*args, **kwargs)\u001b[0m\n",
      "File \u001b[0;32m~/.local/lib/python3.9/site-packages/numpy/core/fromnumeric.py:2955\u001b[0m, in \u001b[0;36mprod\u001b[0;34m(a, axis, dtype, out, keepdims, initial, where)\u001b[0m\n\u001b[1;32m   2950\u001b[0m \u001b[38;5;28;01mdef\u001b[39;00m \u001b[38;5;21m_prod_dispatcher\u001b[39m(a, axis\u001b[38;5;241m=\u001b[39m\u001b[38;5;28;01mNone\u001b[39;00m, dtype\u001b[38;5;241m=\u001b[39m\u001b[38;5;28;01mNone\u001b[39;00m, out\u001b[38;5;241m=\u001b[39m\u001b[38;5;28;01mNone\u001b[39;00m, keepdims\u001b[38;5;241m=\u001b[39m\u001b[38;5;28;01mNone\u001b[39;00m,\n\u001b[1;32m   2951\u001b[0m                      initial\u001b[38;5;241m=\u001b[39m\u001b[38;5;28;01mNone\u001b[39;00m, where\u001b[38;5;241m=\u001b[39m\u001b[38;5;28;01mNone\u001b[39;00m):\n\u001b[1;32m   2952\u001b[0m     \u001b[38;5;28;01mreturn\u001b[39;00m (a, out)\n\u001b[0;32m-> 2955\u001b[0m \u001b[38;5;129m@array_function_dispatch\u001b[39m(_prod_dispatcher)\n\u001b[1;32m   2956\u001b[0m \u001b[38;5;28;01mdef\u001b[39;00m \u001b[38;5;21mprod\u001b[39m(a, axis\u001b[38;5;241m=\u001b[39m\u001b[38;5;28;01mNone\u001b[39;00m, dtype\u001b[38;5;241m=\u001b[39m\u001b[38;5;28;01mNone\u001b[39;00m, out\u001b[38;5;241m=\u001b[39m\u001b[38;5;28;01mNone\u001b[39;00m, keepdims\u001b[38;5;241m=\u001b[39mnp\u001b[38;5;241m.\u001b[39m_NoValue,\n\u001b[1;32m   2957\u001b[0m          initial\u001b[38;5;241m=\u001b[39mnp\u001b[38;5;241m.\u001b[39m_NoValue, where\u001b[38;5;241m=\u001b[39mnp\u001b[38;5;241m.\u001b[39m_NoValue):\n\u001b[1;32m   2958\u001b[0m     \u001b[38;5;124;03m\"\"\"\u001b[39;00m\n\u001b[1;32m   2959\u001b[0m \u001b[38;5;124;03m    Return the product of array elements over a given axis.\u001b[39;00m\n\u001b[1;32m   2960\u001b[0m \n\u001b[0;32m   (...)\u001b[0m\n\u001b[1;32m   3074\u001b[0m \u001b[38;5;124;03m    10\u001b[39;00m\n\u001b[1;32m   3075\u001b[0m \u001b[38;5;124;03m    \"\"\"\u001b[39;00m\n\u001b[1;32m   3076\u001b[0m     \u001b[38;5;28;01mreturn\u001b[39;00m _wrapreduction(a, np\u001b[38;5;241m.\u001b[39mmultiply, \u001b[38;5;124m'\u001b[39m\u001b[38;5;124mprod\u001b[39m\u001b[38;5;124m'\u001b[39m, axis, dtype, out,\n\u001b[1;32m   3077\u001b[0m                           keepdims\u001b[38;5;241m=\u001b[39mkeepdims, initial\u001b[38;5;241m=\u001b[39minitial, where\u001b[38;5;241m=\u001b[39mwhere)\n",
      "\u001b[0;31mKeyboardInterrupt\u001b[0m: "
     ]
    }
   ],
   "source": [
    "V_0_range = np.linspace(0,100,21)\n",
    "\n",
    "params[\"B\"] = 1.0\n",
    "params[\"tx\"] = 100\n",
    "params[\"ty\"] = 100\n",
    "folder = 'results/perturbation_theory/tx_100_ty_100/'\n",
    "E_vGH1 = quick_pot_scan(params, V_0_range, folder)\n",
    "\n",
    "params[\"B\"] = 10.0\n",
    "E_vGH1_B_10 = quick_pot_scan(params, V_0_range, folder)\n",
    "\n",
    "params[\"B\"] = 1.0\n",
    "params[\"tx\"] = 50\n",
    "params[\"ty\"] = 150\n",
    "folder = 'results/perturbation_theory/tx_50_ty_150/'\n",
    "E_vGH2 = quick_pot_scan(params, V_0_range, folder)\n",
    "\n",
    "params[\"B\"] = 1.0\n",
    "params[\"tx\"] = 10\n",
    "params[\"ty\"] = 190\n",
    "folder = 'results/perturbation_theory/tx_10_ty_190/'\n",
    "E_vGH3 = quick_pot_scan(params, V_0_range, folder)\n"
   ]
  },
  {
   "attachments": {},
   "cell_type": "markdown",
   "metadata": {},
   "source": [
    "Read in the vGH calculations from the wavefunctions."
   ]
  },
  {
   "cell_type": "code",
   "execution_count": 126,
   "metadata": {},
   "outputs": [],
   "source": [
    "check_sys = 'tx_100_ty_100'\n",
    "check_sym = '_B_1.0_Mx_'+str(params[\"Mx\"])+'_My_'+str(params[\"My\"])\n",
    "folder = 'results/perturbation_theory/tx_100_ty_100/'\n",
    "E_vGH1_B_1 = get_E_arr(V_0_range, folder, check_sys, check_sym)\n",
    "\n",
    "check_sym = '_B_200.0_Mx_'+str(params[\"Mx\"])+'_My_'+str(params[\"My\"])\n",
    "folder = 'results/perturbation_theory/tx_100_ty_100/'\n",
    "E_vGH1_B_200 = get_E_arr(V_0_range, folder, check_sys, check_sym)\n",
    "\n",
    "\n",
    "\n",
    "check_sys = 'tx_50_ty_150'\n",
    "check_sym = '_B_1.0_Mx_'+str(params[\"Mx\"])+'_My_'+str(params[\"My\"])\n",
    "folder = 'results/perturbation_theory/tx_50_ty_150/'\n",
    "E_vGH2_B_1 = get_E_arr(V_0_range, folder, check_sys, check_sym)\n",
    "\n",
    "check_sys = 'tx_50_ty_150'\n",
    "check_sym = '_B_200.0_Mx_'+str(params[\"Mx\"])+'_My_'+str(params[\"My\"])\n",
    "folder = 'results/perturbation_theory/tx_50_ty_150/'\n",
    "E_vGH2_B_200 = get_E_arr(V_0_range, folder, check_sys, check_sym)\n",
    "\n",
    "\n",
    "\n",
    "check_sys = 'tx_10_ty_190'\n",
    "check_sym = '_B_1.0_Mx_'+str(params[\"Mx\"])+'_My_'+str(params[\"My\"])\n",
    "folder = 'results/perturbation_theory/tx_10_ty_190/'\n",
    "E_vGH3 = get_E_arr(V_0_range, folder, check_sys, check_sym)"
   ]
  },
  {
   "attachments": {},
   "cell_type": "markdown",
   "metadata": {},
   "source": [
    "## Plot the results to show how the energies match!"
   ]
  },
  {
   "cell_type": "code",
   "execution_count": 63,
   "metadata": {},
   "outputs": [],
   "source": [
    "def E_to_plot(E, t):\n",
    "    return np.abs(E+2*t)/t"
   ]
  },
  {
   "cell_type": "code",
   "execution_count": 89,
   "metadata": {},
   "outputs": [
    {
     "data": {
      "text/plain": [
       "array([-400.        , -400.15756118, -400.62809689, -401.40574834,\n",
       "       -402.48203919, -403.84675875, -405.48857656, -407.39548616,\n",
       "       -409.55513806, -411.9550928 , -414.58301277, -417.42680564,\n",
       "       -420.47472924, -423.7154657 , -427.1381711 , -430.73250597,\n",
       "       -434.48865069, -438.39730939, -442.44970507, -446.63756828,\n",
       "       -450.95312109])"
      ]
     },
     "execution_count": 89,
     "metadata": {},
     "output_type": "execute_result"
    }
   ],
   "source": [
    "E_pert1_B_200.real"
   ]
  },
  {
   "cell_type": "code",
   "execution_count": 93,
   "metadata": {},
   "outputs": [
    {
     "data": {
      "text/plain": [
       "[<matplotlib.lines.Line2D at 0x7f0065087820>]"
      ]
     },
     "execution_count": 93,
     "metadata": {},
     "output_type": "execute_result"
    },
    {
     "data": {
      "image/png": "[encoded data removed]",
      "text/plain": [
       "<Figure size 421.38x297.99 with 1 Axes>"
      ]
     },
     "metadata": {
      "needs_background": "light"
     },
     "output_type": "display_data"
    }
   ],
   "source": [
    "plt.plot(V_0_range, E_vGH1.real, color='tab:blue', linestyle='dashed')\n",
    "plt.plot(V_0_range, E_vGH1_B_200.real, color='tab:blue')\n",
    "plt.plot(V_0_range, E_pert1.real, color='tab:red')\n",
    "plt.plot(V_0_range, E_pert1_B_200.real, color='tab:red', linestyle='dashed')\n",
    "#plt.plot(V_0_range, E_pert3.real, color='tab:red')\n",
    "#plt.plot(V_0_range, E_vGH3.real, color='tab:blue')\n",
    "\n",
    "#plt.xscale('log')\n",
    "#plt.yscale('log')"
   ]
  },
  {
   "cell_type": "code",
   "execution_count": 168,
   "metadata": {},
   "outputs": [
    {
     "data": {
      "image/png": "[encoded data removed]",
      "text/plain": [
       "<Figure size 421.38x297.99 with 1 Axes>"
      ]
     },
     "metadata": {
      "needs_background": "light"
     },
     "output_type": "display_data"
    }
   ],
   "source": [
    "A = 6\n",
    "plt.rc('figure', figsize=[46.82 * .5**(.5 * A), 33.11 * .5**(.5 * A)])\n",
    "plt.rc('text', usetex=True)\n",
    "plt.rc('font', family='serif')\n",
    "font_size = 20\n",
    "\n",
    "fig, axs = plt.subplots()\n",
    "\n",
    "plt.suptitle(r'$t_x=t_y=\\frac{1}{2}t$', fontsize=font_size)\n",
    "\n",
    "axs.plot(V_0_range/t, E_to_plot(E_vGH1_B_1.real,t), color='tab:blue', linestyle='solid', label=r'$B = 0.5\\cdot 10^{-2} t$')\n",
    "axs.plot(V_0_range/t, E_to_plot(E_pert1_B_1.real,t), color='tab:blue', linestyle='dashed')\n",
    "\n",
    "axs.plot(V_0_range/t, E_to_plot(E_vGH1_B_200.real,t), color='tab:orange', linestyle='solid', label=r'$B = 10^0 t$')\n",
    "axs.plot(V_0_range/t, E_to_plot(E_pert1_B_200.real,t), color='tab:orange', linestyle='dashed')\n",
    "\n",
    "plt.xlabel(r'$V_0/t$', fontsize=font_size)\n",
    "plt.ylabel(r'$(E+2t)/t$', fontsize=font_size)\n",
    "\n",
    "plt.xticks(fontsize=font_size)\n",
    "axs.set_yticks([1e-1,1e-2,1e-3],[r'$-10^{-1}$',r'a$-10^{-2}$',r'$-10^{-3}$'], fontsize=font_size)\n",
    "\n",
    "axs.set_xscale('log', base=10)\n",
    "axs.set_yscale('log', base=10)\n",
    "\n",
    "axs.invert_yaxis()\n",
    "axs.set_yticks([1e-1,1e-2,1e-3],[r'$-10^{-1}$',r'$-10^{-2}$',r'$-10^{-3}$'], fontsize=font_size)\n",
    "\n",
    "axs.legend(fontsize=15, loc=1)\n",
    "\n",
    "plt.tick_params(axis='x', direction='in', length=6, top=True)\n",
    "plt.tick_params(axis='y', direction='in', length=6, right=True)\n",
    "plt.tick_params(axis='x', which='minor', direction='in', length=3, top=True)\n",
    "plt.tick_params(axis='y', which='minor', direction='in', length=3, right=True)\n",
    "\n",
    "plt.tick_params(which='minor', axis='y', direction='in', right=True)\n",
    "\n",
    "plt.savefig('results/perturbation_theory/B_comp_tx_100_ty_100.svg', bbox_inches='tight')"
   ]
  },
  {
   "cell_type": "code",
   "execution_count": 169,
   "metadata": {},
   "outputs": [
    {
     "data": {
      "image/png": "[encoded data removed]",
      "text/plain": [
       "<Figure size 421.38x297.99 with 1 Axes>"
      ]
     },
     "metadata": {
      "needs_background": "light"
     },
     "output_type": "display_data"
    }
   ],
   "source": [
    "A = 6\n",
    "plt.rc('figure', figsize=[46.82 * .5**(.5 * A), 33.11 * .5**(.5 * A)])\n",
    "plt.rc('text', usetex=True)\n",
    "plt.rc('font', family='serif')\n",
    "font_size = 20\n",
    "\n",
    "fig, axs = plt.subplots()\n",
    "\n",
    "plt.suptitle(r'$t_x=\\frac{1}{4}t,t_y=\\frac{3}{4}t$', fontsize=font_size)\n",
    "\n",
    "axs.plot(V_0_range[0:len(E_vGH2_B_1)-1]/t, E_to_plot(E_vGH2_B_1.real[0:len(E_vGH2_B_1)-1],t), color='tab:blue', linestyle='solid', label=r'$B = 0.5\\cdot 10^{-2} t$')\n",
    "axs.plot(V_0_range[0:len(E_vGH2_B_1)-1]/t, E_to_plot(E_pert2_B_1.real[0:len(E_vGH2_B_1)-1],t), color='tab:blue', linestyle='dashed')\n",
    "\n",
    "axs.plot(V_0_range/t, E_to_plot(E_vGH2_B_200.real,t), color='tab:orange', linestyle='solid', label=r'$B = 10^0 t$')\n",
    "axs.plot(V_0_range/t, E_to_plot(E_pert2_B_200.real,t), color='tab:orange', linestyle='dashed')\n",
    "\n",
    "plt.xlabel(r'$V_0/t$', fontsize=font_size)\n",
    "plt.ylabel(r'$(E+2t)/t$', fontsize=font_size)\n",
    "\n",
    "plt.xticks(fontsize=font_size)\n",
    "plt.yticks(fontsize=font_size)\n",
    "\n",
    "axs.set_xscale('log', base=10)\n",
    "axs.set_yscale('log', base=10)\n",
    "\n",
    "axs.invert_yaxis()\n",
    "axs.set_yticks([1e-1,1e-2,1e-3],[r'$-10^{-1}$',r'$-10^{-2}$',r'$-10^{-3}$'], fontsize=font_size)\n",
    "\n",
    "axs.legend(fontsize=15, loc=1)\n",
    "\n",
    "plt.tick_params(axis='x', direction='in', length=6, top=True)\n",
    "plt.tick_params(axis='y', direction='in', length=6, right=True)\n",
    "plt.tick_params(axis='x', which='minor', direction='in', length=3, top=True)\n",
    "plt.tick_params(axis='y', which='minor', direction='in', length=3, right=True)\n",
    "\n",
    "plt.tick_params(which='minor', axis='y', direction='in', right=True)\n",
    "plt.savefig('results/perturbation_theory/B_comp_tx_50_ty_100.svg', bbox_inches='tight')"
   ]
  },
  {
   "cell_type": "code",
   "execution_count": 124,
   "metadata": {},
   "outputs": [
    {
     "data": {
      "image/png": "[encoded data removed]",
      "text/plain": [
       "<Figure size 421.38x297.99 with 1 Axes>"
      ]
     },
     "metadata": {
      "needs_background": "light"
     },
     "output_type": "display_data"
    }
   ],
   "source": [
    "plt.plot(V_0_range/t, E_to_plot(E_pert1.real,t), marker='x', color='tab:blue', linestyle='solid', label=r'$t_x = 100, t_y = 100$')\n",
    "plt.plot(V_0_range/t, E_to_plot(E_vGH1.real,t), marker='x', color='tab:blue', linestyle='dashed')\n",
    "plt.plot(V_0_range/t, (1/(1*(1+4*t))**0.5)*V_0_range**2/t, marker='x', color='tab:green', linestyle='dashed')\n",
    "\n",
    "\n",
    "plt.xscale('log')\n",
    "plt.yscale('log')"
   ]
  },
  {
   "cell_type": "code",
   "execution_count": 77,
   "metadata": {},
   "outputs": [
    {
     "data": {
      "image/png": "[encoded data removed]",
      "text/plain": [
       "<Figure size 421.38x297.99 with 1 Axes>"
      ]
     },
     "metadata": {
      "needs_background": "light"
     },
     "output_type": "display_data"
    }
   ],
   "source": [
    "plt.plot(V_0_range/t, 2*(0.5*(1/(1*(1+4*200))**0.5)*(V_0_range)**2)/t, marker='x', color='tab:green', linestyle='dashed')\n",
    "plt.plot(V_0_range/t, (0.5*(1/(1*(1+4*200))**0.5)*(V_0_range)**2)/t, marker='x', color='tab:green', linestyle='dashed')\n",
    "\n",
    "plt.xscale('log')\n",
    "plt.yscale('log')"
   ]
  },
  {
   "cell_type": "code",
   "execution_count": 19,
   "metadata": {},
   "outputs": [
    {
     "name": "stdout",
     "output_type": "stream",
     "text": [
      "\n",
      "vGH Calculations:\n",
      "V0 = 0.0\n",
      "V0 = 5.0\n",
      "V0 = 10.0\n",
      "\n",
      "Perturbative Calculations:\n",
      "V0 = 0.0\n",
      "V0 = 5.0\n",
      "V0 = 10.0\n",
      "[ 0.        +0.j -0.00675135+0.j  0.00912571+0.j]\n"
     ]
    }
   ],
   "source": [
    "V_0_range = np.linspace(0,10,3)\n",
    "\n",
    "params[\"tol\"] = 1e-8\n",
    "\n",
    "params[\"tx\"] = 100\n",
    "params[\"ty\"] = 100\n",
    "t = params[\"tx\"] + params[\"ty\"]\n",
    "E_pert1, E_vGH1 = get_energies(params,V_0_range)\n",
    "\n",
    "print(E_pert1-E_vGH1)"
   ]
  },
  {
   "cell_type": "code",
   "execution_count": null,
   "metadata": {},
   "outputs": [],
   "source": []
  }
 ],
 "metadata": {
  "kernelspec": {
   "display_name": "Python 3 (ipykernel)",
   "language": "python",
   "name": "python3"
  },
  "language_info": {
   "codemirror_mode": {
    "name": "ipython",
    "version": 3
   },
   "file_extension": ".py",
   "mimetype": "text/x-python",
   "name": "python",
   "nbconvert_exporter": "python",
   "pygments_lexer": "ipython3",
   "version": "3.9.9"
  },
  "vscode": {
   "interpreter": {
    "hash": "916dbcbb3f70747c44a77c7bcd40155683ae19c65e1c03b4aa3499c5328201f1"
   }
  }
 },
 "nbformat": 4,
 "nbformat_minor": 4
}
