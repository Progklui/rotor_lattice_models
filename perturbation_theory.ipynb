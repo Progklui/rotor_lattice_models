{
 "cells": [
  {
   "attachments": {},
   "cell_type": "markdown",
   "metadata": {},
   "source": [
    "# Perturbation Theory\n",
    "\n",
    "In this notebook, we compare the perturbation theory calculations with the ones from the vGH Ansatz."
   ]
  },
  {
   "cell_type": "code",
   "execution_count": 1,
   "metadata": {},
   "outputs": [],
   "source": [
    "import numpy as np\n",
    "import autograd.numpy as np\n",
    "from autograd import grad\n",
    "\n",
    "import scipy\n",
    "import matplotlib.pyplot as plt\n",
    "import time, os, sys, gc\n",
    "\n",
    "import h5py \n",
    "\n",
    "import svgutils.transform as sg \n",
    "import sys \n",
    "\n",
    "import matplotlib.patches as patches\n",
    "\n",
    "from scipy.integrate import solve_ivp\n",
    "\n",
    "import class_energy as energy\n",
    "import class_equations_of_motion as eom \n",
    "\n",
    "import class_handle_input as h_in\n",
    "import class_handle_wavefunctions as h_wavef\n",
    "\n",
    "import class_visualization as vis\n",
    "import class_mass_size as mass_size"
   ]
  },
  {
   "attachments": {},
   "cell_type": "markdown",
   "metadata": {},
   "source": [
    "### Self Energy expression\n",
    "\n",
    "We compute the self-energy obtained from the perturbative Ansatz and find the energy that fulfills the self-consistent equation."
   ]
  },
  {
   "cell_type": "code",
   "execution_count": 2,
   "metadata": {},
   "outputs": [],
   "source": [
    "def integrate_self_energy(V_0, tx, ty, B, E):\n",
    "    E_self = lambda kx, ky: (2*V_0**2)/(4*np.pi**2)*(1-np.cos(kx)*np.cos(ky))/(B-E-2*tx*np.cos(kx)-2*ty*np.cos(ky))\n",
    "    E_self_int = scipy.integrate.dblquad(E_self, -np.pi,np.pi, -np.pi,np.pi)\n",
    "    return E_self_int\n",
    "\n",
    "def find_Ep(V_0, tx, ty, B, E_guess):\n",
    "    E_self_int = lambda E: E+integrate_self_energy(V_0, tx, ty, B, E-2*tx-2*ty)[0]\n",
    "    E_min = scipy.optimize.fsolve(E_self_int, [E_guess])\n",
    "    return E_min\n",
    "\n",
    "def find_first_deriv_self_energy(V_0, tx, ty, B, h):\n",
    "    E_min = find_Ep(V_0, tx, ty, B, guess_Ep(V_0))\n",
    "\n",
    "    E_self_int = lambda E: integrate_self_energy(V_0, tx, ty, B, E-2*tx-2*ty)[0].real\n",
    "\n",
    "    x = E_min\n",
    "    \n",
    "    E_min_prime = (-E_self_int(x + 2*h) + 8*E_self_int(x + h) - 8*E_self_int(x - h) + E_self_int(x - 2*h)) / (12 * h)\n",
    "    \n",
    "    #E_self_int_prime = grad(E_self_int)\n",
    "\n",
    "    #E_min_prime = E_self_int_prime(E_min)\n",
    "    return E_min_prime\n",
    "    \n",
    "def guess_Ep(V_0):\n",
    "    return -0.004649*V_0**2-0.07471*V_0+0.8718"
   ]
  },
  {
   "attachments": {},
   "cell_type": "markdown",
   "metadata": {},
   "source": [
    "Here we define functions that compute the vGH and perturbative energies for different potentials."
   ]
  },
  {
   "cell_type": "code",
   "execution_count": 11,
   "metadata": {},
   "outputs": [],
   "source": [
    "def quick_pot_scan(params, V_0_arr, folder):\n",
    "    h5_io_object = h_in.io_hdf5()\n",
    "\n",
    "    print('\\nvGH Calculations:')\n",
    "    E_arr = np.zeros(len(V_0_arr), dtype=complex)\n",
    "    for i in range(len(V_0_arr)):\n",
    "        print('V0 =', V_0_arr[i])\n",
    "        params[\"V_0\"] = V_0_arr[i]\n",
    "\n",
    "        eom_object = eom.eom(params=params)\n",
    "        wavefunc_object = h_wavef.wavefunctions(params=params)\n",
    "        wfn_manip = h_wavef.wavefunc_operations(params=params)\n",
    "        ''' \n",
    "        Init wavefunction\n",
    "        '''\n",
    "        psi_init = wavefunc_object.create_init_wavefunction(params['init_choice'])\n",
    "        psi_init = wfn_manip.reshape_one_dim(psi_init)\n",
    "        ''' \n",
    "        Imaginary Time Propagation\n",
    "        '''\n",
    "        psi, E_evo, epsilon_evo = eom_object.solve_for_fixed_params_imag_time_prop_new(psi_init)\n",
    "        E_arr[i] = E_evo[-1]\n",
    "\n",
    "        h5_io_object.save_calculation_run(psi, E_evo, epsilon_evo, params, folder)\n",
    "\n",
    "    return E_arr\n",
    "\n",
    "def pert_pot_scan(params, V_0_arr):\n",
    "    print('\\nPerturbative Calculations:')\n",
    "    E_arr = np.zeros(len(V_0_arr), dtype=complex)\n",
    "    for i in range(len(V_0_arr)):\n",
    "        E_min = find_Ep(V_0_arr[i], params[\"tx\"], params[\"ty\"], params[\"B\"], guess_Ep(V_0_arr[i]))\n",
    "        E_arr[i] = E_min[0]\n",
    "        print('V0 =', V_0_arr[i], ', E =', E_arr[i])\n",
    "        \n",
    "    return E_arr\n",
    "\n",
    "def get_Ep_from_E_vGH(E_vGH, tx, ty):\n",
    "    return E_vGH+2*tx+2*ty\n",
    "\n",
    "def get_E_from_Ep(E_vGH, tx, ty):\n",
    "    return E_vGH-2*tx-2*ty\n",
    "\n",
    "def get_E_arr(V_0_range, folder, check_sys, check_sym):\n",
    "    h5_io_object = h_in.io_hdf5()\n",
    "    \n",
    "    E_arr = np.zeros(len(V_0_range), dtype=complex)\n",
    "    for i in range(len(V_0_range)):\n",
    "        check_sys_n = check_sys+'_V0_'+str(V_0_range[i])\n",
    "        file_list = [f for f in os.listdir(folder) if check_sys_n in f and check_sym in f]\n",
    "\n",
    "        if len(file_list) > 1: \n",
    "            break\n",
    "        for file in file_list:\n",
    "            file_name = folder+file\n",
    "            psi, params = h5_io_object.get_psi(file_name)\n",
    "\n",
    "            energy_object = energy.energy(params=params)\n",
    "            E, E_T, E_B, E_V = energy_object.calc_energy(psi)\n",
    "            E_arr[i] = E\n",
    "    return E_arr"
   ]
  },
  {
   "cell_type": "code",
   "execution_count": 4,
   "metadata": {},
   "outputs": [],
   "source": [
    "def calc_eff_mass(self_E_prime, V_0, tx, ty, B):\n",
    "    kx = 0\n",
    "    ky = 0\n",
    "    \n",
    "    sec_deriv_band_x = 2*tx*np.cos(kx)\n",
    "    sec_deriv_band_y = 2*ty*np.cos(ky)\n",
    "    \n",
    "    eff_mass_x = (1+self_E_prime)/sec_deriv_band_x\n",
    "    eff_mass_y = (1+self_E_prime)/sec_deriv_band_y\n",
    "    return eff_mass_x, eff_mass_y"
   ]
  },
  {
   "attachments": {},
   "cell_type": "markdown",
   "metadata": {},
   "source": [
    "### Define the calculation parameters"
   ]
  },
  {
   "cell_type": "code",
   "execution_count": 5,
   "metadata": {},
   "outputs": [],
   "source": [
    "params = {\"n\": 256,\n",
    "\"M\": 36,\n",
    "\"Mx\": 16,\n",
    "\"Mx_display\": 4,\n",
    "\"converge_new_lattice\": \"no\",\n",
    "\"My\": 16,\n",
    "\"My_display\": 4,\n",
    "\"B\": 1.0,\n",
    "\"tx\": 100,\n",
    "\"ty\": 100,\n",
    "\"V_0\": 150.0,\n",
    "\"qx\": 0,\n",
    "\"qy\": 0,\n",
    "\"init_choice\": \"uniform\",\n",
    "\"external_wf_tag\": \" \",\n",
    "\"excitation_no\": 11,\n",
    "\"angle_pattern\": [0,0,0,0],\n",
    "\"V_0_pattern\": [0,0,0,0],\n",
    "\"n_states\": 0,\n",
    "\"path_to_input_wavefunction\": \" \",\n",
    "\"dt\": 0.001,\n",
    "\"tol\": 1e-10}\n",
    "\n",
    "x = (2*np.pi/params[\"n\"])*np.arange(params[\"n\"])\n",
    "\n",
    "''' \n",
    "I/O Object\n",
    "'''\n",
    "h5_io_object = h_in.io_hdf5()"
   ]
  },
  {
   "attachments": {},
   "cell_type": "markdown",
   "metadata": {},
   "source": [
    "### Perturbation Energies"
   ]
  },
  {
   "cell_type": "code",
   "execution_count": 6,
   "metadata": {},
   "outputs": [],
   "source": [
    "V_0_range1 = np.linspace(0,10,21) \n",
    "V_0_range2 = np.linspace(15,100,18)\n",
    "\n",
    "V_0_range = np.append(V_0_range1, V_0_range2)"
   ]
  },
  {
   "cell_type": "code",
   "execution_count": 7,
   "metadata": {},
   "outputs": [
    {
     "name": "stdout",
     "output_type": "stream",
     "text": [
      "\n",
      "Perturbative Calculations:\n",
      "V0 = 0.0 , E = 0j\n",
      "V0 = 0.5 , E = (-0.0015774701930992587+0j)\n",
      "V0 = 1.0 , E = (-0.00630965254400675+0j)\n",
      "V0 = 1.5 , E = (-0.014195863338946384+0j)\n",
      "V0 = 2.0 , E = (-0.025234966265329596+0j)\n",
      "V0 = 2.5 , E = (-0.039425377132477894+0j)\n",
      "V0 = 3.0 , E = (-0.05676507029911911+0j)\n",
      "V0 = 3.5 , E = (-0.07725158663945983+0j)\n",
      "V0 = 4.0 , E = (-0.10088204285190014+0j)\n",
      "V0 = 4.5 , E = (-0.12765314189619664+0j)\n",
      "V0 = 5.0 , E = (-0.15756118433857913+0j)\n",
      "V0 = 5.5 , E = (-0.19060208038760648+0j)\n",
      "V0 = 6.0 , E = (-0.2267713624153777+0j)\n",
      "V0 = 6.5 , E = (-0.2660641977765987+0j)\n",
      "V0 = 7.0 , E = (-0.30847540176007604+0j)\n",
      "V0 = 7.5 , E = (-0.3539994505313079+0j)\n",
      "V0 = 8.0 , E = (-0.40263049394941136+0j)\n",
      "V0 = 8.5 , E = (-0.4543623681651993+0j)\n",
      "V0 = 9.0 , E = (-0.5091886079289124+0j)\n",
      "V0 = 9.5 , E = (-0.5671024585554438+0j)\n",
      "V0 = 10.0 , E = (-0.6280968875135562+0j)\n",
      "V0 = 15.0 , E = (-1.4057483402862088+0j)\n",
      "V0 = 20.0 , E = (-2.4820391863270785+0j)\n",
      "V0 = 25.0 , E = (-3.84675875098263+0j)\n",
      "V0 = 30.0 , E = (-5.488576562078756+0j)\n",
      "V0 = 35.0 , E = (-7.395486163337717+0j)\n",
      "V0 = 40.0 , E = (-9.555138060845504+0j)\n",
      "V0 = 45.0 , E = (-11.955092800556313+0j)\n",
      "V0 = 50.0 , E = (-14.583012770676213+0j)\n",
      "V0 = 55.0 , E = (-17.426805640758136+0j)\n",
      "V0 = 60.0 , E = (-20.47472924359307+0j)\n",
      "V0 = 65.0 , E = (-23.715465697369453+0j)\n",
      "V0 = 70.0 , E = (-27.138171099410776+0j)\n",
      "V0 = 75.0 , E = (-30.73250597101567+0j)\n",
      "V0 = 80.0 , E = (-34.48865069283798+0j)\n",
      "V0 = 85.0 , E = (-38.397309389311424+0j)\n",
      "V0 = 90.0 , E = (-42.449705068434206+0j)\n",
      "V0 = 95.0 , E = (-46.63756827894525+0j)\n",
      "V0 = 100.0 , E = (-50.95312109450629+0j)\n",
      "\n",
      "Perturbative Calculations:\n",
      "V0 = 0.0 , E = 0j\n",
      "V0 = 0.5 , E = (-0.0008898332187101532+0j)\n",
      "V0 = 1.0 , E = (-0.0035593145395554394+0j)\n",
      "V0 = 1.5 , E = (-0.00800838895866676+0j)\n",
      "V0 = 2.0 , E = (-0.014236964809549852+0j)\n",
      "V0 = 2.5 , E = (-0.022244913773014845+0j)\n",
      "V0 = 3.0 , E = (-0.032032070891073995+0j)\n",
      "V0 = 3.5 , E = (-0.04359823458480411+0j)\n",
      "V0 = 4.0 , E = (-0.05694316667616885+0j)\n",
      "V0 = 4.5 , E = (-0.07206659241379548+0j)\n",
      "V0 = 5.0 , E = (-0.08896820050269921+0j)\n",
      "V0 = 5.5 , E = (-0.10764764313794754+0j)\n",
      "V0 = 6.0 , E = (-0.12810453604225588+0j)\n",
      "V0 = 6.5 , E = (-0.1503384585075045+0j)\n",
      "V0 = 7.0 , E = (-0.17434895344016685+0j)\n",
      "V0 = 7.5 , E = (-0.20013552741063623+0j)\n",
      "V0 = 8.0 , E = (-0.22769765070643982+0j)\n",
      "V0 = 8.5 , E = (-0.257034757389324+0j)\n",
      "V0 = 9.0 , E = (-0.2881462453561995+0j)\n",
      "V0 = 9.5 , E = (-0.3210314764039268+0j)\n",
      "V0 = 10.0 , E = (-0.35568977629792947+0j)\n",
      "V0 = 15.0 , E = (-0.7996176239940378+0j)\n",
      "V0 = 20.0 , E = (-1.4198464330567082+0j)\n",
      "V0 = 25.0 , E = (-2.215122303385776+0j)\n",
      "V0 = 30.0 , E = (-3.183855868063767+0j)\n",
      "V0 = 35.0 , E = (-4.324138598264456+0j)\n",
      "V0 = 40.0 , E = (-5.633761900419453+0j)\n",
      "V0 = 45.0 , E = (-7.110238565400611+0j)\n",
      "V0 = 50.0 , E = (-8.750826096904257+0j)\n",
      "V0 = 55.0 , E = (-10.552551431555205+0j)\n",
      "V0 = 60.0 , E = (-12.51223656562417+0j)\n",
      "V0 = 65.0 , E = (-14.626524620973534+0j)\n",
      "V0 = 70.0 , E = (-16.89190591358804+0j)\n",
      "V0 = 75.0 , E = (-19.30474362908239+0j)\n",
      "V0 = 80.0 , E = (-21.861298758011312+0j)\n",
      "V0 = 85.0 , E = (-24.557753996777322+0j)\n",
      "V0 = 90.0 , E = (-27.39023637477814+0j)\n",
      "V0 = 95.0 , E = (-30.354838422829214+0j)\n",
      "V0 = 100.0 , E = (-33.44763774991105+0j)\n",
      "\n",
      "Perturbative Calculations:\n",
      "V0 = 0.0 , E = 0j\n",
      "V0 = 0.5 , E = (-0.0018169750745242216+0j)\n",
      "V0 = 1.0 , E = (-0.007267515216172844+0j)\n",
      "V0 = 1.5 , E = (-0.016350467254385517+0j)\n",
      "V0 = 2.0 , E = (-0.02906391590644005+0j)\n",
      "V0 = 2.5 , E = (-0.04540519359603946+0j)\n",
      "V0 = 3.0 , E = (-0.06537089375124286+0j)\n",
      "V0 = 3.5 , E = (-0.08895688717624851+0j)\n",
      "V0 = 4.0 , E = (-0.11615834110453603+0j)\n",
      "V0 = 4.5 , E = (-0.14696974041035882+0j)\n",
      "V0 = 5.0 , E = (-0.181384910420237+0j)\n",
      "V0 = 5.5 , E = (-0.21939704099663823+0j)\n",
      "V0 = 6.0 , E = (-0.2609987113348229+0j)\n",
      "V0 = 6.5 , E = (-0.30618191515999055+0j)\n",
      "V0 = 7.0 , E = (-0.35493808586570974+0j)\n",
      "V0 = 7.5 , E = (-0.4072581216597563+0j)\n",
      "V0 = 8.0 , E = (-0.4631324099539417+0j)\n",
      "V0 = 8.5 , E = (-0.5225508513803595+0j)\n",
      "V0 = 9.0 , E = (-0.5855028829924561+0j)\n",
      "V0 = 9.5 , E = (-0.6519775006820948+0j)\n",
      "V0 = 10.0 , E = (-0.7219632807520281+0j)\n",
      "V0 = 15.0 , E = (-1.612160726160581+0j)\n",
      "V0 = 20.0 , E = (-2.8384879367626805+0j)\n",
      "V0 = 25.0 , E = (-4.3851478312166545+0j)\n",
      "V0 = 30.0 , E = (-6.235111536862015+0j)\n",
      "V0 = 35.0 , E = (-8.370860372649656+0j)\n",
      "V0 = 40.0 , E = (-10.774906839504887+0j)\n",
      "V0 = 45.0 , E = (-13.430156729808191+0j)\n",
      "V0 = 50.0 , E = (-16.320152948440583+0j)\n",
      "V0 = 55.0 , E = (-19.429230735038995+0j)\n",
      "V0 = 60.0 , E = (-22.742607040542797+0j)\n",
      "V0 = 65.0 , E = (-26.246421715238725+0j)\n",
      "V0 = 70.0 , E = (-29.927744174654055+0j)\n",
      "V0 = 75.0 , E = (-33.7745560219526+0j)\n",
      "V0 = 80.0 , E = (-37.775717561220674+0j)\n",
      "V0 = 85.0 , E = (-41.920924123224786+0j)\n",
      "V0 = 90.0 , E = (-46.20065655170818+0j)\n",
      "V0 = 95.0 , E = (-50.60612898374805+0j)\n",
      "V0 = 100.0 , E = (-55.12923613214484+0j)\n",
      "\n",
      "Perturbative Calculations:\n",
      "V0 = 0.0 , E = 0j\n",
      "V0 = 0.5 , E = (-0.0009326306154436811+0j)\n",
      "V0 = 1.0 , E = (-0.003730500455998753+0j)\n",
      "V0 = 1.5 , E = (-0.00839354350709334+0j)\n",
      "V0 = 2.0 , E = (-0.01492164975364415+0j)\n",
      "V0 = 2.5 , E = (-0.023314665193854014+0j)\n",
      "V0 = 3.0 , E = (-0.03357239185852515+0j)\n",
      "V0 = 3.5 , E = (-0.04569458783587751+0j)\n",
      "V0 = 4.0 , E = (-0.059680967301880536+0j)\n",
      "V0 = 4.5 , E = (-0.07553120055605043+0j)\n",
      "V0 = 5.0 , E = (-0.09324491406275626+0j)\n",
      "V0 = 5.5 , E = (-0.11282169049797837+0j)\n",
      "V0 = 6.0 , E = (-0.13426106880152558+0j)\n",
      "V0 = 6.5 , E = (-0.15756254423468952+0j)\n",
      "V0 = 7.0 , E = (-0.18272556844332394+0j)\n",
      "V0 = 7.5 , E = (-0.20974954952632385+0j)\n",
      "V0 = 8.0 , E = (-0.2386338521094891+0j)\n",
      "V0 = 8.5 , E = (-0.26937779742474655+0j)\n",
      "V0 = 9.0 , E = (-0.3019806633947106+0j)\n",
      "V0 = 9.5 , E = (-0.33644168472255487+0j)\n",
      "V0 = 10.0 , E = (-0.3727600529871692+0j)\n",
      "V0 = 15.0 , E = (-0.8378893472631329+0j)\n",
      "V0 = 20.0 , E = (-1.4875484006596298+0j)\n",
      "V0 = 25.0 , E = (-2.3202377894035604+0j)\n",
      "V0 = 30.0 , E = (-3.3340611358821683+0j)\n",
      "V0 = 35.0 , E = (-4.526747446237778+0j)\n",
      "V0 = 40.0 , E = (-5.895677101442079+0j)\n",
      "V0 = 45.0 , E = (-7.437910821056016+0j)\n",
      "V0 = 50.0 , E = (-9.150220879422182+0j)\n",
      "V0 = 55.0 , E = (-11.029123844925252+0j)\n",
      "V0 = 60.0 , E = (-13.070914131777359+0j)\n",
      "V0 = 65.0 , E = (-15.27169769667749+0j)\n",
      "V0 = 70.0 , E = (-17.627425274823274+0j)\n",
      "V0 = 75.0 , E = (-20.133924625805527+0j)\n",
      "V0 = 80.0 , E = (-22.786931344548588+0j)\n",
      "V0 = 85.0 , E = (-25.58211788068368+0j)\n",
      "V0 = 90.0 , E = (-28.515120497196584+0j)\n",
      "V0 = 95.0 , E = (-31.581563982320052+0j)\n",
      "V0 = 100.0 , E = (-34.77708400476382+0j)\n",
      "\n",
      "Perturbative Calculations:\n",
      "V0 = 0.0 , E = 0j\n",
      "V0 = 0.5 , E = (-0.0035217971154689314+0j)\n",
      "V0 = 1.0 , E = (-0.0140827860014545+0j)\n",
      "V0 = 1.5 , E = (-0.031669827978478636+0j)\n",
      "V0 = 2.0 , E = (-0.056261249840517905+0j)\n",
      "V0 = 2.5 , E = (-0.08782716593503433+0j)\n",
      "V0 = 3.0 , E = (-0.12632990167273453+0j)\n",
      "V0 = 3.5 , E = (-0.1717244956620243+0j)\n",
      "V0 = 4.0 , E = (-0.22395925648184234+0j)\n",
      "V0 = 4.5 , E = (-0.28297635123216236+0j)\n",
      "V0 = 5.0 , E = (-0.3487124057756977+0j)\n",
      "V0 = 5.5 , E = (-0.4210991002600064+0j)\n",
      "V0 = 6.0 , E = (-0.5000637474265739+0j)\n",
      "V0 = 6.5 , E = (-0.5855298448883942+0j)\n",
      "V0 = 7.0 , E = (-0.677417595719552+0j)\n",
      "V0 = 7.5 , E = (-0.7756443942201723+0j)\n",
      "V0 = 8.0 , E = (-0.8801252756260531+0j)\n",
      "V0 = 8.5 , E = (-0.9907733298814597+0j)\n",
      "V0 = 9.0 , E = (-1.107500080498978+0j)\n",
      "V0 = 9.5 , E = (-1.230215830093426+0j)\n",
      "V0 = 10.0 , E = (-1.3588299744922339+0j)\n",
      "V0 = 15.0 , E = (-2.949296571831091+0j)\n",
      "V0 = 20.0 , E = (-5.0312697769998955+0j)\n",
      "V0 = 25.0 , E = (-7.525070336013441+0j)\n",
      "V0 = 30.0 , E = (-10.364617683907609+0j)\n",
      "V0 = 35.0 , E = (-13.496865162742086+0j)\n",
      "V0 = 40.0 , E = (-16.879678274756746+0j)\n",
      "V0 = 45.0 , E = (-20.479555141785433+0j)\n",
      "V0 = 50.0 , E = (-24.269662721345586+0j)\n",
      "V0 = 55.0 , E = (-28.228282216118146+0j)\n",
      "V0 = 60.0 , E = (-32.337623111548496+0j)\n",
      "V0 = 65.0 , E = (-36.58293198337462+0j)\n",
      "V0 = 70.0 , E = (-40.9518252448641+0j)\n",
      "V0 = 75.0 , E = (-45.433788199824775+0j)\n",
      "V0 = 80.0 , E = (-50.01979655767695+0j)\n",
      "V0 = 85.0 , E = (-54.70202806478208+0j)\n",
      "V0 = 90.0 , E = (-59.47364070220465+0j)\n",
      "V0 = 95.0 , E = (-64.32860037034096+0j)\n",
      "V0 = 100.0 , E = (-69.26154565514449+0j)\n",
      "\n",
      "Perturbative Calculations:\n",
      "V0 = 0.0 , E = 0j\n",
      "V0 = 0.5 , E = (-0.0010597575714385334+0j)\n",
      "V0 = 1.0 , E = (-0.004238993926692753+0j)\n",
      "V0 = 1.5 , E = (-0.009537599995417333+0j)\n",
      "V0 = 2.0 , E = (-0.01695539401649635+0j)\n",
      "V0 = 2.5 , E = (-0.026492121572222027+0j)\n",
      "V0 = 3.0 , E = (-0.03814745563612333+0j)\n",
      "V0 = 3.5 , E = (-0.05192099663442316+0j)\n",
      "V0 = 4.0 , E = (-0.06781227252109627+0j)\n",
      "V0 = 4.5 , E = (-0.08582073886649451+0j)\n",
      "V0 = 5.0 , E = (-0.10594577895949933+0j)\n",
      "V0 = 5.5 , E = (-0.1281867039231563+0j)\n",
      "V0 = 6.0 , E = (-0.15254275284373825+0j)\n",
      "V0 = 6.5 , E = (-0.17901309291318224+0j)\n",
      "V0 = 7.0 , E = (-0.2075968195848344+0j)\n",
      "V0 = 7.5 , E = (-0.23829295674243323+0j)\n",
      "V0 = 8.0 , E = (-0.2711004568822564+0j)\n",
      "V0 = 8.5 , E = (-0.30601820130835256+0j)\n",
      "V0 = 9.0 , E = (-0.34304500034076585+0j)\n",
      "V0 = 9.5 , E = (-0.38217959353666725+0j)\n",
      "V0 = 10.0 , E = (-0.42342064992428924+0j)\n",
      "V0 = 15.0 , E = (-0.9513439785503104+0j)\n",
      "V0 = 20.0 , E = (-1.6879369528134534+0j)\n",
      "V0 = 25.0 , E = (-2.6307549266220702+0j)\n",
      "V0 = 30.0 , E = (-3.7767307352913813+0j)\n",
      "V0 = 35.0 , E = (-5.1222272002764315+0j)\n",
      "V0 = 40.0 , E = (-6.663096767943102+0j)\n",
      "V0 = 45.0 , E = (-8.394746093403853+0j)\n",
      "V0 = 50.0 , E = (-10.312203381493225+0j)\n",
      "V0 = 55.0 , E = (-12.410186416940782+0j)\n",
      "V0 = 60.0 , E = (-14.683169430461607+0j)\n",
      "V0 = 65.0 , E = (-17.12544722813582+0j)\n",
      "V0 = 70.0 , E = (-19.73119532875294+0j)\n",
      "V0 = 75.0 , E = (-22.49452518088032+0j)\n",
      "V0 = 80.0 , E = (-25.409533845995227+0j)\n",
      "V0 = 85.0 , E = (-28.470347819511055+0j)\n",
      "V0 = 90.0 , E = (-31.671160907220546+0j)\n",
      "V0 = 95.0 , E = (-35.00626627524325+0j)\n",
      "V0 = 100.0 , E = (-38.47008294612014+0j)\n"
     ]
    }
   ],
   "source": [
    "#V_0_range = np.linspace(0,100,21)\n",
    "\n",
    "params[\"B\"] = 1.0\n",
    "params[\"tx\"] = 100\n",
    "params[\"ty\"] = 100\n",
    "t = params[\"tx\"] + params[\"ty\"]\n",
    "Ep_pert1_B_1 = pert_pot_scan(params, V_0_range)\n",
    "E_pert1_B_1 = get_E_from_Ep(Ep_pert1_B_1, params[\"tx\"], params[\"ty\"])\n",
    "\n",
    "params[\"B\"] = 200.0\n",
    "Ep_pert1_B_200 = pert_pot_scan(params, V_0_range)\n",
    "E_pert1_B_200 = get_E_from_Ep(Ep_pert1_B_200, params[\"tx\"], params[\"ty\"])\n",
    "\n",
    "\n",
    "\n",
    "params[\"B\"] = 1.0\n",
    "params[\"tx\"] = 50\n",
    "params[\"ty\"] = 150\n",
    "Ep_pert2_B_1 = pert_pot_scan(params, V_0_range)\n",
    "E_pert2_B_1 = get_E_from_Ep(Ep_pert2_B_1, params[\"tx\"], params[\"ty\"])\n",
    "\n",
    "params[\"B\"] = 200.0\n",
    "Ep_pert2_B_200 = pert_pot_scan(params, V_0_range)\n",
    "E_pert2_B_200 = get_E_from_Ep(Ep_pert2_B_200, params[\"tx\"], params[\"ty\"])\n",
    "\n",
    "\n",
    "\n",
    "params[\"B\"] = 1.0\n",
    "params[\"tx\"] = 10\n",
    "params[\"ty\"] = 190\n",
    "Ep_pert3_B_1 = pert_pot_scan(params, V_0_range)\n",
    "E_pert3_B_1 = get_E_from_Ep(Ep_pert3_B_1, params[\"tx\"], params[\"ty\"])\n",
    "\n",
    "params[\"B\"] = 200.0\n",
    "params[\"tx\"] = 10\n",
    "params[\"ty\"] = 190\n",
    "Ep_pert3_B_200 = pert_pot_scan(params, V_0_range)\n",
    "E_pert3_B_200 = get_E_from_Ep(Ep_pert3_B_200, params[\"tx\"], params[\"ty\"])"
   ]
  },
  {
   "attachments": {},
   "cell_type": "markdown",
   "metadata": {},
   "source": [
    "### vGH energies\n",
    "\n",
    "#### Note: for big lattices, it is better to use the stand-alone python script! This cell is just suited for quick computations"
   ]
  },
  {
   "cell_type": "code",
   "execution_count": 6,
   "metadata": {},
   "outputs": [
    {
     "name": "stdout",
     "output_type": "stream",
     "text": [
      "\n",
      "vGH Calculations:\n",
      "V0 = 0.0\n",
      "V0 = 5.0\n"
     ]
    },
    {
     "ename": "KeyboardInterrupt",
     "evalue": "",
     "output_type": "error",
     "traceback": [
      "\u001b[0;31m---------------------------------------------------------------------------\u001b[0m",
      "\u001b[0;31mKeyboardInterrupt\u001b[0m                         Traceback (most recent call last)",
      "Cell \u001b[0;32mIn[6], line 7\u001b[0m\n\u001b[1;32m      5\u001b[0m params[\u001b[38;5;124m\"\u001b[39m\u001b[38;5;124mty\u001b[39m\u001b[38;5;124m\"\u001b[39m] \u001b[38;5;241m=\u001b[39m \u001b[38;5;241m100\u001b[39m\n\u001b[1;32m      6\u001b[0m folder \u001b[38;5;241m=\u001b[39m \u001b[38;5;124m'\u001b[39m\u001b[38;5;124mresults/perturbation_theory/tx_100_ty_100/\u001b[39m\u001b[38;5;124m'\u001b[39m\n\u001b[0;32m----> 7\u001b[0m E_vGH1 \u001b[38;5;241m=\u001b[39m \u001b[43mquick_pot_scan\u001b[49m\u001b[43m(\u001b[49m\u001b[43mparams\u001b[49m\u001b[43m,\u001b[49m\u001b[43m \u001b[49m\u001b[43mV_0_range\u001b[49m\u001b[43m,\u001b[49m\u001b[43m \u001b[49m\u001b[43mfolder\u001b[49m\u001b[43m)\u001b[49m\n\u001b[1;32m      9\u001b[0m params[\u001b[38;5;124m\"\u001b[39m\u001b[38;5;124mB\u001b[39m\u001b[38;5;124m\"\u001b[39m] \u001b[38;5;241m=\u001b[39m \u001b[38;5;241m10.0\u001b[39m\n\u001b[1;32m     10\u001b[0m E_vGH1_B_10 \u001b[38;5;241m=\u001b[39m quick_pot_scan(params, V_0_range, folder)\n",
      "Cell \u001b[0;32mIn[3], line 21\u001b[0m, in \u001b[0;36mquick_pot_scan\u001b[0;34m(params, V_0_arr, folder)\u001b[0m\n\u001b[1;32m     17\u001b[0m psi_init \u001b[38;5;241m=\u001b[39m wfn_manip\u001b[38;5;241m.\u001b[39mreshape_one_dim(psi_init)\n\u001b[1;32m     18\u001b[0m \u001b[38;5;124;03m''' \u001b[39;00m\n\u001b[1;32m     19\u001b[0m \u001b[38;5;124;03mImaginary Time Propagation\u001b[39;00m\n\u001b[1;32m     20\u001b[0m \u001b[38;5;124;03m'''\u001b[39;00m\n\u001b[0;32m---> 21\u001b[0m psi, E_evo, epsilon_evo \u001b[38;5;241m=\u001b[39m \u001b[43meom_object\u001b[49m\u001b[38;5;241;43m.\u001b[39;49m\u001b[43msolve_for_fixed_params_imag_time_prop_new\u001b[49m\u001b[43m(\u001b[49m\u001b[43mpsi_init\u001b[49m\u001b[43m)\u001b[49m\n\u001b[1;32m     22\u001b[0m E_arr[i] \u001b[38;5;241m=\u001b[39m E_evo[\u001b[38;5;241m-\u001b[39m\u001b[38;5;241m1\u001b[39m]\n\u001b[1;32m     24\u001b[0m h5_io_object\u001b[38;5;241m.\u001b[39msave_calculation_run(psi, E_evo, epsilon_evo, params, folder)\n",
      "File \u001b[0;32m~/paper_calculations/rotor_lattice_models/class_equations_of_motion.py:500\u001b[0m, in \u001b[0;36meom.solve_for_fixed_params_imag_time_prop_new\u001b[0;34m(self, psi_init)\u001b[0m\n\u001b[1;32m    496\u001b[0m \u001b[38;5;28;01mwhile\u001b[39;00m epsilon \u001b[38;5;241m>\u001b[39m tol:\n\u001b[1;32m    497\u001b[0m     \u001b[38;5;124;03m'''\u001b[39;00m\n\u001b[1;32m    498\u001b[0m \u001b[38;5;124;03m    imag time evolution for dt\u001b[39;00m\n\u001b[1;32m    499\u001b[0m \u001b[38;5;124;03m    '''\u001b[39;00m\n\u001b[0;32m--> 500\u001b[0m     sol \u001b[38;5;241m=\u001b[39m \u001b[43msolve_ivp\u001b[49m\u001b[43m(\u001b[49m\u001b[43mfunc\u001b[49m\u001b[43m,\u001b[49m\u001b[43m \u001b[49m\u001b[43m[\u001b[49m\u001b[38;5;241;43m0\u001b[39;49m\u001b[43m,\u001b[49m\u001b[38;5;28;43mself\u001b[39;49m\u001b[38;5;241;43m.\u001b[39;49m\u001b[43mdt\u001b[49m\u001b[43m]\u001b[49m\u001b[43m,\u001b[49m\u001b[43m \u001b[49m\u001b[43mpsi_init\u001b[49m\u001b[43m,\u001b[49m\u001b[43m \u001b[49m\u001b[43mmethod\u001b[49m\u001b[38;5;241;43m=\u001b[39;49m\u001b[38;5;124;43m'\u001b[39;49m\u001b[38;5;124;43mRK45\u001b[39;49m\u001b[38;5;124;43m'\u001b[39;49m\u001b[43m,\u001b[49m\u001b[43m \u001b[49m\u001b[43mrtol\u001b[49m\u001b[38;5;241;43m=\u001b[39;49m\u001b[38;5;241;43m1e-9\u001b[39;49m\u001b[43m,\u001b[49m\u001b[43m \u001b[49m\u001b[43matol\u001b[49m\u001b[38;5;241;43m=\u001b[39;49m\u001b[38;5;241;43m1e-9\u001b[39;49m\u001b[43m)\u001b[49m \u001b[38;5;66;03m# method='RK45','DOP853'\u001b[39;00m\n\u001b[1;32m    502\u001b[0m     \u001b[38;5;124;03m'''\u001b[39;00m\n\u001b[1;32m    503\u001b[0m \u001b[38;5;124;03m    normalize\u001b[39;00m\n\u001b[1;32m    504\u001b[0m \u001b[38;5;124;03m    '''\u001b[39;00m\n\u001b[1;32m    505\u001b[0m     psi_iter \u001b[38;5;241m=\u001b[39m sol\u001b[38;5;241m.\u001b[39my\u001b[38;5;241m.\u001b[39mT[\u001b[38;5;241m-\u001b[39m\u001b[38;5;241m1\u001b[39m]\n",
      "File \u001b[0;32m/mnt/nfs/clustersw/Debian/bullseye/JupyterPython/2.0/lib/python3.9/site-packages/scipy/integrate/_ivp/ivp.py:602\u001b[0m, in \u001b[0;36msolve_ivp\u001b[0;34m(fun, t_span, y0, method, t_eval, dense_output, events, vectorized, args, **options)\u001b[0m\n\u001b[1;32m    600\u001b[0m status \u001b[38;5;241m=\u001b[39m \u001b[38;5;28;01mNone\u001b[39;00m\n\u001b[1;32m    601\u001b[0m \u001b[38;5;28;01mwhile\u001b[39;00m status \u001b[38;5;129;01mis\u001b[39;00m \u001b[38;5;28;01mNone\u001b[39;00m:\n\u001b[0;32m--> 602\u001b[0m     message \u001b[38;5;241m=\u001b[39m \u001b[43msolver\u001b[49m\u001b[38;5;241;43m.\u001b[39;49m\u001b[43mstep\u001b[49m\u001b[43m(\u001b[49m\u001b[43m)\u001b[49m\n\u001b[1;32m    604\u001b[0m     \u001b[38;5;28;01mif\u001b[39;00m solver\u001b[38;5;241m.\u001b[39mstatus \u001b[38;5;241m==\u001b[39m \u001b[38;5;124m'\u001b[39m\u001b[38;5;124mfinished\u001b[39m\u001b[38;5;124m'\u001b[39m:\n\u001b[1;32m    605\u001b[0m         status \u001b[38;5;241m=\u001b[39m \u001b[38;5;241m0\u001b[39m\n",
      "File \u001b[0;32m/mnt/nfs/clustersw/Debian/bullseye/JupyterPython/2.0/lib/python3.9/site-packages/scipy/integrate/_ivp/base.py:197\u001b[0m, in \u001b[0;36mOdeSolver.step\u001b[0;34m(self)\u001b[0m\n\u001b[1;32m    195\u001b[0m \u001b[38;5;28;01melse\u001b[39;00m:\n\u001b[1;32m    196\u001b[0m     t \u001b[38;5;241m=\u001b[39m \u001b[38;5;28mself\u001b[39m\u001b[38;5;241m.\u001b[39mt\n\u001b[0;32m--> 197\u001b[0m     success, message \u001b[38;5;241m=\u001b[39m \u001b[38;5;28;43mself\u001b[39;49m\u001b[38;5;241;43m.\u001b[39;49m\u001b[43m_step_impl\u001b[49m\u001b[43m(\u001b[49m\u001b[43m)\u001b[49m\n\u001b[1;32m    199\u001b[0m     \u001b[38;5;28;01mif\u001b[39;00m \u001b[38;5;129;01mnot\u001b[39;00m success:\n\u001b[1;32m    200\u001b[0m         \u001b[38;5;28mself\u001b[39m\u001b[38;5;241m.\u001b[39mstatus \u001b[38;5;241m=\u001b[39m \u001b[38;5;124m'\u001b[39m\u001b[38;5;124mfailed\u001b[39m\u001b[38;5;124m'\u001b[39m\n",
      "File \u001b[0;32m/mnt/nfs/clustersw/Debian/bullseye/JupyterPython/2.0/lib/python3.9/site-packages/scipy/integrate/_ivp/rk.py:144\u001b[0m, in \u001b[0;36mRungeKutta._step_impl\u001b[0;34m(self)\u001b[0m\n\u001b[1;32m    141\u001b[0m h \u001b[38;5;241m=\u001b[39m t_new \u001b[38;5;241m-\u001b[39m t\n\u001b[1;32m    142\u001b[0m h_abs \u001b[38;5;241m=\u001b[39m np\u001b[38;5;241m.\u001b[39mabs(h)\n\u001b[0;32m--> 144\u001b[0m y_new, f_new \u001b[38;5;241m=\u001b[39m \u001b[43mrk_step\u001b[49m\u001b[43m(\u001b[49m\u001b[38;5;28;43mself\u001b[39;49m\u001b[38;5;241;43m.\u001b[39;49m\u001b[43mfun\u001b[49m\u001b[43m,\u001b[49m\u001b[43m \u001b[49m\u001b[43mt\u001b[49m\u001b[43m,\u001b[49m\u001b[43m \u001b[49m\u001b[43my\u001b[49m\u001b[43m,\u001b[49m\u001b[43m \u001b[49m\u001b[38;5;28;43mself\u001b[39;49m\u001b[38;5;241;43m.\u001b[39;49m\u001b[43mf\u001b[49m\u001b[43m,\u001b[49m\u001b[43m \u001b[49m\u001b[43mh\u001b[49m\u001b[43m,\u001b[49m\u001b[43m \u001b[49m\u001b[38;5;28;43mself\u001b[39;49m\u001b[38;5;241;43m.\u001b[39;49m\u001b[43mA\u001b[49m\u001b[43m,\u001b[49m\n\u001b[1;32m    145\u001b[0m \u001b[43m                       \u001b[49m\u001b[38;5;28;43mself\u001b[39;49m\u001b[38;5;241;43m.\u001b[39;49m\u001b[43mB\u001b[49m\u001b[43m,\u001b[49m\u001b[43m \u001b[49m\u001b[38;5;28;43mself\u001b[39;49m\u001b[38;5;241;43m.\u001b[39;49m\u001b[43mC\u001b[49m\u001b[43m,\u001b[49m\u001b[43m \u001b[49m\u001b[38;5;28;43mself\u001b[39;49m\u001b[38;5;241;43m.\u001b[39;49m\u001b[43mK\u001b[49m\u001b[43m)\u001b[49m\n\u001b[1;32m    146\u001b[0m scale \u001b[38;5;241m=\u001b[39m atol \u001b[38;5;241m+\u001b[39m np\u001b[38;5;241m.\u001b[39mmaximum(np\u001b[38;5;241m.\u001b[39mabs(y), np\u001b[38;5;241m.\u001b[39mabs(y_new)) \u001b[38;5;241m*\u001b[39m rtol\n\u001b[1;32m    147\u001b[0m error_norm \u001b[38;5;241m=\u001b[39m \u001b[38;5;28mself\u001b[39m\u001b[38;5;241m.\u001b[39m_estimate_error_norm(\u001b[38;5;28mself\u001b[39m\u001b[38;5;241m.\u001b[39mK, h, scale)\n",
      "File \u001b[0;32m/mnt/nfs/clustersw/Debian/bullseye/JupyterPython/2.0/lib/python3.9/site-packages/scipy/integrate/_ivp/rk.py:64\u001b[0m, in \u001b[0;36mrk_step\u001b[0;34m(fun, t, y, f, h, A, B, C, K)\u001b[0m\n\u001b[1;32m     62\u001b[0m \u001b[38;5;28;01mfor\u001b[39;00m s, (a, c) \u001b[38;5;129;01min\u001b[39;00m \u001b[38;5;28menumerate\u001b[39m(\u001b[38;5;28mzip\u001b[39m(A[\u001b[38;5;241m1\u001b[39m:], C[\u001b[38;5;241m1\u001b[39m:]), start\u001b[38;5;241m=\u001b[39m\u001b[38;5;241m1\u001b[39m):\n\u001b[1;32m     63\u001b[0m     dy \u001b[38;5;241m=\u001b[39m np\u001b[38;5;241m.\u001b[39mdot(K[:s]\u001b[38;5;241m.\u001b[39mT, a[:s]) \u001b[38;5;241m*\u001b[39m h\n\u001b[0;32m---> 64\u001b[0m     K[s] \u001b[38;5;241m=\u001b[39m \u001b[43mfun\u001b[49m\u001b[43m(\u001b[49m\u001b[43mt\u001b[49m\u001b[43m \u001b[49m\u001b[38;5;241;43m+\u001b[39;49m\u001b[43m \u001b[49m\u001b[43mc\u001b[49m\u001b[43m \u001b[49m\u001b[38;5;241;43m*\u001b[39;49m\u001b[43m \u001b[49m\u001b[43mh\u001b[49m\u001b[43m,\u001b[49m\u001b[43m \u001b[49m\u001b[43my\u001b[49m\u001b[43m \u001b[49m\u001b[38;5;241;43m+\u001b[39;49m\u001b[43m \u001b[49m\u001b[43mdy\u001b[49m\u001b[43m)\u001b[49m\n\u001b[1;32m     66\u001b[0m y_new \u001b[38;5;241m=\u001b[39m y \u001b[38;5;241m+\u001b[39m h \u001b[38;5;241m*\u001b[39m np\u001b[38;5;241m.\u001b[39mdot(K[:\u001b[38;5;241m-\u001b[39m\u001b[38;5;241m1\u001b[39m]\u001b[38;5;241m.\u001b[39mT, B)\n\u001b[1;32m     67\u001b[0m f_new \u001b[38;5;241m=\u001b[39m fun(t \u001b[38;5;241m+\u001b[39m h, y_new)\n",
      "File \u001b[0;32m/mnt/nfs/clustersw/Debian/bullseye/JupyterPython/2.0/lib/python3.9/site-packages/scipy/integrate/_ivp/base.py:154\u001b[0m, in \u001b[0;36mOdeSolver.__init__.<locals>.fun\u001b[0;34m(t, y)\u001b[0m\n\u001b[1;32m    152\u001b[0m \u001b[38;5;28;01mdef\u001b[39;00m \u001b[38;5;21mfun\u001b[39m(t, y):\n\u001b[1;32m    153\u001b[0m     \u001b[38;5;28mself\u001b[39m\u001b[38;5;241m.\u001b[39mnfev \u001b[38;5;241m+\u001b[39m\u001b[38;5;241m=\u001b[39m \u001b[38;5;241m1\u001b[39m\n\u001b[0;32m--> 154\u001b[0m     \u001b[38;5;28;01mreturn\u001b[39;00m \u001b[38;5;28;43mself\u001b[39;49m\u001b[38;5;241;43m.\u001b[39;49m\u001b[43mfun_single\u001b[49m\u001b[43m(\u001b[49m\u001b[43mt\u001b[49m\u001b[43m,\u001b[49m\u001b[43m \u001b[49m\u001b[43my\u001b[49m\u001b[43m)\u001b[49m\n",
      "File \u001b[0;32m/mnt/nfs/clustersw/Debian/bullseye/JupyterPython/2.0/lib/python3.9/site-packages/scipy/integrate/_ivp/base.py:23\u001b[0m, in \u001b[0;36mcheck_arguments.<locals>.fun_wrapped\u001b[0;34m(t, y)\u001b[0m\n\u001b[1;32m     22\u001b[0m \u001b[38;5;28;01mdef\u001b[39;00m \u001b[38;5;21mfun_wrapped\u001b[39m(t, y):\n\u001b[0;32m---> 23\u001b[0m     \u001b[38;5;28;01mreturn\u001b[39;00m np\u001b[38;5;241m.\u001b[39masarray(\u001b[43mfun\u001b[49m\u001b[43m(\u001b[49m\u001b[43mt\u001b[49m\u001b[43m,\u001b[49m\u001b[43m \u001b[49m\u001b[43my\u001b[49m\u001b[43m)\u001b[49m, dtype\u001b[38;5;241m=\u001b[39mdtype)\n",
      "File \u001b[0;32m~/paper_calculations/rotor_lattice_models/class_equations_of_motion.py:331\u001b[0m, in \u001b[0;36meom.create_integration_function_imag_time_prop.<locals>.<lambda>\u001b[0;34m(t_, psi_)\u001b[0m\n\u001b[1;32m    316\u001b[0m \u001b[38;5;28;01mdef\u001b[39;00m \u001b[38;5;21mcreate_integration_function_imag_time_prop\u001b[39m(\u001b[38;5;28mself\u001b[39m): \n\u001b[1;32m    317\u001b[0m     \u001b[38;5;124;03m'''\u001b[39;00m\n\u001b[1;32m    318\u001b[0m \u001b[38;5;124;03m        Computes: lambda expression for imaginary time propagation\u001b[39;00m\n\u001b[1;32m    319\u001b[0m \n\u001b[0;32m   (...)\u001b[0m\n\u001b[1;32m    328\u001b[0m \u001b[38;5;124;03m        ----\u001b[39;00m\n\u001b[1;32m    329\u001b[0m \u001b[38;5;124;03m    '''\u001b[39;00m\n\u001b[0;32m--> 331\u001b[0m     \u001b[38;5;28;01mreturn\u001b[39;00m \u001b[38;5;28;01mlambda\u001b[39;00m t_, psi_ : \u001b[38;5;241m-\u001b[39m\u001b[38;5;241m1.0\u001b[39m\u001b[38;5;241m*\u001b[39m\u001b[38;5;28;43mself\u001b[39;49m\u001b[38;5;241;43m.\u001b[39;49m\u001b[43mrhs_lang_firsov_imag_time_prop\u001b[49m\u001b[43m(\u001b[49m\u001b[43mpsi_\u001b[49m\u001b[38;5;241;43m.\u001b[39;49m\u001b[43mreshape\u001b[49m\u001b[43m(\u001b[49m\u001b[43m(\u001b[49m\u001b[38;5;28;43mself\u001b[39;49m\u001b[38;5;241;43m.\u001b[39;49m\u001b[43mMy\u001b[49m\u001b[43m,\u001b[49m\u001b[38;5;28;43mself\u001b[39;49m\u001b[38;5;241;43m.\u001b[39;49m\u001b[43mMx\u001b[49m\u001b[43m,\u001b[49m\u001b[38;5;28;43mself\u001b[39;49m\u001b[38;5;241;43m.\u001b[39;49m\u001b[43mn\u001b[49m\u001b[43m)\u001b[49m\u001b[43m)\u001b[49m\u001b[43m)\u001b[49m\n",
      "File \u001b[0;32m~/paper_calculations/rotor_lattice_models/class_equations_of_motion.py:254\u001b[0m, in \u001b[0;36meom.rhs_lang_firsov_imag_time_prop\u001b[0;34m(self, psi_collection)\u001b[0m\n\u001b[1;32m    234\u001b[0m \u001b[38;5;28;01mdef\u001b[39;00m \u001b[38;5;21mrhs_lang_firsov_imag_time_prop\u001b[39m(\u001b[38;5;28mself\u001b[39m, psi_collection):\n\u001b[1;32m    235\u001b[0m     \u001b[38;5;124;03m'''\u001b[39;00m\n\u001b[1;32m    236\u001b[0m \u001b[38;5;124;03m        Computes: right-hand-side of the variational e.o.m. for imaginary time propagation\u001b[39;00m\n\u001b[1;32m    237\u001b[0m \n\u001b[0;32m   (...)\u001b[0m\n\u001b[1;32m    252\u001b[0m \u001b[38;5;124;03m        ----\u001b[39;00m\n\u001b[1;32m    253\u001b[0m \u001b[38;5;124;03m    '''\u001b[39;00m\n\u001b[0;32m--> 254\u001b[0m     H_psi \u001b[38;5;241m=\u001b[39m \u001b[38;5;28;43mself\u001b[39;49m\u001b[38;5;241;43m.\u001b[39;49m\u001b[43mhpsi_lang_firsov\u001b[49m\u001b[43m(\u001b[49m\u001b[43mpsi_collection\u001b[49m\u001b[43m)\u001b[49m\n\u001b[1;32m    256\u001b[0m     lagrange_multiplier \u001b[38;5;241m=\u001b[39m np\u001b[38;5;241m.\u001b[39meinsum(\u001b[38;5;124m'\u001b[39m\u001b[38;5;124mijk,ijk->ij\u001b[39m\u001b[38;5;124m'\u001b[39m, np\u001b[38;5;241m.\u001b[39mconjugate(psi_collection), H_psi)\n\u001b[1;32m    258\u001b[0m     H_psi \u001b[38;5;241m=\u001b[39m H_psi \u001b[38;5;241m-\u001b[39m lagrange_multiplier[:, :, np\u001b[38;5;241m.\u001b[39mnewaxis] \u001b[38;5;241m*\u001b[39m psi_collection\n",
      "File \u001b[0;32m~/paper_calculations/rotor_lattice_models/class_equations_of_motion.py:187\u001b[0m, in \u001b[0;36meom.hpsi_lang_firsov\u001b[0;34m(self, psi_collection)\u001b[0m\n\u001b[1;32m    172\u001b[0m \u001b[38;5;28;01mdef\u001b[39;00m \u001b[38;5;21mhpsi_lang_firsov\u001b[39m(\u001b[38;5;28mself\u001b[39m, psi_collection):\n\u001b[1;32m    173\u001b[0m     \u001b[38;5;124;03m'''\u001b[39;00m\n\u001b[1;32m    174\u001b[0m \u001b[38;5;124;03m        Computes: H_psi of the variational equations of motion\u001b[39;00m\n\u001b[1;32m    175\u001b[0m \n\u001b[0;32m   (...)\u001b[0m\n\u001b[1;32m    184\u001b[0m \u001b[38;5;124;03m        ----\u001b[39;00m\n\u001b[1;32m    185\u001b[0m \u001b[38;5;124;03m    '''\u001b[39;00m\n\u001b[0;32m--> 187\u001b[0m     H_psi \u001b[38;5;241m=\u001b[39m \u001b[38;5;28;43mself\u001b[39;49m\u001b[38;5;241;43m.\u001b[39;49m\u001b[43mhpsi_transfer_and_rot\u001b[49m\u001b[43m(\u001b[49m\u001b[43mpsi_collection\u001b[49m\u001b[43m)\u001b[49m\n\u001b[1;32m    189\u001b[0m     \u001b[38;5;124;03m'''\u001b[39;00m\n\u001b[1;32m    190\u001b[0m \u001b[38;5;124;03m    interaction terms\u001b[39;00m\n\u001b[1;32m    191\u001b[0m \u001b[38;5;124;03m    '''\u001b[39;00m\n\u001b[1;32m    192\u001b[0m     H_psi[\u001b[38;5;28mself\u001b[39m\u001b[38;5;241m.\u001b[39mMy\u001b[38;5;241m-\u001b[39m\u001b[38;5;241m1\u001b[39m,\u001b[38;5;241m0\u001b[39m]         \u001b[38;5;241m+\u001b[39m\u001b[38;5;241m=\u001b[39m \u001b[38;5;28mself\u001b[39m\u001b[38;5;241m.\u001b[39mV_0\u001b[38;5;241m*\u001b[39mnp\u001b[38;5;241m.\u001b[39mcos(\u001b[38;5;28mself\u001b[39m\u001b[38;5;241m.\u001b[39mx\u001b[38;5;241m-\u001b[39m\u001b[38;5;241m0.25\u001b[39m\u001b[38;5;241m*\u001b[39mnp\u001b[38;5;241m.\u001b[39mpi)\u001b[38;5;241m*\u001b[39mpsi_collection[\u001b[38;5;28mself\u001b[39m\u001b[38;5;241m.\u001b[39mMy\u001b[38;5;241m-\u001b[39m\u001b[38;5;241m1\u001b[39m,\u001b[38;5;241m0\u001b[39m]\n",
      "File \u001b[0;32m~/paper_calculations/rotor_lattice_models/class_equations_of_motion.py:150\u001b[0m, in \u001b[0;36meom.hpsi_transfer_and_rot\u001b[0;34m(self, psi_collection)\u001b[0m\n\u001b[1;32m    146\u001b[0m \u001b[38;5;124;03m'''\u001b[39;00m\n\u001b[1;32m    147\u001b[0m \u001b[38;5;124;03mproducts of transfer integrals: in every entry (i,j), the (i,j)-th produc is missing\u001b[39;00m\n\u001b[1;32m    148\u001b[0m \u001b[38;5;124;03m'''\u001b[39;00m\n\u001b[1;32m    149\u001b[0m TDr \u001b[38;5;241m=\u001b[39m \u001b[38;5;28mself\u001b[39m\u001b[38;5;241m.\u001b[39mcompute_T_matrix_eom(TD_arr)\n\u001b[0;32m--> 150\u001b[0m TUr \u001b[38;5;241m=\u001b[39m \u001b[38;5;28;43mself\u001b[39;49m\u001b[38;5;241;43m.\u001b[39;49m\u001b[43mcompute_T_matrix_eom\u001b[49m\u001b[43m(\u001b[49m\u001b[43mTU_arr\u001b[49m\u001b[43m)\u001b[49m\n\u001b[1;32m    151\u001b[0m TRr \u001b[38;5;241m=\u001b[39m \u001b[38;5;28mself\u001b[39m\u001b[38;5;241m.\u001b[39mcompute_T_matrix_eom(TR_arr)\n\u001b[1;32m    152\u001b[0m TLr \u001b[38;5;241m=\u001b[39m \u001b[38;5;28mself\u001b[39m\u001b[38;5;241m.\u001b[39mcompute_T_matrix_eom(TL_arr)\n",
      "File \u001b[0;32m~/paper_calculations/rotor_lattice_models/class_equations_of_motion.py:91\u001b[0m, in \u001b[0;36meom.compute_T_matrix_eom\u001b[0;34m(self, Tarr)\u001b[0m\n\u001b[1;32m     89\u001b[0m     \u001b[38;5;28;01mfor\u001b[39;00m j \u001b[38;5;129;01min\u001b[39;00m \u001b[38;5;28mrange\u001b[39m(\u001b[38;5;28mself\u001b[39m\u001b[38;5;241m.\u001b[39mMx):\n\u001b[1;32m     90\u001b[0m         T_cur_arr[i,j] \u001b[38;5;241m=\u001b[39m \u001b[38;5;241m1.0\u001b[39m\u001b[38;5;241m+\u001b[39m\u001b[38;5;241m0\u001b[39mj\n\u001b[0;32m---> 91\u001b[0m         Tarr_new[i,j] \u001b[38;5;241m=\u001b[39m \u001b[43mnp\u001b[49m\u001b[38;5;241;43m.\u001b[39;49m\u001b[43mprod\u001b[49m\u001b[43m(\u001b[49m\u001b[43mT_cur_arr\u001b[49m\u001b[43m)\u001b[49m\n\u001b[1;32m     93\u001b[0m         T_cur_arr[i,j] \u001b[38;5;241m=\u001b[39m Tarr[i,j]\n\u001b[1;32m     95\u001b[0m Tarr_new \u001b[38;5;241m=\u001b[39m Tarr_new[:, :, np\u001b[38;5;241m.\u001b[39mnewaxis]\n",
      "File \u001b[0;32m<__array_function__ internals>:200\u001b[0m, in \u001b[0;36mprod\u001b[0;34m(*args, **kwargs)\u001b[0m\n",
      "File \u001b[0;32m~/.local/lib/python3.9/site-packages/numpy/core/fromnumeric.py:2955\u001b[0m, in \u001b[0;36mprod\u001b[0;34m(a, axis, dtype, out, keepdims, initial, where)\u001b[0m\n\u001b[1;32m   2950\u001b[0m \u001b[38;5;28;01mdef\u001b[39;00m \u001b[38;5;21m_prod_dispatcher\u001b[39m(a, axis\u001b[38;5;241m=\u001b[39m\u001b[38;5;28;01mNone\u001b[39;00m, dtype\u001b[38;5;241m=\u001b[39m\u001b[38;5;28;01mNone\u001b[39;00m, out\u001b[38;5;241m=\u001b[39m\u001b[38;5;28;01mNone\u001b[39;00m, keepdims\u001b[38;5;241m=\u001b[39m\u001b[38;5;28;01mNone\u001b[39;00m,\n\u001b[1;32m   2951\u001b[0m                      initial\u001b[38;5;241m=\u001b[39m\u001b[38;5;28;01mNone\u001b[39;00m, where\u001b[38;5;241m=\u001b[39m\u001b[38;5;28;01mNone\u001b[39;00m):\n\u001b[1;32m   2952\u001b[0m     \u001b[38;5;28;01mreturn\u001b[39;00m (a, out)\n\u001b[0;32m-> 2955\u001b[0m \u001b[38;5;129m@array_function_dispatch\u001b[39m(_prod_dispatcher)\n\u001b[1;32m   2956\u001b[0m \u001b[38;5;28;01mdef\u001b[39;00m \u001b[38;5;21mprod\u001b[39m(a, axis\u001b[38;5;241m=\u001b[39m\u001b[38;5;28;01mNone\u001b[39;00m, dtype\u001b[38;5;241m=\u001b[39m\u001b[38;5;28;01mNone\u001b[39;00m, out\u001b[38;5;241m=\u001b[39m\u001b[38;5;28;01mNone\u001b[39;00m, keepdims\u001b[38;5;241m=\u001b[39mnp\u001b[38;5;241m.\u001b[39m_NoValue,\n\u001b[1;32m   2957\u001b[0m          initial\u001b[38;5;241m=\u001b[39mnp\u001b[38;5;241m.\u001b[39m_NoValue, where\u001b[38;5;241m=\u001b[39mnp\u001b[38;5;241m.\u001b[39m_NoValue):\n\u001b[1;32m   2958\u001b[0m     \u001b[38;5;124;03m\"\"\"\u001b[39;00m\n\u001b[1;32m   2959\u001b[0m \u001b[38;5;124;03m    Return the product of array elements over a given axis.\u001b[39;00m\n\u001b[1;32m   2960\u001b[0m \n\u001b[0;32m   (...)\u001b[0m\n\u001b[1;32m   3074\u001b[0m \u001b[38;5;124;03m    10\u001b[39;00m\n\u001b[1;32m   3075\u001b[0m \u001b[38;5;124;03m    \"\"\"\u001b[39;00m\n\u001b[1;32m   3076\u001b[0m     \u001b[38;5;28;01mreturn\u001b[39;00m _wrapreduction(a, np\u001b[38;5;241m.\u001b[39mmultiply, \u001b[38;5;124m'\u001b[39m\u001b[38;5;124mprod\u001b[39m\u001b[38;5;124m'\u001b[39m, axis, dtype, out,\n\u001b[1;32m   3077\u001b[0m                           keepdims\u001b[38;5;241m=\u001b[39mkeepdims, initial\u001b[38;5;241m=\u001b[39minitial, where\u001b[38;5;241m=\u001b[39mwhere)\n",
      "\u001b[0;31mKeyboardInterrupt\u001b[0m: "
     ]
    }
   ],
   "source": [
    "V_0_range = np.linspace(0,100,21)\n",
    "\n",
    "params[\"B\"] = 1.0\n",
    "params[\"tx\"] = 100\n",
    "params[\"ty\"] = 100\n",
    "folder = 'results/perturbation_theory/tx_100_ty_100/'\n",
    "E_vGH1 = quick_pot_scan(params, V_0_range, folder)\n",
    "\n",
    "params[\"B\"] = 10.0\n",
    "E_vGH1_B_10 = quick_pot_scan(params, V_0_range, folder)\n",
    "\n",
    "params[\"B\"] = 1.0\n",
    "params[\"tx\"] = 50\n",
    "params[\"ty\"] = 150\n",
    "folder = 'results/perturbation_theory/tx_50_ty_150/'\n",
    "E_vGH2 = quick_pot_scan(params, V_0_range, folder)\n",
    "\n",
    "params[\"B\"] = 1.0\n",
    "params[\"tx\"] = 10\n",
    "params[\"ty\"] = 190\n",
    "folder = 'results/perturbation_theory/tx_10_ty_190/'\n",
    "E_vGH3 = quick_pot_scan(params, V_0_range, folder)\n"
   ]
  },
  {
   "attachments": {},
   "cell_type": "markdown",
   "metadata": {},
   "source": [
    "Read in the vGH calculations from the wavefunctions."
   ]
  },
  {
   "cell_type": "code",
   "execution_count": 12,
   "metadata": {},
   "outputs": [],
   "source": [
    "check_sys = 'tx_100_ty_100'\n",
    "check_sym = '_B_1.0_Mx_'+str(params[\"Mx\"])+'_My_'+str(params[\"My\"])\n",
    "folder = 'results/perturbation_theory/tx_100_ty_100/'\n",
    "E_vGH1_B_1 = get_E_arr(V_0_range, folder, check_sys, check_sym)\n",
    "\n",
    "check_sym = '_B_200.0_Mx_'+str(params[\"Mx\"])+'_My_'+str(params[\"My\"])\n",
    "folder = 'results/perturbation_theory/tx_100_ty_100/'\n",
    "E_vGH1_B_200 = get_E_arr(V_0_range, folder, check_sys, check_sym)\n",
    "\n",
    "\n",
    "\n",
    "check_sys = 'tx_50_ty_150'\n",
    "check_sym = '_B_1.0_Mx_'+str(params[\"Mx\"])+'_My_'+str(params[\"My\"])\n",
    "folder = 'results/perturbation_theory/tx_50_ty_150/'\n",
    "E_vGH2_B_1 = get_E_arr(V_0_range, folder, check_sys, check_sym)\n",
    "\n",
    "check_sys = 'tx_50_ty_150'\n",
    "check_sym = '_B_200.0_Mx_'+str(params[\"Mx\"])+'_My_'+str(params[\"My\"])\n",
    "folder = 'results/perturbation_theory/tx_50_ty_150/'\n",
    "E_vGH2_B_200 = get_E_arr(V_0_range, folder, check_sys, check_sym)\n",
    "\n",
    "\n",
    "\n",
    "check_sys = 'tx_10_ty_190'\n",
    "check_sym = '_B_1.0_Mx_'+str(params[\"Mx\"])+'_My_'+str(params[\"My\"])\n",
    "folder = 'results/perturbation_theory/tx_10_ty_190/'\n",
    "E_vGH3_B_1 = get_E_arr(V_0_range, folder, check_sys, check_sym)\n",
    "\n",
    "check_sys = 'tx_10_ty_190'\n",
    "check_sym = '_B_200.0_Mx_'+str(params[\"Mx\"])+'_My_'+str(params[\"My\"])\n",
    "folder = 'results/perturbation_theory/tx_10_ty_190/'\n",
    "E_vGH3_B_200 = get_E_arr(V_0_range, folder, check_sys, check_sym)"
   ]
  },
  {
   "attachments": {},
   "cell_type": "markdown",
   "metadata": {},
   "source": [
    "## Plot the results to show how the energies match!"
   ]
  },
  {
   "cell_type": "code",
   "execution_count": 13,
   "metadata": {},
   "outputs": [],
   "source": [
    "def E_to_plot(E, t):\n",
    "    return np.abs(E+2*t)/t"
   ]
  },
  {
   "cell_type": "code",
   "execution_count": 14,
   "metadata": {},
   "outputs": [
    {
     "data": {
      "text/plain": [
       "array([1.70000000e-03+0.00000000e+00j, 1.62953143e-03-1.15970147e-22j,\n",
       "       1.51684673e-03+7.19272057e-23j, 1.40070609e-03+1.35760839e-21j,\n",
       "       1.27309034e-03-1.08882507e-21j, 1.13061944e-03+1.72680690e-21j,\n",
       "       9.92420010e-04-2.06627959e-21j, 8.62822612e-04-3.00031728e-21j,\n",
       "       7.45526220e-04-2.84096998e-21j, 6.14836119e-04-3.28068891e-21j,\n",
       "       5.31569193e-04+1.68450397e-20j, 4.39474602e-04+5.15299513e-21j,\n",
       "       3.72440273e-04+1.22189561e-20j, 3.35381634e-04-1.41846095e-20j,\n",
       "       3.33430324e-04+2.40002789e-20j, 3.71967393e-04-2.93923843e-20j,\n",
       "       4.18401283e-04+1.73428884e-20j, 5.54934596e-04+4.10178094e-20j,\n",
       "       7.10007753e-04+8.74342821e-22j, 9.70277443e-04-3.18552304e-20j,\n",
       "       1.26161722e-03-3.35657291e-20j, 9.87081910e-03+7.51122115e-20j,\n",
       "       3.51860375e-02+1.00405574e-19j, 8.80276886e-02-3.01610792e-19j,\n",
       "       1.80600001e-01+1.80267057e-19j, 3.26022252e-01+2.98910340e-19j,\n",
       "       5.37941954e-01-7.52928435e-19j, 8.30335880e-01-8.72971367e-19j,\n",
       "       1.21732876e+00+3.91217862e-19j, 1.71311473e+00+1.63534305e-19j,\n",
       "       2.33177328e+00-2.59429731e-18j, 3.08726732e+00-3.69259815e-18j,\n",
       "       3.99337322e+00+1.74626745e-20j, 5.06388396e+00-1.61507635e-18j,\n",
       "       6.31228809e+00-3.18015315e-18j, 7.75221675e+00-1.04640048e-18j,\n",
       "       9.39716358e+00-1.87940129e-18j, 1.12607766e+01+4.81554030e-18j,\n",
       "       1.33569257e+01+2.42207913e-18j])"
      ]
     },
     "execution_count": 14,
     "metadata": {},
     "output_type": "execute_result"
    }
   ],
   "source": [
    "E_pert1_B_1-(E_vGH1_B_1-0.0017)"
   ]
  },
  {
   "cell_type": "code",
   "execution_count": 15,
   "metadata": {},
   "outputs": [
    {
     "data": {
      "text/plain": [
       "[<matplotlib.lines.Line2D at 0x7fce23c12610>]"
      ]
     },
     "execution_count": 15,
     "metadata": {},
     "output_type": "execute_result"
    },
    {
     "data": {
      "image/png": "[encoded data removed]",
      "text/plain": [
       "<Figure size 432x288 with 1 Axes>"
      ]
     },
     "metadata": {
      "needs_background": "light"
     },
     "output_type": "display_data"
    }
   ],
   "source": [
    "plt.plot(V_0_range, E_vGH1_B_1.real, color='tab:blue', linestyle='dashed')\n",
    "plt.plot(V_0_range, E_vGH1_B_200.real, color='tab:blue')\n",
    "plt.plot(V_0_range, E_pert1_B_1.real, color='tab:red')\n",
    "plt.plot(V_0_range, E_pert1_B_200.real, color='tab:red', linestyle='dashed')\n",
    "#plt.plot(V_0_range, E_pert3.real, color='tab:red')\n",
    "#plt.plot(V_0_range, E_vGH3.real, color='tab:blue')\n",
    "\n",
    "#plt.xscale('log')\n",
    "#plt.yscale('log')"
   ]
  },
  {
   "cell_type": "code",
   "execution_count": 16,
   "metadata": {},
   "outputs": [
    {
     "data": {
      "image/png": "[encoded data removed]",
      "text/plain": [
       "<Figure size 421.38x297.99 with 1 Axes>"
      ]
     },
     "metadata": {
      "needs_background": "light"
     },
     "output_type": "display_data"
    }
   ],
   "source": [
    "A = 6\n",
    "plt.rc('figure', figsize=[46.82 * .5**(.5 * A), 33.11 * .5**(.5 * A)])\n",
    "plt.rc('text', usetex=True)\n",
    "plt.rc('font', family='serif')\n",
    "font_size = 20\n",
    "\n",
    "fig, axs = plt.subplots()\n",
    "\n",
    "plt.suptitle(r'a) $t_x=t_y=\\frac{1}{2}t$', fontsize=font_size)\n",
    "\n",
    "axs.plot(V_0_range[1:]/t, E_to_plot(E_vGH1_B_1.real,t)[1:], color='tab:blue', linestyle='solid', label=r'$B = 0.5\\cdot 10^{-2} t$')\n",
    "axs.plot(V_0_range[1:]/t, E_to_plot(E_pert1_B_1.real,t)[1:], color='tab:blue', linestyle='dashed')\n",
    "\n",
    "axs.plot(V_0_range[1:]/t, E_to_plot(E_vGH1_B_200.real,t)[1:], color='tab:orange', linestyle='solid', label=r'$B = 10^0 t$')\n",
    "axs.plot(V_0_range[1:]/t, E_to_plot(E_pert1_B_200.real,t)[1:], color='tab:orange', linestyle='dashed')\n",
    "\n",
    "plt.xlabel(r'$V_0/t$', fontsize=font_size)\n",
    "plt.ylabel(r'$(E+2t)/t$', fontsize=font_size)\n",
    "\n",
    "plt.xticks(fontsize=font_size)\n",
    "\n",
    "axs.set_xscale('log', base=10)\n",
    "axs.set_yscale('log', base=10)\n",
    "\n",
    "axs.invert_yaxis()\n",
    "axs.set_yticks([1e-1,1e-2,1e-3,1e-4,1e-5],[r'$-10^{-1}$',r'$-10^{-2}$',r'$-10^{-3}$',r'$-10^{-4}$',r'$-10^{-5}$'], fontsize=font_size)\n",
    "\n",
    "axs.plot(np.linspace(3.1e-3,5e-3,100), 0.75e-2*np.ones(100), linestyle='solid', color='black')\n",
    "axs.plot(np.linspace(3.1e-3,5e-3,100), 0.27e-1*np.ones(100), linestyle='dashed', color='black')\n",
    "\n",
    "axs.annotate('vGH', xy=(0.6*1e-2,1e-2), fontsize=font_size)\n",
    "axs.annotate('BW pert.', xy=(0.6*1e-2,0.4e-1), fontsize=font_size)\n",
    "\n",
    "axs.legend(fontsize=font_size, loc=1)\n",
    "\n",
    "plt.tick_params(axis='x', direction='in', length=6, top=True)\n",
    "plt.tick_params(axis='y', direction='in', length=6, right=True)\n",
    "plt.tick_params(axis='x', which='minor', direction='in', length=3, top=True)\n",
    "plt.tick_params(axis='y', which='minor', direction='in', length=3, right=True)\n",
    "\n",
    "plt.tick_params(which='minor', axis='y', direction='in', right=True)\n",
    "\n",
    "plt.savefig('results/perturbation_theory/B_comp_tx_100_ty_100.svg', bbox_inches='tight')"
   ]
  },
  {
   "cell_type": "code",
   "execution_count": 17,
   "metadata": {},
   "outputs": [
    {
     "data": {
      "image/png": "[encoded data removed]",
      "text/plain": [
       "<Figure size 421.38x297.99 with 1 Axes>"
      ]
     },
     "metadata": {
      "needs_background": "light"
     },
     "output_type": "display_data"
    }
   ],
   "source": [
    "A = 6\n",
    "plt.rc('figure', figsize=[46.82 * .5**(.5 * A), 33.11 * .5**(.5 * A)])\n",
    "plt.rc('text', usetex=True)\n",
    "plt.rc('font', family='serif')\n",
    "font_size = 20\n",
    "\n",
    "fig, axs = plt.subplots()\n",
    "\n",
    "plt.suptitle(r'b) $t_x=\\frac{1}{4}t,t_y=\\frac{3}{4}t$', fontsize=font_size)\n",
    "\n",
    "axs.plot(V_0_range[1:len(E_vGH2_B_1)-1]/t, E_to_plot(E_vGH2_B_1.real[1:len(E_vGH2_B_1)-1],t), color='tab:blue', linestyle='solid', label=r'$B = 0.5\\cdot 10^{-2} t$')\n",
    "axs.plot(V_0_range[1:len(E_vGH2_B_1)-1]/t, E_to_plot(E_pert2_B_1.real[1:len(E_vGH2_B_1)-1],t), color='tab:blue', linestyle='dashed')\n",
    "\n",
    "axs.plot(V_0_range[1:]/t, E_to_plot(E_vGH2_B_200.real,t)[1:], color='tab:orange', linestyle='solid', label=r'$B = 10^0 t$')\n",
    "axs.plot(V_0_range[1:]/t, E_to_plot(E_pert2_B_200.real,t)[1:], color='tab:orange', linestyle='dashed')\n",
    "\n",
    "plt.xlabel(r'$V_0/t$', fontsize=font_size)\n",
    "plt.ylabel(r'$(E+2t)/t$', fontsize=font_size)\n",
    "\n",
    "\n",
    "plt.xticks(fontsize=font_size)\n",
    "plt.yticks(fontsize=font_size)\n",
    "\n",
    "axs.set_xscale('log', base=10)\n",
    "axs.set_yscale('log', base=10)\n",
    "\n",
    "axs.invert_yaxis()\n",
    "axs.set_yticks([1e-1,1e-2,1e-3,1e-4,1e-5],[r'$-10^{-1}$',r'$-10^{-2}$',r'$-10^{-3}$',r'$-10^{-4}$',r'$-10^{-5}$'], fontsize=font_size)\n",
    "\n",
    "axs.plot(np.linspace(3.1e-3,5e-3,100), 0.75e-2*np.ones(100), linestyle='solid', color='black')\n",
    "axs.plot(np.linspace(3.1e-3,5e-3,100), 0.27e-1*np.ones(100), linestyle='dashed', color='black')\n",
    "\n",
    "axs.annotate('vGH', xy=(0.6*1e-2,1e-2), fontsize=font_size)\n",
    "axs.annotate('BW pert.', xy=(0.6*1e-2,0.4e-1), fontsize=font_size)\n",
    "\n",
    "axs.legend(fontsize=15, loc=1)\n",
    "\n",
    "plt.tick_params(axis='x', direction='in', length=6, top=True)\n",
    "plt.tick_params(axis='y', direction='in', length=6, right=True)\n",
    "plt.tick_params(axis='x', which='minor', direction='in', length=3, top=True)\n",
    "plt.tick_params(axis='y', which='minor', direction='in', length=3, right=True)\n",
    "\n",
    "plt.tick_params(which='minor', axis='y', direction='in', right=True)\n",
    "plt.savefig('results/perturbation_theory/B_comp_tx_50_ty_100.svg', bbox_inches='tight')"
   ]
  },
  {
   "cell_type": "code",
   "execution_count": 18,
   "metadata": {},
   "outputs": [
    {
     "data": {
      "image/png": "[encoded data removed]",
      "text/plain": [
       "<Figure size 421.38x297.99 with 1 Axes>"
      ]
     },
     "metadata": {
      "needs_background": "light"
     },
     "output_type": "display_data"
    }
   ],
   "source": [
    "A = 6\n",
    "plt.rc('figure', figsize=[46.82 * .5**(.5 * A), 33.11 * .5**(.5 * A)])\n",
    "plt.rc('text', usetex=True)\n",
    "plt.rc('font', family='serif')\n",
    "font_size = 20\n",
    "\n",
    "fig, axs = plt.subplots()\n",
    "\n",
    "plt.suptitle(r'c) $t_x=\\frac{1}{20}t,t_y=\\frac{19}{20}t$', fontsize=font_size)\n",
    "\n",
    "axs.plot(V_0_range[1:24]/t, E_to_plot(E_vGH3_B_1.real,t)[1:24], color='tab:blue', linestyle='solid', label=r'$B = 0.5\\cdot 10^{-2} t$')\n",
    "axs.plot(V_0_range[1:24]/t, E_to_plot(E_pert3_B_1.real,t)[1:24], color='tab:blue', linestyle='dashed')\n",
    "\n",
    "axs.plot(V_0_range[1:24]/t, E_to_plot(E_vGH3_B_200.real,t)[1:24], color='tab:orange', linestyle='solid', label=r'$B = 10^0 t$')\n",
    "axs.plot(V_0_range[1:24]/t, E_to_plot(E_pert3_B_200.real,t)[1:24], color='tab:orange', linestyle='dashed')\n",
    "\n",
    "plt.xlabel(r'$V_0/t$', fontsize=font_size)\n",
    "plt.ylabel(r'$(E+2t)/t$', fontsize=font_size)\n",
    "\n",
    "\n",
    "plt.xticks(fontsize=font_size)\n",
    "plt.yticks(fontsize=font_size)\n",
    "\n",
    "axs.set_xscale('log', base=10)\n",
    "axs.set_yscale('log', base=10)\n",
    "\n",
    "axs.invert_yaxis()\n",
    "axs.set_yticks([1e-1,1e-2,1e-3,1e-4,1e-5],[r'$-10^{-1}$',r'$-10^{-2}$',r'$-10^{-3}$',r'$-10^{-4}$',r'$-10^{-5}$'], fontsize=font_size)\n",
    "\n",
    "axs.plot(np.linspace(3.1e-3,5e-3,100), 0.75e-2*np.ones(100), linestyle='solid', color='black')\n",
    "axs.plot(np.linspace(3.1e-3,5e-3,100), 0.27e-1*np.ones(100), linestyle='dashed', color='black')\n",
    "\n",
    "axs.annotate('vGH', xy=(0.6*1e-2,1e-2), fontsize=font_size)\n",
    "axs.annotate('BW pert.', xy=(0.6*1e-2,0.4e-1), fontsize=font_size)\n",
    "\n",
    "axs.legend(fontsize=15, loc=1)\n",
    "\n",
    "plt.tick_params(axis='x', direction='in', length=6, top=True)\n",
    "plt.tick_params(axis='y', direction='in', length=6, right=True)\n",
    "plt.tick_params(axis='x', which='minor', direction='in', length=3, top=True)\n",
    "plt.tick_params(axis='y', which='minor', direction='in', length=3, right=True)\n",
    "\n",
    "plt.tick_params(which='minor', axis='y', direction='in', right=True)\n",
    "plt.savefig('results/perturbation_theory/B_comp_tx_10_ty_190.svg', bbox_inches='tight')"
   ]
  },
  {
   "cell_type": "code",
   "execution_count": 19,
   "metadata": {},
   "outputs": [
    {
     "data": {
      "image/png": "[encoded data removed]",
      "text/plain": [
       "<Figure size 421.38x297.99 with 1 Axes>"
      ]
     },
     "metadata": {
      "needs_background": "light"
     },
     "output_type": "display_data"
    }
   ],
   "source": [
    "A = 6\n",
    "plt.rc('figure', figsize=[46.82 * .5**(.5 * A), 33.11 * .5**(.5 * A)])\n",
    "plt.rc('text', usetex=True)\n",
    "plt.rc('font', family='serif')\n",
    "font_size = 20\n",
    "\n",
    "fig, axs = plt.subplots()\n",
    "\n",
    "plt.suptitle(r'c) $B = 0.5\\cdot 10^{-2}t$', fontsize=font_size)\n",
    "\n",
    "axs.plot(V_0_range[1:24]/t, E_to_plot(E_vGH1_B_1.real,t)[1:24], color='tab:blue', linestyle='solid', label=r'$t_x=t_y=\\frac{1}{2}t$')\n",
    "axs.plot(V_0_range[1:24]/t, E_to_plot(E_pert1_B_1.real,t)[1:24], color='tab:blue', linestyle='dashed')\n",
    "\n",
    "axs.plot(V_0_range[1:24]/t, E_to_plot(E_vGH2_B_1.real,t)[1:24], color='tab:orange', linestyle='solid', label=r'$t_x=\\frac{1}{4}t,t_y=\\frac{3}{4}t$')\n",
    "axs.plot(V_0_range[1:24]/t, E_to_plot(E_pert2_B_1.real,t)[1:24], color='tab:orange', linestyle='dashed')\n",
    "\n",
    "axs.plot(V_0_range[1:24]/t, E_to_plot(E_vGH3_B_1.real,t)[1:24], color='tab:red', linestyle='solid', label=r'$t_x=\\frac{1}{20}t,t_y=\\frac{19}{20}t$')\n",
    "axs.plot(V_0_range[1:24]/t, E_to_plot(E_pert3_B_1.real,t)[1:24], color='tab:red', linestyle='dashed')\n",
    "\n",
    "\n",
    "plt.xlabel(r'$V_0/t$', fontsize=font_size)\n",
    "plt.ylabel(r'$(E+2t)/t$', fontsize=font_size)\n",
    "\n",
    "\n",
    "plt.xticks(fontsize=font_size)\n",
    "plt.yticks(fontsize=font_size)\n",
    "\n",
    "axs.set_xscale('log', base=10)\n",
    "axs.set_yscale('log', base=10)\n",
    "\n",
    "axs.invert_yaxis()\n",
    "axs.set_yticks([1e-1,1e-2,1e-3,1e-4,1e-5],[r'$-10^{-1}$',r'$-10^{-2}$',r'$-10^{-3}$',r'$-10^{-4}$',r'$-10^{-5}$'], fontsize=font_size)\n",
    "\n",
    "axs.plot(np.linspace(3.1e-3,5e-3,100), 0.75e-2*np.ones(100), linestyle='solid', color='black')\n",
    "axs.plot(np.linspace(3.1e-3,5e-3,100), 0.27e-1*np.ones(100), linestyle='dashed', color='black')\n",
    "\n",
    "axs.annotate('vGH', xy=(0.6*1e-2,1e-2), fontsize=font_size)\n",
    "axs.annotate('BW pert.', xy=(0.6*1e-2,0.4e-1), fontsize=font_size)\n",
    "\n",
    "axs.legend(fontsize=15, loc=1)\n",
    "\n",
    "plt.tick_params(axis='x', direction='in', length=6, top=True)\n",
    "plt.tick_params(axis='y', direction='in', length=6, right=True)\n",
    "plt.tick_params(axis='x', which='minor', direction='in', length=3, top=True)\n",
    "plt.tick_params(axis='y', which='minor', direction='in', length=3, right=True)\n",
    "\n",
    "plt.tick_params(which='minor', axis='y', direction='in', right=True)\n",
    "plt.savefig('results/perturbation_theory/sym_comp_B_0.01t.svg', bbox_inches='tight')"
   ]
  },
  {
   "cell_type": "code",
   "execution_count": 20,
   "metadata": {},
   "outputs": [
    {
     "data": {
      "image/png": "[encoded data removed]",
      "text/plain": [
       "<Figure size 421.38x297.99 with 1 Axes>"
      ]
     },
     "metadata": {
      "needs_background": "light"
     },
     "output_type": "display_data"
    }
   ],
   "source": [
    "A = 6\n",
    "plt.rc('figure', figsize=[46.82 * .5**(.5 * A), 33.11 * .5**(.5 * A)])\n",
    "plt.rc('text', usetex=True)\n",
    "plt.rc('font', family='serif')\n",
    "font_size = 20\n",
    "\n",
    "fig, axs = plt.subplots()\n",
    "\n",
    "plt.suptitle(r'd) $B = 10^{0}t$', fontsize=font_size)\n",
    "\n",
    "axs.plot(V_0_range[1:24]/t, E_to_plot(E_vGH1_B_200.real,t)[1:24], color='tab:blue', linestyle='solid', label=r'$t_x=t_y=\\frac{1}{2}t$')\n",
    "axs.plot(V_0_range[1:24]/t, E_to_plot(E_pert1_B_200.real,t)[1:24], color='tab:blue', linestyle='dashed')\n",
    "\n",
    "axs.plot(V_0_range[1:24]/t, E_to_plot(E_vGH2_B_200.real,t)[1:24], color='tab:orange', linestyle='solid', label=r'$t_x=\\frac{1}{4}t,t_y=\\frac{3}{4}t$')\n",
    "axs.plot(V_0_range[1:24]/t, E_to_plot(E_pert2_B_200.real,t)[1:24], color='tab:orange', linestyle='dashed')\n",
    "\n",
    "axs.plot(V_0_range[1:24]/t, E_to_plot(E_vGH3_B_200.real,t)[1:24], color='tab:red', linestyle='solid', label=r'$t_x=\\frac{1}{20}t,t_y=\\frac{19}{20}t$')\n",
    "axs.plot(V_0_range[1:24]/t, E_to_plot(E_pert3_B_200.real,t)[1:24], color='tab:red', linestyle='dashed')\n",
    "\n",
    "\n",
    "plt.xlabel(r'$V_0/t$', fontsize=font_size)\n",
    "plt.ylabel(r'$(E+2t)/t$', fontsize=font_size)\n",
    "\n",
    "plt.xticks(fontsize=font_size)\n",
    "plt.yticks(fontsize=font_size)\n",
    "\n",
    "axs.set_xscale('log', base=10)\n",
    "axs.set_yscale('log', base=10)\n",
    "\n",
    "axs.invert_yaxis()\n",
    "axs.set_yticks([1e-1,1e-2,1e-3,1e-4,1e-5],[r'$-10^{-1}$',r'$-10^{-2}$',r'$-10^{-3}$',r'$-10^{-4}$',r'$-10^{-5}$'], fontsize=font_size)\n",
    "\n",
    "axs.plot(np.linspace(3.1e-3,5e-3,100), 0.8e-3*np.ones(100), linestyle='solid', color='black')\n",
    "axs.plot(np.linspace(3.1e-3,5e-3,100), 0.3e-2*np.ones(100), linestyle='dashed', color='black')\n",
    "\n",
    "axs.annotate('vGH', xy=(0.6*1e-2,1e-3), fontsize=font_size)\n",
    "axs.annotate('BW pert.', xy=(0.6*1e-2,0.4e-2), fontsize=font_size)\n",
    "\n",
    "axs.legend(fontsize=15, loc=1)\n",
    "\n",
    "plt.tick_params(axis='x', direction='in', length=6, top=True)\n",
    "plt.tick_params(axis='y', direction='in', length=6, right=True)\n",
    "plt.tick_params(axis='x', which='minor', direction='in', length=3, top=True)\n",
    "plt.tick_params(axis='y', which='minor', direction='in', length=3, right=True)\n",
    "\n",
    "plt.tick_params(which='minor', axis='y', direction='in', right=True)\n",
    "plt.savefig('results/perturbation_theory/sym_comp_B_t.svg', bbox_inches='tight')"
   ]
  },
  {
   "cell_type": "code",
   "execution_count": 21,
   "metadata": {},
   "outputs": [
    {
     "ename": "NameError",
     "evalue": "name 'E_pert1' is not defined",
     "output_type": "error",
     "traceback": [
      "\u001b[0;31m---------------------------------------------------------------------------\u001b[0m",
      "\u001b[0;31mNameError\u001b[0m                                 Traceback (most recent call last)",
      "Cell \u001b[0;32mIn[21], line 1\u001b[0m\n\u001b[0;32m----> 1\u001b[0m plt\u001b[38;5;241m.\u001b[39mplot(V_0_range\u001b[38;5;241m/\u001b[39mt, E_to_plot(\u001b[43mE_pert1\u001b[49m\u001b[38;5;241m.\u001b[39mreal,t), marker\u001b[38;5;241m=\u001b[39m\u001b[38;5;124m'\u001b[39m\u001b[38;5;124mx\u001b[39m\u001b[38;5;124m'\u001b[39m, color\u001b[38;5;241m=\u001b[39m\u001b[38;5;124m'\u001b[39m\u001b[38;5;124mtab:blue\u001b[39m\u001b[38;5;124m'\u001b[39m, linestyle\u001b[38;5;241m=\u001b[39m\u001b[38;5;124m'\u001b[39m\u001b[38;5;124msolid\u001b[39m\u001b[38;5;124m'\u001b[39m, label\u001b[38;5;241m=\u001b[39m\u001b[38;5;124mr\u001b[39m\u001b[38;5;124m'\u001b[39m\u001b[38;5;124m$t_x = 100, t_y = 100$\u001b[39m\u001b[38;5;124m'\u001b[39m)\n\u001b[1;32m      2\u001b[0m plt\u001b[38;5;241m.\u001b[39mplot(V_0_range\u001b[38;5;241m/\u001b[39mt, E_to_plot(E_vGH1\u001b[38;5;241m.\u001b[39mreal,t), marker\u001b[38;5;241m=\u001b[39m\u001b[38;5;124m'\u001b[39m\u001b[38;5;124mx\u001b[39m\u001b[38;5;124m'\u001b[39m, color\u001b[38;5;241m=\u001b[39m\u001b[38;5;124m'\u001b[39m\u001b[38;5;124mtab:blue\u001b[39m\u001b[38;5;124m'\u001b[39m, linestyle\u001b[38;5;241m=\u001b[39m\u001b[38;5;124m'\u001b[39m\u001b[38;5;124mdashed\u001b[39m\u001b[38;5;124m'\u001b[39m)\n\u001b[1;32m      3\u001b[0m plt\u001b[38;5;241m.\u001b[39mplot(V_0_range\u001b[38;5;241m/\u001b[39mt, (\u001b[38;5;241m1\u001b[39m\u001b[38;5;241m/\u001b[39m(\u001b[38;5;241m1\u001b[39m\u001b[38;5;241m*\u001b[39m(\u001b[38;5;241m1\u001b[39m\u001b[38;5;241m+\u001b[39m\u001b[38;5;241m4\u001b[39m\u001b[38;5;241m*\u001b[39mt))\u001b[38;5;241m*\u001b[39m\u001b[38;5;241m*\u001b[39m\u001b[38;5;241m0.5\u001b[39m)\u001b[38;5;241m*\u001b[39mV_0_range\u001b[38;5;241m*\u001b[39m\u001b[38;5;241m*\u001b[39m\u001b[38;5;241m2\u001b[39m\u001b[38;5;241m/\u001b[39mt, marker\u001b[38;5;241m=\u001b[39m\u001b[38;5;124m'\u001b[39m\u001b[38;5;124mx\u001b[39m\u001b[38;5;124m'\u001b[39m, color\u001b[38;5;241m=\u001b[39m\u001b[38;5;124m'\u001b[39m\u001b[38;5;124mtab:green\u001b[39m\u001b[38;5;124m'\u001b[39m, linestyle\u001b[38;5;241m=\u001b[39m\u001b[38;5;124m'\u001b[39m\u001b[38;5;124mdashed\u001b[39m\u001b[38;5;124m'\u001b[39m)\n",
      "\u001b[0;31mNameError\u001b[0m: name 'E_pert1' is not defined"
     ]
    }
   ],
   "source": [
    "plt.plot(V_0_range/t, E_to_plot(E_pert1.real,t), marker='x', color='tab:blue', linestyle='solid', label=r'$t_x = 100, t_y = 100$')\n",
    "plt.plot(V_0_range/t, E_to_plot(E_vGH1.real,t), marker='x', color='tab:blue', linestyle='dashed')\n",
    "plt.plot(V_0_range/t, (1/(1*(1+4*t))**0.5)*V_0_range**2/t, marker='x', color='tab:green', linestyle='dashed')\n",
    "\n",
    "\n",
    "plt.xscale('log')\n",
    "plt.yscale('log')"
   ]
  },
  {
   "cell_type": "code",
   "execution_count": null,
   "metadata": {},
   "outputs": [],
   "source": [
    "plt.plot(V_0_range/t, 2*(0.5*(1/(1*(1+4*200))**0.5)*(V_0_range)**2)/t, marker='x', color='tab:green', linestyle='dashed')\n",
    "plt.plot(V_0_range/t, (0.5*(1/(1*(1+4*200))**0.5)*(V_0_range)**2)/t, marker='x', color='tab:green', linestyle='dashed')\n",
    "\n",
    "plt.xscale('log')\n",
    "plt.yscale('log')"
   ]
  },
  {
   "cell_type": "code",
   "execution_count": null,
   "metadata": {},
   "outputs": [],
   "source": [
    "V_0_range = np.linspace(0,10,3)\n",
    "\n",
    "params[\"tol\"] = 1e-8\n",
    "\n",
    "params[\"tx\"] = 100\n",
    "params[\"ty\"] = 100\n",
    "t = params[\"tx\"] + params[\"ty\"]\n",
    "E_pert1, E_vGH1 = get_energies(params,V_0_range)\n",
    "\n",
    "print(E_pert1-E_vGH1)"
   ]
  },
  {
   "cell_type": "markdown",
   "metadata": {},
   "source": [
    "### Effective Mass Calculations"
   ]
  },
  {
   "cell_type": "code",
   "execution_count": 22,
   "metadata": {},
   "outputs": [],
   "source": [
    "def eff_mass_V_0_range(V_0_eff_mass_range, params):\n",
    "    h = 1e-3\n",
    "    \n",
    "    eff_mass_x_arr = np.zeros(len(V_0_eff_mass_range))\n",
    "    eff_mass_y_arr = np.zeros(len(V_0_eff_mass_range))\n",
    "    for i in range(len(V_0_eff_mass_range)):\n",
    "        V_0 = V_0_eff_mass_range[i]\n",
    "    \n",
    "        self_E_prime = find_first_deriv_self_energy(V_0, params[\"tx\"], params[\"ty\"], params[\"B\"], h)\n",
    "        eff_mass_x, eff_mass_y = calc_eff_mass(self_E_prime, V_0, params[\"tx\"], params[\"ty\"], params[\"B\"])\n",
    "\n",
    "        eff_mass_x_arr[i] = eff_mass_x\n",
    "        eff_mass_y_arr[i] = eff_mass_y\n",
    "        \n",
    "        print('V_0,eff_mass =', V_0, eff_mass_x, eff_mass_y)\n",
    "    return eff_mass_x_arr, eff_mass_y_arr"
   ]
  },
  {
   "cell_type": "code",
   "execution_count": 23,
   "metadata": {},
   "outputs": [
    {
     "name": "stdout",
     "output_type": "stream",
     "text": [
      "Eff Mass cal for B =  1 :\n",
      "\n",
      "V_0,eff_mass = 0.0 0.005 0.005\n",
      "V_0,eff_mass = 0.5 0.0050000603098099335 0.0050000603098099335\n",
      "V_0,eff_mass = 1.0 0.005000241050740959 0.005000241050740959\n",
      "V_0,eff_mass = 1.5 0.005000541661760851 0.005000541661760851\n",
      "V_0,eff_mass = 2.0 0.005000961222433896 0.005000961222433896\n",
      "V_0,eff_mass = 2.5 0.005001498473964701 0.005001498473964701\n",
      "V_0,eff_mass = 3.0 0.005002151846990973 0.005002151846990973\n",
      "V_0,eff_mass = 3.5 0.005002919494654698 0.005002919494654698\n",
      "V_0,eff_mass = 4.0 0.005003799329301481 0.005003799329301481\n",
      "V_0,eff_mass = 4.5 0.0050047890611714255 0.0050047890611714255\n",
      "V_0,eff_mass = 5.0 0.0050058862374810454 0.0050058862374810454\n",
      "V_0,eff_mass = 5.5 0.005007088280525025 0.005007088280525025\n",
      "V_0,eff_mass = 6.0 0.005008392523669111 0.005008392523669111\n",
      "V_0,eff_mass = 6.5 0.005009796244379925 0.005009796244379925\n",
      "V_0,eff_mass = 7.0 0.0050112966937389215 0.0050112966937389215\n",
      "V_0,eff_mass = 7.5 0.0050128911221196115 0.0050128911221196115\n",
      "V_0,eff_mass = 8.0 0.00501457680097757 0.00501457680097757\n",
      "V_0,eff_mass = 8.5 0.005016351040818633 0.005016351040818633\n",
      "V_0,eff_mass = 9.0 0.005018211205582106 0.005018211205582106\n",
      "V_0,eff_mass = 9.5 0.005020154723840057 0.005020154723840057\n",
      "V_0,eff_mass = 10.0 0.005022179096985745 0.005022179096985745\n",
      "V_0,eff_mass = 15.0 0.005046378552573945 0.005046378552573945\n",
      "V_0,eff_mass = 20.0 0.005076503179405515 0.005076503179405515\n",
      "V_0,eff_mass = 25.0 0.005111203925828862 0.005111203925828862\n",
      "V_0,eff_mass = 30.0 0.005149522791132636 0.005149522791132636\n",
      "V_0,eff_mass = 35.0 0.005190734022338749 0.005190734022338749\n",
      "V_0,eff_mass = 40.0 0.005234261295835777 0.005234261295835777\n",
      "V_0,eff_mass = 45.0 0.005279632949905887 0.005279632949905887\n",
      "V_0,eff_mass = 50.0 0.005326455580315818 0.005326455580315818\n",
      "V_0,eff_mass = 55.0 0.005374397074890768 0.005374397074890768\n",
      "V_0,eff_mass = 60.0 0.005423174905543888 0.005423174905543888\n",
      "V_0,eff_mass = 65.0 0.005472547578755922 0.005472547578755922\n",
      "V_0,eff_mass = 70.0 0.005522308111206016 0.005522308111206016\n",
      "V_0,eff_mass = 75.0 0.005572278880208721 0.005572278880208721\n",
      "V_0,eff_mass = 80.0 0.005622307450062939 0.005622307450062939\n",
      "V_0,eff_mass = 85.0 0.005672263122147854 0.005672263122147854\n",
      "V_0,eff_mass = 90.0 0.005722034038863248 0.005722034038863248\n",
      "V_0,eff_mass = 95.0 0.0057715247226218 0.0057715247226218\n",
      "V_0,eff_mass = 100.0 0.005820653967578503 0.005820653967578503\n",
      "\n",
      "Eff Mass cal for B =  200 :\n",
      "\n",
      "V_0,eff_mass = 0.0 0.005 0.005\n",
      "V_0,eff_mass = 0.5 0.005000008585651653 0.005000008585651653\n",
      "V_0,eff_mass = 1.0 0.005000034342216285 0.005000034342216285\n",
      "V_0,eff_mass = 1.5 0.005000077268522965 0.005000077268522965\n",
      "V_0,eff_mass = 2.0 0.005000137362620336 0.005000137362620336\n",
      "V_0,eff_mass = 2.5 0.005000214621776888 0.005000214621776888\n",
      "V_0,eff_mass = 3.0 0.00500030904248136 0.00500030904248136\n",
      "V_0,eff_mass = 3.5 0.0050004206204433835 0.0050004206204433835\n",
      "V_0,eff_mass = 4.0 0.0050005493505938 0.0050005493505938\n",
      "V_0,eff_mass = 4.5 0.005000695227085658 0.005000695227085658\n",
      "V_0,eff_mass = 5.0 0.005000858243295107 0.005000858243295107\n",
      "V_0,eff_mass = 5.5 0.005001038391822182 0.005001038391822182\n",
      "V_0,eff_mass = 6.0 0.005001235664492174 0.005001235664492174\n",
      "V_0,eff_mass = 6.5 0.005001450052356106 0.005001450052356106\n",
      "V_0,eff_mass = 7.0 0.005001681545693197 0.005001681545693197\n",
      "V_0,eff_mass = 7.5 0.0050019301340119005 0.0050019301340119005\n",
      "V_0,eff_mass = 8.0 0.005002195806049302 0.005002195806049302\n",
      "V_0,eff_mass = 8.5 0.00500247854977741 0.00500247854977741\n",
      "V_0,eff_mass = 9.0 0.005002778352399281 0.005002778352399281\n",
      "V_0,eff_mass = 9.5 0.005003095200357406 0.005003095200357406\n",
      "V_0,eff_mass = 10.0 0.005003429079327595 0.005003429079327595\n",
      "V_0,eff_mass = 15.0 0.0050077008834306614 0.0050077008834306614\n",
      "V_0,eff_mass = 20.0 0.005013654469031935 0.005013654469031935\n",
      "V_0,eff_mass = 25.0 0.0050212633634403635 0.0050212633634403635\n",
      "V_0,eff_mass = 30.0 0.005030494182156246 0.005030494182156246\n",
      "V_0,eff_mass = 35.0 0.005041307090768994 0.005041307090768994\n",
      "V_0,eff_mass = 40.0 0.0050536563411535075 0.0050536563411535075\n",
      "V_0,eff_mass = 45.0 0.005067490867307063 0.005067490867307063\n",
      "V_0,eff_mass = 50.0 0.005082754925331644 0.005082754925331644\n",
      "V_0,eff_mass = 55.0 0.005099388761653311 0.005099388761653311\n",
      "V_0,eff_mass = 60.0 0.005117329294168448 0.005117329294168448\n",
      "V_0,eff_mass = 65.0 0.005136510791882335 0.005136510791882335\n",
      "V_0,eff_mass = 70.0 0.005156865540226944 0.005156865540226944\n",
      "V_0,eff_mass = 75.0 0.005178324480287392 0.005178324480287392\n",
      "V_0,eff_mass = 80.0 0.005200817812724038 0.005200817812724038\n",
      "V_0,eff_mass = 85.0 0.005224275559244092 0.005224275559244092\n",
      "V_0,eff_mass = 90.0 0.0052486280752804025 0.0052486280752804025\n",
      "V_0,eff_mass = 95.0 0.005273806511059682 0.005273806511059682\n",
      "V_0,eff_mass = 100.0 0.005299743218915202 0.005299743218915202\n"
     ]
    }
   ],
   "source": [
    "V_0_range1 = np.linspace(0,10,21) \n",
    "V_0_range2 = np.linspace(15,100,18)\n",
    "\n",
    "V_0_eff_mass_range = np.append(V_0_range1, V_0_range2)\n",
    "\n",
    "params[\"B\"] = 1\n",
    "params[\"tx\"] = 100\n",
    "params[\"ty\"] = 100 \n",
    "print('Eff Mass cal for B = ', params[\"B\"], ':\\n')\n",
    "eff_mass1_x_B_2, eff_mass1_y_B_2 = eff_mass_V_0_range(V_0_eff_mass_range, params)\n",
    "\n",
    "params[\"B\"] = 200\n",
    "params[\"tx\"] = 100\n",
    "params[\"ty\"] = 100\n",
    "print('\\nEff Mass cal for B = ', params[\"B\"], ':\\n')\n",
    "eff_mass1_x_B_200, eff_mass1_y_B_200 = eff_mass_V_0_range(V_0_eff_mass_range, params)"
   ]
  },
  {
   "cell_type": "code",
   "execution_count": 25,
   "metadata": {},
   "outputs": [],
   "source": [
    "def get_E_arr_eff_mass(V_0_range, folder, check_sys, check_sym):\n",
    "    h5_io_object = h_in.io_hdf5()\n",
    "    \n",
    "    E_arr = np.zeros(len(V_0_range), dtype=complex)\n",
    "    for i in range(len(V_0_range)):\n",
    "        check_sys_n = check_sys+'_V0_'+str(V_0_range[i])+'_'\n",
    "        file_list = [f for f in os.listdir(folder) if check_sys_n in f and check_sym in f]\n",
    "\n",
    "        if len(file_list) > 1: \n",
    "            break\n",
    "        for file in file_list:\n",
    "            file_name = folder+file\n",
    "            psi, params = h5_io_object.get_psi(file_name)\n",
    "\n",
    "            print(params[\"V_0\"])\n",
    "            energy_object = energy.energy(params=params)\n",
    "            E, E_T, E_B, E_V = energy_object.calc_energy(psi)\n",
    "            E_arr[i] = E\n",
    "\n",
    "            print(params[\"V_0\"], E_arr[i])\n",
    "    return E_arr"
   ]
  },
  {
   "cell_type": "code",
   "execution_count": 26,
   "metadata": {},
   "outputs": [
    {
     "name": "stdout",
     "output_type": "stream",
     "text": [
      "1.0\n",
      "1.0 (-400.0061264991561-4.0893666030347074e-22j)\n",
      "10.0\n",
      "10.0 (-400.62803907826674-5.7566948287553384e-21j)\n",
      "60.0\n",
      "60.0 (-422.8649458147167-3.183394459739971e-18j)\n",
      "1.0\n",
      "1.0 (-399.0431198146087+4.163311572696595e-15j)\n",
      "10.0\n",
      "10.0 (-399.6713434461168+9.712737460184792e-15j)\n",
      "60.0\n",
      "60.0 (-422.13461386413377-2.837706576051827e-15j)\n",
      "1.0\n",
      "1.0 (-399.0431198146251-5.551199626883568e-15j)\n",
      "10.0\n",
      "10.0 (-399.67134344610866-1.3840169919335723e-15j)\n",
      "60.0\n",
      "60.0 (-422.13461386414167+1.3828020702819469e-14j)\n",
      "[-400.0061265 -4.08936660e-22j -400.62803908-5.75669483e-21j\n",
      " -422.86494581-3.18339446e-18j]\n",
      "[-399.04311981+4.16331157e-15j -399.67134345+9.71273746e-15j\n",
      " -422.13461386-2.83770658e-15j]\n",
      "[-399.04311981-5.55119963e-15j -399.67134345-1.38401699e-15j\n",
      " -422.13461386+1.38280207e-14j]\n",
      "[0.96300668+4.16331198e-15j 0.95669563+9.71274322e-15j\n",
      " 0.73033195-2.83452318e-15j]\n",
      "[-1.63709046e-11-9.71451120e-15j  8.12860890e-12-1.10967545e-14j\n",
      " -7.90123522e-12+1.66657273e-14j]\n"
     ]
    }
   ],
   "source": [
    "V_eff_mass_vGH = np.array([1,10,60])\n",
    "\n",
    "params[\"Mx\"] = 64\n",
    "params[\"My\"] = 64\n",
    "\n",
    "check_sys = 'tx_100.0_ty_100.0'\n",
    "check_sym = '_B_1.0_Mx_'+str(params[\"Mx\"])+'_My_'+str(params[\"My\"])+'_qx_0_qy_0'\n",
    "folder = 'results/eff_mass/fo/'\n",
    "E_vGH1_q0 = get_E_arr_eff_mass(V_eff_mass_vGH, folder, check_sys, check_sym)\n",
    "\n",
    "check_sys = 'tx_100.0_ty_100.0'\n",
    "check_sym = '_B_1.0_Mx_'+str(params[\"Mx\"])+'_My_'+str(params[\"My\"])+'_qx_1_qy_0'\n",
    "folder = 'results/eff_mass/fo/'\n",
    "E_vGH1_qx = get_E_arr_eff_mass(V_eff_mass_vGH, folder, check_sys, check_sym)\n",
    "\n",
    "check_sys = 'tx_100.0_ty_100.0'\n",
    "check_sym = '_B_1.0_Mx_'+str(params[\"Mx\"])+'_My_'+str(params[\"My\"])+'_qx_0_qy_1'\n",
    "folder = 'results/eff_mass/fo/'\n",
    "E_vGH1_qy = get_E_arr_eff_mass(V_eff_mass_vGH, folder, check_sys, check_sym)\n",
    "\n",
    "print(E_vGH1_q0)\n",
    "print(E_vGH1_qx)\n",
    "print(E_vGH1_qy)\n",
    "print(E_vGH1_qx-E_vGH1_q0)\n",
    "print(E_vGH1_qy-E_vGH1_qx)"
   ]
  },
  {
   "cell_type": "code",
   "execution_count": 27,
   "metadata": {},
   "outputs": [
    {
     "name": "stdout",
     "output_type": "stream",
     "text": [
      "[0.00500427 0.00503728 0.00659856]\n",
      "[  0.    0.5   1.    1.5   2.    2.5   3.    3.5   4.    4.5   5.    5.5\n",
      "   6.    6.5   7.    7.5   8.    8.5   9.    9.5  10.   15.   20.   25.\n",
      "  30.   35.   40.   45.   50.   55.   60.   65.   70.   75.   80.   85.\n",
      "  90.   95.  100. ] [0.005      0.00500006 0.00500024 0.00500054 0.00500096 0.0050015\n",
      " 0.00500215 0.00500292 0.0050038  0.00500479 0.00500589 0.00500709\n",
      " 0.00500839 0.0050098  0.0050113  0.00501289 0.00501458 0.00501635\n",
      " 0.00501821 0.00502015 0.00502218 0.00504638 0.0050765  0.0051112\n",
      " 0.00514952 0.00519073 0.00523426 0.00527963 0.00532646 0.0053744\n",
      " 0.00542317 0.00547255 0.00552231 0.00557228 0.00562231 0.00567226\n",
      " 0.00572203 0.00577152 0.00582065]\n",
      "1.0 0.005000241050740959\n"
     ]
    },
    {
     "data": {
      "text/plain": [
       "[<matplotlib.lines.Line2D at 0x7fce5df7f550>]"
      ]
     },
     "execution_count": 27,
     "metadata": {},
     "output_type": "execute_result"
    },
    {
     "data": {
      "image/png": "[encoded data removed]",
      "text/plain": [
       "<Figure size 421.38x297.99 with 1 Axes>"
      ]
     },
     "metadata": {
      "needs_background": "light"
     },
     "output_type": "display_data"
    }
   ],
   "source": [
    "eff_mass_x_vGH = (2*(E_vGH1_qx-E_vGH1_q0)/(2*np.pi/64)**2)**(-1)\n",
    "print(eff_mass_x_vGH.real)\n",
    "print(V_0_eff_mass_range,eff_mass1_x_B_2)\n",
    "print(V_0_eff_mass_range[2],eff_mass1_x_B_2[2])\n",
    "plt.scatter(V_eff_mass_vGH, eff_mass_x_vGH.real/0.005, marker='x')\n",
    "plt.plot(V_0_eff_mass_range,eff_mass1_x_B_2/0.005)\n",
    "#plt.scatter(V_eff_mass_vGH/t, eff_mass_to_plot(eff_mass_x_vGH.real, eff_mass_x_0), marker='x')\n"
   ]
  },
  {
   "cell_type": "code",
   "execution_count": 28,
   "metadata": {},
   "outputs": [],
   "source": [
    "def eff_mass_to_plot(eff_mass, eff_mass_0):\n",
    "    return eff_mass/eff_mass_0 - 1"
   ]
  },
  {
   "cell_type": "code",
   "execution_count": 29,
   "metadata": {},
   "outputs": [
    {
     "data": {
      "image/png": "[encoded data removed]",
      "text/plain": [
       "<Figure size 421.38x297.99 with 1 Axes>"
      ]
     },
     "metadata": {
      "needs_background": "light"
     },
     "output_type": "display_data"
    }
   ],
   "source": [
    "tx = 100\n",
    "ty = 100\n",
    "\n",
    "t = tx+ty\n",
    "\n",
    "eff_mass_x_0 = 1/(2*tx)\n",
    "eff_mass_y_0 = 1/(2*ty)\n",
    "\n",
    "A = 6\n",
    "plt.rc('figure', figsize=[46.82 * .5**(.5 * A), 33.11 * .5**(.5 * A)])\n",
    "plt.rc('text', usetex=True)\n",
    "plt.rc('font', family='serif')\n",
    "font_size = 20\n",
    "\n",
    "fig, axs = plt.subplots()\n",
    "\n",
    "plt.plot(V_0_eff_mass_range[1:]/t, eff_mass_to_plot(eff_mass1_x_B_2, eff_mass_x_0)[1:], label=r'$B = 10^{-2}t$')\n",
    "plt.plot(V_0_eff_mass_range[1:]/t, eff_mass_to_plot(eff_mass1_x_B_200, eff_mass_y_0)[1:], label=r'$B = 10^{0}t$')\n",
    "\n",
    "plt.scatter(V_eff_mass_vGH/t, eff_mass_to_plot(eff_mass_x_vGH.real, eff_mass_x_0), marker='x')\n",
    "\n",
    "plt.xlabel(r'$V_0/t$', fontsize=font_size)\n",
    "plt.ylabel(r'$m^*_p/m^*_0 - 1$', fontsize=font_size)\n",
    "\n",
    "plt.xticks(fontsize=font_size)\n",
    "plt.yticks(fontsize=font_size)\n",
    "\n",
    "axs.set_xscale('log', base=10)\n",
    "axs.set_yscale('log', base=10)\n",
    "\n",
    "axs.legend(fontsize=15, loc=2)\n",
    "\n",
    "plt.tick_params(axis='x', direction='in', length=6, top=True)\n",
    "plt.tick_params(axis='y', direction='in', length=6, right=True)\n",
    "plt.tick_params(axis='x', which='minor', direction='in', length=3, top=True)\n",
    "plt.tick_params(axis='y', which='minor', direction='in', length=3, right=True)\n",
    "\n",
    "plt.tick_params(which='minor', axis='y', direction='in', right=True)\n",
    "plt.savefig('results/perturbation_theory/pert_eff_mass_tx_100_ty_100.svg', bbox_inches='tight')"
   ]
  },
  {
   "cell_type": "code",
   "execution_count": 30,
   "metadata": {},
   "outputs": [
    {
     "data": {
      "text/plain": [
       "[<matplotlib.lines.Line2D at 0x7fce597089a0>]"
      ]
     },
     "execution_count": 30,
     "metadata": {},
     "output_type": "execute_result"
    },
    {
     "data": {
      "image/png": "[encoded data removed]",
      "text/plain": [
       "<Figure size 421.38x297.99 with 1 Axes>"
      ]
     },
     "metadata": {
      "needs_background": "light"
     },
     "output_type": "display_data"
    }
   ],
   "source": [
    "plt.plot(V_0_eff_mass_range/t, eff_mass1_x_B_2)\n",
    "plt.plot(V_0_eff_mass_range/t, eff_mass1_x_B_200)"
   ]
  },
  {
   "cell_type": "markdown",
   "metadata": {},
   "source": [
    "### Effective 1D Ferro-Domain Energies"
   ]
  },
  {
   "cell_type": "code",
   "execution_count": 41,
   "metadata": {},
   "outputs": [
    {
     "name": "stdout",
     "output_type": "stream",
     "text": [
      "0.0\n",
      "0.0 (-199.9490495222992+4.6041473002488965e-21j)\n",
      "30.0\n",
      "30.0 (-241.68278079222767-2.0604865565428353e-17j)\n",
      "60.0\n",
      "60.0 (-312.9409968856357-4.968691091309337e-18j)\n",
      "90.0\n",
      "90.0 (-392.7950884960017-6.801773022522007e-17j)\n",
      "120.0\n",
      "120.0 (-477.8098573455151-1.03577770268719e-16j)\n",
      "150.0\n",
      "150.0 (-567.10643044566+8.259896478294658e-17j)\n",
      "180.0\n",
      "180.0 (-660.9352966309253+3.039334287456375e-17j)\n",
      "[-199.94904952+4.60414730e-21j -241.68278079-2.06048656e-17j\n",
      " -312.94099689-4.96869109e-18j -392.7950885 -6.80177302e-17j\n",
      " -477.80985735-1.03577770e-16j -567.10643045+8.25989648e-17j\n",
      " -660.93529663+3.03933429e-17j]\n"
     ]
    }
   ],
   "source": [
    "V_eff_1D = np.array([0.0,30.0,60.0,90.0,120.0,150.0,180.0])\n",
    "\n",
    "params[\"Mx\"] = 2\n",
    "params[\"My\"] = 256\n",
    "\n",
    "check_sys = 'tx_0_ty_100'\n",
    "check_sym = '_B_2.0_Mx_'+str(params[\"Mx\"])+'_My_'+str(params[\"My\"])+'_qx_0_qy_0'\n",
    "folder = 'results/perturbation_theory/tx_0_ty_100/'\n",
    "E_vGH1_eff1D = get_E_arr_eff_mass(V_eff_1D, folder, check_sys, check_sym)\n",
    "\n",
    "print(E_vGH1_eff1D)"
   ]
  },
  {
   "cell_type": "code",
   "execution_count": 32,
   "metadata": {},
   "outputs": [],
   "source": [
    "V_0_range1 = np.linspace(0,10,21) \n",
    "V_0_range2 = np.linspace(15,100,18)\n",
    "\n",
    "V_0_range_eff_1D = np.linspace(0,200,21) #np.append(V_0_range1, V_0_range2)"
   ]
  },
  {
   "cell_type": "code",
   "execution_count": 54,
   "metadata": {},
   "outputs": [
    {
     "name": "stdout",
     "output_type": "stream",
     "text": [
      "\n",
      "Perturbative Calculations:\n",
      "V0 = 0.0 , E = 0j\n",
      "V0 = 10.0 , E = (-4.038928849035286+0j)\n",
      "V0 = 20.0 , E = (-10.942843094581699+0j)\n",
      "V0 = 30.0 , E = (-19.09717680756454+0j)\n",
      "V0 = 40.0 , E = (-28.11621588676885+0j)\n",
      "V0 = 50.0 , E = (-37.79478535608321+0j)\n",
      "V0 = 60.0 , E = (-47.99999999999999+0j)\n",
      "V0 = 70.0 , E = (-58.6375297292653+0j)\n",
      "V0 = 80.0 , E = (-69.63672114009384+0j)\n",
      "V0 = 90.0 , E = (-80.94275220818233+0j)\n",
      "V0 = 100.0 , E = (-92.51200424102154+0j)\n",
      "V0 = 110.0 , E = (-104.30911212351313+0j)\n",
      "V0 = 120.0 , E = (-116.30497544930594+0j)\n",
      "V0 = 130.0 , E = (-128.4753594461188+0j)\n",
      "V0 = 140.0 , E = (-140.7998779262876+0j)\n",
      "V0 = 150.0 , E = (-153.26123443818352+0j)\n",
      "V0 = 160.0 , E = (-165.84464400489216+0j)\n",
      "V0 = 170.0 , E = (-178.53738474576758+0j)\n",
      "V0 = 180.0 , E = (-191.3284450982931+0j)\n",
      "V0 = 190.0 , E = (-204.20824278315393+0j)\n",
      "V0 = 200.0 , E = (-217.16839850141278+0j)\n"
     ]
    }
   ],
   "source": [
    "params[\"B\"] = 2.0\n",
    "params[\"tx\"] = 0.0\n",
    "params[\"ty\"] = 100.0\n",
    "t = params[\"tx\"] + params[\"ty\"]\n",
    "Ep_pert_eff_1D_v1_B_2 = pert_pot_scan(params, V_0_range_eff_1D)\n",
    "E_pert1_eff_1D_v1_B_2 = get_E_from_Ep(Ep_pert_eff_1D_v1_B_2, params[\"tx\"], params[\"ty\"])"
   ]
  },
  {
   "cell_type": "code",
   "execution_count": 99,
   "metadata": {},
   "outputs": [],
   "source": [
    "def E_fd_analytic(V_0, B, t):\n",
    "    return -2*V_0**2/(np.sqrt(B*(B+4*t)))\n",
    "\n",
    "def find_Ep_eff_1D(V_0, t, B):\n",
    "    Ep_implicit = lambda Ep: Ep+2*V_0**2/np.sqrt((B+2*t-Ep)**2 - 4*t**2)\n",
    "    Ep_min = scipy.optimize.fsolve(Ep_implicit, [guess_Ep_eff_1D(V_0)])\n",
    "    return Ep_min\n",
    "    \n",
    "def guess_Ep_eff_1D(V_0):\n",
    "    return -0.004649*V_0**2-0.07471*V_0+0.8718"
   ]
  },
  {
   "cell_type": "code",
   "execution_count": 100,
   "metadata": {},
   "outputs": [
    {
     "name": "stdout",
     "output_type": "stream",
     "text": [
      "[  0.  30.  60.  90. 120. 150. 180.] [ 5.09504777e-02+4.60414730e-21j -4.16827808e+01-2.06048656e-17j\n",
      " -1.12940997e+02-4.96869109e-18j -1.92795088e+02-6.80177302e-17j\n",
      " -2.77809857e+02-1.03577770e-16j -3.67106430e+02+8.25989648e-17j\n",
      " -4.60935297e+02+3.03933429e-17j]\n",
      "[  0.  10.  20.  30.  40.  50.  60.  70.  80.  90. 100. 110. 120. 130.\n",
      " 140. 150. 160. 170. 180. 190. 200.] [-2.06986803e-21 -4.03892883e+00 -1.09428429e+01 -1.90971768e+01\n",
      " -2.81162163e+01 -3.77947850e+01 -4.79999999e+01 -5.86375299e+01\n",
      " -6.96367213e+01 -8.09427522e+01 -9.25120042e+01 -1.04309112e+02\n",
      " -1.16304975e+02 -1.28475359e+02 -1.40799878e+02 -1.53261234e+02\n",
      " -1.65844644e+02 -1.78537385e+02 -1.91328445e+02 -2.04208243e+02\n",
      " -2.17168399e+02]\n",
      "[  0.  10.  20.  30.  40.  50.  60.  70.  80.  90. 100. 110. 120. 130.\n",
      " 140. 150. 160. 170. 180. 190. 200.] [   0.        +0.j   -4.03892885+0.j  -10.94284309+0.j  -19.09717681+0.j\n",
      "  -28.11621589+0.j  -37.79478536+0.j  -48.        +0.j  -58.63752973+0.j\n",
      "  -69.63672114+0.j  -80.94275221+0.j  -92.51200424+0.j -104.30911212+0.j\n",
      " -116.30497545+0.j -128.47535945+0.j -140.79987793+0.j -153.26123444+0.j\n",
      " -165.844644  +0.j -178.53738475+0.j -191.3284451 +0.j -204.20824278+0.j\n",
      " -217.1683985 +0.j]\n",
      "[ 2.06986803e-21+0.j -1.71659993e-08+0.j -2.09278836e-07+0.j\n",
      " -4.24100222e-08+0.j  4.24733603e-07+0.j -3.43049116e-07+0.j\n",
      " -1.11077355e-07+0.j  1.83400111e-07+0.j  1.13329989e-07+0.j\n",
      " -3.01578496e-08+0.j -6.86514028e-08+0.j -3.52634260e-08+0.j\n",
      "  1.92414973e-11+0.j  1.22009283e-08+0.j  9.22744903e-09+0.j\n",
      "  3.57221097e-09+0.j  5.08634912e-10+0.j -2.23906227e-10+0.j\n",
      " -1.45007562e-10+0.j -3.46460638e-11+0.j -4.26325641e-12+0.j]\n"
     ]
    }
   ],
   "source": [
    "Ep_eff_1D_test = find_Ep_eff_1D(V_0_range_eff_1D, 100, 2)\n",
    "E_eff_1D_test = get_E_from_Ep(Ep_eff_1D_test, 0, 200)\n",
    "\n",
    "print(V_eff_1D, E_vGH1_eff1D+2*100)\n",
    "print(V_0_range_eff_1D, Ep_eff_1D_test)\n",
    "print(V_0_range_eff_1D, Ep_pert_eff_1D_v1_B_2)\n",
    "\n",
    "print(Ep_pert_eff_1D_v1_B_2 - Ep_eff_1D_test)"
   ]
  },
  {
   "cell_type": "code",
   "execution_count": 124,
   "metadata": {},
   "outputs": [
    {
     "data": {
      "text/plain": [
       "[<matplotlib.lines.Line2D at 0x7fce51b1a130>]"
      ]
     },
     "execution_count": 124,
     "metadata": {},
     "output_type": "execute_result"
    },
    {
     "data": {
      "image/png": "[encoded data removed]",
      "text/plain": [
       "<Figure size 421.38x297.99 with 1 Axes>"
      ]
     },
     "metadata": {
      "needs_background": "light"
     },
     "output_type": "display_data"
    }
   ],
   "source": [
    "fig, axs = plt.subplots()\n",
    "\n",
    "plt.plot(V_eff_1D/200, E_vGH1_eff1D.real/100)\n",
    "plt.plot(V_0_range_eff_1D/200, -2+Ep_eff_1D_test/100)\n",
    "plt.plot(V_0_range_eff_1D/200, -2-2*2**0.5*V_0_range_eff_1D/100)\n",
    "#plt.plot(V_0_range/100, -E_to_plot(E_pert1_B_1.real, 100))\n",
    "#plt.plot(V_0_range_eff_1D/200, -E_to_plot(E_eff_1D_test.real, 100))\n",
    "\n",
    "#plt.xscale('log', base=10)\n",
    "#plt.yscale('log', base=10)\n",
    "\n",
    "#axs.invert_yaxis()"
   ]
  },
  {
   "cell_type": "code",
   "execution_count": 121,
   "metadata": {},
   "outputs": [
    {
     "data": {
      "text/plain": [
       "[<matplotlib.lines.Line2D at 0x7fce51ca6070>]"
      ]
     },
     "execution_count": 121,
     "metadata": {},
     "output_type": "execute_result"
    },
    {
     "data": {
      "image/png": "[encoded data removed]",
      "text/plain": [
       "<Figure size 421.38x297.99 with 1 Axes>"
      ]
     },
     "metadata": {
      "needs_background": "light"
     },
     "output_type": "display_data"
    }
   ],
   "source": [
    "fig, axs = plt.subplots()\n",
    "\n",
    "plt.plot(V_eff_1D/200, E_vGH1_eff1D.real/100, marker='x')\n",
    "plt.plot(V_0_range/200, -2+E_pert1_B_1.real/200)\n",
    "plt.plot(V_0_range_eff_1D/200, E_pert1_eff_1D_v1_B_2.real/100)\n",
    "#plt.plot(V_0_range_eff_1D/200, E_fd_analytic(V_0_range_eff_1D, 1, 100)/200-2)\n",
    "#plt.plot(V_0_range_eff_1D/200, (-2*100-np.sqrt(2)*V_0_range_eff_1D)/100)\n",
    "\n",
    "plt.plot(V_0_range_eff_1D/200, E_eff_1D_test/50)\n",
    "\n",
    "#plt.xscale('log', base=10)\n",
    "#plt.yscale('log', base=10)\n",
    "\n",
    "#axs.invert_yaxis()"
   ]
  },
  {
   "cell_type": "code",
   "execution_count": 178,
   "metadata": {},
   "outputs": [
    {
     "data": {
      "text/plain": [
       "[<matplotlib.lines.Line2D at 0x152e1f9b0640>]"
      ]
     },
     "execution_count": 178,
     "metadata": {},
     "output_type": "execute_result"
    },
    {
     "data": {
      "image/png": "[encoded data removed]",
      "text/plain": [
       "<Figure size 421.38x297.99 with 1 Axes>"
      ]
     },
     "metadata": {
      "needs_background": "light"
     },
     "output_type": "display_data"
    }
   ],
   "source": [
    "plt.plot(V_0_range/200, E_pert1_B_1.real/100)"
   ]
  },
  {
   "cell_type": "code",
   "execution_count": null,
   "metadata": {},
   "outputs": [],
   "source": []
  }
 ],
 "metadata": {
  "kernelspec": {
   "display_name": "Python 3 (ipykernel)",
   "language": "python",
   "name": "python3"
  },
  "language_info": {
   "codemirror_mode": {
    "name": "ipython",
    "version": 3
   },
   "file_extension": ".py",
   "mimetype": "text/x-python",
   "name": "python",
   "nbconvert_exporter": "python",
   "pygments_lexer": "ipython3",
   "version": "3.9.9"
  },
  "vscode": {
   "interpreter": {
    "hash": "916dbcbb3f70747c44a77c7bcd40155683ae19c65e1c03b4aa3499c5328201f1"
   }
  }
 },
 "nbformat": 4,
 "nbformat_minor": 4
}
