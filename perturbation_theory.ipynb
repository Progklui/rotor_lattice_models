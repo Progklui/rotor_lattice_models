{
 "cells": [
  {
   "attachments": {},
   "cell_type": "markdown",
   "metadata": {},
   "source": [
    "# Perturbation Theory\n",
    "\n",
    "In this notebook, we compare the perturbation theory calculations with the ones from the vGH Ansatz."
   ]
  },
  {
   "cell_type": "code",
   "execution_count": 1,
   "metadata": {},
   "outputs": [],
   "source": [
    "import numpy as np\n",
    "import autograd.numpy as np\n",
    "from autograd import grad\n",
    "\n",
    "import scipy\n",
    "import matplotlib.pyplot as plt\n",
    "import time, os, sys, gc\n",
    "\n",
    "import h5py \n",
    "\n",
    "import svgutils.transform as sg \n",
    "import sys \n",
    "\n",
    "import matplotlib.patches as patches\n",
    "\n",
    "from scipy.integrate import solve_ivp\n",
    "\n",
    "import class_energy as energy\n",
    "import class_equations_of_motion as eom \n",
    "\n",
    "import class_handle_input as h_in\n",
    "import class_handle_wavefunctions as h_wavef\n",
    "\n",
    "import class_visualization as vis\n",
    "import class_mass_size as mass_size"
   ]
  },
  {
   "attachments": {},
   "cell_type": "markdown",
   "metadata": {},
   "source": [
    "### Self Energy expression\n",
    "\n",
    "We compute the self-energy obtained from the perturbative Ansatz and find the energy that fulfills the self-consistent equation."
   ]
  },
  {
   "cell_type": "code",
   "execution_count": 2,
   "metadata": {},
   "outputs": [],
   "source": [
    "def integrate_self_energy(V_0, tx, ty, B, E):\n",
    "    E_self = lambda kx, ky: (2*V_0**2)/(4*np.pi**2)*(1-np.cos(kx)*np.cos(ky))/(B-E-2*tx*np.cos(kx)-2*ty*np.cos(ky)) \n",
    "    E_self_int = scipy.integrate.dblquad(E_self, -np.pi,np.pi, -np.pi,np.pi, epsabs=1.49e-10, epsrel=1.49e-10)\n",
    "    return E_self_int\n",
    "\n",
    "def find_Ep(V_0, tx, ty, B, E_guess):\n",
    "    E_self_int = lambda E: E+integrate_self_energy(V_0, tx, ty, B, E-2*tx-2*ty)[0]\n",
    "    E_min = scipy.optimize.fsolve(E_self_int, [E_guess])\n",
    "    return E_min\n",
    "    \n",
    "def guess_Ep(V_0):\n",
    "    return -0.004649*V_0**2-0.07471*V_0+0.8718"
   ]
  },
  {
   "attachments": {},
   "cell_type": "markdown",
   "metadata": {},
   "source": [
    "Here we define functions that compute the vGH and perturbative energies for different potentials."
   ]
  },
  {
   "cell_type": "code",
   "execution_count": 3,
   "metadata": {},
   "outputs": [],
   "source": [
    "def quick_pot_scan(params, V_0_arr, folder):\n",
    "    h5_io_object = h_in.io_hdf5()\n",
    "\n",
    "    print('\\nvGH Calculations:')\n",
    "    E_arr = np.zeros(len(V_0_arr), dtype=complex)\n",
    "    for i in range(len(V_0_arr)):\n",
    "        print('V0 =', V_0_arr[i])\n",
    "        params[\"V_0\"] = V_0_arr[i]\n",
    "\n",
    "        eom_object = eom.eom(params=params)\n",
    "        wavefunc_object = h_wavef.wavefunctions(params=params)\n",
    "        wfn_manip = h_wavef.wavefunc_operations(params=params)\n",
    "        ''' \n",
    "        Init wavefunction\n",
    "        '''\n",
    "        psi_init = wavefunc_object.create_init_wavefunction(params['init_choice'])\n",
    "        psi_init = wfn_manip.reshape_one_dim(psi_init)\n",
    "        ''' \n",
    "        Imaginary Time Propagation\n",
    "        '''\n",
    "        psi, E_evo, epsilon_evo = eom_object.solve_for_fixed_params_imag_time_prop_new(psi_init)\n",
    "        E_arr[i] = E_evo[-1]\n",
    "\n",
    "        h5_io_object.save_calculation_run(psi, E_evo, epsilon_evo, params, folder)\n",
    "\n",
    "    return E_arr\n",
    "\n",
    "def pert_pot_scan(params, V_0_arr):\n",
    "    print('\\nPerturbative Calculations:')\n",
    "    E_arr = np.zeros(len(V_0_arr), dtype=complex)\n",
    "    for i in range(len(V_0_arr)):\n",
    "        E_min = find_Ep(V_0_arr[i], params[\"tx\"], params[\"ty\"], params[\"B\"], guess_Ep(V_0_arr[i]))\n",
    "        E_arr[i] = E_min[0]\n",
    "        print('V0 =', V_0_arr[i], ', E =', E_arr[i])\n",
    "        \n",
    "    return E_arr\n",
    "\n",
    "def get_Ep_from_E_vGH(E_vGH, tx, ty):\n",
    "    return E_vGH+2*tx+2*ty\n",
    "\n",
    "def get_E_from_Ep(E_vGH, tx, ty):\n",
    "    return E_vGH-2*tx-2*ty\n",
    "\n",
    "def get_E_arr(V_0_range, folder, check_sys, check_sym):\n",
    "    h5_io_object = h_in.io_hdf5()\n",
    "    \n",
    "    E_arr = np.zeros(len(V_0_range), dtype=complex)\n",
    "    for i in range(len(V_0_range)):\n",
    "        check_sys_n = check_sys+'_V0_'+str(V_0_range[i])+'_'\n",
    "        file_list = [f for f in os.listdir(folder) if check_sys_n in f and check_sym in f]\n",
    "\n",
    "        if len(file_list) > 1: \n",
    "            break\n",
    "        for file in file_list:\n",
    "            file_name = folder+file\n",
    "            psi, params = h5_io_object.get_psi(file_name)\n",
    "\n",
    "            energy_object = energy.energy(params=params)\n",
    "            E, E_T, E_B, E_V = energy_object.calc_energy(psi)\n",
    "            E_arr[i] = E\n",
    "    return E_arr"
   ]
  },
  {
   "attachments": {},
   "cell_type": "markdown",
   "metadata": {},
   "source": [
    "### Define the calculation parameters"
   ]
  },
  {
   "cell_type": "code",
   "execution_count": 4,
   "metadata": {},
   "outputs": [],
   "source": [
    "params = {\"n\": 256,\n",
    "\"M\": 36,\n",
    "\"Mx\": 16,\n",
    "\"Mx_display\": 4,\n",
    "\"converge_new_lattice\": \"no\",\n",
    "\"My\": 16,\n",
    "\"My_display\": 4,\n",
    "\"B\": 1.0,\n",
    "\"tx\": 100,\n",
    "\"ty\": 100,\n",
    "\"V_0\": 150.0,\n",
    "\"qx\": 0,\n",
    "\"qy\": 0,\n",
    "\"init_choice\": \"uniform\",\n",
    "\"external_wf_tag\": \" \",\n",
    "\"excitation_no\": 11,\n",
    "\"angle_pattern\": [0,0,0,0],\n",
    "\"V_0_pattern\": [0,0,0,0],\n",
    "\"n_states\": 0,\n",
    "\"path_to_input_wavefunction\": \" \",\n",
    "\"dt\": 0.001,\n",
    "\"tol\": 1e-10}\n",
    "\n",
    "x = (2*np.pi/params[\"n\"])*np.arange(params[\"n\"])\n",
    "\n",
    "''' \n",
    "I/O Object\n",
    "'''\n",
    "h5_io_object = h_in.io_hdf5()"
   ]
  },
  {
   "attachments": {},
   "cell_type": "markdown",
   "metadata": {},
   "source": [
    "### Perturbation Energies"
   ]
  },
  {
   "cell_type": "markdown",
   "metadata": {},
   "source": [
    "TODO: make plot for the symmetric case that compares with the perturbation theory - now fixed the coupling points for which we want to compare! Cluster calculations for this are running, don't forget to collect them!! Also, a side benefit is that they provide nice convergence with system size calculations now!!"
   ]
  },
  {
   "cell_type": "code",
   "execution_count": 5,
   "metadata": {},
   "outputs": [],
   "source": [
    "V_0_range1 = np.linspace(0,10,21) \n",
    "V_0_range2 = np.linspace(15,100,18)\n",
    "\n",
    "V_0_range = np.append(V_0_range1, V_0_range2)"
   ]
  },
  {
   "cell_type": "code",
   "execution_count": 73,
   "metadata": {},
   "outputs": [
    {
     "name": "stdout",
     "output_type": "stream",
     "text": [
      "\n",
      "Perturbative Calculations:\n",
      "V0 = 0.0 , E = 0j\n",
      "V0 = 0.2 , E = (-0.00025059114284855594+0j)\n",
      "V0 = 0.4 , E = (-0.0010023594194729247+0j)\n",
      "V0 = 2.0 , E = (-0.025054881523010036+0j)\n",
      "V0 = 4.0 , E = (-0.10016849523697217+0j)\n",
      "V0 = 20.0 , E = (-2.467375028700644+0j)\n",
      "V0 = 40.0 , E = (-9.51090433369651+0j)\n",
      "V0 = 80.0 , E = (-34.37847104801114+0j)\n",
      "V0 = 100.0 , E = (-50.81260874667429+0j)\n"
     ]
    }
   ],
   "source": [
    "params[\"B\"] = 2.0\n",
    "params[\"tx\"] = 100\n",
    "params[\"ty\"] = 100\n",
    "t = params[\"tx\"] + params[\"ty\"]\n",
    "Ep_pert1_B_1 = pert_pot_scan(params, V_0_range_vGH_B_2)\n",
    "E_pert1_B_1 = get_E_from_Ep(Ep_pert1_B_1, params[\"tx\"], params[\"ty\"])"
   ]
  },
  {
   "cell_type": "code",
   "execution_count": 74,
   "metadata": {},
   "outputs": [
    {
     "name": "stdout",
     "output_type": "stream",
     "text": [
      "\n",
      "Perturbative Calculations:\n",
      "V0 = 0.0 , E = 0j\n",
      "V0 = 0.5 , E = (-0.001566180573677739+0j)\n",
      "V0 = 1.0 , E = (-0.0062645217101342954+0j)\n",
      "V0 = 1.5 , E = (-0.014094422161069377+0j)\n",
      "V0 = 2.0 , E = (-0.025054881523010036+0j)\n",
      "V0 = 2.5 , E = (-0.03914450272923439+0j)\n",
      "V0 = 3.0 , E = (-0.05636149548734639+0j)\n",
      "V0 = 3.5 , E = (-0.07670368061788621+0j)\n",
      "V0 = 4.0 , E = (-0.10016849523697217+0j)\n",
      "V0 = 4.5 , E = (-0.1267529987145917+0j)\n",
      "V0 = 5.0 , E = (-0.1564538793364519+0j)\n",
      "V0 = 5.5 , E = (-0.18926746159113322+0j)\n",
      "V0 = 6.0 , E = (-0.22518971400189736+0j)\n",
      "V0 = 6.5 , E = (-0.2642162574301484+0j)\n",
      "V0 = 7.0 , E = (-0.306342373730853+0j)\n",
      "V0 = 7.5 , E = (-0.3515630147332304+0j)\n",
      "V0 = 8.0 , E = (-0.3998728115110062+0j)\n",
      "V0 = 8.5 , E = (-0.4512660837212857+0j)\n",
      "V0 = 9.0 , E = (-0.5057368490383581+0j)\n",
      "V0 = 9.5 , E = (-0.5632788327490746+0j)\n",
      "V0 = 10.0 , E = (-0.6238854772100852+0j)\n",
      "V0 = 15.0 , E = (-1.396881860210741+0j)\n",
      "V0 = 20.0 , E = (-2.467375028700644+0j)\n",
      "V0 = 25.0 , E = (-3.82545995763773+0j)\n",
      "V0 = 30.0 , E = (-5.4600308494750855+0j)\n",
      "V0 = 35.0 , E = (-7.359251295902216+0j)\n",
      "V0 = 40.0 , E = (-9.51090433369651+0j)\n",
      "V0 = 45.0 , E = (-11.902655856038962+0j)\n",
      "V0 = 50.0 , E = (-14.522252922575952+0j)\n",
      "V0 = 55.0 , E = (-17.35767158681777+0j)\n",
      "V0 = 60.0 , E = (-20.39722493495124+0j)\n",
      "V0 = 65.0 , E = (-23.62963959867073+0j)\n",
      "V0 = 70.0 , E = (-27.04410732780017+0j)\n",
      "V0 = 75.0 , E = (-30.63031694995354+0j)\n",
      "V0 = 80.0 , E = (-34.37847104801114+0j)\n",
      "V0 = 85.0 , E = (-38.27929087418583+0j)\n",
      "V0 = 90.0 , E = (-42.32401234917541+0j)\n",
      "V0 = 95.0 , E = (-46.504375439521105+0j)\n",
      "V0 = 100.0 , E = (-50.81260874667429+0j)\n",
      "\n",
      "Perturbative Calculations:\n",
      "V0 = 0.0 , E = 0j\n",
      "V0 = 0.5 , E = (-0.0008898332187101532+0j)\n",
      "V0 = 1.0 , E = (-0.0035593145395554394+0j)\n",
      "V0 = 1.5 , E = (-0.00800838895866676+0j)\n",
      "V0 = 2.0 , E = (-0.014236964809549852+0j)\n",
      "V0 = 2.5 , E = (-0.022244913773014845+0j)\n",
      "V0 = 3.0 , E = (-0.032032070891073995+0j)\n",
      "V0 = 3.5 , E = (-0.04359823458480411+0j)\n",
      "V0 = 4.0 , E = (-0.05694316667616885+0j)\n",
      "V0 = 4.5 , E = (-0.07206659241379548+0j)\n",
      "V0 = 5.0 , E = (-0.08896820050269921+0j)\n",
      "V0 = 5.5 , E = (-0.10764764313794754+0j)\n",
      "V0 = 6.0 , E = (-0.12810453604225588+0j)\n",
      "V0 = 6.5 , E = (-0.1503384585075045+0j)\n",
      "V0 = 7.0 , E = (-0.17434895344016685+0j)\n",
      "V0 = 7.5 , E = (-0.20013552741063623+0j)\n",
      "V0 = 8.0 , E = (-0.22769765070643982+0j)\n",
      "V0 = 8.5 , E = (-0.257034757389324+0j)\n",
      "V0 = 9.0 , E = (-0.2881462453561995+0j)\n",
      "V0 = 9.5 , E = (-0.3210314764039268+0j)\n",
      "V0 = 10.0 , E = (-0.35568977629792947+0j)\n",
      "V0 = 15.0 , E = (-0.7996176239940378+0j)\n",
      "V0 = 20.0 , E = (-1.4198464330567082+0j)\n",
      "V0 = 25.0 , E = (-2.215122303385776+0j)\n",
      "V0 = 30.0 , E = (-3.183855868063767+0j)\n",
      "V0 = 35.0 , E = (-4.324138598264456+0j)\n",
      "V0 = 40.0 , E = (-5.633761900419453+0j)\n",
      "V0 = 45.0 , E = (-7.110238565400611+0j)\n",
      "V0 = 50.0 , E = (-8.750826096904257+0j)\n",
      "V0 = 55.0 , E = (-10.552551431555205+0j)\n",
      "V0 = 60.0 , E = (-12.51223656562417+0j)\n",
      "V0 = 65.0 , E = (-14.626524620973534+0j)\n",
      "V0 = 70.0 , E = (-16.89190591358804+0j)\n",
      "V0 = 75.0 , E = (-19.30474362908239+0j)\n",
      "V0 = 80.0 , E = (-21.861298758011312+0j)\n",
      "V0 = 85.0 , E = (-24.557753996777322+0j)\n",
      "V0 = 90.0 , E = (-27.39023637477814+0j)\n",
      "V0 = 95.0 , E = (-30.354838422829214+0j)\n",
      "V0 = 100.0 , E = (-33.44763774991105+0j)\n",
      "\n",
      "Perturbative Calculations:\n",
      "V0 = 0.0 , E = 0j\n",
      "V0 = 0.5 , E = (-0.0018169750745242216+0j)\n",
      "V0 = 1.0 , E = (-0.007267515216172844+0j)\n",
      "V0 = 1.5 , E = (-0.016350467254385517+0j)\n",
      "V0 = 2.0 , E = (-0.02906391590644005+0j)\n",
      "V0 = 2.5 , E = (-0.04540519359603946+0j)\n",
      "V0 = 3.0 , E = (-0.06537089375124286+0j)\n",
      "V0 = 3.5 , E = (-0.08895688717624851+0j)\n",
      "V0 = 4.0 , E = (-0.11615834110453603+0j)\n",
      "V0 = 4.5 , E = (-0.14696974041035882+0j)\n",
      "V0 = 5.0 , E = (-0.181384910420237+0j)\n",
      "V0 = 5.5 , E = (-0.21939704099663823+0j)\n",
      "V0 = 6.0 , E = (-0.2609987113348229+0j)\n",
      "V0 = 6.5 , E = (-0.30618191515999055+0j)\n",
      "V0 = 7.0 , E = (-0.35493808586570974+0j)\n",
      "V0 = 7.5 , E = (-0.4072581216597563+0j)\n",
      "V0 = 8.0 , E = (-0.4631324099539417+0j)\n",
      "V0 = 8.5 , E = (-0.5225508513803595+0j)\n",
      "V0 = 9.0 , E = (-0.5855028829924561+0j)\n",
      "V0 = 9.5 , E = (-0.6519775006820948+0j)\n",
      "V0 = 10.0 , E = (-0.7219632807520281+0j)\n",
      "V0 = 15.0 , E = (-1.612160726160581+0j)\n",
      "V0 = 20.0 , E = (-2.8384879367626805+0j)\n",
      "V0 = 25.0 , E = (-4.3851478312166545+0j)\n",
      "V0 = 30.0 , E = (-6.235111536862015+0j)\n",
      "V0 = 35.0 , E = (-8.370860372649656+0j)\n",
      "V0 = 40.0 , E = (-10.774906839504887+0j)\n",
      "V0 = 45.0 , E = (-13.430156729808191+0j)\n",
      "V0 = 50.0 , E = (-16.320152948440583+0j)\n",
      "V0 = 55.0 , E = (-19.429230735038995+0j)\n",
      "V0 = 60.0 , E = (-22.742607040542797+0j)\n",
      "V0 = 65.0 , E = (-26.246421715238725+0j)\n",
      "V0 = 70.0 , E = (-29.927744174654055+0j)\n",
      "V0 = 75.0 , E = (-33.7745560219526+0j)\n",
      "V0 = 80.0 , E = (-37.775717561220674+0j)\n",
      "V0 = 85.0 , E = (-41.920924123224786+0j)\n",
      "V0 = 90.0 , E = (-46.20065655170818+0j)\n",
      "V0 = 95.0 , E = (-50.60612898374805+0j)\n",
      "V0 = 100.0 , E = (-55.12923613214484+0j)\n",
      "\n",
      "Perturbative Calculations:\n",
      "V0 = 0.0 , E = 0j\n",
      "V0 = 0.5 , E = (-0.0009326306154436811+0j)\n",
      "V0 = 1.0 , E = (-0.003730500455998753+0j)\n",
      "V0 = 1.5 , E = (-0.00839354350709334+0j)\n",
      "V0 = 2.0 , E = (-0.01492164975364415+0j)\n",
      "V0 = 2.5 , E = (-0.023314665193854014+0j)\n",
      "V0 = 3.0 , E = (-0.03357239185852515+0j)\n",
      "V0 = 3.5 , E = (-0.04569458783587751+0j)\n",
      "V0 = 4.0 , E = (-0.059680967301880536+0j)\n",
      "V0 = 4.5 , E = (-0.07553120055605043+0j)\n",
      "V0 = 5.0 , E = (-0.09324491406275626+0j)\n",
      "V0 = 5.5 , E = (-0.11282169049797837+0j)\n",
      "V0 = 6.0 , E = (-0.13426106880152558+0j)\n",
      "V0 = 6.5 , E = (-0.15756254423468952+0j)\n",
      "V0 = 7.0 , E = (-0.18272556844332394+0j)\n",
      "V0 = 7.5 , E = (-0.20974954952632385+0j)\n",
      "V0 = 8.0 , E = (-0.2386338521094891+0j)\n",
      "V0 = 8.5 , E = (-0.26937779742474655+0j)\n",
      "V0 = 9.0 , E = (-0.3019806633947106+0j)\n",
      "V0 = 9.5 , E = (-0.33644168472255487+0j)\n",
      "V0 = 10.0 , E = (-0.3727600529871692+0j)\n",
      "V0 = 15.0 , E = (-0.8378893472631329+0j)\n",
      "V0 = 20.0 , E = (-1.4875484006596298+0j)\n",
      "V0 = 25.0 , E = (-2.3202377894035604+0j)\n",
      "V0 = 30.0 , E = (-3.3340611358821683+0j)\n",
      "V0 = 35.0 , E = (-4.526747446237778+0j)\n",
      "V0 = 40.0 , E = (-5.895677101442079+0j)\n",
      "V0 = 45.0 , E = (-7.437910821056016+0j)\n",
      "V0 = 50.0 , E = (-9.150220879422182+0j)\n",
      "V0 = 55.0 , E = (-11.029123844925252+0j)\n",
      "V0 = 60.0 , E = (-13.070914131777359+0j)\n",
      "V0 = 65.0 , E = (-15.27169769667749+0j)\n",
      "V0 = 70.0 , E = (-17.627425274823274+0j)\n",
      "V0 = 75.0 , E = (-20.133924625805527+0j)\n",
      "V0 = 80.0 , E = (-22.786931344548588+0j)\n",
      "V0 = 85.0 , E = (-25.58211788068368+0j)\n",
      "V0 = 90.0 , E = (-28.515120497196584+0j)\n",
      "V0 = 95.0 , E = (-31.581563982320052+0j)\n",
      "V0 = 100.0 , E = (-34.77708400476382+0j)\n",
      "\n",
      "Perturbative Calculations:\n",
      "V0 = 0.0 , E = 0j\n",
      "V0 = 0.5 , E = (-0.0035217971154689314+0j)\n",
      "V0 = 1.0 , E = (-0.0140827860014545+0j)\n",
      "V0 = 1.5 , E = (-0.031669827978478636+0j)\n",
      "V0 = 2.0 , E = (-0.056261249840517905+0j)\n",
      "V0 = 2.5 , E = (-0.08782716593503433+0j)\n",
      "V0 = 3.0 , E = (-0.12632990167273453+0j)\n",
      "V0 = 3.5 , E = (-0.1717244956620243+0j)\n",
      "V0 = 4.0 , E = (-0.22395925648184234+0j)\n",
      "V0 = 4.5 , E = (-0.28297635123216236+0j)\n",
      "V0 = 5.0 , E = (-0.3487124057756977+0j)\n",
      "V0 = 5.5 , E = (-0.4210991002600064+0j)\n",
      "V0 = 6.0 , E = (-0.5000637474265739+0j)\n",
      "V0 = 6.5 , E = (-0.5855298448883942+0j)\n",
      "V0 = 7.0 , E = (-0.677417595719552+0j)\n",
      "V0 = 7.5 , E = (-0.7756443942201723+0j)\n",
      "V0 = 8.0 , E = (-0.8801252756260531+0j)\n",
      "V0 = 8.5 , E = (-0.9907733298814597+0j)\n",
      "V0 = 9.0 , E = (-1.107500080498978+0j)\n",
      "V0 = 9.5 , E = (-1.230215830093426+0j)\n",
      "V0 = 10.0 , E = (-1.3588299744922339+0j)\n",
      "V0 = 15.0 , E = (-2.949296571831091+0j)\n",
      "V0 = 20.0 , E = (-5.0312697769998955+0j)\n",
      "V0 = 25.0 , E = (-7.525070336013441+0j)\n",
      "V0 = 30.0 , E = (-10.364617683907609+0j)\n",
      "V0 = 35.0 , E = (-13.496865162742086+0j)\n",
      "V0 = 40.0 , E = (-16.879678274756746+0j)\n",
      "V0 = 45.0 , E = (-20.479555141785433+0j)\n",
      "V0 = 50.0 , E = (-24.269662721345586+0j)\n",
      "V0 = 55.0 , E = (-28.228282216118146+0j)\n",
      "V0 = 60.0 , E = (-32.337623111548496+0j)\n",
      "V0 = 65.0 , E = (-36.58293198337462+0j)\n",
      "V0 = 70.0 , E = (-40.9518252448641+0j)\n",
      "V0 = 75.0 , E = (-45.433788199824775+0j)\n",
      "V0 = 80.0 , E = (-50.01979655767695+0j)\n",
      "V0 = 85.0 , E = (-54.70202806478208+0j)\n",
      "V0 = 90.0 , E = (-59.47364070220465+0j)\n",
      "V0 = 95.0 , E = (-64.32860037034096+0j)\n",
      "V0 = 100.0 , E = (-69.26154565514449+0j)\n",
      "\n",
      "Perturbative Calculations:\n",
      "V0 = 0.0 , E = 0j\n",
      "V0 = 0.5 , E = (-0.0010597575714385334+0j)\n",
      "V0 = 1.0 , E = (-0.004238993926692753+0j)\n",
      "V0 = 1.5 , E = (-0.009537599995417333+0j)\n",
      "V0 = 2.0 , E = (-0.01695539401649635+0j)\n",
      "V0 = 2.5 , E = (-0.026492121572222027+0j)\n",
      "V0 = 3.0 , E = (-0.03814745563612333+0j)\n",
      "V0 = 3.5 , E = (-0.05192099663442316+0j)\n",
      "V0 = 4.0 , E = (-0.06781227252109627+0j)\n",
      "V0 = 4.5 , E = (-0.08582073886649451+0j)\n",
      "V0 = 5.0 , E = (-0.10594577895949933+0j)\n",
      "V0 = 5.5 , E = (-0.1281867039231563+0j)\n",
      "V0 = 6.0 , E = (-0.15254275284373825+0j)\n",
      "V0 = 6.5 , E = (-0.17901309291318224+0j)\n",
      "V0 = 7.0 , E = (-0.2075968195848344+0j)\n",
      "V0 = 7.5 , E = (-0.23829295674243323+0j)\n",
      "V0 = 8.0 , E = (-0.2711004568822564+0j)\n",
      "V0 = 8.5 , E = (-0.30601820130835256+0j)\n",
      "V0 = 9.0 , E = (-0.34304500034076585+0j)\n",
      "V0 = 9.5 , E = (-0.38217959353666725+0j)\n",
      "V0 = 10.0 , E = (-0.42342064992428924+0j)\n",
      "V0 = 15.0 , E = (-0.9513439785503104+0j)\n",
      "V0 = 20.0 , E = (-1.6879369528134534+0j)\n",
      "V0 = 25.0 , E = (-2.6307549266220702+0j)\n",
      "V0 = 30.0 , E = (-3.7767307352913813+0j)\n",
      "V0 = 35.0 , E = (-5.1222272002764315+0j)\n",
      "V0 = 40.0 , E = (-6.663096767943102+0j)\n",
      "V0 = 45.0 , E = (-8.394746093403853+0j)\n",
      "V0 = 50.0 , E = (-10.312203381493225+0j)\n",
      "V0 = 55.0 , E = (-12.410186416940782+0j)\n",
      "V0 = 60.0 , E = (-14.683169430461607+0j)\n",
      "V0 = 65.0 , E = (-17.12544722813582+0j)\n",
      "V0 = 70.0 , E = (-19.73119532875294+0j)\n",
      "V0 = 75.0 , E = (-22.49452518088032+0j)\n",
      "V0 = 80.0 , E = (-25.409533845995227+0j)\n",
      "V0 = 85.0 , E = (-28.470347819511055+0j)\n",
      "V0 = 90.0 , E = (-31.671160907220546+0j)\n",
      "V0 = 95.0 , E = (-35.00626627524325+0j)\n",
      "V0 = 100.0 , E = (-38.47008294612014+0j)\n"
     ]
    }
   ],
   "source": [
    "#V_0_range = np.linspace(0,100,21)\n",
    "\n",
    "params[\"B\"] = 2.0\n",
    "params[\"tx\"] = 100\n",
    "params[\"ty\"] = 100\n",
    "t = params[\"tx\"] + params[\"ty\"]\n",
    "Ep_pert1_B_1 = pert_pot_scan(params, V_0_range)\n",
    "E_pert1_B_1 = get_E_from_Ep(Ep_pert1_B_1, params[\"tx\"], params[\"ty\"])\n",
    "\n",
    "params[\"B\"] = 200.0\n",
    "Ep_pert1_B_200 = pert_pot_scan(params, V_0_range)\n",
    "E_pert1_B_200 = get_E_from_Ep(Ep_pert1_B_200, params[\"tx\"], params[\"ty\"])\n",
    "\n",
    "\n",
    "\n",
    "params[\"B\"] = 1.0\n",
    "params[\"tx\"] = 50\n",
    "params[\"ty\"] = 150\n",
    "Ep_pert2_B_1 = pert_pot_scan(params, V_0_range)\n",
    "E_pert2_B_1 = get_E_from_Ep(Ep_pert2_B_1, params[\"tx\"], params[\"ty\"])\n",
    "\n",
    "params[\"B\"] = 200.0\n",
    "Ep_pert2_B_200 = pert_pot_scan(params, V_0_range)\n",
    "E_pert2_B_200 = get_E_from_Ep(Ep_pert2_B_200, params[\"tx\"], params[\"ty\"])\n",
    "\n",
    "\n",
    "\n",
    "params[\"B\"] = 1.0\n",
    "params[\"tx\"] = 10\n",
    "params[\"ty\"] = 190\n",
    "Ep_pert3_B_1 = pert_pot_scan(params, V_0_range)\n",
    "E_pert3_B_1 = get_E_from_Ep(Ep_pert3_B_1, params[\"tx\"], params[\"ty\"])\n",
    "\n",
    "params[\"B\"] = 200.0\n",
    "params[\"tx\"] = 10\n",
    "params[\"ty\"] = 190\n",
    "Ep_pert3_B_200 = pert_pot_scan(params, V_0_range)\n",
    "E_pert3_B_200 = get_E_from_Ep(Ep_pert3_B_200, params[\"tx\"], params[\"ty\"])"
   ]
  },
  {
   "attachments": {},
   "cell_type": "markdown",
   "metadata": {},
   "source": [
    "### vGH energies\n",
    "\n",
    "#### Note: for big lattices, it is better to use the stand-alone python script! This cell is just suited for quick computations"
   ]
  },
  {
   "attachments": {},
   "cell_type": "markdown",
   "metadata": {},
   "source": [
    "Read in the vGH calculations from the wavefunctions."
   ]
  },
  {
   "cell_type": "code",
   "execution_count": 72,
   "metadata": {},
   "outputs": [],
   "source": [
    "V_0_range_vGH_B_2 = np.array([0.0,0.2,0.4,2,4,20,40,80,100])\n",
    "\n",
    "check_sys = 'tx_100_ty_100'\n",
    "check_sym = '_B_2.0_Mx_64_My_64_qx_0_qy_0'\n",
    "folder = 'results/perturbation_theory/tx_100_ty_100/'\n",
    "E_vGH1_B_1 = get_E_arr(V_0_range_vGH_B_2, folder, check_sys, check_sym)\n",
    "\n",
    "check_sym = '_B_200.0_Mx_16_My_16'\n",
    "folder = 'results/perturbation_theory/tx_100_ty_100/'\n",
    "E_vGH1_B_200 = get_E_arr(V_0_range, folder, check_sys, check_sym)\n",
    "\n",
    "\n",
    "\n",
    "check_sys = 'tx_50_ty_150'\n",
    "check_sym = '_B_1.0_Mx_'+str(params[\"Mx\"])+'_My_'+str(params[\"My\"])\n",
    "folder = 'results/perturbation_theory/tx_50_ty_150/'\n",
    "E_vGH2_B_1 = get_E_arr(V_0_range, folder, check_sys, check_sym)\n",
    "\n",
    "check_sys = 'tx_50_ty_150'\n",
    "check_sym = '_B_200.0_Mx_'+str(params[\"Mx\"])+'_My_'+str(params[\"My\"])\n",
    "folder = 'results/perturbation_theory/tx_50_ty_150/'\n",
    "E_vGH2_B_200 = get_E_arr(V_0_range, folder, check_sys, check_sym)\n",
    "\n",
    "\n",
    "\n",
    "check_sys = 'tx_10_ty_190'\n",
    "check_sym = '_B_1.0_Mx_'+str(params[\"Mx\"])+'_My_'+str(params[\"My\"])\n",
    "folder = 'results/perturbation_theory/tx_10_ty_190/'\n",
    "E_vGH3_B_1 = get_E_arr(V_0_range, folder, check_sys, check_sym)\n",
    "\n",
    "check_sys = 'tx_10_ty_190'\n",
    "check_sym = '_B_200.0_Mx_'+str(params[\"Mx\"])+'_My_'+str(params[\"My\"])\n",
    "folder = 'results/perturbation_theory/tx_10_ty_190/'\n",
    "E_vGH3_B_200 = get_E_arr(V_0_range, folder, check_sys, check_sym)"
   ]
  },
  {
   "attachments": {},
   "cell_type": "markdown",
   "metadata": {},
   "source": [
    "## Plot the results to show how the energies match!"
   ]
  },
  {
   "cell_type": "code",
   "execution_count": 69,
   "metadata": {},
   "outputs": [],
   "source": [
    "def E_to_plot(E, t):\n",
    "    return np.abs(E+2*t)/t"
   ]
  },
  {
   "cell_type": "code",
   "execution_count": 70,
   "metadata": {},
   "outputs": [
    {
     "ename": "NameError",
     "evalue": "name 'E_vGH1_B_1' is not defined",
     "output_type": "error",
     "traceback": [
      "\u001b[0;31m---------------------------------------------------------------------------\u001b[0m",
      "\u001b[0;31mNameError\u001b[0m                                 Traceback (most recent call last)",
      "Cell \u001b[0;32mIn[70], line 1\u001b[0m\n\u001b[0;32m----> 1\u001b[0m \u001b[38;5;28mprint\u001b[39m(\u001b[43mE_vGH1_B_1\u001b[49m)\n",
      "\u001b[0;31mNameError\u001b[0m: name 'E_vGH1_B_1' is not defined"
     ]
    }
   ],
   "source": [
    "print(E_vGH1_B_1)"
   ]
  },
  {
   "cell_type": "code",
   "execution_count": null,
   "metadata": {},
   "outputs": [],
   "source": [
    "print(E_vGH1_B_1)"
   ]
  },
  {
   "cell_type": "code",
   "execution_count": null,
   "metadata": {},
   "outputs": [],
   "source": [
    "E_pert1_B_1-E_vGH1_B_1"
   ]
  },
  {
   "cell_type": "code",
   "execution_count": null,
   "metadata": {},
   "outputs": [],
   "source": [
    "E_pert1_B_1-E_vGH1_B_1"
   ]
  },
  {
   "cell_type": "code",
   "execution_count": null,
   "metadata": {},
   "outputs": [],
   "source": [
    "plt.plot(V_0_range, E_vGH1_B_1.real, color='tab:blue', linestyle='dashed')\n",
    "plt.plot(V_0_range, E_vGH1_B_200.real, color='tab:blue')\n",
    "plt.plot(V_0_range, E_pert1_B_1.real, color='tab:red')\n",
    "plt.plot(V_0_range, E_pert1_B_200.real, color='tab:red', linestyle='dashed')\n",
    "#plt.plot(V_0_range, E_pert3.real, color='tab:red')\n",
    "#plt.plot(V_0_range, E_vGH3.real, color='tab:blue')\n",
    "\n",
    "#plt.xscale('log')\n",
    "#plt.yscale('log')"
   ]
  },
  {
   "cell_type": "code",
   "execution_count": 75,
   "metadata": {},
   "outputs": [
    {
     "data": {
      "image/png": "[encoded data removed]",
      "text/plain": [
       "<Figure size 421.38x297.99 with 1 Axes>"
      ]
     },
     "metadata": {
      "needs_background": "light"
     },
     "output_type": "display_data"
    }
   ],
   "source": [
    "A = 6\n",
    "plt.rc('figure', figsize=[46.82 * .5**(.5 * A), 33.11 * .5**(.5 * A)])\n",
    "plt.rc('text', usetex=True)\n",
    "plt.rc('font', family='serif')\n",
    "font_size = 20\n",
    "\n",
    "fig, axs = plt.subplots()\n",
    "\n",
    "plt.suptitle(r'FLP, $\\Delta_t = 0$', fontsize=font_size)\n",
    "\n",
    "axs.plot(V_0_range_vGH_B_2[1:]/t, E_to_plot(E_vGH1_B_1.real,t)[1:], color='tab:blue', linestyle='solid', label=r'$B = 10^{-2} t$')\n",
    "axs.plot(V_0_range[1:]/t, E_to_plot(E_pert1_B_1.real,t)[1:], color='tab:blue', linestyle='dashed')\n",
    "\n",
    "axs.plot(V_0_range[1:]/t, E_to_plot(E_vGH1_B_200.real,t)[1:], color='tab:orange', linestyle='solid', label=r'$B = 10^0 t$')\n",
    "axs.plot(V_0_range[1:]/t, E_to_plot(E_pert1_B_200.real,t)[1:], color='tab:orange', linestyle='dashed')\n",
    "\n",
    "plt.xlabel(r'$V_0/t$', fontsize=font_size)\n",
    "plt.ylabel(r'$(E+2t)/t$', fontsize=font_size)\n",
    "\n",
    "plt.xticks(fontsize=font_size)\n",
    "\n",
    "axs.set_xscale('log', base=10)\n",
    "axs.set_yscale('log', base=10)\n",
    "\n",
    "axs.invert_yaxis()\n",
    "axs.set_yticks([1e-1,1e-2,1e-3,1e-4,1e-5],[r'$-10^{-1}$',r'$-10^{-2}$',r'$-10^{-3}$',r'$-10^{-4}$',r'$-10^{-5}$'], fontsize=font_size)\n",
    "\n",
    "axs.plot(np.linspace(1.1e-3,2.5e-3,100), 0.75e-2*np.ones(100), linestyle='solid', color='black')\n",
    "axs.plot(np.linspace(1.1e-3,2.5e-3,100), 0.27e-1*np.ones(100), linestyle='dashed', color='black')\n",
    "\n",
    "axs.annotate('vGH', xy=(0.3*1e-2,1e-2), fontsize=font_size)\n",
    "axs.annotate('BW pert.', xy=(0.3*1e-2,0.4e-1), fontsize=font_size)\n",
    "\n",
    "axs.legend(fontsize=font_size, loc=1)\n",
    "\n",
    "plt.tick_params(axis='x', direction='in', length=6, top=True)\n",
    "plt.tick_params(axis='y', direction='in', length=6, right=True)\n",
    "plt.tick_params(axis='x', which='minor', direction='in', length=3, top=True)\n",
    "plt.tick_params(axis='y', which='minor', direction='in', length=3, right=True)\n",
    "\n",
    "plt.tick_params(which='minor', axis='y', direction='in', right=True)\n",
    "\n",
    "plt.savefig('results/perturbation_theory/B_comp_tx_100_ty_100.svg', bbox_inches='tight')"
   ]
  },
  {
   "cell_type": "code",
   "execution_count": null,
   "metadata": {},
   "outputs": [],
   "source": [
    "A = 6\n",
    "plt.rc('figure', figsize=[46.82 * .5**(.5 * A), 33.11 * .5**(.5 * A)])\n",
    "plt.rc('text', usetex=True)\n",
    "plt.rc('font', family='serif')\n",
    "font_size = 20\n",
    "\n",
    "fig, axs = plt.subplots()\n",
    "\n",
    "plt.suptitle(r'FLP, $\\Delta_t = 0.5$', fontsize=font_size)\n",
    "\n",
    "axs.plot(V_0_range[1:len(E_vGH2_B_1)-1]/t, E_to_plot(E_vGH2_B_1.real[1:len(E_vGH2_B_1)-1],t), color='tab:blue', linestyle='solid', label=r'$B = 0.5\\cdot 10^{-2} t$')\n",
    "axs.plot(V_0_range[1:len(E_vGH2_B_1)-1]/t, E_to_plot(E_pert2_B_1.real[1:len(E_vGH2_B_1)-1],t), color='tab:blue', linestyle='dashed')\n",
    "\n",
    "axs.plot(V_0_range[1:]/t, E_to_plot(E_vGH2_B_200.real,t)[1:], color='tab:orange', linestyle='solid', label=r'$B = 10^0 t$')\n",
    "axs.plot(V_0_range[1:]/t, E_to_plot(E_pert2_B_200.real,t)[1:], color='tab:orange', linestyle='dashed')\n",
    "\n",
    "plt.xlabel(r'$V_0/t$', fontsize=font_size)\n",
    "plt.ylabel(r'$(E+2t)/t$', fontsize=font_size)\n",
    "\n",
    "\n",
    "plt.xticks(fontsize=font_size)\n",
    "plt.yticks(fontsize=font_size)\n",
    "\n",
    "axs.set_xscale('log', base=10)\n",
    "axs.set_yscale('log', base=10)\n",
    "\n",
    "axs.invert_yaxis()\n",
    "axs.set_yticks([1e-1,1e-2,1e-3,1e-4,1e-5],[r'$-10^{-1}$',r'$-10^{-2}$',r'$-10^{-3}$',r'$-10^{-4}$',r'$-10^{-5}$'], fontsize=font_size)\n",
    "\n",
    "axs.plot(np.linspace(3.1e-3,5e-3,100), 0.75e-2*np.ones(100), linestyle='solid', color='black')\n",
    "axs.plot(np.linspace(3.1e-3,5e-3,100), 0.27e-1*np.ones(100), linestyle='dashed', color='black')\n",
    "\n",
    "axs.annotate('vGH', xy=(0.6*1e-2,1e-2), fontsize=font_size)\n",
    "axs.annotate('BW pert.', xy=(0.6*1e-2,0.4e-1), fontsize=font_size)\n",
    "\n",
    "axs.legend(fontsize=15, loc=1)\n",
    "\n",
    "plt.tick_params(axis='x', direction='in', length=6, top=True)\n",
    "plt.tick_params(axis='y', direction='in', length=6, right=True)\n",
    "plt.tick_params(axis='x', which='minor', direction='in', length=3, top=True)\n",
    "plt.tick_params(axis='y', which='minor', direction='in', length=3, right=True)\n",
    "\n",
    "plt.tick_params(which='minor', axis='y', direction='in', right=True)\n",
    "plt.savefig('results/perturbation_theory/B_comp_tx_50_ty_100.svg', bbox_inches='tight')"
   ]
  },
  {
   "cell_type": "code",
   "execution_count": 7,
   "metadata": {},
   "outputs": [
    {
     "ename": "NameError",
     "evalue": "name 'E_to_plot' is not defined",
     "output_type": "error",
     "traceback": [
      "\u001b[0;31m---------------------------------------------------------------------------\u001b[0m",
      "\u001b[0;31mNameError\u001b[0m                                 Traceback (most recent call last)",
      "Cell \u001b[0;32mIn[7], line 11\u001b[0m\n\u001b[1;32m      7\u001b[0m fig, axs \u001b[38;5;241m=\u001b[39m plt\u001b[38;5;241m.\u001b[39msubplots()\n\u001b[1;32m      9\u001b[0m plt\u001b[38;5;241m.\u001b[39msuptitle(\u001b[38;5;124mr\u001b[39m\u001b[38;5;124m'\u001b[39m\u001b[38;5;124mc) $t_x=\u001b[39m\u001b[38;5;124m\\\u001b[39m\u001b[38;5;124mfrac\u001b[39m\u001b[38;5;132;01m{1}\u001b[39;00m\u001b[38;5;132;01m{20}\u001b[39;00m\u001b[38;5;124mt,t_y=\u001b[39m\u001b[38;5;124m\\\u001b[39m\u001b[38;5;124mfrac\u001b[39m\u001b[38;5;132;01m{19}\u001b[39;00m\u001b[38;5;132;01m{20}\u001b[39;00m\u001b[38;5;124mt$\u001b[39m\u001b[38;5;124m'\u001b[39m, fontsize\u001b[38;5;241m=\u001b[39mfont_size)\n\u001b[0;32m---> 11\u001b[0m axs\u001b[38;5;241m.\u001b[39mplot(V_0_range[\u001b[38;5;241m1\u001b[39m:\u001b[38;5;241m24\u001b[39m]\u001b[38;5;241m/\u001b[39mt, \u001b[43mE_to_plot\u001b[49m(E_vGH3_B_1\u001b[38;5;241m.\u001b[39mreal,t)[\u001b[38;5;241m1\u001b[39m:\u001b[38;5;241m24\u001b[39m], color\u001b[38;5;241m=\u001b[39m\u001b[38;5;124m'\u001b[39m\u001b[38;5;124mtab:blue\u001b[39m\u001b[38;5;124m'\u001b[39m, linestyle\u001b[38;5;241m=\u001b[39m\u001b[38;5;124m'\u001b[39m\u001b[38;5;124msolid\u001b[39m\u001b[38;5;124m'\u001b[39m, label\u001b[38;5;241m=\u001b[39m\u001b[38;5;124mr\u001b[39m\u001b[38;5;124m'\u001b[39m\u001b[38;5;124m$B = 0.5\u001b[39m\u001b[38;5;124m\\\u001b[39m\u001b[38;5;124mcdot 10^\u001b[39m\u001b[38;5;124m{\u001b[39m\u001b[38;5;124m-2} t$\u001b[39m\u001b[38;5;124m'\u001b[39m)\n\u001b[1;32m     12\u001b[0m axs\u001b[38;5;241m.\u001b[39mplot(V_0_range[\u001b[38;5;241m1\u001b[39m:\u001b[38;5;241m24\u001b[39m]\u001b[38;5;241m/\u001b[39mt, E_to_plot(E_pert3_B_1\u001b[38;5;241m.\u001b[39mreal,t)[\u001b[38;5;241m1\u001b[39m:\u001b[38;5;241m24\u001b[39m], color\u001b[38;5;241m=\u001b[39m\u001b[38;5;124m'\u001b[39m\u001b[38;5;124mtab:blue\u001b[39m\u001b[38;5;124m'\u001b[39m, linestyle\u001b[38;5;241m=\u001b[39m\u001b[38;5;124m'\u001b[39m\u001b[38;5;124mdashed\u001b[39m\u001b[38;5;124m'\u001b[39m)\n\u001b[1;32m     14\u001b[0m axs\u001b[38;5;241m.\u001b[39mplot(V_0_range[\u001b[38;5;241m1\u001b[39m:\u001b[38;5;241m24\u001b[39m]\u001b[38;5;241m/\u001b[39mt, E_to_plot(E_vGH3_B_200\u001b[38;5;241m.\u001b[39mreal,t)[\u001b[38;5;241m1\u001b[39m:\u001b[38;5;241m24\u001b[39m], color\u001b[38;5;241m=\u001b[39m\u001b[38;5;124m'\u001b[39m\u001b[38;5;124mtab:orange\u001b[39m\u001b[38;5;124m'\u001b[39m, linestyle\u001b[38;5;241m=\u001b[39m\u001b[38;5;124m'\u001b[39m\u001b[38;5;124msolid\u001b[39m\u001b[38;5;124m'\u001b[39m, label\u001b[38;5;241m=\u001b[39m\u001b[38;5;124mr\u001b[39m\u001b[38;5;124m'\u001b[39m\u001b[38;5;124m$B = 10^0 t$\u001b[39m\u001b[38;5;124m'\u001b[39m)\n",
      "\u001b[0;31mNameError\u001b[0m: name 'E_to_plot' is not defined"
     ]
    },
    {
     "data": {
      "image/png": "[encoded data removed]",
      "text/plain": [
       "<Figure size 432x288 with 1 Axes>"
      ]
     },
     "metadata": {
      "needs_background": "light"
     },
     "output_type": "display_data"
    }
   ],
   "source": [
    "A = 6\n",
    "plt.rc('figure', figsize=[46.82 * .5**(.5 * A), 33.11 * .5**(.5 * A)])\n",
    "plt.rc('text', usetex=True)\n",
    "plt.rc('font', family='serif')\n",
    "font_size = 20\n",
    "\n",
    "fig, axs = plt.subplots()\n",
    "\n",
    "plt.suptitle(r'c) $t_x=\\frac{1}{20}t,t_y=\\frac{19}{20}t$', fontsize=font_size)\n",
    "\n",
    "axs.plot(V_0_range[1:24]/t, E_to_plot(E_vGH3_B_1.real,t)[1:24], color='tab:blue', linestyle='solid', label=r'$B = 0.5\\cdot 10^{-2} t$')\n",
    "axs.plot(V_0_range[1:24]/t, E_to_plot(E_pert3_B_1.real,t)[1:24], color='tab:blue', linestyle='dashed')\n",
    "\n",
    "axs.plot(V_0_range[1:24]/t, E_to_plot(E_vGH3_B_200.real,t)[1:24], color='tab:orange', linestyle='solid', label=r'$B = 10^0 t$')\n",
    "axs.plot(V_0_range[1:24]/t, E_to_plot(E_pert3_B_200.real,t)[1:24], color='tab:orange', linestyle='dashed')\n",
    "\n",
    "plt.xlabel(r'$V_0/t$', fontsize=font_size)\n",
    "plt.ylabel(r'$(E+2t)/t$', fontsize=font_size)\n",
    "\n",
    "\n",
    "plt.xticks(fontsize=font_size)\n",
    "plt.yticks(fontsize=font_size)\n",
    "\n",
    "axs.set_xscale('log', base=10)\n",
    "axs.set_yscale('log', base=10)\n",
    "\n",
    "axs.invert_yaxis()\n",
    "axs.set_yticks([1e-1,1e-2,1e-3,1e-4,1e-5],[r'$-10^{-1}$',r'$-10^{-2}$',r'$-10^{-3}$',r'$-10^{-4}$',r'$-10^{-5}$'], fontsize=font_size)\n",
    "\n",
    "axs.plot(np.linspace(3.1e-3,5e-3,100), 0.75e-2*np.ones(100), linestyle='solid', color='black')\n",
    "axs.plot(np.linspace(3.1e-3,5e-3,100), 0.27e-1*np.ones(100), linestyle='dashed', color='black')\n",
    "\n",
    "axs.annotate('vGH', xy=(0.6*1e-2,1e-2), fontsize=font_size)\n",
    "axs.annotate('BW pert.', xy=(0.6*1e-2,0.4e-1), fontsize=font_size)\n",
    "\n",
    "axs.legend(fontsize=15, loc=1)\n",
    "\n",
    "plt.tick_params(axis='x', direction='in', length=6, top=True)\n",
    "plt.tick_params(axis='y', direction='in', length=6, right=True)\n",
    "plt.tick_params(axis='x', which='minor', direction='in', length=3, top=True)\n",
    "plt.tick_params(axis='y', which='minor', direction='in', length=3, right=True)\n",
    "\n",
    "plt.tick_params(which='minor', axis='y', direction='in', right=True)\n",
    "plt.savefig('results/perturbation_theory/B_comp_tx_10_ty_190.svg', bbox_inches='tight')"
   ]
  },
  {
   "cell_type": "code",
   "execution_count": null,
   "metadata": {},
   "outputs": [],
   "source": [
    "A = 6\n",
    "plt.rc('figure', figsize=[46.82 * .5**(.5 * A), 33.11 * .5**(.5 * A)])\n",
    "plt.rc('text', usetex=True)\n",
    "plt.rc('font', family='serif')\n",
    "font_size = 20\n",
    "\n",
    "fig, axs = plt.subplots()\n",
    "\n",
    "plt.suptitle(r'c) $B = 0.5\\cdot 10^{-2}t$', fontsize=font_size)\n",
    "\n",
    "axs.plot(V_0_range[1:24]/t, E_to_plot(E_vGH1_B_1.real,t)[1:24], color='tab:blue', linestyle='solid', label=r'$t_x=t_y=\\frac{1}{2}t$')\n",
    "axs.plot(V_0_range[1:24]/t, E_to_plot(E_pert1_B_1.real,t)[1:24], color='tab:blue', linestyle='dashed')\n",
    "\n",
    "axs.plot(V_0_range[1:24]/t, E_to_plot(E_vGH2_B_1.real,t)[1:24], color='tab:orange', linestyle='solid', label=r'$t_x=\\frac{1}{4}t,t_y=\\frac{3}{4}t$')\n",
    "axs.plot(V_0_range[1:24]/t, E_to_plot(E_pert2_B_1.real,t)[1:24], color='tab:orange', linestyle='dashed')\n",
    "\n",
    "axs.plot(V_0_range[1:24]/t, E_to_plot(E_vGH3_B_1.real,t)[1:24], color='tab:red', linestyle='solid', label=r'$t_x=\\frac{1}{20}t,t_y=\\frac{19}{20}t$')\n",
    "axs.plot(V_0_range[1:24]/t, E_to_plot(E_pert3_B_1.real,t)[1:24], color='tab:red', linestyle='dashed')\n",
    "\n",
    "\n",
    "plt.xlabel(r'$V_0/t$', fontsize=font_size)\n",
    "plt.ylabel(r'$(E+2t)/t$', fontsize=font_size)\n",
    "\n",
    "\n",
    "plt.xticks(fontsize=font_size)\n",
    "plt.yticks(fontsize=font_size)\n",
    "\n",
    "axs.set_xscale('log', base=10)\n",
    "axs.set_yscale('log', base=10)\n",
    "\n",
    "axs.invert_yaxis()\n",
    "axs.set_yticks([1e-1,1e-2,1e-3,1e-4,1e-5],[r'$-10^{-1}$',r'$-10^{-2}$',r'$-10^{-3}$',r'$-10^{-4}$',r'$-10^{-5}$'], fontsize=font_size)\n",
    "\n",
    "axs.plot(np.linspace(3.1e-3,5e-3,100), 0.75e-2*np.ones(100), linestyle='solid', color='black')\n",
    "axs.plot(np.linspace(3.1e-3,5e-3,100), 0.27e-1*np.ones(100), linestyle='dashed', color='black')\n",
    "\n",
    "axs.annotate('vGH', xy=(0.6*1e-2,1e-2), fontsize=font_size)\n",
    "axs.annotate('BW pert.', xy=(0.6*1e-2,0.4e-1), fontsize=font_size)\n",
    "\n",
    "axs.legend(fontsize=15, loc=1)\n",
    "\n",
    "plt.tick_params(axis='x', direction='in', length=6, top=True)\n",
    "plt.tick_params(axis='y', direction='in', length=6, right=True)\n",
    "plt.tick_params(axis='x', which='minor', direction='in', length=3, top=True)\n",
    "plt.tick_params(axis='y', which='minor', direction='in', length=3, right=True)\n",
    "\n",
    "plt.tick_params(which='minor', axis='y', direction='in', right=True)\n",
    "plt.savefig('results/perturbation_theory/sym_comp_B_0.01t.svg', bbox_inches='tight')"
   ]
  },
  {
   "cell_type": "code",
   "execution_count": null,
   "metadata": {},
   "outputs": [],
   "source": [
    "A = 6\n",
    "plt.rc('figure', figsize=[46.82 * .5**(.5 * A), 33.11 * .5**(.5 * A)])\n",
    "plt.rc('text', usetex=True)\n",
    "plt.rc('font', family='serif')\n",
    "font_size = 20\n",
    "\n",
    "fig, axs = plt.subplots()\n",
    "\n",
    "plt.suptitle(r'd) $B = 10^{0}t$', fontsize=font_size)\n",
    "\n",
    "axs.plot(V_0_range[1:24]/t, E_to_plot(E_vGH1_B_200.real,t)[1:24], color='tab:blue', linestyle='solid', label=r'$t_x=t_y=\\frac{1}{2}t$')\n",
    "axs.plot(V_0_range[1:24]/t, E_to_plot(E_pert1_B_200.real,t)[1:24], color='tab:blue', linestyle='dashed')\n",
    "\n",
    "axs.plot(V_0_range[1:24]/t, E_to_plot(E_vGH2_B_200.real,t)[1:24], color='tab:orange', linestyle='solid', label=r'$t_x=\\frac{1}{4}t,t_y=\\frac{3}{4}t$')\n",
    "axs.plot(V_0_range[1:24]/t, E_to_plot(E_pert2_B_200.real,t)[1:24], color='tab:orange', linestyle='dashed')\n",
    "\n",
    "axs.plot(V_0_range[1:24]/t, E_to_plot(E_vGH3_B_200.real,t)[1:24], color='tab:red', linestyle='solid', label=r'$t_x=\\frac{1}{20}t,t_y=\\frac{19}{20}t$')\n",
    "axs.plot(V_0_range[1:24]/t, E_to_plot(E_pert3_B_200.real,t)[1:24], color='tab:red', linestyle='dashed')\n",
    "\n",
    "\n",
    "plt.xlabel(r'$V_0/t$', fontsize=font_size)\n",
    "plt.ylabel(r'$(E+2t)/t$', fontsize=font_size)\n",
    "\n",
    "plt.xticks(fontsize=font_size)\n",
    "plt.yticks(fontsize=font_size)\n",
    "\n",
    "axs.set_xscale('log', base=10)\n",
    "axs.set_yscale('log', base=10)\n",
    "\n",
    "axs.invert_yaxis()\n",
    "axs.set_yticks([1e-1,1e-2,1e-3,1e-4,1e-5],[r'$-10^{-1}$',r'$-10^{-2}$',r'$-10^{-3}$',r'$-10^{-4}$',r'$-10^{-5}$'], fontsize=font_size)\n",
    "\n",
    "axs.plot(np.linspace(3.1e-3,5e-3,100), 0.8e-3*np.ones(100), linestyle='solid', color='black')\n",
    "axs.plot(np.linspace(3.1e-3,5e-3,100), 0.3e-2*np.ones(100), linestyle='dashed', color='black')\n",
    "\n",
    "axs.annotate('vGH', xy=(0.6*1e-2,1e-3), fontsize=font_size)\n",
    "axs.annotate('BW pert.', xy=(0.6*1e-2,0.4e-2), fontsize=font_size)\n",
    "\n",
    "axs.legend(fontsize=15, loc=1)\n",
    "\n",
    "plt.tick_params(axis='x', direction='in', length=6, top=True)\n",
    "plt.tick_params(axis='y', direction='in', length=6, right=True)\n",
    "plt.tick_params(axis='x', which='minor', direction='in', length=3, top=True)\n",
    "plt.tick_params(axis='y', which='minor', direction='in', length=3, right=True)\n",
    "\n",
    "plt.tick_params(which='minor', axis='y', direction='in', right=True)\n",
    "plt.savefig('results/perturbation_theory/sym_comp_B_t.svg', bbox_inches='tight')"
   ]
  },
  {
   "cell_type": "code",
   "execution_count": null,
   "metadata": {},
   "outputs": [],
   "source": [
    "plt.plot(V_0_range/t, E_to_plot(E_pert1.real,t), marker='x', color='tab:blue', linestyle='solid', label=r'$t_x = 100, t_y = 100$')\n",
    "plt.plot(V_0_range/t, E_to_plot(E_vGH1.real,t), marker='x', color='tab:blue', linestyle='dashed')\n",
    "plt.plot(V_0_range/t, (1/(1*(1+4*t))**0.5)*V_0_range**2/t, marker='x', color='tab:green', linestyle='dashed')\n",
    "\n",
    "\n",
    "plt.xscale('log')\n",
    "plt.yscale('log')"
   ]
  },
  {
   "cell_type": "code",
   "execution_count": null,
   "metadata": {},
   "outputs": [],
   "source": [
    "plt.plot(V_0_range/t, 2*(0.5*(1/(1*(1+4*200))**0.5)*(V_0_range)**2)/t, marker='x', color='tab:green', linestyle='dashed')\n",
    "plt.plot(V_0_range/t, (0.5*(1/(1*(1+4*200))**0.5)*(V_0_range)**2)/t, marker='x', color='tab:green', linestyle='dashed')\n",
    "\n",
    "plt.xscale('log')\n",
    "plt.yscale('log')"
   ]
  },
  {
   "cell_type": "code",
   "execution_count": null,
   "metadata": {},
   "outputs": [],
   "source": [
    "V_0_range = np.linspace(0,10,3)\n",
    "\n",
    "params[\"tol\"] = 1e-8\n",
    "\n",
    "params[\"tx\"] = 100\n",
    "params[\"ty\"] = 100\n",
    "t = params[\"tx\"] + params[\"ty\"]\n",
    "E_pert1, E_vGH1 = get_energies(params,V_0_range)\n",
    "\n",
    "print(E_pert1-E_vGH1)"
   ]
  },
  {
   "cell_type": "markdown",
   "metadata": {},
   "source": [
    "## Perturbative prefactor analysis\n",
    "\n",
    "Here we analyze the perturbative prefactor of the polaron energy, i.e. E_p = f(B,t_x,t_y)V_0^2 and we graphically determine the dependence of f(B,t_x,t_y)."
   ]
  },
  {
   "cell_type": "code",
   "execution_count": 52,
   "metadata": {},
   "outputs": [],
   "source": [
    "def pert_B_scan(params, B_arr):\n",
    "    E_arr = np.zeros(len(B_arr), dtype=complex)\n",
    "    for i in range(len(B_arr)):\n",
    "        E_min = find_Ep(params[\"V_0\"], params[\"tx\"], params[\"ty\"], B_arr[i], -4.0872e-4) #guess_Ep(params[\"V_0\"]))\n",
    "        E_arr[i] = E_min[0]\n",
    "        #print('B =', B_arr[i], ', E =', E_arr[i])\n",
    "        \n",
    "    return E_arr\n",
    "\n",
    "def get_tx_ty(sum_tx_ty, diff_tx_ty):\n",
    "    tx = 0.5*(sum_tx_ty+diff_tx_ty)\n",
    "    ty = 0.5*(sum_tx_ty-diff_tx_ty)\n",
    "    return tx, ty\n",
    "\n",
    "def pert_B_sym_scan(params, sum_tx_ty, diff_tx_ty, B_arr):\n",
    "    print('\\nPerturbative Calculations:')\n",
    "    \n",
    "    E_arr = np.zeros((len(diff_tx_ty),len(B_arr)), dtype=complex)\n",
    "    for i in range(len(diff_tx_ty)):\n",
    "        tx, ty = get_tx_ty(sum_tx_ty, diff_tx_ty[i])\n",
    "\n",
    "        params[\"tx\"] = tx\n",
    "        params[\"ty\"] = ty\n",
    "\n",
    "        E_arr[i] = pert_B_scan(params, B_arr)\n",
    "        print('tx,ty=', tx,ty, ', E =', E_arr[i])\n",
    "        \n",
    "    return E_arr"
   ]
  },
  {
   "cell_type": "code",
   "execution_count": 53,
   "metadata": {},
   "outputs": [
    {
     "name": "stderr",
     "output_type": "stream",
     "text": [
      "/tmp/ipykernel_226783/3995237249.py:2: RuntimeWarning: invalid value encountered in scalar divide\n",
      "  E_self = lambda kx, ky: (2*V_0**2)/(4*np.pi**2)*(1-np.cos(kx)*np.cos(ky))/(B-E-2*tx*np.cos(kx)-2*ty*np.cos(ky))\n",
      "/mnt/nfs/clustersw/Debian/bullseye/JupyterPython/2.0/lib/python3.9/site-packages/scipy/integrate/_quadpack_py.py:1233: IntegrationWarning: The maximum number of subdivisions (50) has been achieved.\n",
      "  If increasing the limit yields no improvement it is advised to analyze \n",
      "  the integrand in order to determine the difficulties.  If the position of a \n",
      "  local difficulty can be determined (singularity, discontinuity) one will \n",
      "  probably gain from splitting up the interval and calling the integrator \n",
      "  on the subranges.  Perhaps a special-purpose integrator should be used.\n",
      "  quad_r = quad(f, low, high, args=args, full_output=self.full_output,\n",
      "/mnt/nfs/clustersw/Debian/bullseye/JupyterPython/2.0/lib/python3.9/site-packages/scipy/integrate/_quadpack_py.py:1233: IntegrationWarning: The occurrence of roundoff error is detected, which prevents \n",
      "  the requested tolerance from being achieved.  The error may be \n",
      "  underestimated.\n",
      "  quad_r = quad(f, low, high, args=args, full_output=self.full_output,\n"
     ]
    },
    {
     "data": {
      "text/plain": [
       "[<matplotlib.lines.Line2D at 0x7f577a4d7520>]"
      ]
     },
     "execution_count": 53,
     "metadata": {},
     "output_type": "execute_result"
    },
    {
     "data": {
      "image/png": "[encoded data removed]",
      "text/plain": [
       "<Figure size 421.38x297.99 with 1 Axes>"
      ]
     },
     "metadata": {
      "needs_background": "light"
     },
     "output_type": "display_data"
    }
   ],
   "source": [
    "V_0_test = 0.001\n",
    "B_test = 0\n",
    "\n",
    "E_test = np.linspace(-0.001,0,100)\n",
    "self_E = np.zeros(len(E_test))\n",
    "\n",
    "for i in range(len(E_test)):\n",
    "    self_E[i] = integrate_self_energy(V_0_test, 100, 100, B_test, E_test[i]-2*100-2*100)[0]/V_0_test**2\n",
    "    #print(E_test[i],self_E[i])\n",
    "    \n",
    "plt.plot(E_test, -self_E)\n",
    "plt.plot(E_test, E_test/V_0_test**2)"
   ]
  },
  {
   "cell_type": "code",
   "execution_count": 54,
   "metadata": {},
   "outputs": [
    {
     "name": "stdout",
     "output_type": "stream",
     "text": [
      "\n",
      "Perturbative Calculations:\n",
      "tx,ty= 180.0 20.0 , E = [-0.0004244 +0.j -0.00042437+0.j -0.00042434+0.j -0.00042411+0.j\n",
      " -0.00042386+0.j -0.00042215+0.j -0.00042031+0.j -0.00040872+0.j\n",
      " -0.00039724+0.j]\n",
      "tx,ty= 140.0 60.0 , E = [-0.00027784+0.j -0.00027783+0.j -0.00027782+0.j -0.00027775+0.j\n",
      " -0.00027768+0.j -0.00027714+0.j -0.00027655+0.j -0.00027272+0.j\n",
      " -0.00026876+0.j]\n",
      "tx,ty= 100.0 100.0 , E = [-0.00025465+0.j -0.00025464+0.j -0.00025463+0.j -0.00025458+0.j\n",
      " -0.00025452+0.j -0.00025409+0.j -0.00025363+0.j -0.00025059+0.j\n",
      " -0.00024742+0.j]\n"
     ]
    },
    {
     "data": {
      "image/png": "[encoded data removed]",
      "text/plain": [
       "<Figure size 421.38x297.99 with 1 Axes>"
      ]
     },
     "metadata": {
      "needs_background": "light"
     },
     "output_type": "display_data"
    },
    {
     "name": "stderr",
     "output_type": "stream",
     "text": [
      "/tmp/ipykernel_226783/830820317.py:12: RuntimeWarning: divide by zero encountered in divide\n",
      "  Ep_theory = -V_0_B_dep**2/np.sqrt(B_arr*(B_arr+4*sum_tx_ty))\n"
     ]
    }
   ],
   "source": [
    "V_0_B_dep = 0.2\n",
    "params[\"V_0\"] = V_0_B_dep\n",
    "\n",
    "B_arr = np.array([0,0.002,0.004,0.02,0.04,0.2,0.4,2,4]) #np.linspace(0.002,0.02,3) #np.linspace(2,200,10)\n",
    "diff_tx_ty = np.array([160,80,0]) #,80,0]) #np.linspace(-200,200,11)\n",
    "\n",
    "sum_tx_ty = 200.0\n",
    "Ep_B_sym_V_02 = pert_B_sym_scan(params, sum_tx_ty, diff_tx_ty, B_arr)\n",
    "\n",
    "\n",
    "plt.pcolormesh(Ep_B_sym_V_02.real); plt.show()\n",
    "Ep_theory = -V_0_B_dep**2/np.sqrt(B_arr*(B_arr+4*sum_tx_ty))"
   ]
  },
  {
   "cell_type": "code",
   "execution_count": 68,
   "metadata": {},
   "outputs": [
    {
     "data": {
      "image/png": "[encoded data removed]",
      "text/plain": [
       "<Figure size 421.38x297.99 with 1 Axes>"
      ]
     },
     "metadata": {
      "needs_background": "light"
     },
     "output_type": "display_data"
    }
   ],
   "source": [
    "A = 6\n",
    "plt.rc('figure', figsize=[46.82 * .5**(.5 * A), 33.11 * .5**(.5 * A)])\n",
    "plt.rc('text', usetex=True)\n",
    "plt.rc('font', family='serif')\n",
    "font_size = 20\n",
    "\n",
    "fig, axs = plt.subplots() \n",
    "\n",
    "plt.title(r'FLP, $V_0 = 10^{-3}t$', fontsize=font_size)\n",
    "\n",
    "plt.plot((B_arr/sum_tx_ty)**1.0, -Ep_B_sym_V_02[0].real*sum_tx_ty/V_0_B_dep**2, marker='x', color='tab:blue', label=r'$\\Delta_t = 0.8$')\n",
    "plt.plot((B_arr/sum_tx_ty)**1.0, -Ep_B_sym_V_02[1].real*sum_tx_ty/V_0_B_dep**2, marker='x', color='tab:orange', label=r'$\\Delta_t = 0.4$')\n",
    "plt.plot((B_arr/sum_tx_ty)**1.0, -Ep_B_sym_V_02[2].real*sum_tx_ty/V_0_B_dep**2, marker='x', color='tab:green', label=r'$\\Delta_t = 0$')\n",
    "#plt.plot((B_arr/sum_tx_ty)**1.0, 2*sum_tx_ty/np.sqrt(B_arr*(B_arr+4*sum_tx_ty)), marker='x', label=r'try')\n",
    "#plt.plot((B_arr/sum_tx_ty)**1.0, 2*sum_tx_ty/np.sqrt(B_arr*4*sum_tx_ty), marker='x', label=r'try')\n",
    "#plt.plot(B_arr/sum_tx_ty, 2*Ep_theory/sum_tx_ty/V_0_B_dep**2, marker='x', label=r'1D, $t=200$')\n",
    "\n",
    "# the following numbers were checked and numerically computed with Mathematica!\n",
    "plt.hlines(y=2.12, xmin=np.min((B_arr/sum_tx_ty)**1.0), xmax=np.max((B_arr/sum_tx_ty)**1.0), color='tab:blue', linestyle='dashed')\n",
    "plt.hlines(y=1.38922, xmin=np.min((B_arr/sum_tx_ty)**1.0), xmax=np.max((B_arr/sum_tx_ty)**1.0), color='tab:orange', linestyle='dashed')\n",
    "plt.hlines(y=1.27324, xmin=np.min((B_arr/sum_tx_ty)**1.0), xmax=np.max((B_arr/sum_tx_ty)**1.0), color='tab:green', linestyle='dashed')\n",
    "\n",
    "plt.xlabel(r'$B/t$', fontsize=font_size)\n",
    "plt.ylabel(r'$E_p t/V_0^2$', fontsize=font_size)\n",
    "\n",
    "#plt.xticks(fontsize=font_size)\n",
    "#plt.yticks(fontsize=font_size)\n",
    "\n",
    "axs.set_xscale('log', base=10)\n",
    "axs.set_yscale('log', base=10)\n",
    "\n",
    "axs.invert_yaxis()\n",
    "axs.set_yticks([2,1.8,1.6,1.4],[r'-2',r'-1.8',r'-1.6',r'-1.4'])\n",
    "\n",
    "axs.legend(fontsize=15, loc=10)\n",
    "\n",
    "plt.tick_params(axis='x', direction='in', length=6, top=True, labelsize=font_size)\n",
    "plt.tick_params(axis='y', direction='in', length=6, right=True, labelsize=font_size)\n",
    "plt.tick_params(axis='x', which='minor', direction='in', length=3, top=True, labelsize=font_size)\n",
    "plt.tick_params(axis='y', which='minor', direction='in', length=3, right=True, labelsize=font_size)\n",
    "\n",
    "#plt.tick_params(which='minor', axis='y', direction='in', right=True)\n",
    "\n",
    "plt.savefig('results/perturbation_theory/prefactor_scan_polaron_energy.svg')"
   ]
  },
  {
   "cell_type": "code",
   "execution_count": 12,
   "metadata": {},
   "outputs": [
    {
     "name": "stdout",
     "output_type": "stream",
     "text": [
      "\n",
      "Perturbative Calculations:\n",
      "tx,ty= 0.0 200.0 , E = [-0.19083006+0.j -0.05681883+0.j -0.04053444+0.j -0.03292019+0.j\n",
      " -0.02826172+0.j -0.02502817+0.j -0.02261113+0.j -0.02071406+0.j\n",
      " -0.01917268+0.j -0.01788758+0.j]\n",
      "tx,ty= 20.0 180.0 , E = [-0.04084639+0.j -0.03274872+0.j -0.02831491+0.j -0.02523764+0.j\n",
      " -0.02291308+0.j -0.02106822+0.j -0.01955445+0.j -0.01828177+0.j\n",
      " -0.01719167+0.j -0.01624405+0.j]\n",
      "tx,ty= 40.0 160.0 , E = [-0.03108593+0.j -0.02680224+0.j -0.02411016+0.j -0.0220758 +0.j\n",
      " -0.02044152+0.j -0.01908209+0.j -0.01792441+0.j -0.01692137+0.j\n",
      " -0.01604061+0.j -0.01525884+0.j]\n",
      "tx,ty= 60.0 140.0 , E = [-0.02726634+0.j -0.02414285+0.j -0.02207426+0.j -0.02045503+0.j\n",
      " -0.01911822+0.j -0.01798139+0.j -0.01699539+0.j -0.01612783+0.j\n",
      " -0.01535596+0.j -0.01466303+0.j]\n",
      "tx,ty= 80.0 120.0 , E = [-0.02555686+0.j -0.02289008+0.j -0.02108279+0.j -0.0196454 +0.j\n",
      " -0.01844356+0.j -0.01741069+0.j -0.01650685+0.j -0.0157055 +0.j\n",
      " -0.01498778+0.j -0.01433973+0.j]\n",
      "tx,ty= 100.0 100.0 , E = [-0.02505488+0.j -0.02251483+0.j -0.02078184+0.j -0.01939708+0.j\n",
      " -0.01823486+0.j -0.01723288+0.j -0.01635371+0.j -0.01557241+0.j\n",
      " -0.01487122+0.j -0.01423696+0.j]\n",
      "tx,ty= 120.0 80.0 , E = [-0.02555686+0.j -0.02289008+0.j -0.02108279+0.j -0.0196454 +0.j\n",
      " -0.01844356+0.j -0.01741069+0.j -0.01650685+0.j -0.0157055 +0.j\n",
      " -0.01498778+0.j -0.01433973+0.j]\n",
      "tx,ty= 140.0 60.0 , E = [-0.02726634+0.j -0.02414285+0.j -0.02207426+0.j -0.02045503+0.j\n",
      " -0.01911822+0.j -0.01798139+0.j -0.01699539+0.j -0.01612783+0.j\n",
      " -0.01535596+0.j -0.01466303+0.j]\n",
      "tx,ty= 160.0 40.0 , E = [-0.03108593+0.j -0.02680224+0.j -0.02411016+0.j -0.0220758 +0.j\n",
      " -0.02044152+0.j -0.01908209+0.j -0.01792441+0.j -0.01692137+0.j\n",
      " -0.01604061+0.j -0.01525884+0.j]\n",
      "tx,ty= 180.0 20.0 , E = [-0.04084639+0.j -0.03274872+0.j -0.02831491+0.j -0.02523764+0.j\n",
      " -0.02291308+0.j -0.02106822+0.j -0.01955445+0.j -0.01828177+0.j\n",
      " -0.01719167+0.j -0.01624405+0.j]\n",
      "tx,ty= 200.0 0.0 , E = [-0.19083006+0.j -0.05681883+0.j -0.04053444+0.j -0.03292019+0.j\n",
      " -0.02826172+0.j -0.02502817+0.j -0.02261113+0.j -0.02071406+0.j\n",
      " -0.01917268+0.j -0.01788758+0.j]\n"
     ]
    },
    {
     "data": {
      "image/png": "[encoded data removed]",
      "text/plain": [
       "<Figure size 421.38x297.99 with 1 Axes>"
      ]
     },
     "metadata": {
      "needs_background": "light"
     },
     "output_type": "display_data"
    }
   ],
   "source": [
    "V_0_B_dep = 2\n",
    "params[\"V_0\"] = V_0_B_dep\n",
    "\n",
    "B_arr = np.linspace(2,200,10)\n",
    "diff_tx_ty = np.linspace(-200,200,11)\n",
    "\n",
    "sum_tx_ty = 200.0\n",
    "Ep_B_sym_V_2 = pert_B_sym_scan(params, sum_tx_ty, diff_tx_ty, B_arr)\n",
    "\n",
    "\n",
    "plt.pcolormesh(Ep_B_sym_V_2.real); plt.show()\n",
    "\n",
    "Ep_theory = -V_0_B_dep**2/np.sqrt(B_arr*(B_arr+4*sum_tx_ty))"
   ]
  },
  {
   "cell_type": "code",
   "execution_count": 50,
   "metadata": {},
   "outputs": [
    {
     "ename": "ValueError",
     "evalue": "x and y must have same first dimension, but have shapes (5,) and (10,)",
     "output_type": "error",
     "traceback": [
      "\u001b[0;31m---------------------------------------------------------------------------\u001b[0m",
      "\u001b[0;31mValueError\u001b[0m                                Traceback (most recent call last)",
      "Cell \u001b[0;32mIn[50], line 11\u001b[0m\n\u001b[1;32m      7\u001b[0m fig, axs \u001b[38;5;241m=\u001b[39m plt\u001b[38;5;241m.\u001b[39msubplots() \n\u001b[1;32m      9\u001b[0m plt\u001b[38;5;241m.\u001b[39mtitle(\u001b[38;5;124mr\u001b[39m\u001b[38;5;124m'\u001b[39m\u001b[38;5;124m$V_0 = 10^\u001b[39m\u001b[38;5;124m{\u001b[39m\u001b[38;5;124m-2}t$\u001b[39m\u001b[38;5;124m'\u001b[39m, fontsize\u001b[38;5;241m=\u001b[39mfont_size)\n\u001b[0;32m---> 11\u001b[0m \u001b[43mplt\u001b[49m\u001b[38;5;241;43m.\u001b[39;49m\u001b[43mplot\u001b[49m\u001b[43m(\u001b[49m\u001b[43mB_arr\u001b[49m\u001b[38;5;241;43m/\u001b[39;49m\u001b[43msum_tx_ty\u001b[49m\u001b[43m,\u001b[49m\u001b[43m \u001b[49m\u001b[43mEp_B_sym_V_2\u001b[49m\u001b[43m[\u001b[49m\u001b[38;5;241;43m1\u001b[39;49m\u001b[43m]\u001b[49m\u001b[38;5;241;43m.\u001b[39;49m\u001b[43mreal\u001b[49m\u001b[38;5;241;43m/\u001b[39;49m\u001b[43msum_tx_ty\u001b[49m\u001b[38;5;241;43m/\u001b[39;49m\u001b[43mV_0_B_dep\u001b[49m\u001b[38;5;241;43m*\u001b[39;49m\u001b[38;5;241;43m*\u001b[39;49m\u001b[38;5;241;43m2\u001b[39;49m\u001b[43m,\u001b[49m\u001b[43m \u001b[49m\u001b[43mmarker\u001b[49m\u001b[38;5;241;43m=\u001b[39;49m\u001b[38;5;124;43m'\u001b[39;49m\u001b[38;5;124;43mx\u001b[39;49m\u001b[38;5;124;43m'\u001b[39;49m\u001b[43m,\u001b[49m\u001b[43m \u001b[49m\u001b[43mlabel\u001b[49m\u001b[38;5;241;43m=\u001b[39;49m\u001b[38;5;124;43mr\u001b[39;49m\u001b[38;5;124;43m'\u001b[39;49m\u001b[38;5;124;43m$t_x=20,t_y=180$\u001b[39;49m\u001b[38;5;124;43m'\u001b[39;49m\u001b[43m)\u001b[49m\n\u001b[1;32m     12\u001b[0m plt\u001b[38;5;241m.\u001b[39mplot(B_arr\u001b[38;5;241m/\u001b[39msum_tx_ty, Ep_B_sym_V_2[\u001b[38;5;241m3\u001b[39m]\u001b[38;5;241m.\u001b[39mreal\u001b[38;5;241m/\u001b[39msum_tx_ty\u001b[38;5;241m/\u001b[39mV_0_B_dep\u001b[38;5;241m*\u001b[39m\u001b[38;5;241m*\u001b[39m\u001b[38;5;241m2\u001b[39m, marker\u001b[38;5;241m=\u001b[39m\u001b[38;5;124m'\u001b[39m\u001b[38;5;124mx\u001b[39m\u001b[38;5;124m'\u001b[39m, label\u001b[38;5;241m=\u001b[39m\u001b[38;5;124mr\u001b[39m\u001b[38;5;124m'\u001b[39m\u001b[38;5;124m$t_x=60,t_y=140$\u001b[39m\u001b[38;5;124m'\u001b[39m)\n\u001b[1;32m     13\u001b[0m plt\u001b[38;5;241m.\u001b[39mplot(B_arr\u001b[38;5;241m/\u001b[39msum_tx_ty, Ep_B_sym_V_2[\u001b[38;5;241m5\u001b[39m]\u001b[38;5;241m.\u001b[39mreal\u001b[38;5;241m/\u001b[39msum_tx_ty\u001b[38;5;241m/\u001b[39mV_0_B_dep\u001b[38;5;241m*\u001b[39m\u001b[38;5;241m*\u001b[39m\u001b[38;5;241m2\u001b[39m, marker\u001b[38;5;241m=\u001b[39m\u001b[38;5;124m'\u001b[39m\u001b[38;5;124mx\u001b[39m\u001b[38;5;124m'\u001b[39m, label\u001b[38;5;241m=\u001b[39m\u001b[38;5;124mr\u001b[39m\u001b[38;5;124m'\u001b[39m\u001b[38;5;124m$t_x=100,t_y=100$\u001b[39m\u001b[38;5;124m'\u001b[39m)\n",
      "File \u001b[0;32m~/.local/lib/python3.9/site-packages/matplotlib/pyplot.py:2812\u001b[0m, in \u001b[0;36mplot\u001b[0;34m(scalex, scaley, data, *args, **kwargs)\u001b[0m\n\u001b[1;32m   2810\u001b[0m \u001b[38;5;129m@_copy_docstring_and_deprecators\u001b[39m(Axes\u001b[38;5;241m.\u001b[39mplot)\n\u001b[1;32m   2811\u001b[0m \u001b[38;5;28;01mdef\u001b[39;00m \u001b[38;5;21mplot\u001b[39m(\u001b[38;5;241m*\u001b[39margs, scalex\u001b[38;5;241m=\u001b[39m\u001b[38;5;28;01mTrue\u001b[39;00m, scaley\u001b[38;5;241m=\u001b[39m\u001b[38;5;28;01mTrue\u001b[39;00m, data\u001b[38;5;241m=\u001b[39m\u001b[38;5;28;01mNone\u001b[39;00m, \u001b[38;5;241m*\u001b[39m\u001b[38;5;241m*\u001b[39mkwargs):\n\u001b[0;32m-> 2812\u001b[0m     \u001b[38;5;28;01mreturn\u001b[39;00m \u001b[43mgca\u001b[49m\u001b[43m(\u001b[49m\u001b[43m)\u001b[49m\u001b[38;5;241;43m.\u001b[39;49m\u001b[43mplot\u001b[49m\u001b[43m(\u001b[49m\n\u001b[1;32m   2813\u001b[0m \u001b[43m        \u001b[49m\u001b[38;5;241;43m*\u001b[39;49m\u001b[43margs\u001b[49m\u001b[43m,\u001b[49m\u001b[43m \u001b[49m\u001b[43mscalex\u001b[49m\u001b[38;5;241;43m=\u001b[39;49m\u001b[43mscalex\u001b[49m\u001b[43m,\u001b[49m\u001b[43m \u001b[49m\u001b[43mscaley\u001b[49m\u001b[38;5;241;43m=\u001b[39;49m\u001b[43mscaley\u001b[49m\u001b[43m,\u001b[49m\n\u001b[1;32m   2814\u001b[0m \u001b[43m        \u001b[49m\u001b[38;5;241;43m*\u001b[39;49m\u001b[38;5;241;43m*\u001b[39;49m\u001b[43m(\u001b[49m\u001b[43m{\u001b[49m\u001b[38;5;124;43m\"\u001b[39;49m\u001b[38;5;124;43mdata\u001b[39;49m\u001b[38;5;124;43m\"\u001b[39;49m\u001b[43m:\u001b[49m\u001b[43m \u001b[49m\u001b[43mdata\u001b[49m\u001b[43m}\u001b[49m\u001b[43m \u001b[49m\u001b[38;5;28;43;01mif\u001b[39;49;00m\u001b[43m \u001b[49m\u001b[43mdata\u001b[49m\u001b[43m \u001b[49m\u001b[38;5;129;43;01mis\u001b[39;49;00m\u001b[43m \u001b[49m\u001b[38;5;129;43;01mnot\u001b[39;49;00m\u001b[43m \u001b[49m\u001b[38;5;28;43;01mNone\u001b[39;49;00m\u001b[43m \u001b[49m\u001b[38;5;28;43;01melse\u001b[39;49;00m\u001b[43m \u001b[49m\u001b[43m{\u001b[49m\u001b[43m}\u001b[49m\u001b[43m)\u001b[49m\u001b[43m,\u001b[49m\u001b[43m \u001b[49m\u001b[38;5;241;43m*\u001b[39;49m\u001b[38;5;241;43m*\u001b[39;49m\u001b[43mkwargs\u001b[49m\u001b[43m)\u001b[49m\n",
      "File \u001b[0;32m~/.local/lib/python3.9/site-packages/matplotlib/axes/_axes.py:1688\u001b[0m, in \u001b[0;36mAxes.plot\u001b[0;34m(self, scalex, scaley, data, *args, **kwargs)\u001b[0m\n\u001b[1;32m   1445\u001b[0m \u001b[38;5;124;03m\"\"\"\u001b[39;00m\n\u001b[1;32m   1446\u001b[0m \u001b[38;5;124;03mPlot y versus x as lines and/or markers.\u001b[39;00m\n\u001b[1;32m   1447\u001b[0m \n\u001b[0;32m   (...)\u001b[0m\n\u001b[1;32m   1685\u001b[0m \u001b[38;5;124;03m(``'green'``) or hex strings (``'#008000'``).\u001b[39;00m\n\u001b[1;32m   1686\u001b[0m \u001b[38;5;124;03m\"\"\"\u001b[39;00m\n\u001b[1;32m   1687\u001b[0m kwargs \u001b[38;5;241m=\u001b[39m cbook\u001b[38;5;241m.\u001b[39mnormalize_kwargs(kwargs, mlines\u001b[38;5;241m.\u001b[39mLine2D)\n\u001b[0;32m-> 1688\u001b[0m lines \u001b[38;5;241m=\u001b[39m [\u001b[38;5;241m*\u001b[39m\u001b[38;5;28mself\u001b[39m\u001b[38;5;241m.\u001b[39m_get_lines(\u001b[38;5;241m*\u001b[39margs, data\u001b[38;5;241m=\u001b[39mdata, \u001b[38;5;241m*\u001b[39m\u001b[38;5;241m*\u001b[39mkwargs)]\n\u001b[1;32m   1689\u001b[0m \u001b[38;5;28;01mfor\u001b[39;00m line \u001b[38;5;129;01min\u001b[39;00m lines:\n\u001b[1;32m   1690\u001b[0m     \u001b[38;5;28mself\u001b[39m\u001b[38;5;241m.\u001b[39madd_line(line)\n",
      "File \u001b[0;32m~/.local/lib/python3.9/site-packages/matplotlib/axes/_base.py:311\u001b[0m, in \u001b[0;36m_process_plot_var_args.__call__\u001b[0;34m(self, data, *args, **kwargs)\u001b[0m\n\u001b[1;32m    309\u001b[0m     this \u001b[38;5;241m+\u001b[39m\u001b[38;5;241m=\u001b[39m args[\u001b[38;5;241m0\u001b[39m],\n\u001b[1;32m    310\u001b[0m     args \u001b[38;5;241m=\u001b[39m args[\u001b[38;5;241m1\u001b[39m:]\n\u001b[0;32m--> 311\u001b[0m \u001b[38;5;28;01myield from\u001b[39;00m \u001b[38;5;28;43mself\u001b[39;49m\u001b[38;5;241;43m.\u001b[39;49m\u001b[43m_plot_args\u001b[49m\u001b[43m(\u001b[49m\n\u001b[1;32m    312\u001b[0m \u001b[43m    \u001b[49m\u001b[43mthis\u001b[49m\u001b[43m,\u001b[49m\u001b[43m \u001b[49m\u001b[43mkwargs\u001b[49m\u001b[43m,\u001b[49m\u001b[43m \u001b[49m\u001b[43mambiguous_fmt_datakey\u001b[49m\u001b[38;5;241;43m=\u001b[39;49m\u001b[43mambiguous_fmt_datakey\u001b[49m\u001b[43m)\u001b[49m\n",
      "File \u001b[0;32m~/.local/lib/python3.9/site-packages/matplotlib/axes/_base.py:504\u001b[0m, in \u001b[0;36m_process_plot_var_args._plot_args\u001b[0;34m(self, tup, kwargs, return_kwargs, ambiguous_fmt_datakey)\u001b[0m\n\u001b[1;32m    501\u001b[0m     \u001b[38;5;28mself\u001b[39m\u001b[38;5;241m.\u001b[39maxes\u001b[38;5;241m.\u001b[39myaxis\u001b[38;5;241m.\u001b[39mupdate_units(y)\n\u001b[1;32m    503\u001b[0m \u001b[38;5;28;01mif\u001b[39;00m x\u001b[38;5;241m.\u001b[39mshape[\u001b[38;5;241m0\u001b[39m] \u001b[38;5;241m!=\u001b[39m y\u001b[38;5;241m.\u001b[39mshape[\u001b[38;5;241m0\u001b[39m]:\n\u001b[0;32m--> 504\u001b[0m     \u001b[38;5;28;01mraise\u001b[39;00m \u001b[38;5;167;01mValueError\u001b[39;00m(\u001b[38;5;124mf\u001b[39m\u001b[38;5;124m\"\u001b[39m\u001b[38;5;124mx and y must have same first dimension, but \u001b[39m\u001b[38;5;124m\"\u001b[39m\n\u001b[1;32m    505\u001b[0m                      \u001b[38;5;124mf\u001b[39m\u001b[38;5;124m\"\u001b[39m\u001b[38;5;124mhave shapes \u001b[39m\u001b[38;5;132;01m{\u001b[39;00mx\u001b[38;5;241m.\u001b[39mshape\u001b[38;5;132;01m}\u001b[39;00m\u001b[38;5;124m and \u001b[39m\u001b[38;5;132;01m{\u001b[39;00my\u001b[38;5;241m.\u001b[39mshape\u001b[38;5;132;01m}\u001b[39;00m\u001b[38;5;124m\"\u001b[39m)\n\u001b[1;32m    506\u001b[0m \u001b[38;5;28;01mif\u001b[39;00m x\u001b[38;5;241m.\u001b[39mndim \u001b[38;5;241m>\u001b[39m \u001b[38;5;241m2\u001b[39m \u001b[38;5;129;01mor\u001b[39;00m y\u001b[38;5;241m.\u001b[39mndim \u001b[38;5;241m>\u001b[39m \u001b[38;5;241m2\u001b[39m:\n\u001b[1;32m    507\u001b[0m     \u001b[38;5;28;01mraise\u001b[39;00m \u001b[38;5;167;01mValueError\u001b[39;00m(\u001b[38;5;124mf\u001b[39m\u001b[38;5;124m\"\u001b[39m\u001b[38;5;124mx and y can be no greater than 2D, but have \u001b[39m\u001b[38;5;124m\"\u001b[39m\n\u001b[1;32m    508\u001b[0m                      \u001b[38;5;124mf\u001b[39m\u001b[38;5;124m\"\u001b[39m\u001b[38;5;124mshapes \u001b[39m\u001b[38;5;132;01m{\u001b[39;00mx\u001b[38;5;241m.\u001b[39mshape\u001b[38;5;132;01m}\u001b[39;00m\u001b[38;5;124m and \u001b[39m\u001b[38;5;132;01m{\u001b[39;00my\u001b[38;5;241m.\u001b[39mshape\u001b[38;5;132;01m}\u001b[39;00m\u001b[38;5;124m\"\u001b[39m)\n",
      "\u001b[0;31mValueError\u001b[0m: x and y must have same first dimension, but have shapes (5,) and (10,)"
     ]
    },
    {
     "data": {
      "image/png": "[encoded data removed]",
      "text/plain": [
       "<Figure size 421.38x297.99 with 1 Axes>"
      ]
     },
     "metadata": {
      "needs_background": "light"
     },
     "output_type": "display_data"
    }
   ],
   "source": [
    "A = 6\n",
    "plt.rc('figure', figsize=[46.82 * .5**(.5 * A), 33.11 * .5**(.5 * A)])\n",
    "plt.rc('text', usetex=True)\n",
    "plt.rc('font', family='serif')\n",
    "font_size = 20\n",
    "\n",
    "fig, axs = plt.subplots() \n",
    "\n",
    "plt.title(r'$V_0 = 10^{-2}t$', fontsize=font_size)\n",
    "\n",
    "plt.plot(B_arr/sum_tx_ty, Ep_B_sym_V_2[1].real/sum_tx_ty/V_0_B_dep**2, marker='x', label=r'$t_x=20,t_y=180$')\n",
    "plt.plot(B_arr/sum_tx_ty, Ep_B_sym_V_2[3].real/sum_tx_ty/V_0_B_dep**2, marker='x', label=r'$t_x=60,t_y=140$')\n",
    "plt.plot(B_arr/sum_tx_ty, Ep_B_sym_V_2[5].real/sum_tx_ty/V_0_B_dep**2, marker='x', label=r'$t_x=100,t_y=100$')\n",
    "\n",
    "plt.xlabel(r'$B/t$', fontsize=font_size)\n",
    "plt.ylabel(r'$E_p/t/V_0^2$', fontsize=font_size)\n",
    "\n",
    "plt.xticks(fontsize=font_size)\n",
    "plt.yticks(fontsize=font_size)\n",
    "\n",
    "#axs.set_xscale('log', base=10)\n",
    "#axs.set_yscale('log', base=10)\n",
    "\n",
    "axs.legend(fontsize=15, loc=4)\n",
    "\n",
    "plt.tick_params(axis='x', direction='in', length=6, top=True)\n",
    "plt.tick_params(axis='y', direction='in', length=6, right=True)\n",
    "plt.tick_params(axis='x', which='minor', direction='in', length=3, top=True)\n",
    "plt.tick_params(axis='y', which='minor', direction='in', length=3, right=True)\n",
    "\n",
    "plt.tick_params(which='minor', axis='y', direction='in', right=True)"
   ]
  },
  {
   "cell_type": "markdown",
   "metadata": {},
   "source": [
    "## Effective Mass Calculations\n",
    "\n",
    "First, we define some functions that we use to compute the pert. effective masses."
   ]
  },
  {
   "cell_type": "code",
   "execution_count": 14,
   "metadata": {},
   "outputs": [],
   "source": [
    "def integrate_self_energy(V_0, tx, ty, B, E):\n",
    "    E_self = lambda kx, ky: (2*V_0**2)/(4*np.pi**2)*(1-np.cos(kx)*np.cos(ky))/(B-E-2*tx*np.cos(kx)-2*ty*np.cos(ky))\n",
    "    E_self_int = scipy.integrate.dblquad(E_self, -np.pi,np.pi, -np.pi,np.pi)\n",
    "    return E_self_int\n",
    "\n",
    "def find_Ep(V_0, tx, ty, B, E_guess):\n",
    "    E_self_int = lambda E: E+integrate_self_energy(V_0, tx, ty, B, E-2*tx-2*ty)[0]\n",
    "    E_min = scipy.optimize.fsolve(E_self_int, [E_guess])\n",
    "    return E_min\n",
    "    \n",
    "def guess_Ep(V_0):\n",
    "    return -0.004649*V_0**2-0.07471*V_0+0.8718\n",
    "    \n",
    "def find_first_deriv_self_energy(V_0, tx, ty, B, h):\n",
    "    E_min = find_Ep(V_0, tx, ty, B, guess_Ep(V_0))-2*tx-2*ty\n",
    "    \n",
    "    E_self_int = lambda E: integrate_self_energy(V_0, tx, ty, B, E)[0].real\n",
    "    \n",
    "    E_min_prime = (E_self_int(E_min+h)-E_self_int(E_min))/h \n",
    "    return E_min_prime\n",
    "    \n",
    "def calc_eff_mass(self_E_prime, V_0, tx, ty, B):\n",
    "    kx = 0\n",
    "    ky = 0\n",
    "    \n",
    "    sec_deriv_band_x = 2*tx*np.cos(kx)\n",
    "    sec_deriv_band_y = 2*ty*np.cos(ky)\n",
    "    \n",
    "    eff_mass_x = (1+self_E_prime)/sec_deriv_band_x\n",
    "    eff_mass_y = (1+self_E_prime)/sec_deriv_band_y\n",
    "    return eff_mass_x, eff_mass_y"
   ]
  },
  {
   "cell_type": "code",
   "execution_count": 15,
   "metadata": {},
   "outputs": [],
   "source": [
    "def eff_mass_V_0_range(V_0_eff_mass_range, params):\n",
    "    h = 1e-6\n",
    "    \n",
    "    eff_mass_x_arr = np.zeros(len(V_0_eff_mass_range))\n",
    "    eff_mass_y_arr = np.zeros(len(V_0_eff_mass_range))\n",
    "    for i in range(len(V_0_eff_mass_range)):\n",
    "        V_0 = V_0_eff_mass_range[i]\n",
    "    \n",
    "        self_E_prime = find_first_deriv_self_energy(V_0, params[\"tx\"], params[\"ty\"], params[\"B\"], h)\n",
    "        eff_mass_x, eff_mass_y = calc_eff_mass(self_E_prime, V_0, params[\"tx\"], params[\"ty\"], params[\"B\"])\n",
    "\n",
    "        eff_mass_x_arr[i] = eff_mass_x\n",
    "        eff_mass_y_arr[i] = eff_mass_y\n",
    "        \n",
    "        print('V_0,eff_mass =', V_0, eff_mass_x, eff_mass_y)\n",
    "    return eff_mass_x_arr, eff_mass_y_arr"
   ]
  },
  {
   "cell_type": "markdown",
   "metadata": {},
   "source": [
    "### Perturbative effective masses"
   ]
  },
  {
   "cell_type": "code",
   "execution_count": 16,
   "metadata": {},
   "outputs": [
    {
     "name": "stdout",
     "output_type": "stream",
     "text": [
      "Eff Mass cal for B =  1 :\n",
      "\n",
      "V_0,eff_mass = 0.0 0.005 0.005\n",
      "V_0,eff_mass = 0.02 0.005000000096517659 0.005000000096517659\n",
      "V_0,eff_mass = 0.04 0.005000000386070155 0.005000000386070155\n",
      "V_0,eff_mass = 0.2 0.00500000965170191 0.00500000965170191\n",
      "V_0,eff_mass = 0.4 0.005000038601909213 0.005000038601909213\n",
      "V_0,eff_mass = 0.6 0.005000086836158923 0.005000086836158923\n",
      "V_0,eff_mass = 1.0 0.005000241050755745 0.005000241050755745\n",
      "V_0,eff_mass = 4.0 0.00500379932953154 0.00500379932953154\n",
      "V_0,eff_mass = 6.0 0.005008392524175616 0.005008392524175616\n",
      "\n",
      "Eff Mass cal for B =  100 :\n",
      "\n",
      "V_0,eff_mass = 0.0 0.005 0.005\n",
      "V_0,eff_mass = 0.02 0.00500000002288498 0.00500000002288498\n",
      "V_0,eff_mass = 0.04 0.005000000091539918 0.005000000091539918\n",
      "V_0,eff_mass = 0.2 0.005000002288495321 0.005000002288495321\n",
      "V_0,eff_mass = 0.4 0.005000009153951468 0.005000009153951468\n",
      "V_0,eff_mass = 0.6 0.005000020596272084 0.005000020596272084\n",
      "V_0,eff_mass = 1.0 0.005000057210841966 0.005000057210841966\n",
      "V_0,eff_mass = 4.0 0.005000914988917966 0.005000914988917966\n",
      "V_0,eff_mass = 6.0 0.005002057572723313 0.005002057572723313\n"
     ]
    }
   ],
   "source": [
    "V_0_eff_mass_range = np.array([0.0,0.02,0.04,0.2,0.4,0.6,1,4.0,6.0])  #np.linspace(0,1,11) #np.append(V_0_range1, V_0_range2)\n",
    "\n",
    "params[\"B\"] = 1\n",
    "params[\"tx\"] = 100\n",
    "params[\"ty\"] = 100 \n",
    "print('Eff Mass cal for B = ', params[\"B\"], ':\\n')\n",
    "eff_mass1_x_B_1, eff_mass1_y_B_1 = eff_mass_V_0_range(V_0_eff_mass_range, params)\n",
    "\n",
    "params[\"B\"] = 100\n",
    "params[\"tx\"] = 100\n",
    "params[\"ty\"] = 100\n",
    "print('\\nEff Mass cal for B = ', params[\"B\"], ':\\n')\n",
    "eff_mass1_x_B_200, eff_mass1_y_B_200 = eff_mass_V_0_range(V_0_eff_mass_range, params)"
   ]
  },
  {
   "cell_type": "markdown",
   "metadata": {},
   "source": [
    "Function to get the variational energies."
   ]
  },
  {
   "cell_type": "code",
   "execution_count": 17,
   "metadata": {},
   "outputs": [],
   "source": [
    "def get_E_arr_eff_mass(V_0_range, folder, check_sys, check_sym):\n",
    "    h5_io_object = h_in.io_hdf5()\n",
    "    \n",
    "    E_arr = np.zeros(len(V_0_range), dtype=complex)\n",
    "    for i in range(len(V_0_range)):\n",
    "        check_sys_n = check_sys+'_V0_'+str(V_0_range[i])+'_'\n",
    "        file_list = [f for f in os.listdir(folder) if check_sys_n in f and check_sym in f]\n",
    "\n",
    "        if len(file_list) > 1: \n",
    "            break\n",
    "        for file in file_list:\n",
    "            file_name = folder+file\n",
    "            psi, params = h5_io_object.get_psi(file_name)\n",
    "\n",
    "            energy_object = energy.energy(params=params)\n",
    "            E, E_T, E_B, E_V = energy_object.calc_energy(psi)\n",
    "            E_arr[i] = E\n",
    "    return E_arr"
   ]
  },
  {
   "cell_type": "code",
   "execution_count": 18,
   "metadata": {},
   "outputs": [
    {
     "name": "stdout",
     "output_type": "stream",
     "text": [
      "V_0 : [ 0.    0.02  0.04  0.2   0.4   0.6   4.    6.   10.  ]\n",
      "E q=0 : [-400.        +0.00000000e+00j -400.00000233+6.42975374e-24j\n",
      " -400.00000955-8.89158026e-25j -400.00024808+1.64151177e-23j\n",
      " -400.0009993 +1.63813372e-23j -400.0022547 -8.14201342e-23j\n",
      " -400.10082448+1.52266584e-20j -400.22696785-4.96800835e-21j\n",
      "    0.        +0.00000000e+00j]\n",
      "E qx=1 : [-399.03694533+0.00000000e+00j -399.03694767+1.52387248e-21j\n",
      " -399.03695493-1.99397289e-20j -399.03719534-2.77564762e-15j\n",
      " -399.03795324+1.50943017e-20j -399.03922101+2.77533829e-15j\n",
      " -399.1390014 -1.38449365e-15j -399.26682307-5.54738257e-15j\n",
      "    0.        +0.00000000e+00j]\n",
      "E qy=1 : [-399.03694533+0.00000000e+00j -399.03694767-2.82224803e-20j\n",
      " -399.03695493-6.96322836e-20j -399.03719534-4.16338316e-15j\n",
      " -399.03795324+9.71432133e-15j -399.03922101+2.63676999e-14j\n",
      " -399.1390014 -1.66566938e-14j -399.26682307-3.46966226e-14j\n",
      "    0.        +0.00000000e+00j]\n"
     ]
    }
   ],
   "source": [
    "tx = 100\n",
    "ty = 100\n",
    "t = tx+ty\n",
    "\n",
    "V_eff_mass_vGH = np.array([0.0,0.02,0.04,0.2,0.4,0.6,4.0,6.0,10]) # np.array([0.0,0.02,0.04,0.2,0.4,0.6])\n",
    "\n",
    "params[\"Mx\"] = 64\n",
    "params[\"My\"] = 64\n",
    "\n",
    "check_sys = 'tx_100.0_ty_100.0'\n",
    "check_sym = '_B_1.0_Mx_'+str(params[\"Mx\"])+'_My_'+str(params[\"My\"])+'_qx_0_qy_0'\n",
    "folder = 'results/eff_mass/fo/'\n",
    "E_vGH1_q0 = get_E_arr_eff_mass(V_eff_mass_vGH, folder, check_sys, check_sym)\n",
    "\n",
    "check_sys = 'tx_100.0_ty_100.0'\n",
    "check_sym = '_B_1.0_Mx_'+str(params[\"Mx\"])+'_My_'+str(params[\"My\"])+'_qx_1_qy_0'\n",
    "folder = 'results/eff_mass/fo/'\n",
    "E_vGH1_qx = get_E_arr_eff_mass(V_eff_mass_vGH, folder, check_sys, check_sym)\n",
    "\n",
    "check_sys = 'tx_100.0_ty_100.0'\n",
    "check_sym = '_B_1.0_Mx_'+str(params[\"Mx\"])+'_My_'+str(params[\"My\"])+'_qx_0_qy_1'\n",
    "folder = 'results/eff_mass/fo/'\n",
    "E_vGH1_qy = get_E_arr_eff_mass(V_eff_mass_vGH, folder, check_sys, check_sym)\n",
    "\n",
    "print('V_0 :', V_eff_mass_vGH)\n",
    "print('E q=0 :', E_vGH1_q0)\n",
    "print('E qx=1 :', E_vGH1_qx)\n",
    "print('E qy=1 :', E_vGH1_qy)"
   ]
  },
  {
   "cell_type": "code",
   "execution_count": 19,
   "metadata": {},
   "outputs": [],
   "source": [
    "def var_eff_mass(E_q, E_0, t, M):\n",
    "    m_0_finite_diff = (t*M**2*(1-np.cos(2*np.pi/M))/np.pi**2)**(-1)\n",
    "    return ((2*(E_q-E_0)/(2*np.pi/M)**2)**(-1))/m_0_finite_diff"
   ]
  },
  {
   "cell_type": "code",
   "execution_count": 20,
   "metadata": {},
   "outputs": [
    {
     "name": "stdout",
     "output_type": "stream",
     "text": [
      "m vGH = [ 0.    0.02  0.04  0.2   0.4   0.6   4.    6.   10.  ] [1.         1.00000001 1.00000005 1.000002   1.00000893 1.00002178\n",
      " 1.00128047 1.00303067        nan]\n",
      "m pert = [0.   0.02 0.04 0.2  0.4  0.6  1.   4.   6.  ] [1.         1.00000002 1.00000008 1.00000193 1.00000772 1.00001737\n",
      " 1.00004821 1.00075987 1.0016785 ]\n",
      "ratio m at V_0 = 0 : 1.0000000000000093\n"
     ]
    },
    {
     "name": "stderr",
     "output_type": "stream",
     "text": [
      "/tmp/ipykernel_226783/545042794.py:3: RuntimeWarning: invalid value encountered in reciprocal\n",
      "  return ((2*(E_q-E_0)/(2*np.pi/M)**2)**(-1))/m_0_finite_diff\n"
     ]
    },
    {
     "data": {
      "image/png": "[encoded data removed]",
      "text/plain": [
       "<Figure size 421.38x297.99 with 1 Axes>"
      ]
     },
     "metadata": {
      "needs_background": "light"
     },
     "output_type": "display_data"
    }
   ],
   "source": [
    "eff_mass_x_0 = 1/(2*tx)\n",
    "eff_mass_y_0 = 1/(2*ty)\n",
    "\n",
    "eff_mass_x_vGH_ratio = var_eff_mass(E_vGH1_qx, E_vGH1_q0, tx, 64).real #/eff_mass_x_0\n",
    "eff_mass1_x_B_1_ratio = eff_mass1_x_B_1/eff_mass_x_0\n",
    "eff_mass1_x_B_200_ratio = eff_mass1_x_B_200/eff_mass_x_0\n",
    "fac = eff_mass_x_vGH_ratio[0]/eff_mass1_x_B_1_ratio[0]\n",
    "\n",
    "print('m vGH =', V_eff_mass_vGH, eff_mass_x_vGH_ratio)\n",
    "print('m pert =', V_0_eff_mass_range, eff_mass1_x_B_1_ratio)\n",
    "\n",
    "#print(eff_mass1_x_B_1_ratio-eff_mass_x_vGH_ratio)\n",
    "print('ratio m at V_0 = 0 :', fac)\n",
    "\n",
    "plt.plot(V_eff_mass_vGH/200, eff_mass_x_vGH_ratio-1, marker='x') # - ((eff_mass_x_vGH.real/0.005)[0]-(eff_mass1_x_B_2/0.005)[0])\n",
    "plt.plot(V_0_eff_mass_range/200, eff_mass1_x_B_1_ratio-1, marker='x')\n",
    "#plt.plot(V_0_eff_mass_range/200, 0.0001*V_0_eff_mass_range**2)\n",
    "#plt.xlim(0,0.005)\n",
    "#plt.ylim(-0.001,0.01)\n",
    "plt.xscale('log')\n",
    "plt.yscale('log')\n",
    "\n",
    "plt.tick_params(axis='x', direction='in', length=6, top=True)\n",
    "plt.tick_params(axis='y', direction='in', length=6, right=True)\n",
    "plt.tick_params(axis='x', which='minor', direction='in', length=3, top=True)\n",
    "plt.tick_params(axis='y', which='minor', direction='in', length=3, right=True)\n",
    "\n",
    "plt.tick_params(which='minor', axis='y', direction='in', right=True)\n",
    "\n",
    "#plt.scatter(V_eff_mass_vGH/t, eff_mass_to_plot(eff_mass_x_vGH.real, eff_mass_x_0), marker='x')"
   ]
  },
  {
   "cell_type": "code",
   "execution_count": 21,
   "metadata": {},
   "outputs": [],
   "source": [
    "def eff_mass_to_plot(eff_mass, eff_mass_0):\n",
    "    return eff_mass/eff_mass_0 - 1"
   ]
  },
  {
   "cell_type": "code",
   "execution_count": 22,
   "metadata": {},
   "outputs": [
    {
     "ename": "NameError",
     "evalue": "name 'v' is not defined",
     "output_type": "error",
     "traceback": [
      "\u001b[0;31m---------------------------------------------------------------------------\u001b[0m",
      "\u001b[0;31mNameError\u001b[0m                                 Traceback (most recent call last)",
      "Cell \u001b[0;32mIn[22], line 22\u001b[0m\n\u001b[1;32m     19\u001b[0m plt\u001b[38;5;241m.\u001b[39mplot(V_0_eff_mass_range[\u001b[38;5;241m3\u001b[39m:\u001b[38;5;241m6\u001b[39m]\u001b[38;5;241m/\u001b[39mt, eff_mass_to_plot(eff_mass1_x_B_1, eff_mass_x_0)[\u001b[38;5;241m3\u001b[39m:\u001b[38;5;241m6\u001b[39m], label\u001b[38;5;241m=\u001b[39m\u001b[38;5;124mr\u001b[39m\u001b[38;5;124m'\u001b[39m\u001b[38;5;124mBW pert.\u001b[39m\u001b[38;5;124m'\u001b[39m)\n\u001b[1;32m     20\u001b[0m \u001b[38;5;66;03m#plt.plot(V_0_eff_mass_range[3:6]/t, eff_mass_to_plot(eff_mass1_x_B_200, eff_mass_y_0)[3:6], label=r'$B = 10^{0}t$')\u001b[39;00m\n\u001b[0;32m---> 22\u001b[0m \u001b[38;5;28mprint\u001b[39m(\u001b[38;5;28mlen\u001b[39m(\u001b[43mv\u001b[49m))\n\u001b[1;32m     23\u001b[0m v \u001b[38;5;241m=\u001b[39m eff_mass_x_vGH_ratio\u001b[38;5;241m.\u001b[39mreal[\u001b[38;5;241m3\u001b[39m:\u001b[38;5;241m6\u001b[39m]\u001b[38;5;241m-\u001b[39m\u001b[38;5;241m1\u001b[39m\n\u001b[1;32m     24\u001b[0m verr \u001b[38;5;241m=\u001b[39m np\u001b[38;5;241m.\u001b[39marray([\u001b[38;5;241m1e-6\u001b[39m,\u001b[38;5;241m5e-6\u001b[39m,\u001b[38;5;241m1e-5\u001b[39m]) \u001b[38;5;66;03m#np.ones(len(eff_mass_x_vGH_ratio.real[1:]))*1e-5\u001b[39;00m\n",
      "\u001b[0;31mNameError\u001b[0m: name 'v' is not defined"
     ]
    },
    {
     "data": {
      "image/png": "[encoded data removed]",
      "text/plain": [
       "<Figure size 421.38x297.99 with 1 Axes>"
      ]
     },
     "metadata": {
      "needs_background": "light"
     },
     "output_type": "display_data"
    }
   ],
   "source": [
    "tx = 100\n",
    "ty = 100\n",
    "\n",
    "t = tx+ty\n",
    "\n",
    "eff_mass_x_0 = 1/(2*tx)\n",
    "eff_mass_y_0 = 1/(2*ty)\n",
    "\n",
    "A = 6\n",
    "plt.rc('figure', figsize=[46.82 * .5**(.5 * A), 33.11 * .5**(.5 * A)])\n",
    "plt.rc('text', usetex=True)\n",
    "plt.rc('font', family='serif')\n",
    "font_size = 20\n",
    "\n",
    "fig, axs = plt.subplots()\n",
    "\n",
    "plt.title(r'$\\Delta_t = 0,B=0.5\\cdot 10^{-2}t$', fontsize=font_size)\n",
    "\n",
    "plt.plot(V_0_eff_mass_range[3:6]/t, eff_mass_to_plot(eff_mass1_x_B_1, eff_mass_x_0)[3:6], label=r'BW pert.')\n",
    "#plt.plot(V_0_eff_mass_range[3:6]/t, eff_mass_to_plot(eff_mass1_x_B_200, eff_mass_y_0)[3:6], label=r'$B = 10^{0}t$')\n",
    "\n",
    "print(len(v))\n",
    "v = eff_mass_x_vGH_ratio.real[3:6]-1\n",
    "verr = np.array([1e-6,5e-6,1e-5]) #np.ones(len(eff_mass_x_vGH_ratio.real[1:]))*1e-5\n",
    "verr2 = np.array(verr)\n",
    "verr2[verr>=v] = v[verr>=v]*.999999\n",
    "\n",
    "#plt.scatter(V_eff_mass_vGH[3:6]/t, eff_mass_x_vGH_ratio[3:6].real-1, marker='x')\n",
    "plt.errorbar(V_eff_mass_vGH[3:6]/t, eff_mass_x_vGH_ratio.real[3:6]-1, yerr=[verr2,verr], capsize=5, capthick=1, label=r'vGH')\n",
    "#plt.scatter(V_eff_mass_vGH/t, eff_mass_to_plot(eff_mass_x_vGH.real, eff_mass_x_0), marker='x')\n",
    "\n",
    "plt.plot(V_0_eff_mass_range[3:6]/200, 5e-5*V_0_eff_mass_range[3:6]**2, color='grey', linestyle='dashed', label=r'$1+5\\cdot 10^{-5}V_0^2$')\n",
    "\n",
    "\n",
    "plt.xlabel(r'$V_0/t$', fontsize=font_size)\n",
    "plt.ylabel(r'$m^*_x/m^*_0 - 1$', fontsize=font_size)\n",
    "\n",
    "plt.xticks(fontsize=font_size)\n",
    "plt.yticks(fontsize=font_size)\n",
    "\n",
    "axs.set_xscale('log', base=10)\n",
    "axs.set_yscale('log', base=10) \n",
    "\n",
    "axs.legend(fontsize=15, loc=2)\n",
    "\n",
    "plt.tick_params(axis='x', direction='in', length=6, top=True)\n",
    "plt.tick_params(axis='y', direction='in', length=6, right=True)\n",
    "plt.tick_params(axis='x', which='minor', direction='in', length=3, top=True)\n",
    "plt.tick_params(axis='y', which='minor', direction='in', length=3, right=True)\n",
    "\n",
    "plt.tick_params(which='minor', axis='y', direction='in', right=True)\n",
    "plt.savefig('results/perturbation_theory/pert_eff_mass_tx_100_ty_100.svg', bbox_inches='tight')"
   ]
  },
  {
   "cell_type": "code",
   "execution_count": 23,
   "metadata": {},
   "outputs": [
    {
     "ename": "NameError",
     "evalue": "name 'v' is not defined",
     "output_type": "error",
     "traceback": [
      "\u001b[0;31m---------------------------------------------------------------------------\u001b[0m",
      "\u001b[0;31mNameError\u001b[0m                                 Traceback (most recent call last)",
      "Cell \u001b[0;32mIn[23], line 22\u001b[0m\n\u001b[1;32m     19\u001b[0m plt\u001b[38;5;241m.\u001b[39mplot(V_0_eff_mass_range[\u001b[38;5;241m3\u001b[39m:\u001b[38;5;241m6\u001b[39m]\u001b[38;5;241m/\u001b[39mt, eff_mass_to_plot(eff_mass1_x_B_1, eff_mass_x_0)[\u001b[38;5;241m3\u001b[39m:\u001b[38;5;241m6\u001b[39m], label\u001b[38;5;241m=\u001b[39m\u001b[38;5;124mr\u001b[39m\u001b[38;5;124m'\u001b[39m\u001b[38;5;124m$B = 0.5\u001b[39m\u001b[38;5;124m\\\u001b[39m\u001b[38;5;124mcdot 10^\u001b[39m\u001b[38;5;124m{\u001b[39m\u001b[38;5;124m-2}t$\u001b[39m\u001b[38;5;124m'\u001b[39m)\n\u001b[1;32m     20\u001b[0m plt\u001b[38;5;241m.\u001b[39mplot(V_0_eff_mass_range[\u001b[38;5;241m3\u001b[39m:\u001b[38;5;241m6\u001b[39m]\u001b[38;5;241m/\u001b[39mt, eff_mass_to_plot(eff_mass1_x_B_200, eff_mass_y_0)[\u001b[38;5;241m3\u001b[39m:\u001b[38;5;241m6\u001b[39m], label\u001b[38;5;241m=\u001b[39m\u001b[38;5;124mr\u001b[39m\u001b[38;5;124m'\u001b[39m\u001b[38;5;124m$B = 10^\u001b[39m\u001b[38;5;132;01m{0}\u001b[39;00m\u001b[38;5;124mt$\u001b[39m\u001b[38;5;124m'\u001b[39m)\n\u001b[0;32m---> 22\u001b[0m \u001b[38;5;28mprint\u001b[39m(\u001b[38;5;28mlen\u001b[39m(\u001b[43mv\u001b[49m))\n\u001b[1;32m     23\u001b[0m v \u001b[38;5;241m=\u001b[39m eff_mass_x_vGH_ratio\u001b[38;5;241m.\u001b[39mreal[\u001b[38;5;241m3\u001b[39m:\u001b[38;5;241m6\u001b[39m]\u001b[38;5;241m-\u001b[39m\u001b[38;5;241m1\u001b[39m\n\u001b[1;32m     24\u001b[0m verr \u001b[38;5;241m=\u001b[39m np\u001b[38;5;241m.\u001b[39marray([\u001b[38;5;241m1e-6\u001b[39m,\u001b[38;5;241m5e-6\u001b[39m,\u001b[38;5;241m1e-5\u001b[39m]) \u001b[38;5;66;03m#np.ones(len(eff_mass_x_vGH_ratio.real[1:]))*1e-5\u001b[39;00m\n",
      "\u001b[0;31mNameError\u001b[0m: name 'v' is not defined"
     ]
    },
    {
     "data": {
      "image/png": "[encoded data removed]",
      "text/plain": [
       "<Figure size 421.38x297.99 with 1 Axes>"
      ]
     },
     "metadata": {
      "needs_background": "light"
     },
     "output_type": "display_data"
    }
   ],
   "source": [
    "tx = 100\n",
    "ty = 100\n",
    "\n",
    "t = tx+ty\n",
    "\n",
    "eff_mass_x_0 = 1/(2*tx)\n",
    "eff_mass_y_0 = 1/(2*ty)\n",
    "\n",
    "A = 6\n",
    "plt.rc('figure', figsize=[46.82 * .5**(.5 * A), 33.11 * .5**(.5 * A)])\n",
    "plt.rc('text', usetex=True)\n",
    "plt.rc('font', family='serif')\n",
    "font_size = 20\n",
    "\n",
    "fig, axs = plt.subplots()\n",
    "\n",
    "plt.title(r'BW pert., $\\Delta_t = 0$', fontsize=font_size)\n",
    "\n",
    "plt.plot(V_0_eff_mass_range[3:6]/t, eff_mass_to_plot(eff_mass1_x_B_1, eff_mass_x_0)[3:6], label=r'$B = 0.5\\cdot 10^{-2}t$')\n",
    "plt.plot(V_0_eff_mass_range[3:6]/t, eff_mass_to_plot(eff_mass1_x_B_200, eff_mass_y_0)[3:6], label=r'$B = 10^{0}t$')\n",
    "\n",
    "print(len(v))\n",
    "v = eff_mass_x_vGH_ratio.real[3:6]-1\n",
    "verr = np.array([1e-6,5e-6,1e-5]) #np.ones(len(eff_mass_x_vGH_ratio.real[1:]))*1e-5\n",
    "verr2 = np.array(verr)\n",
    "verr2[verr>=v] = v[verr>=v]*.999999\n",
    "\n",
    "#plt.scatter(V_eff_mass_vGH[3:6]/t, eff_mass_x_vGH_ratio[3:6].real-1, marker='x')\n",
    "#plt.errorbar(V_eff_mass_vGH[3:6]/t, eff_mass_x_vGH_ratio.real[3:6]-1, yerr=[verr2,verr], capsize=5, capthick=1, label=r'vGH')\n",
    "#plt.scatter(V_eff_mass_vGH/t, eff_mass_to_plot(eff_mass_x_vGH.real, eff_mass_x_0), marker='x')\n",
    "\n",
    "plt.plot(V_0_eff_mass_range[3:6]/200, 5e-5*V_0_eff_mass_range[3:6]**2, color='grey', linestyle='dashed', label=r'$1+5\\cdot 10^{-5}V_0^2$')\n",
    "\n",
    "\n",
    "plt.xlabel(r'$V_0/t$', fontsize=font_size)\n",
    "plt.ylabel(r'$m^*_x/m^*_0 - 1$', fontsize=font_size)\n",
    "\n",
    "plt.xticks(fontsize=font_size)\n",
    "plt.yticks(fontsize=font_size)\n",
    "\n",
    "axs.set_xscale('log', base=10)\n",
    "axs.set_yscale('log', base=10) \n",
    "\n",
    "axs.legend(fontsize=14, loc=2)\n",
    "\n",
    "plt.tick_params(axis='x', direction='in', length=6, top=True)\n",
    "plt.tick_params(axis='y', direction='in', length=6, right=True)\n",
    "plt.tick_params(axis='x', which='minor', direction='in', length=3, top=True)\n",
    "plt.tick_params(axis='y', which='minor', direction='in', length=3, right=True)\n",
    "\n",
    "plt.tick_params(which='minor', axis='y', direction='in', right=True)\n",
    "plt.savefig('results/perturbation_theory/pert_eff_mass_tx_100_ty_100_bw_comp.svg', bbox_inches='tight')"
   ]
  },
  {
   "cell_type": "code",
   "execution_count": null,
   "metadata": {},
   "outputs": [],
   "source": [
    "plt.plot(V_0_eff_mass_range/t, eff_mass1_x_B_2)\n",
    "plt.plot(V_0_eff_mass_range/t, eff_mass1_x_B_200)"
   ]
  },
  {
   "cell_type": "markdown",
   "metadata": {},
   "source": [
    "### Effective 1D Ferro-Domain Energies"
   ]
  },
  {
   "cell_type": "code",
   "execution_count": 24,
   "metadata": {},
   "outputs": [
    {
     "name": "stdout",
     "output_type": "stream",
     "text": [
      "[-199.99948987+3.21195727e-22j -199.94908526+4.07927098e-21j\n",
      " -199.94917748-1.77190629e-20j -199.95194821-3.73389934e-20j\n",
      " -199.96049266+5.04412588e-20j -241.68278079-2.06048656e-17j\n",
      " -312.94099689-4.96869109e-18j -392.7950885 -6.80177302e-17j\n",
      " -477.80985735-1.03577770e-16j -567.10643045+8.25989648e-17j\n",
      " -660.93529663+3.03933429e-17j]\n",
      "[ 5.10127514e-04+3.21195727e-22j  5.09147369e-02+4.07927098e-21j\n",
      "  5.08225202e-02-1.77190629e-20j  4.80517905e-02-3.73389934e-20j\n",
      "  3.95073387e-02+5.04412588e-20j -4.16827808e+01-2.06048656e-17j\n",
      " -1.12940997e+02-4.96869109e-18j -1.92795088e+02-6.80177302e-17j\n",
      " -2.77809857e+02-1.03577770e-16j -3.67106430e+02+8.25989648e-17j\n",
      " -4.60935297e+02+3.03933429e-17j]\n"
     ]
    }
   ],
   "source": [
    "V_eff_1D = np.array([0.0,0.02,0.04,0.2,0.4,30.0,60.0,90.0,120.0,150.0,180.0])\n",
    "t = 200 \n",
    "\n",
    "params[\"Mx\"] = 2\n",
    "params[\"My\"] = 256\n",
    "\n",
    "check_sys = 'tx_0_ty_100'\n",
    "check_sym = '_B_2.0_Mx_'+str(params[\"Mx\"])+'_My_'+str(params[\"My\"])+'_qx_0_qy_0'\n",
    "folder = 'results/perturbation_theory/tx_0_ty_100/'\n",
    "E_vGH1_eff1D = get_E_arr_eff_mass(V_eff_1D, folder, check_sys, check_sym)\n",
    "\n",
    "print(E_vGH1_eff1D)\n",
    "print(E_vGH1_eff1D+2*100)"
   ]
  },
  {
   "cell_type": "code",
   "execution_count": 25,
   "metadata": {},
   "outputs": [],
   "source": [
    "V_0_range1 = np.linspace(0,10,21) \n",
    "V_0_range2 = np.linspace(15,100,18)\n",
    "\n",
    "V_0_range_eff_1D = V_eff_1D.copy() # np.linspace(0,200,21) #np.append(V_0_range1, V_0_range2)"
   ]
  },
  {
   "cell_type": "code",
   "execution_count": 26,
   "metadata": {},
   "outputs": [
    {
     "name": "stdout",
     "output_type": "stream",
     "text": [
      "\n",
      "Perturbative Calculations:\n",
      "V0 = 0.0 , E = 0j\n",
      "V0 = 0.02 , E = (-2.8213624643693536e-05+0j)\n",
      "V0 = 0.04 , E = (-0.00011285209884597009+0j)\n",
      "V0 = 0.2 , E = (-0.002819386035197789+0j)\n",
      "V0 = 0.4 , E = (-0.011253754557567545+0j)\n",
      "V0 = 30.0 , E = (-19.09717680756454+0j)\n",
      "V0 = 60.0 , E = (-47.99999999999999+0j)\n",
      "V0 = 90.0 , E = (-80.94275220818233+0j)\n",
      "V0 = 120.0 , E = (-116.30497544930594+0j)\n",
      "V0 = 150.0 , E = (-153.26123443818352+0j)\n",
      "V0 = 180.0 , E = (-191.3284450982931+0j)\n",
      "[-200.        +0.j -200.00002821+0.j -200.00011285+0.j -200.00281939+0.j\n",
      " -200.01125375+0.j -219.09717681+0.j -248.        +0.j -280.94275221+0.j\n",
      " -316.30497545+0.j -353.26123444+0.j -391.3284451 +0.j]\n"
     ]
    }
   ],
   "source": [
    "params[\"B\"] = 2.0\n",
    "params[\"tx\"] = 0.0\n",
    "params[\"ty\"] = 100.0\n",
    "t = params[\"tx\"] + params[\"ty\"]\n",
    "Ep_pert_eff_1D_v1_B_2 = pert_pot_scan(params, V_0_range_eff_1D)\n",
    "E_pert1_eff_1D_v1_B_2 = get_E_from_Ep(Ep_pert_eff_1D_v1_B_2, params[\"tx\"], params[\"ty\"])\n",
    "\n",
    "print(E_pert1_eff_1D_v1_B_2)"
   ]
  },
  {
   "cell_type": "code",
   "execution_count": 27,
   "metadata": {},
   "outputs": [
    {
     "name": "stdout",
     "output_type": "stream",
     "text": [
      "0.07053456158585983\n",
      "[-2.82136246e-05+0.j -1.12852099e-04+0.j -2.81938604e-03+0.j\n",
      " -1.12537546e-02+0.j]\n",
      "[0.00051013+3.21195727e-22j 0.05091474+4.07927098e-21j\n",
      " 0.05082252-1.77190629e-20j 0.04805179-3.73389934e-20j\n",
      " 0.03950734+5.04412588e-20j]\n"
     ]
    },
    {
     "name": "stderr",
     "output_type": "stream",
     "text": [
      "/nfs/scistore12/lemesgrp/fkluiben/.local/lib/python3.9/site-packages/matplotlib/cbook/__init__.py:1335: ComplexWarning: Casting complex values to real discards the imaginary part\n",
      "  return np.asarray(x, float)\n"
     ]
    },
    {
     "data": {
      "image/png": "[encoded data removed]",
      "text/plain": [
       "<Figure size 421.38x297.99 with 1 Axes>"
      ]
     },
     "metadata": {
      "needs_background": "light"
     },
     "output_type": "display_data"
    }
   ],
   "source": [
    "scale_fac = 2/(2*(2+4*100))**0.5\n",
    "print(scale_fac)\n",
    "\n",
    "plt.plot(V_eff_1D[1:5]/200, Ep_pert_eff_1D_v1_B_2[1:5]/scale_fac, marker='x')\n",
    "plt.plot(V_eff_1D[1:5]/200, (E_vGH1_eff1D[1:5]+200)/scale_fac.real, marker='x')\n",
    "#plt.plot(V_eff_1D[1:5]/200, (E_vGH1_eff1D[1:5]-E_vGH1_eff1D[0])/t, marker='x')\n",
    "\n",
    "print(Ep_pert_eff_1D_v1_B_2[1:5])\n",
    "print(E_vGH1_eff1D[0:5]+200)\n",
    "#plt.xscale('log')\n",
    "#plt.yscale('log')"
   ]
  },
  {
   "cell_type": "code",
   "execution_count": 28,
   "metadata": {},
   "outputs": [],
   "source": [
    "def E_fd_analytic(V_0, B, t):\n",
    "    return -2*V_0**2/(np.sqrt(B*(B+4*t)))\n",
    "\n",
    "def find_Ep_eff_1D(V_0, t, B):\n",
    "    Ep_implicit = lambda Ep: Ep+2*V_0**2/np.sqrt((B+2*t-Ep)**2 - 4*t**2)\n",
    "    Ep_min = scipy.optimize.fsolve(Ep_implicit, [guess_Ep_eff_1D(V_0)])\n",
    "    return Ep_min\n",
    "    \n",
    "def guess_Ep_eff_1D(V_0):\n",
    "    return -0.004649*V_0**2-0.07471*V_0+0.8718"
   ]
  },
  {
   "cell_type": "code",
   "execution_count": 29,
   "metadata": {},
   "outputs": [
    {
     "name": "stdout",
     "output_type": "stream",
     "text": [
      "[0.0e+00 2.0e-02 4.0e-02 2.0e-01 4.0e-01 3.0e+01 6.0e+01 9.0e+01 1.2e+02\n",
      " 1.5e+02 1.8e+02] [ 5.10127514e-04+3.21195727e-22j  5.09147369e-02+4.07927098e-21j\n",
      "  5.08225202e-02-1.77190629e-20j  4.80517905e-02-3.73389934e-20j\n",
      "  3.95073387e-02+5.04412588e-20j -4.16827808e+01-2.06048656e-17j\n",
      " -1.12940997e+02-4.96869109e-18j -1.92795088e+02-6.80177302e-17j\n",
      " -2.77809857e+02-1.03577770e-16j -3.67106430e+02+8.25989648e-17j\n",
      " -4.60935297e+02+3.03933429e-17j]\n",
      "[0.0e+00 2.0e-02 4.0e-02 2.0e-01 4.0e-01 3.0e+01 6.0e+01 9.0e+01 1.2e+02\n",
      " 1.5e+02 1.8e+02] [ 3.55844897e-21 -2.82136246e-05 -1.12852099e-04 -2.81938604e-03\n",
      " -1.12537546e-02 -1.90971768e+01 -4.80000000e+01 -8.09427522e+01\n",
      " -1.16304975e+02 -1.53261234e+02 -1.91328445e+02]\n",
      "[0.0e+00 2.0e-02 4.0e-02 2.0e-01 4.0e-01 3.0e+01 6.0e+01 9.0e+01 1.2e+02\n",
      " 1.5e+02 1.8e+02] [ 0.00000000e+00+0.j -2.82136246e-05+0.j -1.12852099e-04+0.j\n",
      " -2.81938604e-03+0.j -1.12537546e-02+0.j -1.90971768e+01+0.j\n",
      " -4.80000000e+01+0.j -8.09427522e+01+0.j -1.16304975e+02+0.j\n",
      " -1.53261234e+02+0.j -1.91328445e+02+0.j]\n",
      "[-3.55844897e-21+0.j -8.59951894e-16+0.j -3.43880469e-15+0.j\n",
      "  8.68229100e-16+0.j  3.50240670e-15+0.j  1.30073374e-09+0.j\n",
      " -6.32596198e-10+0.j -3.72894249e-09+0.j  5.90672755e-09+0.j\n",
      " -2.74786771e-09+0.j  2.13873363e-10+0.j]\n"
     ]
    }
   ],
   "source": [
    "Ep_eff_1D_test = find_Ep_eff_1D(V_0_range_eff_1D, 100, 2)\n",
    "E_eff_1D_test = get_E_from_Ep(Ep_eff_1D_test, 0, 200)\n",
    "\n",
    "print(V_eff_1D, E_vGH1_eff1D+2*100)\n",
    "print(V_0_range_eff_1D, Ep_eff_1D_test)\n",
    "print(V_0_range_eff_1D, Ep_pert_eff_1D_v1_B_2)\n",
    "\n",
    "print(Ep_pert_eff_1D_v1_B_2 - Ep_eff_1D_test)"
   ]
  },
  {
   "cell_type": "code",
   "execution_count": 30,
   "metadata": {},
   "outputs": [
    {
     "data": {
      "text/plain": [
       "[<matplotlib.lines.Line2D at 0x7f577acb09d0>]"
      ]
     },
     "execution_count": 30,
     "metadata": {},
     "output_type": "execute_result"
    },
    {
     "data": {
      "image/png": "[encoded data removed]",
      "text/plain": [
       "<Figure size 421.38x297.99 with 1 Axes>"
      ]
     },
     "metadata": {
      "needs_background": "light"
     },
     "output_type": "display_data"
    }
   ],
   "source": [
    "fig, axs = plt.subplots()\n",
    "\n",
    "plt.plot(V_eff_1D/200, E_vGH1_eff1D.real/100)\n",
    "plt.plot(V_0_range_eff_1D/200, -2+Ep_eff_1D_test/100)\n",
    "plt.plot(V_0_range_eff_1D/200, -2-2*2**0.5*V_0_range_eff_1D/100)\n",
    "#plt.plot(V_0_range/100, -E_to_plot(E_pert1_B_1.real, 100))\n",
    "#plt.plot(V_0_range_eff_1D/200, -E_to_plot(E_eff_1D_test.real, 100))\n",
    "\n",
    "#plt.xscale('log', base=10)\n",
    "#plt.yscale('log', base=10)\n",
    "\n",
    "#axs.invert_yaxis()"
   ]
  },
  {
   "cell_type": "code",
   "execution_count": 31,
   "metadata": {},
   "outputs": [
    {
     "ename": "NameError",
     "evalue": "name 'E_pert1_B_1' is not defined",
     "output_type": "error",
     "traceback": [
      "\u001b[0;31m---------------------------------------------------------------------------\u001b[0m",
      "\u001b[0;31mNameError\u001b[0m                                 Traceback (most recent call last)",
      "Cell \u001b[0;32mIn[31], line 4\u001b[0m\n\u001b[1;32m      1\u001b[0m fig, axs \u001b[38;5;241m=\u001b[39m plt\u001b[38;5;241m.\u001b[39msubplots()\n\u001b[1;32m      3\u001b[0m plt\u001b[38;5;241m.\u001b[39mplot(V_eff_1D\u001b[38;5;241m/\u001b[39m\u001b[38;5;241m200\u001b[39m, E_vGH1_eff1D\u001b[38;5;241m.\u001b[39mreal\u001b[38;5;241m/\u001b[39m\u001b[38;5;241m100\u001b[39m, marker\u001b[38;5;241m=\u001b[39m\u001b[38;5;124m'\u001b[39m\u001b[38;5;124mx\u001b[39m\u001b[38;5;124m'\u001b[39m)\n\u001b[0;32m----> 4\u001b[0m plt\u001b[38;5;241m.\u001b[39mplot(V_0_range\u001b[38;5;241m/\u001b[39m\u001b[38;5;241m200\u001b[39m, \u001b[38;5;241m-\u001b[39m\u001b[38;5;241m2\u001b[39m\u001b[38;5;241m+\u001b[39m\u001b[43mE_pert1_B_1\u001b[49m\u001b[38;5;241m.\u001b[39mreal\u001b[38;5;241m/\u001b[39m\u001b[38;5;241m200\u001b[39m)\n\u001b[1;32m      5\u001b[0m plt\u001b[38;5;241m.\u001b[39mplot(V_0_range_eff_1D\u001b[38;5;241m/\u001b[39m\u001b[38;5;241m200\u001b[39m, E_pert1_eff_1D_v1_B_2\u001b[38;5;241m.\u001b[39mreal\u001b[38;5;241m/\u001b[39m\u001b[38;5;241m100\u001b[39m)\n\u001b[1;32m      6\u001b[0m \u001b[38;5;66;03m#plt.plot(V_0_range_eff_1D/200, E_fd_analytic(V_0_range_eff_1D, 1, 100)/200-2)\u001b[39;00m\n\u001b[1;32m      7\u001b[0m \u001b[38;5;66;03m#plt.plot(V_0_range_eff_1D/200, (-2*100-np.sqrt(2)*V_0_range_eff_1D)/100)\u001b[39;00m\n",
      "\u001b[0;31mNameError\u001b[0m: name 'E_pert1_B_1' is not defined"
     ]
    },
    {
     "data": {
      "image/png": "[encoded data removed]",
      "text/plain": [
       "<Figure size 421.38x297.99 with 1 Axes>"
      ]
     },
     "metadata": {
      "needs_background": "light"
     },
     "output_type": "display_data"
    }
   ],
   "source": [
    "fig, axs = plt.subplots()\n",
    "\n",
    "plt.plot(V_eff_1D/200, E_vGH1_eff1D.real/100, marker='x')\n",
    "plt.plot(V_0_range/200, -2+E_pert1_B_1.real/200)\n",
    "plt.plot(V_0_range_eff_1D/200, E_pert1_eff_1D_v1_B_2.real/100)\n",
    "#plt.plot(V_0_range_eff_1D/200, E_fd_analytic(V_0_range_eff_1D, 1, 100)/200-2)\n",
    "#plt.plot(V_0_range_eff_1D/200, (-2*100-np.sqrt(2)*V_0_range_eff_1D)/100)\n",
    "\n",
    "plt.plot(V_0_range_eff_1D/200, E_eff_1D_test/50)\n",
    "\n",
    "#plt.xscale('log', base=10)\n",
    "#plt.yscale('log', base=10)\n",
    "\n",
    "#axs.invert_yaxis()"
   ]
  },
  {
   "cell_type": "code",
   "execution_count": 33,
   "metadata": {},
   "outputs": [
    {
     "ename": "NameError",
     "evalue": "name 'E_pert1_B_1' is not defined",
     "output_type": "error",
     "traceback": [
      "\u001b[0;31m---------------------------------------------------------------------------\u001b[0m",
      "\u001b[0;31mNameError\u001b[0m                                 Traceback (most recent call last)",
      "Cell \u001b[0;32mIn[33], line 1\u001b[0m\n\u001b[0;32m----> 1\u001b[0m plt\u001b[38;5;241m.\u001b[39mplot(V_0_range\u001b[38;5;241m/\u001b[39m\u001b[38;5;241m200\u001b[39m, \u001b[43mE_pert1_B_1\u001b[49m\u001b[38;5;241m.\u001b[39mreal\u001b[38;5;241m/\u001b[39m\u001b[38;5;241m100\u001b[39m)\n",
      "\u001b[0;31mNameError\u001b[0m: name 'E_pert1_B_1' is not defined"
     ]
    }
   ],
   "source": [
    "plt.plot(V_0_range/200, E_pert1_B_1.real/100)"
   ]
  },
  {
   "cell_type": "code",
   "execution_count": 34,
   "metadata": {},
   "outputs": [
    {
     "data": {
      "text/plain": [
       "array([0.0e+00, 2.0e-02, 4.0e-02, 2.0e-01, 4.0e-01, 3.0e+01, 6.0e+01,\n",
       "       9.0e+01, 1.2e+02, 1.5e+02, 1.8e+02])"
      ]
     },
     "execution_count": 34,
     "metadata": {},
     "output_type": "execute_result"
    }
   ],
   "source": [
    "V_eff_1D"
   ]
  },
  {
   "cell_type": "markdown",
   "metadata": {},
   "source": [
    "### TODO: make here a comparison in the strong coupling and weak coupling as one can find it in conventional polaron literature! i.e. compare Mathieu functions in the strong coupling with BW perturbation theory in the weak coupling. It suffices to do this for one or two symmetry realizations!"
   ]
  },
  {
   "cell_type": "markdown",
   "metadata": {},
   "source": [
    "## Strong Coupling pseudo Lang-Firsov transformation"
   ]
  },
  {
   "cell_type": "code",
   "execution_count": 35,
   "metadata": {},
   "outputs": [],
   "source": [
    "def mathieu_energies(V_0, B, t):\n",
    "    '''\n",
    "    NOTE: the evaluation of the wavefunctions doesn't work for very large values of mathieu_param, i.e. for small B's there are problems!\n",
    "    '''\n",
    "    mathieu_param = 2*V_0/B\n",
    "    E = (B/4)*4*scipy.special.mathieu_a(0, mathieu_param)\n",
    "    \n",
    "    return E\n",
    "\n",
    "def E_to_plot_mathieu(E, t):\n",
    "    return E/t #(E+2*t)/t #E/t #(E+2*t)/t"
   ]
  },
  {
   "cell_type": "markdown",
   "metadata": {},
   "source": [
    "First, we compute the Mathieu energies for the desired coupling values. "
   ]
  },
  {
   "cell_type": "code",
   "execution_count": 36,
   "metadata": {},
   "outputs": [],
   "source": [
    "t = 200\n",
    "\n",
    "'''\n",
    "B = 2.0\n",
    "'''\n",
    "V_0_mathieu1 = np.array([200,400,600,800,1000,2000,10000,20000,100000,200000])\n",
    "E_mathieu_B_2 = mathieu_energies(V_0=V_0_mathieu1, B=2, t=t)\n",
    "\n",
    "'''\n",
    "B = 2000.0\n",
    "'''\n",
    "V_0_mathieu2 = np.array([1000,2000,10000,20000,100000,200000])\n",
    "E_mathieu_B_200 = mathieu_energies(V_0=V_0_mathieu2, B=2000, t=t)"
   ]
  },
  {
   "cell_type": "markdown",
   "metadata": {},
   "source": [
    "Second, we get the results of the vGH wavefunctions."
   ]
  },
  {
   "cell_type": "code",
   "execution_count": 37,
   "metadata": {},
   "outputs": [],
   "source": [
    "V_0_mathieu_vGH1 = np.array([200,400,600,800,1000])\n",
    "\n",
    "check_sys = 'tx_100_ty_100'\n",
    "check_sym = '_B_2.0_Mx_8_My_8_qx_0_qy_0'\n",
    "folder = 'results/perturbation_theory/tx_100_ty_100/sp/'\n",
    "E_vGH_mathieu_B_2 = get_E_arr(V_0_mathieu_vGH1, folder, check_sys, check_sym)\n",
    "\n",
    "V_0_mathieu_vGH2 = np.array([1000,2000,10000,20000,100000,200000])\n",
    "\n",
    "check_sys = 'tx_100_ty_100'\n",
    "check_sym = '_B_2000.0_Mx_16_My_16_qx_0_qy_0'\n",
    "folder = 'results/perturbation_theory/tx_100_ty_100/sp/'\n",
    "E_vGH_mathieu_B_200 = get_E_arr(V_0_mathieu_vGH2, folder, check_sys, check_sym)"
   ]
  },
  {
   "cell_type": "markdown",
   "metadata": {},
   "source": [
    "Let's compare the numbers before plotting them."
   ]
  },
  {
   "cell_type": "code",
   "execution_count": 38,
   "metadata": {},
   "outputs": [
    {
     "ename": "NameError",
     "evalue": "name 'V_0_mathieu' is not defined",
     "output_type": "error",
     "traceback": [
      "\u001b[0;31m---------------------------------------------------------------------------\u001b[0m",
      "\u001b[0;31mNameError\u001b[0m                                 Traceback (most recent call last)",
      "Cell \u001b[0;32mIn[38], line 1\u001b[0m\n\u001b[0;32m----> 1\u001b[0m \u001b[38;5;28mprint\u001b[39m(\u001b[38;5;124m'\u001b[39m\u001b[38;5;124mV,E Mathieu for B=2 :\u001b[39m\u001b[38;5;124m'\u001b[39m, \u001b[43mV_0_mathieu\u001b[49m, E_mathieu_B_2)\n\u001b[1;32m      2\u001b[0m \u001b[38;5;28mprint\u001b[39m(\u001b[38;5;124m'\u001b[39m\u001b[38;5;124mV,E vGH for B=2 :\u001b[39m\u001b[38;5;124m'\u001b[39m, V_0_mathieu_vGH, E_vGH_mathieu_B_2)\n\u001b[1;32m      4\u001b[0m \u001b[38;5;28mprint\u001b[39m(\u001b[38;5;124m'\u001b[39m\u001b[38;5;130;01m\\n\u001b[39;00m\u001b[38;5;124mV,E Mathieu for B=200 :\u001b[39m\u001b[38;5;124m'\u001b[39m, V_0_mathieu, E_mathieu_B_200)\n",
      "\u001b[0;31mNameError\u001b[0m: name 'V_0_mathieu' is not defined"
     ]
    }
   ],
   "source": [
    "print('V,E Mathieu for B=2 :', V_0_mathieu, E_mathieu_B_2)\n",
    "print('V,E vGH for B=2 :', V_0_mathieu_vGH, E_vGH_mathieu_B_2)\n",
    "\n",
    "print('\\nV,E Mathieu for B=200 :', V_0_mathieu, E_mathieu_B_200)\n",
    "print('V,E vGH for B=200 :', V_0_mathieu_vGH2, E_vGH_mathieu_B_200)"
   ]
  },
  {
   "cell_type": "markdown",
   "metadata": {},
   "source": [
    "### Result comparison between vGH and Mathieu energies"
   ]
  },
  {
   "cell_type": "markdown",
   "metadata": {},
   "source": [
    "Here we just show that the vGH Ansatz reduces to the Mathieu basis in the strong coupling regime. Right now we don't do perturbation theory in the tunnelings. "
   ]
  },
  {
   "cell_type": "code",
   "execution_count": 48,
   "metadata": {},
   "outputs": [
    {
     "data": {
      "image/png": "[encoded data removed]",
      "text/plain": [
       "<Figure size 421.38x297.99 with 1 Axes>"
      ]
     },
     "metadata": {
      "needs_background": "light"
     },
     "output_type": "display_data"
    }
   ],
   "source": [
    "A = 6\n",
    "plt.rc('figure', figsize=[46.82 * .5**(.5 * A), 33.11 * .5**(.5 * A)])\n",
    "plt.rc('text', usetex=True)\n",
    "plt.rc('font', family='serif')\n",
    "font_size = 20\n",
    "\n",
    "fig, axs = plt.subplots()\n",
    "\n",
    "plt.suptitle(r'FSP, $\\Delta_t = 0$', fontsize=font_size)\n",
    "\n",
    "axs.plot(V_0_mathieu_vGH1/t, -E_to_plot_mathieu(E_vGH_mathieu_B_2,t).real, color='tab:blue', linestyle='solid', label=r'$B = 10^{-2} t$')\n",
    "axs.plot(V_0_mathieu1/t, -E_to_plot_mathieu(E_mathieu_B_2,t).real, color='tab:blue', linestyle='dashed')\n",
    "\n",
    "axs.plot(V_0_mathieu_vGH2/t, -E_to_plot_mathieu(E_vGH_mathieu_B_200,t).real, color='tab:orange', linestyle='solid', label=r'$B = 10^{1} t$')\n",
    "axs.plot(V_0_mathieu2/t, -E_to_plot_mathieu(E_mathieu_B_200,t).real, color='tab:orange', linestyle='dashed')\n",
    "\n",
    "plt.xlabel(r'$V_0/t$', fontsize=font_size)\n",
    "plt.ylabel(r'$E/t$', fontsize=font_size)\n",
    "\n",
    "#plt.xticks([1.0,2.0,3.0,4.0], fontsize=font_size)\n",
    "#plt.yticks([-2,-6,-10,-14], fontsize=font_size)\n",
    "\n",
    "axs.set_xscale('log', base=10)\n",
    "axs.set_yscale('log', base=10)\n",
    "\n",
    "axs.invert_yaxis()\n",
    "axs.set_xticks([1e0,1e1,1e2,1e3],[r'$10^{0}$',r'$10^{1}$',r'$10^{2}$',r'$10^{3}$'], fontsize=font_size)\n",
    "axs.set_yticks([1e1,1e2,1e3],[r'$-10^{1}$',r'$-10^{2}$',r'$-10^{3}$'], fontsize=font_size)\n",
    "\n",
    "axs.plot(np.linspace(1.1,2.2,100), 0.3e3*np.ones(100), linestyle='solid', color='black')\n",
    "axs.plot(np.linspace(1.1,2.2,100), 0.9e3*np.ones(100), linestyle='dashed', color='black')\n",
    "\n",
    "axs.annotate('vGH', xy=(2.5,0.35e3), fontsize=font_size)\n",
    "axs.annotate('pseudo Lang-Firsov', xy=(2.5,1e3), fontsize=font_size)\n",
    "\n",
    "axs.legend(fontsize=font_size, loc=1)\n",
    "\n",
    "plt.tick_params(axis='x', direction='in', length=6, top=True)\n",
    "plt.tick_params(axis='y', direction='in', length=6, right=True)\n",
    "plt.tick_params(axis='x', which='minor', direction='in', length=3, top=True)\n",
    "plt.tick_params(axis='y', which='minor', direction='in', length=3, right=True)\n",
    "\n",
    "plt.tick_params(which='minor', axis='y', direction='in', right=True)\n",
    "\n",
    "plt.savefig('results/perturbation_theory/strong_coupling_B_comp_tx_100_ty_100.svg', bbox_inches='tight')"
   ]
  },
  {
   "cell_type": "markdown",
   "metadata": {},
   "source": [
    "We can also compare the Mathieu characteristic energies with the harmonic oscillator approximation, $\\epsilon_k \\approx 4\\left(\\sqrt{B V_0 / 2} - V_0\\right)$."
   ]
  },
  {
   "cell_type": "code",
   "execution_count": 40,
   "metadata": {},
   "outputs": [
    {
     "data": {
      "image/png": "[encoded data removed]",
      "text/plain": [
       "<Figure size 421.38x297.99 with 1 Axes>"
      ]
     },
     "metadata": {
      "needs_background": "light"
     },
     "output_type": "display_data"
    }
   ],
   "source": [
    "A = 6\n",
    "plt.rc('figure', figsize=[46.82 * .5**(.5 * A), 33.11 * .5**(.5 * A)])\n",
    "plt.rc('text', usetex=True)\n",
    "plt.rc('font', family='serif')\n",
    "font_size = 20\n",
    "\n",
    "fig, axs = plt.subplots()\n",
    "\n",
    "plt.suptitle(r'$t_x=t_y=\\frac{1}{2}t$', fontsize=font_size)\n",
    "\n",
    "axs.plot(V_0_mathieu1/t, -E_to_plot_mathieu(E_mathieu_B_2,t).real, color='tab:blue', linestyle='solid', label=r'$B = 10^{-2} t$')\n",
    "axs.plot(V_0_mathieu1/t, -E_to_plot_mathieu(-4*V_0_mathieu1+4*(2/2)**0.5*V_0_mathieu1**0.5,t).real, color='tab:blue', linestyle='dashed')\n",
    "\n",
    "axs.plot(V_0_mathieu2/t, -E_to_plot_mathieu(E_mathieu_B_200,t).real, color='tab:orange', linestyle='solid', label=r'$B = 10^{1} t$')\n",
    "axs.plot(V_0_mathieu2[1:]/t, -E_to_plot_mathieu(-4*V_0_mathieu2+4*(2000/2)**0.5*V_0_mathieu2**0.5,t).real[1:], color='tab:orange', linestyle='dashed')\n",
    "\n",
    "plt.xlabel(r'$V_0/t$', fontsize=font_size)\n",
    "plt.ylabel(r'$E/t$', fontsize=font_size)\n",
    "\n",
    "axs.set_xscale('log', base=10)\n",
    "axs.set_yscale('log', base=10)\n",
    "\n",
    "axs.invert_yaxis()\n",
    "axs.set_xticks([1e0,1e1,1e2,1e3],[r'$10^{0}$',r'$10^{1}$',r'$10^{2}$',r'$10^{3}$'], fontsize=font_size)\n",
    "axs.set_yticks([1e1,1e2,1e3],[r'$-10^{1}$',r'$-10^{2}$',r'$-10^{3}$'], fontsize=font_size)\n",
    "\n",
    "axs.plot(np.linspace(1.1,2.2,100), 0.3e3*np.ones(100), linestyle='solid', color='black')\n",
    "axs.plot(np.linspace(1.1,2.2,100), 0.9e3*np.ones(100), linestyle='dashed', color='black')\n",
    "\n",
    "axs.annotate('p. Lang-Firsov', xy=(2.5,0.35e3), fontsize=font_size)\n",
    "axs.annotate('harm. Osc.', xy=(2.5,1e3), fontsize=font_size)\n",
    "\n",
    "axs.legend(fontsize=font_size, loc=1)\n",
    "\n",
    "plt.tick_params(axis='x', direction='in', length=6, top=True)\n",
    "plt.tick_params(axis='y', direction='in', length=6, right=True)\n",
    "plt.tick_params(axis='x', which='minor', direction='in', length=3, top=True)\n",
    "plt.tick_params(axis='y', which='minor', direction='in', length=3, right=True)\n",
    "\n",
    "plt.tick_params(which='minor', axis='y', direction='in', right=True)"
   ]
  },
  {
   "cell_type": "markdown",
   "metadata": {},
   "source": [
    "### More rigorous estimate for the validity of the Mathieu approximation\n",
    "\n",
    "TODO: this section is not finished yet. The main goal is to show in what regimes the Mathieu approximation holds based on the product of overlap and tunneling integral."
   ]
  },
  {
   "cell_type": "code",
   "execution_count": 41,
   "metadata": {},
   "outputs": [],
   "source": [
    "def overlap_null(n, V_0, B):\n",
    "    x = (2*np.pi/n)*np.arange(n)\n",
    "    mathieu_parameter = 2*V_0/B\n",
    "\n",
    "    psi_l0 = n**(-0.5)*np.ones(n,dtype=complex)\n",
    "\n",
    "    # top left\n",
    "    y, yp = scipy.special.mathieu_cem(0, mathieu_parameter, (x-3*np.pi/4)/2*180/np.pi)\n",
    "    ytl = y/np.sqrt(np.sum(y*y))\n",
    "\n",
    "    # top right\n",
    "    y, yp = scipy.special.mathieu_cem(0, mathieu_parameter, (x-np.pi/4)/2*180/np.pi)\n",
    "    ytr = y/np.sqrt(np.sum(y*y))\n",
    "\n",
    "    # bottom left\n",
    "    y, yp = scipy.special.mathieu_cem(0, mathieu_parameter, (x+3*np.pi/4)/2*180/np.pi)\n",
    "    ybl = y/np.sqrt(np.sum(y*y))\n",
    "        \n",
    "    # bottom right\n",
    "    y, yp = scipy.special.mathieu_cem(0, mathieu_parameter, (x+np.pi/4)/2*180/np.pi)\n",
    "    ybr = y/np.sqrt(np.sum(y*y))\n",
    "\n",
    "    Ot = np.sum(ytl*psi_l0)*np.sum(ytr*ytl)*np.sum(psi_l0*ytr)\n",
    "    Ob = np.sum(psi_l0*ybl)*np.sum(ybl*ybr)*np.sum(ybr*psi_l0)\n",
    "\n",
    "    Ol = np.sum(psi_l0*ybl)*np.sum(ybl*ytl)*np.sum(ytl*psi_l0)\n",
    "    Or = np.sum(psi_l0*ybr)*np.sum(ybr*ytr)*np.sum(ytr*psi_l0)\n",
    "\n",
    "    Osum = Ot+Ob+Ol+Or\n",
    "    #print(Ot, Ob, Ol, Or)\n",
    "    return Ot\n",
    "\n",
    "def overlap_one_or(n, V_0, B):\n",
    "    x = (2*np.pi/n)*np.arange(n)\n",
    "    mathieu_parameter = 2*V_0/B\n",
    "\n",
    "    psi_l0 = n**(-0.5)*np.ones(n,dtype=complex)\n",
    "    \n",
    "    psi_l1 = (1/(2*np.pi)**0.5)*np.exp(-1j*x) #np.sin(x,dtype=complex)\n",
    "    #psi_l1 = psi_l1/np.sqrt(np.sum(psi_l1*psi_l1))\n",
    "    \n",
    "    # top left\n",
    "    y, yp = scipy.special.mathieu_cem(0, mathieu_parameter, (x-3*np.pi/4)/2*180/np.pi)\n",
    "    ytl = y/np.sqrt(np.sum(y*y))\n",
    "\n",
    "    y, yp = scipy.special.mathieu_sem(1, mathieu_parameter, (x-3*np.pi/4)/2*180/np.pi)\n",
    "    ytl1 = y/np.sqrt(np.sum(y*y))\n",
    "    \n",
    "    # top right\n",
    "    y, yp = scipy.special.mathieu_cem(0, mathieu_parameter, (x-np.pi/4)/2*180/np.pi)\n",
    "    ytr = y/np.sqrt(np.sum(y*y))\n",
    "    \n",
    "    y, yp = scipy.special.mathieu_sem(1, mathieu_parameter, (x-np.pi/4)/2*180/np.pi)\n",
    "    ytr1 = y/np.sqrt(np.sum(y*y))\n",
    "    \n",
    "    # bottom left\n",
    "    y, yp = scipy.special.mathieu_cem(0, mathieu_parameter, (x+3*np.pi/4)/2*180/np.pi)\n",
    "    ybl = y/np.sqrt(np.sum(y*y))\n",
    "        \n",
    "    # bottom right\n",
    "    y, yp = scipy.special.mathieu_cem(0, mathieu_parameter, (x+np.pi/4)/2*180/np.pi)\n",
    "    ybr = y/np.sqrt(np.sum(y*y))\n",
    "\n",
    "    Ot = np.sum(np.conjugate(psi_l0)*ytl)*np.sum(np.conjugate(ytl)*ytr)*np.sum(np.conjugate(ytr)*psi_l1)\n",
    "    Ot1 = np.sum(np.conjugate(psi_l0)*ytl)*np.sum(np.conjugate(ytl)*ytr1)*np.sum(np.conjugate(ytr1)*psi_l0)\n",
    "    Ot2 = np.sum(np.conjugate(psi_l0)*ytl1)*np.sum(np.conjugate(ytl1)*ytr)*np.sum(np.conjugate(ytr)*psi_l0)\n",
    "    Ob = np.sum(np.conjugate(psi_l1)*ybl)*np.sum(np.conjugate(ybl)*ybr)*np.sum(np.conjugate(ybr)*psi_l0)\n",
    "\n",
    "    Ol = np.sum(np.conjugate(psi_l0)*ybl)*np.sum(np.conjugate(ybl)*ytl)*np.sum(np.conjugate(ytl)*psi_l1)\n",
    "    Or = np.sum(np.conjugate(psi_l1)*ybr)*np.sum(np.conjugate(ybr)*ytr)*np.sum(np.conjugate(ytr)*psi_l0)\n",
    "\n",
    "    Osum = Ot+Ob+Ol+Or\n",
    "    #print(Ot1,Ot2,Ot1+Ot2)\n",
    "    #print(Ot, Ob, Ol, Or)\n",
    "    return Ot\n",
    "\n",
    "#print('mathieu = ', E)\n",
    "#    overlap_arr = np.zeros(len(V_0), dtype=complex)\n",
    "#    for i in range(len(V_0)):\n",
    "#        overlap_arr[i] = overlap_null(n=256, V_0=V_0[i], B=B)\n",
    "#        print(overlap_arr[i])\n",
    "        \n",
    "        #overlap_arr[i] += np.absolute(overlap_one_or(n=256, V_0=V_0[i], B=B))\n",
    "        #print(overlap_arr[i])"
   ]
  },
  {
   "cell_type": "code",
   "execution_count": 42,
   "metadata": {},
   "outputs": [],
   "source": [
    "tx = 100\n",
    "ty = 100\n",
    "t = 200\n",
    "\n",
    "V_0_pert_test = 100000\n",
    "\n",
    "B_arr = np.array([2,20,200,400,2000]) #np.array([2,4,6,10,20,40,100,200,300]) #\n",
    "\n",
    "overlap_zero = np.zeros(len(B_arr), dtype=complex)\n",
    "overlap_exc = np.zeros(len(B_arr), dtype=complex)\n",
    "for i in range(len(B_arr)):\n",
    "    overlap_zero[i] = overlap_null(n=256, V_0=V_0_pert_test, B=B_arr[i])\n",
    "    overlap_exc[i] = overlap_one_or(n=256, V_0=V_0_pert_test, B=B_arr[i])\n",
    "\n",
    "tx_Or_00 = tx*overlap_zero/t\n",
    "tx_Or_01 = -tx*overlap_exc/t"
   ]
  },
  {
   "cell_type": "code",
   "execution_count": 43,
   "metadata": {},
   "outputs": [
    {
     "name": "stdout",
     "output_type": "stream",
     "text": [
      "[1993.67794567 1980.02503137 1937.00544694 1911.06012405 1802.53249152]\n",
      "[           nan+nanj            nan+nanj 5.07824597e-06 +0.j\n",
      " 1.01567220e-04 +0.j 6.61330407e-03 +0.j]\n"
     ]
    }
   ],
   "source": [
    "print(-(B_arr/4)*4*scipy.special.mathieu_a(0, 2*V_0_pert_test/B_arr)/t)\n",
    "print(tx_Or_00)"
   ]
  },
  {
   "cell_type": "code",
   "execution_count": 44,
   "metadata": {},
   "outputs": [
    {
     "data": {
      "text/plain": [
       "[<matplotlib.lines.Line2D at 0x7f577a7bd730>]"
      ]
     },
     "execution_count": 44,
     "metadata": {},
     "output_type": "execute_result"
    },
    {
     "data": {
      "image/png": "[encoded data removed]",
      "text/plain": [
       "<Figure size 421.38x297.99 with 1 Axes>"
      ]
     },
     "metadata": {
      "needs_background": "light"
     },
     "output_type": "display_data"
    }
   ],
   "source": [
    "plt.plot(B_arr/t, tx_Or_00)\n",
    "plt.plot(B_arr/t, tx_Or_01)\n",
    "plt.plot(B_arr/t, -(B_arr/4)*4*scipy.special.mathieu_a(0, 2*V_0_pert_test/B_arr)/t)"
   ]
  },
  {
   "cell_type": "code",
   "execution_count": 45,
   "metadata": {},
   "outputs": [
    {
     "name": "stderr",
     "output_type": "stream",
     "text": [
      "/tmp/ipykernel_226783/770083785.py:6: RuntimeWarning: invalid value encountered in divide\n",
      "  y = y/np.sqrt(np.sum(y*y))\n",
      "/tmp/ipykernel_226783/770083785.py:9: RuntimeWarning: invalid value encountered in divide\n",
      "  y1 = y1/np.sqrt(np.sum(y1*y1))\n"
     ]
    },
    {
     "data": {
      "text/plain": [
       "[<matplotlib.lines.Line2D at 0x7f577a6d1d60>]"
      ]
     },
     "execution_count": 45,
     "metadata": {},
     "output_type": "execute_result"
    },
    {
     "data": {
      "image/png": "[encoded data removed]",
      "text/plain": [
       "<Figure size 421.38x297.99 with 1 Axes>"
      ]
     },
     "metadata": {
      "needs_background": "light"
     },
     "output_type": "display_data"
    }
   ],
   "source": [
    "n = 256\n",
    "x = (2*np.pi/n)*np.arange(n)\n",
    "\n",
    "mathieu_parameter = 2*2000/2.0\n",
    "y, yp = scipy.special.mathieu_cem(0, mathieu_parameter, (x-3*np.pi/4)/2*180/np.pi)\n",
    "y = y/np.sqrt(np.sum(y*y))\n",
    "\n",
    "y1, yp = scipy.special.mathieu_cem(0, mathieu_parameter, (x-np.pi/4)/2*180/np.pi)\n",
    "y1 = y1/np.sqrt(np.sum(y1*y1))\n",
    "\n",
    "mathieu_parameter = 2*50\n",
    "ye, yp = scipy.special.mathieu_cem(0, mathieu_parameter, (x-3*np.pi/4)/2*180/np.pi)\n",
    "ye = ye/np.sqrt(np.sum(ye*ye))\n",
    "\n",
    "ye1, yp = scipy.special.mathieu_cem(0, mathieu_parameter, (x-np.pi/4)/2*180/np.pi)\n",
    "ye1 = ye1/np.sqrt(np.sum(ye1*ye1))\n",
    "\n",
    "plt.plot(x,y)\n",
    "plt.plot(x,y1)\n",
    "\n",
    "plt.plot(x,ye)\n",
    "plt.plot(x,ye1)"
   ]
  },
  {
   "cell_type": "code",
   "execution_count": 46,
   "metadata": {},
   "outputs": [
    {
     "data": {
      "text/plain": [
       "[<matplotlib.lines.Line2D at 0x7f577a6ce640>]"
      ]
     },
     "execution_count": 46,
     "metadata": {},
     "output_type": "execute_result"
    },
    {
     "data": {
      "image/png": "[encoded data removed]",
      "text/plain": [
       "<Figure size 421.38x297.99 with 1 Axes>"
      ]
     },
     "metadata": {
      "needs_background": "light"
     },
     "output_type": "display_data"
    }
   ],
   "source": [
    "overlap_mat_exp = np.zeros(len(B_arr), dtype=complex)\n",
    "for i in range(len(B_arr)):\n",
    "    mathieu_parameter = 2*200/B_arr[i]\n",
    "    y1, yp = scipy.special.mathieu_cem(0, mathieu_parameter, (x+3*np.pi/4)/2*180/np.pi)\n",
    "    y1 = y1/np.sqrt(np.sum(y1*y1))\n",
    "\n",
    "    overlap_mat_exp[i] = np.sum(np.conjugate(y1)*(1/(2*np.pi)**0.5)*np.exp(-1j*x))\n",
    "\n",
    "plt.plot(B_arr/t, overlap_mat_exp)"
   ]
  },
  {
   "cell_type": "code",
   "execution_count": null,
   "metadata": {},
   "outputs": [],
   "source": []
  },
  {
   "cell_type": "code",
   "execution_count": null,
   "metadata": {},
   "outputs": [],
   "source": []
  }
 ],
 "metadata": {
  "kernelspec": {
   "display_name": "Python 3 (ipykernel)",
   "language": "python",
   "name": "python3"
  },
  "language_info": {
   "codemirror_mode": {
    "name": "ipython",
    "version": 3
   },
   "file_extension": ".py",
   "mimetype": "text/x-python",
   "name": "python",
   "nbconvert_exporter": "python",
   "pygments_lexer": "ipython3",
   "version": "3.9.9"
  },
  "vscode": {
   "interpreter": {
    "hash": "916dbcbb3f70747c44a77c7bcd40155683ae19c65e1c03b4aa3499c5328201f1"
   }
  }
 },
 "nbformat": 4,
 "nbformat_minor": 4
}
