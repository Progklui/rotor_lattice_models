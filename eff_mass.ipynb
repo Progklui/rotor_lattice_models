{
 "cells": [
  {
   "attachments": {},
   "cell_type": "markdown",
   "metadata": {},
   "source": [
    "# Effective Mass Calculations\n",
    "\n",
    "In this notebook, we compare the perturbation theory calculations with the ones from the vGH Ansatz."
   ]
  },
  {
   "cell_type": "code",
   "execution_count": 2,
   "metadata": {},
   "outputs": [],
   "source": [
    "import numpy as np\n",
    "import autograd.numpy as np\n",
    "from autograd import grad\n",
    "\n",
    "import scipy\n",
    "import matplotlib.pyplot as plt\n",
    "import time, os, sys, gc\n",
    "\n",
    "import h5py \n",
    "\n",
    "import svgutils.transform as sg \n",
    "import sys \n",
    "\n",
    "import matplotlib.patches as patches\n",
    "\n",
    "from scipy.integrate import solve_ivp\n",
    "\n",
    "import class_energy as energy\n",
    "import class_equations_of_motion as eom \n",
    "\n",
    "import class_handle_input as h_in\n",
    "import class_handle_wavefunctions as h_wavef\n",
    "\n",
    "import class_visualization as vis\n",
    "import class_mass_size as mass_size"
   ]
  },
  {
   "cell_type": "code",
   "execution_count": 11,
   "metadata": {},
   "outputs": [],
   "source": [
    "def quick_pot_scan(params, V_0_arr, folder):\n",
    "    h5_io_object = h_in.io_hdf5()\n",
    "\n",
    "    print('\\nvGH Calculations:')\n",
    "    E_arr = np.zeros(len(V_0_arr), dtype=complex)\n",
    "    for i in range(len(V_0_arr)):\n",
    "        print('V0 =', V_0_arr[i])\n",
    "        params[\"V_0\"] = V_0_arr[i]\n",
    "\n",
    "        eom_object = eom.eom(params=params)\n",
    "        wavefunc_object = h_wavef.wavefunctions(params=params)\n",
    "        wfn_manip = h_wavef.wavefunc_operations(params=params)\n",
    "        ''' \n",
    "        Init wavefunction\n",
    "        '''\n",
    "        psi_init = wavefunc_object.create_init_wavefunction(params['init_choice'])\n",
    "        psi_init = wfn_manip.reshape_one_dim(psi_init)\n",
    "        ''' \n",
    "        Imaginary Time Propagation\n",
    "        '''\n",
    "        psi, E_evo, epsilon_evo = eom_object.solve_for_fixed_params_imag_time_prop_new(psi_init)\n",
    "        E_arr[i] = E_evo[-1]\n",
    "\n",
    "        h5_io_object.save_calculation_run(psi, E_evo, epsilon_evo, params, folder)\n",
    "\n",
    "    return E_arr\n",
    "\n",
    "def pert_pot_scan(params, V_0_arr):\n",
    "    print('\\nPerturbative Calculations:')\n",
    "    E_arr = np.zeros(len(V_0_arr), dtype=complex)\n",
    "    for i in range(len(V_0_arr)):\n",
    "        E_min = find_Ep(V_0_arr[i], params[\"tx\"], params[\"ty\"], params[\"B\"], guess_Ep(V_0_arr[i]))\n",
    "        E_arr[i] = E_min[0]\n",
    "        print('V0 =', V_0_arr[i], ', E =', E_arr[i])\n",
    "        \n",
    "    return E_arr\n",
    "\n",
    "def get_Ep_from_E_vGH(E_vGH, tx, ty):\n",
    "    return E_vGH+2*tx+2*ty\n",
    "\n",
    "def get_E_from_Ep(E_vGH, tx, ty):\n",
    "    return E_vGH-2*tx-2*ty\n",
    "\n",
    "def get_E_arr(V_0_range, folder, check_sys, check_sym):\n",
    "    h5_io_object = h_in.io_hdf5()\n",
    "    \n",
    "    E_arr = np.zeros(len(V_0_range), dtype=complex)\n",
    "    for i in range(len(V_0_range)):\n",
    "        check_sys_n = check_sys+'_V0_'+str(V_0_range[i])+'_'\n",
    "        file_list = [f for f in os.listdir(folder) if check_sys_n in f and check_sym in f]\n",
    "        \n",
    "        if len(file_list) > 1: \n",
    "            break\n",
    "        for file in file_list:\n",
    "            file_name = folder+file\n",
    "            psi, params = h5_io_object.get_psi(file_name)\n",
    "\n",
    "            energy_object = energy.energy(params=params)\n",
    "            E, E_T, E_B, E_V = energy_object.calc_energy(psi)\n",
    "            E_arr[i] = E\n",
    "    return E_arr"
   ]
  },
  {
   "attachments": {},
   "cell_type": "markdown",
   "metadata": {},
   "source": [
    "### Define the calculation parameters"
   ]
  },
  {
   "cell_type": "code",
   "execution_count": 4,
   "metadata": {},
   "outputs": [],
   "source": [
    "params = {\"n\": 256,\n",
    "\"M\": 36,\n",
    "\"Mx\": 16,\n",
    "\"Mx_display\": 4,\n",
    "\"converge_new_lattice\": \"no\",\n",
    "\"My\": 16,\n",
    "\"My_display\": 4,\n",
    "\"B\": 1.0,\n",
    "\"tx\": 100,\n",
    "\"ty\": 100,\n",
    "\"V_0\": 150.0,\n",
    "\"qx\": 0,\n",
    "\"qy\": 0,\n",
    "\"init_choice\": \"uniform\",\n",
    "\"external_wf_tag\": \" \",\n",
    "\"excitation_no\": 11,\n",
    "\"angle_pattern\": [0,0,0,0],\n",
    "\"V_0_pattern\": [0,0,0,0],\n",
    "\"n_states\": 0,\n",
    "\"path_to_input_wavefunction\": \" \",\n",
    "\"dt\": 0.001,\n",
    "\"tol\": 1e-10}\n",
    "\n",
    "x = (2*np.pi/params[\"n\"])*np.arange(params[\"n\"])\n",
    "\n",
    "''' \n",
    "I/O Object\n",
    "'''\n",
    "h5_io_object = h_in.io_hdf5()"
   ]
  },
  {
   "cell_type": "markdown",
   "metadata": {},
   "source": [
    "TODO: make plot for the symmetric case that compares with the perturbation theory - now fixed the coupling points for which we want to compare! Cluster calculations for this are running, don't forget to collect them!! Also, a side benefit is that they provide nice convergence with system size calculations now!!"
   ]
  },
  {
   "attachments": {},
   "cell_type": "markdown",
   "metadata": {},
   "source": [
    "## Ferro-Order Effective Masses\n",
    "Read in the vGH calculations from the wavefunctions."
   ]
  },
  {
   "cell_type": "code",
   "execution_count": 43,
   "metadata": {},
   "outputs": [],
   "source": [
    "tx = 100\n",
    "ty = 100\n",
    "t = tx+ty\n",
    "\n",
    "B = 2.0\n",
    "Mx = 80\n",
    "My = 80\n",
    "\n",
    "V_0_range_fo = np.array([2,4,20,40,60,80,100])\n",
    "\n",
    "check_sys = 'tx_100.0_ty_100.0'\n",
    "check_sym = '_B_2.0_Mx_80_My_80_qx_0_qy_0'\n",
    "folder = 'results/eff_mass/fo/'\n",
    "E_vGH_fo_B_2_q0 = get_E_arr(V_0_range_fo, folder, check_sys, check_sym)\n",
    "\n",
    "check_sym = '_B_2.0_Mx_80_My_80_qx_1_qy_0'\n",
    "E_vGH_fo_B_2_qx = get_E_arr(V_0_range_fo, folder, check_sys, check_sym)"
   ]
  },
  {
   "attachments": {},
   "cell_type": "markdown",
   "metadata": {},
   "source": [
    "## Plot the results to show how the energies match!"
   ]
  },
  {
   "cell_type": "code",
   "execution_count": 53,
   "metadata": {},
   "outputs": [],
   "source": [
    "def var_eff_mass(E_q, E_0, t, M):\n",
    "    m_0_finite_diff = (t*M**2*(1-np.cos(2*np.pi/M))/np.pi**2)**(-1)\n",
    "    return ((2*(E_q-E_0)/(2*np.pi/M)**2)**(-1))/m_0_finite_diff"
   ]
  },
  {
   "cell_type": "code",
   "execution_count": 76,
   "metadata": {},
   "outputs": [
    {
     "name": "stdout",
     "output_type": "stream",
     "text": [
      "mx = [1.00026131-9.01009509e-15j 1.00110194+9.02382594e-15j\n",
      " 1.02948376+3.09628763e-14j 1.12157874+5.74958358e-15j\n",
      " 1.28616856-2.62099845e-16j 1.54617687-1.14196437e-14j\n",
      " 1.94922781-9.26774791e-14j]\n",
      "\n",
      "Fit params = [1.00000000e+00 2.00000000e+00 9.08090548e-05]\n"
     ]
    }
   ],
   "source": [
    "import scipy \n",
    "\n",
    "def func(x, a, b, c):\n",
    "    return 1+b*0+c*x**2 #a*np.exp(b*x)+c # \n",
    "    \n",
    "mx_fo = var_eff_mass(E_vGH_fo_B_2_qx, E_vGH_fo_B_2_q0, tx, Mx)\n",
    "print('mx =', mx)\n",
    "\n",
    "\n",
    "popt, pcov = scipy.optimize.curve_fit(func, V_0_range_fo, mx_fo.real, p0 = [1, 2, 1]) #bounds=([30,0,-10], [50, 100, 0]))\n",
    "x_fit = np.linspace(V_0_range_fo[0], V_0_range_fo[-1], 100)\n",
    "y_fit = func(x_fit, *popt)\n",
    "\n",
    "print('\\nFit params =', popt)"
   ]
  },
  {
   "cell_type": "code",
   "execution_count": 79,
   "metadata": {},
   "outputs": [
    {
     "data": {
      "image/png": "[encoded data removed]",
      "text/plain": [
       "<Figure size 421.38x297.99 with 1 Axes>"
      ]
     },
     "metadata": {
      "needs_background": "light"
     },
     "output_type": "display_data"
    }
   ],
   "source": [
    "A = 6\n",
    "plt.rc('figure', figsize=[46.82 * .5**(.5 * A), 33.11 * .5**(.5 * A)])\n",
    "plt.rc('text', usetex=True)\n",
    "plt.rc('font', family='serif')\n",
    "font_size = 20\n",
    "\n",
    "fig, axs = plt.subplots()\n",
    "\n",
    "plt.suptitle(r'a) $t_x=t_y=\\frac{1}{2}t$', fontsize=font_size)\n",
    "\n",
    "axs.plot(V_0_range_fo/t, mx_fo.real, color='tab:blue', marker='x', linestyle='solid', label=r'$B = 10^{-2} t$')\n",
    "axs.plot(x_fit/t, y_fit.real, color='tab:orange', linestyle='dashed', label=r'polynomial fit')\n",
    "\n",
    "plt.xlabel(r'$V_0/t$', fontsize=font_size)\n",
    "plt.ylabel(r'$m_i^*/m_i^0$', fontsize=font_size)\n",
    "\n",
    "plt.xticks(fontsize=font_size)\n",
    "\n",
    "axs.set_xscale('log', base=10)\n",
    "#axs.set_yscale('log', base=10)\n",
    "\n",
    "#axs.invert_yaxis()\n",
    "#axs.set_yticks([1e-1,1e-2,1e-3,1e-4,1e-5],[r'$-10^{-1}$',r'$-10^{-2}$',r'$-10^{-3}$',r'$-10^{-4}$',r'$-10^{-5}$'], fontsize=font_size)\n",
    "\n",
    "#axs.plot(np.linspace(3.1e-3,5e-3,100), 0.75e-2*np.ones(100), linestyle='solid', color='black')\n",
    "#axs.plot(np.linspace(3.1e-3,5e-3,100), 0.27e-1*np.ones(100), linestyle='dashed', color='black')\n",
    "\n",
    "axs.annotate('vGH', xy=(0.6*1e-2,1e-2), fontsize=font_size)\n",
    "axs.annotate('BW pert.', xy=(0.6*1e-2,0.4e-1), fontsize=font_size)\n",
    "\n",
    "axs.legend(fontsize=font_size, loc=2)\n",
    "\n",
    "plt.tick_params(axis='x', direction='in', length=6, top=True)\n",
    "plt.tick_params(axis='y', direction='in', length=6, right=True)\n",
    "plt.tick_params(axis='x', which='minor', direction='in', length=3, top=True)\n",
    "plt.tick_params(axis='y', which='minor', direction='in', length=3, right=True)\n",
    "\n",
    "plt.tick_params(which='minor', axis='y', direction='in', right=True)"
   ]
  },
  {
   "cell_type": "code",
   "execution_count": 50,
   "metadata": {},
   "outputs": [],
   "source": [
    "tx = 100\n",
    "ty = 100\n",
    "t = tx+ty\n",
    "\n",
    "B = 2.0\n",
    "Mx_fdv = 80\n",
    "My_fdv = 80\n",
    "\n",
    "V_0_range_fdv = np.array([100])\n",
    "\n",
    "check_sys = 'tx_100.0_ty_100.0'\n",
    "check_sym = '_B_2.0_Mx_8_My_256_qx_0_qy_0'\n",
    "folder = 'results/eff_mass/fdv/'\n",
    "E_vGH_fdv_B_2_q0 = get_E_arr(V_0_range_fdv, folder, check_sys, check_sym)\n",
    "\n",
    "check_sym = '_B_2.0_Mx_8_My_256_qx_0_qy_1'\n",
    "E_vGH_fdv_B_2_qy = get_E_arr(V_0_range_fdv, folder, check_sys, check_sym)"
   ]
  },
  {
   "cell_type": "code",
   "execution_count": 56,
   "metadata": {},
   "outputs": [
    {
     "name": "stdout",
     "output_type": "stream",
     "text": [
      "mx = [163.44371796-2.2085226e-10j]\n"
     ]
    }
   ],
   "source": [
    "my_fdv = var_eff_mass(E_vGH_fdv_B_2_qy, E_vGH_fdv_B_2_q0, ty, My_fdv)\n",
    "print('my =', my_fdv)"
   ]
  },
  {
   "cell_type": "code",
   "execution_count": null,
   "metadata": {},
   "outputs": [],
   "source": []
  }
 ],
 "metadata": {
  "kernelspec": {
   "display_name": "Python 3 (ipykernel)",
   "language": "python",
   "name": "python3"
  },
  "language_info": {
   "codemirror_mode": {
    "name": "ipython",
    "version": 3
   },
   "file_extension": ".py",
   "mimetype": "text/x-python",
   "name": "python",
   "nbconvert_exporter": "python",
   "pygments_lexer": "ipython3",
   "version": "3.9.9"
  },
  "vscode": {
   "interpreter": {
    "hash": "916dbcbb3f70747c44a77c7bcd40155683ae19c65e1c03b4aa3499c5328201f1"
   }
  }
 },
 "nbformat": 4,
 "nbformat_minor": 4
}
