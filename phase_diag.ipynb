{
 "cells": [
  {
   "cell_type": "code",
   "execution_count": 330,
   "metadata": {
    "editable": true,
    "slideshow": {
     "slide_type": ""
    },
    "tags": []
   },
   "outputs": [],
   "source": [
    "import numpy as np\n",
    "import matplotlib.pyplot as plt\n",
    "import matplotlib\n",
    "import time, os, sys, gc\n",
    "\n",
    "import svgutils.transform as sg \n",
    "\n",
    "import scipy\n",
    "from scipy.interpolate import RegularGridInterpolator\n",
    "\n",
    "import h5py \n",
    "\n",
    "import class_energy as energy\n",
    "\n",
    "import class_handle_input as h_in\n",
    "import class_handle_wavefunctions as h_wavef\n",
    "\n",
    "import class_visualization as vis\n",
    "import class_mass_size as mass_size"
   ]
  },
  {
   "attachments": {},
   "cell_type": "markdown",
   "metadata": {},
   "source": [
    "## Functions for plotting, IO and time propagation\n",
    "\n",
    "First: a function that allows quick plotting of wavefunctions"
   ]
  },
  {
   "cell_type": "code",
   "execution_count": 246,
   "metadata": {},
   "outputs": [],
   "source": [
    "def plot_rotor_wavefunction(x, chosen_My, chosen_Mx, psi):\n",
    "    A = 6\n",
    "    plt.rc('figure', figsize=[46.82 * .5**(.5 * A), 33.11 * .5**(.5 * A)])\n",
    "    ##plt.rc('text', usetex=True)\n",
    "    plt.rc('font', family='serif')\n",
    "    #plt.rc('text.latex', preambler=r'\\usepackage{textgreek}')\n",
    "    font_size = 18 \n",
    "\n",
    "    fig, axs = plt.subplots(chosen_My,chosen_Mx, subplot_kw=dict(polar=True))\n",
    "    #plt.suptitle(r'$V_0 =$'+str(V_0), fontsize=font_size)\n",
    "\n",
    "    for i in range(chosen_My):\n",
    "         for j in range(chosen_Mx):\n",
    "            axs[i, j].plot(x, psi[(i+int(chosen_My/2))%chosen_My,(j+int(chosen_My/2))%chosen_My], color='lightcoral')\n",
    "\n",
    "            axs[i, j].set_yticklabels([])\n",
    "            axs[i, j].set_xticklabels([])\n",
    "            axs[i, j].set_theta_zero_location('E')\n",
    "\n",
    "            axs[i, j].grid(linewidth=0.5)\n",
    "            axs[i, j].spines['polar'].set_linewidth(0.3) #.set_visible(False)\n",
    "\n",
    "    #axs[0, 0].set_theta_zero_location('E')\n",
    "    #lines, labels = axs[0, 0].set_thetagrids((0, 45, 90, 135, 180), (r'0', ' ', r'$\\pi/2$', ' ', r'$\\pi$'))"
   ]
  },
  {
   "cell_type": "code",
   "execution_count": 247,
   "metadata": {},
   "outputs": [],
   "source": [
    "def get_tx_ty(sum, diff):\n",
    "    '''  \n",
    "    Return tx and ty tunneling rates\n",
    "    '''\n",
    "    tx = 0.5*(sum+diff)\n",
    "    ty = 0.5*(sum-diff)\n",
    "    return tx, ty"
   ]
  },
  {
   "attachments": {},
   "cell_type": "markdown",
   "metadata": {},
   "source": [
    "## Define Calculation Parameters"
   ]
  },
  {
   "cell_type": "code",
   "execution_count": 248,
   "metadata": {},
   "outputs": [],
   "source": [
    "params = {\"n\": 256,\n",
    "\"M\": 36,\n",
    "\"Mx\": 6,\n",
    "\"Mx_display\": 4,\n",
    "\"converge_new_lattice\": \"no\",\n",
    "\"My\": 6,\n",
    "\"My_display\": 4,\n",
    "\"B\": 1.0,\n",
    "\"tx\": 100,\n",
    "\"ty\": 100,\n",
    "\"V_0\": 150.0,\n",
    "\"qx\": 0,\n",
    "\"qy\": 0,\n",
    "\"init_choice\": \"ferro_domain_vertical_wall\",\n",
    "\"external_wf_tag\": \" \",\n",
    "\"excitation_no\": 11,\n",
    "\"angle_pattern\": [0,0,0,0],\n",
    "\"V_0_pattern\": [150,150,150,150],\n",
    "\"n_states\": 0,\n",
    "\"path_to_input_wavefunction\": \" \",\n",
    "\"dt\": 0.001,\n",
    "\"tol\": 1e-9}\n",
    "\n",
    "x = (2*np.pi/params[\"n\"])*np.arange(params[\"n\"])\n",
    "\n",
    "Mx = params[\"Mx\"]\n",
    "My = params[\"My\"]\n",
    "\n",
    "n = params[\"n\"]\n",
    "\n",
    "tx = params[\"tx\"]\n",
    "ty = params[\"ty\"]\n",
    "\n",
    "B = params[\"B\"]\n",
    "V_0 = params[\"V_0\"]\n",
    "\n",
    "scale = B \n",
    "\n",
    "\n",
    "''' \n",
    "I/O Object\n",
    "'''\n",
    "h5_io_object = h_in.io_hdf5()"
   ]
  },
  {
   "attachments": {},
   "cell_type": "markdown",
   "metadata": {},
   "source": [
    "Scan specifications"
   ]
  },
  {
   "cell_type": "code",
   "execution_count": 249,
   "metadata": {},
   "outputs": [
    {
     "name": "stdout",
     "output_type": "stream",
     "text": [
      "V_0 = [  0   5  10  15  20  25  30  35  40  45  50  55  60  65  70  75  80  85\n",
      "  90  95 100 105 110 115 120 125 130 135 140 145 150 155 160 165 170 175\n",
      " 180 185 190 195 200 205 210 215 220 225 230 235 240 245 250 255 260 265\n",
      " 270 275 280 285 290 295 300 305 310 315 320 325 330 335 340 345 350] \n",
      "\n",
      "tx,ty = (0.0, 200.0)\n",
      "tx,ty = (12.5, 187.5)\n",
      "tx,ty = (25.0, 175.0)\n",
      "tx,ty = (37.5, 162.5)\n",
      "tx,ty = (50.0, 150.0)\n",
      "tx,ty = (62.5, 137.5)\n",
      "tx,ty = (75.0, 125.0)\n",
      "tx,ty = (87.5, 112.5)\n",
      "tx,ty = (99.5, 100.5)\n",
      "tx,ty = (100.5, 99.5)\n",
      "tx,ty = (112.5, 87.5)\n",
      "tx,ty = (125.0, 75.0)\n",
      "tx,ty = (137.5, 62.5)\n",
      "tx,ty = (150.0, 50.0)\n",
      "tx,ty = (162.5, 37.5)\n",
      "tx,ty = (175.0, 25.0)\n",
      "tx,ty = (187.5, 12.5)\n",
      "tx,ty = (200.0, 0.0)\n"
     ]
    }
   ],
   "source": [
    "sum_tx_ty = 200\n",
    "diff_tx_ty = np.array([-200,-175,-150,-125,-100,-75,-50,-25,-1,1,25,50,75,100,125,150,175,200])\n",
    "V_0_arr = np.arange(0,355,5) #np.array([0,25,50,75,100,125,150,175,200,225,250])\n",
    "\n",
    "print('V_0 =', V_0_arr, '\\n')\n",
    "for i in diff_tx_ty:\n",
    "    print('tx,ty =', get_tx_ty(sum_tx_ty,i))"
   ]
  },
  {
   "cell_type": "code",
   "execution_count": 250,
   "metadata": {},
   "outputs": [],
   "source": [
    "def get_psi_properties(file_path, check_size, check_sym):\n",
    "    h5_io_object = h_in.io_hdf5()\n",
    "    file_list = [f for f in os.listdir(file_path) if check_size in f and check_sym in f]\n",
    "\n",
    "    V_0_arr = np.zeros(len(file_list), dtype=complex)\n",
    "\n",
    "    E_arr = np.zeros(len(file_list), dtype=complex)\n",
    "    B_arr = np.zeros(len(file_list), dtype=complex)\n",
    "    V_arr = np.zeros(len(file_list), dtype=complex)\n",
    "    Tx_arr = np.zeros(len(file_list), dtype=complex)\n",
    "    Ty_arr = np.zeros(len(file_list), dtype=complex)\n",
    "\n",
    "    i = 0\n",
    "    for file in file_list:\n",
    "        psi, params = h5_io_object.get_psi(file_path+file)\n",
    "\n",
    "        energy_object = energy.energy(params=params)\n",
    "\n",
    "        E = energy_object.calc_energy(psi) # in form [E, E_T, E_B, E_V]\n",
    "        Tx, Ty = energy_object.deriv_dE_dt(psi)\n",
    "\n",
    "        E_arr[i] = E[0]\n",
    "        B_arr[i] = E[2]\n",
    "        V_arr[i] = E[3]\n",
    "        Ty_arr[i] = Ty\n",
    "        Tx_arr[i] = Tx\n",
    "\n",
    "        V_0_arr[i] = params['V_0']\n",
    "\n",
    "        i += 1\n",
    "\n",
    "    index_sort = np.argsort(V_0_arr)\n",
    "\n",
    "    V_0_arr = V_0_arr[index_sort]\n",
    "\n",
    "    E_arr = E_arr[index_sort]\n",
    "    B_arr = B_arr[index_sort]\n",
    "    V_arr = V_arr[index_sort]\n",
    "    Tx_arr = Tx_arr[index_sort]\n",
    "    Ty_arr = Ty_arr[index_sort]\n",
    "\n",
    "    return V_0_arr, E_arr, B_arr, V_arr, Tx_arr, Ty_arr"
   ]
  },
  {
   "cell_type": "code",
   "execution_count": 251,
   "metadata": {},
   "outputs": [],
   "source": [
    "def get_e_arr(check_size, sum_tx_ty, diff_tx_ty, file_path):\n",
    "    V_0_order = []\n",
    "    E_order = []\n",
    "    B_order = []\n",
    "    V_order = []\n",
    "    Tx_order = []\n",
    "    Ty_order = []\n",
    "    for j in range(len(diff_tx_ty)):\n",
    "        tx, ty = get_tx_ty(sum_tx_ty, diff_tx_ty[j])\n",
    "\n",
    "        check_sym  = 'tx_'+str(tx)+'_ty_'+str(ty)\n",
    "        V_0_list, E_arr, B_arr, V_arr, Tx_arr, Ty_arr = get_psi_properties(file_path, check_size, check_sym)\n",
    "\n",
    "        V_0_order.append(V_0_list)\n",
    "        E_order.append(E_arr)\n",
    "        B_order.append(B_arr)\n",
    "        V_order.append(V_arr)\n",
    "        Tx_order.append(Tx_arr)\n",
    "        Ty_order.append(Ty_arr)\n",
    "    \n",
    "    V_0_order = np.array([x for x in V_0_order])\n",
    "    E_order = np.array([x for x in E_order])\n",
    "    B_order = np.array([x for x in B_order])\n",
    "    V_order = np.array([x for x in V_order])\n",
    "    Tx_order = np.array([x for x in Tx_order])\n",
    "    Ty_order = np.array([x for x in Ty_order])\n",
    "\n",
    "    return V_0_order, E_order, Tx_order, Ty_order"
   ]
  },
  {
   "cell_type": "code",
   "execution_count": 252,
   "metadata": {},
   "outputs": [
    {
     "name": "stdout",
     "output_type": "stream",
     "text": [
      "Reading results from FO calculations - please wait!\n",
      "Reading results from FDh calculations - please wait!\n",
      "Reading results from SP calculations - please wait!\n"
     ]
    }
   ],
   "source": [
    "''' \n",
    "FO Results\n",
    "'''\n",
    "Mx = 6\n",
    "My = 6\n",
    "check_size = 'Mx_'+str(Mx)+'_My_'+str(My)\n",
    "file_path = 'results/phase_diagram/fo/'\n",
    "\n",
    "print('Reading results from FO calculations - please wait!')\n",
    "V_0_arr, E_arr_fo, Tx_fo, Ty_fo = get_e_arr(check_size, sum_tx_ty, diff_tx_ty, file_path)\n",
    "\n",
    "''' \n",
    "FDh Results\n",
    "'''\n",
    "Mx = 16\n",
    "My = 4\n",
    "check_size = 'Mx_'+str(Mx)+'_My_'+str(My)\n",
    "file_path = 'results/phase_diagram/fdh/'\n",
    "\n",
    "print('Reading results from FDh calculations - please wait!')\n",
    "V_0_arr, E_arr_fdh, Tx_fdh, Ty_fdh = get_e_arr(check_size, sum_tx_ty, diff_tx_ty, file_path)\n",
    "\n",
    "''' \n",
    "SP Results\n",
    "'''\n",
    "Mx = 8\n",
    "My = 8\n",
    "check_size = 'Mx_'+str(Mx)+'_My_'+str(My)\n",
    "file_path = 'results/phase_diagram/sp/'\n",
    "\n",
    "print('Reading results from SP calculations - please wait!')\n",
    "V_0_arr, E_arr_sp, Tx_sp, Ty_sp = get_e_arr(check_size, sum_tx_ty, diff_tx_ty, file_path)"
   ]
  },
  {
   "cell_type": "code",
   "execution_count": 253,
   "metadata": {},
   "outputs": [],
   "source": [
    "''' \n",
    "For now: cheat with FDv calculations\n",
    "'''\n",
    "E_arr_fdv = np.flip(E_arr_fdh.copy(), axis=0)\n",
    "\n",
    "Tx_fdv = np.flip(Ty_fdh.copy(), axis=0)\n",
    "Ty_fdv = np.flip(Tx_fdh.copy(), axis=0)"
   ]
  },
  {
   "cell_type": "code",
   "execution_count": 266,
   "metadata": {},
   "outputs": [],
   "source": [
    "state_no = 0\n",
    "\n",
    "E_gs = np.zeros(E_arr_fo.shape, dtype=complex)\n",
    "Tx_order = np.zeros(E_arr_fo.shape, dtype=complex)\n",
    "Ty_order = np.zeros(E_arr_fo.shape, dtype=complex)\n",
    "\n",
    "for i in range(len(diff_tx_ty)):\n",
    "    for j in range(len(V_0_arr[0])):\n",
    "        E_fo  = E_arr_fo[i,j].real\n",
    "        E_fdv = E_arr_fdv[i,j].real\n",
    "        E_fdh = E_arr_fdh[i,j].real\n",
    "        E_sp  = E_arr_sp[i,j].real\n",
    "\n",
    "        Tx_fo_s  = Tx_fo[i,j]\n",
    "        Tx_fdv_s = Tx_fdv[i,j]\n",
    "        Tx_fdh_s = Tx_fdh[i,j]\n",
    "        Tx_sp_s  = Tx_sp[i,j]\n",
    "\n",
    "        Ty_fo_s  = Ty_fo[i,j]\n",
    "        Ty_fdv_s = Ty_fdv[i,j]\n",
    "        Ty_fdh_s = Ty_fdh[i,j]\n",
    "        Ty_sp_s  = Ty_sp[i,j]\n",
    "\n",
    "        E_arr  = np.array([E_fo,E_fdv,E_fdh,E_sp])\n",
    "        Tx_arr = np.array([Tx_fo_s,Tx_fdv_s,Tx_fdh_s,Tx_sp_s])\n",
    "        Ty_arr = np.array([Ty_fo_s,Ty_fdv_s,Ty_fdh_s,Ty_sp_s])\n",
    "\n",
    "        E_index = np.argsort(E_arr)\n",
    "\n",
    "        E_arr  = E_arr[E_index]\n",
    "        Tx_arr = Tx_arr[E_index]\n",
    "        Ty_arr = Ty_arr[E_index]\n",
    "        \n",
    "        E_gs[i,j] = E_arr[state_no]\n",
    "        Tx_order[i,j] = Tx_arr[state_no]\n",
    "        Ty_order[i,j] = Ty_arr[state_no]"
   ]
  },
  {
   "cell_type": "code",
   "execution_count": 267,
   "metadata": {},
   "outputs": [],
   "source": [
    "def interpolate_data(x, y, data):\n",
    "    f = scipy.interpolate.RegularGridInterpolator((x.real, y.real), data.real)\n",
    "    \n",
    "    Xnew = np.linspace(x[0].real, x[-1].real, 200)\n",
    "    Ynew = np.linspace(y[0].real, y[-1].real, 200)\n",
    "    Xnew, Ynew = np.meshgrid(Xnew, Ynew, indexing='ij')\n",
    "\n",
    "    data_new = f((Xnew,Ynew), method='linear').T\n",
    "    return Xnew, Ynew, data_new"
   ]
  },
  {
   "cell_type": "code",
   "execution_count": 268,
   "metadata": {},
   "outputs": [
    {
     "name": "stdout",
     "output_type": "stream",
     "text": [
      "a,b = 103.99999999999999 111.49999999999997\n",
      "a,b = -105.14285714285717 111.83333333333333\n",
      "a,b = -180.00000000000006 175.99999999999994\n",
      "a,b = 175.99999999999997 177.16666666666669\n"
     ]
    }
   ],
   "source": [
    "def find_transition(V_0, Tx, Ty):\n",
    "    V_trans1 = 0\n",
    "    V_trans2 = 0\n",
    "\n",
    "    i1 = 0\n",
    "    i2 = 0\n",
    "    for i in range(len(V_0)):\n",
    "        delta_T = np.abs(Tx[i]-Ty[i])\n",
    "        sum_T = np.abs(Tx[i]+Ty[i])\n",
    "        if delta_T > 1 and sum_T < 2 and i1 == 0:\n",
    "            V_trans1 = (V_0[i-1]+V_0[i])/2\n",
    "            i1 += 1\n",
    "        elif sum_T < 0.2 and i2 == 0:\n",
    "            V_trans2 = (V_0[i-1]+V_0[i])/2\n",
    "            i2 += 1\n",
    "    return V_trans1, V_trans2\n",
    "\n",
    "def loop_over_sym(V_0_arr, Tx_order, Ty_order):\n",
    "    V1 = np.zeros(len(V_0_arr))\n",
    "    V2 = np.zeros(len(V_0_arr))\n",
    "    for i in range(len(V_0_arr)):\n",
    "        V_0 = V_0_arr[i]\n",
    "        Tx = Tx_order[i]\n",
    "        Ty = Ty_order[i]\n",
    "        V1[i], V2[i] = find_transition(V_0, Tx, Ty)\n",
    "    return V1, V2\n",
    "\n",
    "def fit_transition(diff_tx_ty, sum_tx_ty, Vtrans):\n",
    "    x = diff_tx_ty/sum_tx_ty\n",
    "    y = Vtrans\n",
    "    a, b = np.polyfit(x, y, 1)\n",
    "    return a, b\n",
    "\n",
    "def get_trans_line(x0, x1, sum_tx_ty, a, b):\n",
    "    x_arr = np.linspace(x0,x1,100)\n",
    "    y_arr = a*(x_arr/sum_tx_ty) + b\n",
    "    return y_arr, x_arr\n",
    "    \n",
    "V1, V2 = loop_over_sym(V_0_arr.real, Tx_order, Ty_order)\n",
    "\n",
    "a1, b1 = fit_transition(diff_tx_ty[3:int(len(V1)/2)-1], sum_tx_ty, V1[3:int(len(V1)/2)-1].real)\n",
    "x1, y1 = get_trans_line(-200, 0, sum_tx_ty, a1, b1)\n",
    "print('a,b =', a1,b1)\n",
    "\n",
    "a2, b2 = fit_transition(diff_tx_ty[int(len(V1)/2)+1:len(V1)-2], sum_tx_ty, V1[int(len(V1)/2)+1:len(V1)-2].real)\n",
    "x2, y2 = get_trans_line(0, 200, sum_tx_ty, a2, b2)\n",
    "print('a,b =', a2,b2)\n",
    "\n",
    "a3, b3 = fit_transition(diff_tx_ty[3:int(len(V2)/2)-1], sum_tx_ty, V2[3:int(len(V2)/2)-1].real)\n",
    "x3, y3 = get_trans_line(-200, 0, sum_tx_ty, a3, b3)\n",
    "print('a,b =', a3,b3)\n",
    "\n",
    "a4, b4 = fit_transition(diff_tx_ty[int(len(V2)/2)+1:len(V2)-2], sum_tx_ty, V2[int(len(V2)/2)+1:len(V2)-2].real)\n",
    "x4, y4 = get_trans_line(0, 200, sum_tx_ty, a4, b4)\n",
    "print('a,b =', a4,b4)\n",
    "\n",
    "x5 = np.linspace(x1[-1],x4[0],100)\n",
    "y5 = np.zeros(len(x5))"
   ]
  },
  {
   "cell_type": "code",
   "execution_count": 427,
   "metadata": {},
   "outputs": [
    {
     "data": {
      "image/png": "[encoded data removed]",
      "text/plain": [
       "<Figure size 421.38x297.99 with 2 Axes>"
      ]
     },
     "metadata": {
      "needs_background": "light"
     },
     "output_type": "display_data"
    },
    {
     "data": {
      "image/png": "[encoded data removed]",
      "text/plain": [
       "<Figure size 421.38x297.99 with 2 Axes>"
      ]
     },
     "metadata": {
      "needs_background": "light"
     },
     "output_type": "display_data"
    }
   ],
   "source": [
    "X, Y = np.meshgrid(V_0_arr[0].real, diff_tx_ty.real)\n",
    "\n",
    "X_intp, Y_intp, E_gs_interp = interpolate_data(diff_tx_ty, V_0_arr[0].real, E_gs.real)\n",
    "\n",
    "A = 6\n",
    "plt.rc('figure', figsize=[46.82 * .5**(.5 * A), 33.11 * .5**(.5 * A)])\n",
    "plt.rc('text', usetex=True)\n",
    "plt.rc('font', family='serif')\n",
    "font_size = 15\n",
    "\n",
    "fig = plt.figure()\n",
    "pc = plt.pcolormesh(X,Y,E_gs.real, linewidth=0.)\n",
    "#pc = plt.pcolormesh(Y_intp, X_intp, E_gs_interp.T)\n",
    "cbar = fig.colorbar(pc)\n",
    "cbar.ax.tick_params(length=6, labelsize=font_size)\n",
    "cbar.set_label(label=r'$E$', size=20)\n",
    "cbar.solids.set_rasterized(True)\n",
    "pc.set_edgecolor('face')\n",
    "\n",
    "plt.plot(x1,y1, linestyle='dashed', color='grey', linewidth=3, alpha=0.8)\n",
    "plt.plot(x2,y2, linestyle='dashed', color='grey', linewidth=3, alpha=0.8)\n",
    "plt.plot(x3,y3, linestyle='dashed', color='grey', linewidth=3, alpha=0.8)\n",
    "plt.plot(x4,y4, linestyle='dashed', color='grey', linewidth=3, alpha=0.8)\n",
    "plt.plot(x5,y5, linestyle='dashed', color='grey', linewidth=3, alpha=0.8)\n",
    "\n",
    "#plt.xticks(np.arange(len(V_0_arr[0]))[0::10]+0.5, V_0_arr[0][0::10].real)\n",
    "#plt.yticks(np.arange(len(diff_tx_ty))+0.5, diff_tx_ty)\n",
    "plt.xlim(0,V_0_arr[0][-1].real)\n",
    "plt.ylim(-200,200)\n",
    "\n",
    "plt.xlabel(r'$V_0/B$', fontsize=font_size)\n",
    "plt.ylabel(r'$(t_x-t_y)/B$', fontsize=font_size)\n",
    "\n",
    "plt.xticks(fontsize=font_size)\n",
    "plt.yticks(fontsize=font_size)\n",
    "\n",
    "plt.tick_params(axis='x', direction='in', length=4, top=True)\n",
    "plt.tick_params(axis='y', direction='in', length=4, right=True)\n",
    "\n",
    "plt.tick_params(which='minor', axis='y', direction='in', right=True)\n",
    "\n",
    "plt.savefig('results/phase_diagram/energies_B_1.0.svg')\n",
    "plt.show()\n",
    "\n",
    "\n",
    "X_intp, Y_intp, order_p_interp = interpolate_data(diff_tx_ty, V_0_arr[0], order_p.real)\n",
    "\n",
    "fig = plt.figure()\n",
    "pc = plt.pcolormesh(X,Y,np.abs(Tx_order+Ty_order).real)\n",
    "#pc = plt.contourf(Y_intp, X_intp, order_p_interp.T)\n",
    "cbar = fig.colorbar(pc)\n",
    "cbar.ax.tick_params(length=6, labelsize=font_size)\n",
    "cbar.set_label(label=r'$\\mathcal{T}_{tot}$', size=20)\n",
    "\n",
    "plt.plot(x1,y1, linestyle='dashed', color='grey', linewidth=3, alpha=0.8)\n",
    "plt.plot(x2,y2, linestyle='dashed', color='grey', linewidth=3, alpha=0.8)\n",
    "plt.plot(x3,y3, linestyle='dashed', color='grey', linewidth=3, alpha=0.8)\n",
    "plt.plot(x4,y4, linestyle='dashed', color='grey', linewidth=3, alpha=0.8)\n",
    "plt.plot(x5,y5, linestyle='dashed', color='grey', linewidth=3, alpha=0.8)\n",
    " \n",
    "#plt.xticks(np.arange(len(V_0_arr[0]))[0::10]+0.5, V_0_arr[0][0::10].real)\n",
    "#plt.yticks(np.arange(len(diff_tx_ty))+0.5, diff_tx_ty)\n",
    "\n",
    "plt.xlim(0,V_0_arr[0][-1].real)\n",
    "plt.ylim(-200,200)\n",
    "\n",
    "plt.xlabel(r'$V_0/B$', fontsize=font_size)\n",
    "plt.ylabel(r'$(t_x-t_y)/B$', fontsize=font_size)\n",
    "\n",
    "plt.xticks(fontsize=font_size)\n",
    "plt.yticks(fontsize=font_size)\n",
    "\n",
    "plt.tick_params(axis='x', direction='in', length=4, top=True)\n",
    "plt.tick_params(axis='y', direction='in', length=4, right=True)\n",
    "\n",
    "plt.tick_params(which='minor', axis='y', direction='in', right=True)\n",
    "\n",
    "plt.show()"
   ]
  },
  {
   "cell_type": "code",
   "execution_count": 386,
   "metadata": {},
   "outputs": [
    {
     "data": {
      "image/png": "[encoded data removed]",
      "text/plain": [
       "<Figure size 421.38x297.99 with 2 Axes>"
      ]
     },
     "metadata": {
      "needs_background": "light"
     },
     "output_type": "display_data"
    }
   ],
   "source": [
    "A = 6\n",
    "plt.rc('figure', figsize=[46.82 * .5**(.5 * A), 33.11 * .5**(.5 * A)])\n",
    "plt.rc('text', usetex=True)\n",
    "plt.rc('font', family='serif')\n",
    "font_size = 15\n",
    "\n",
    "fig, ax = plt.subplots()\n",
    "#ax.set_aspect(\"equal\")\n",
    "\n",
    "x = diff_tx_ty.real \n",
    "y = V_0_arr[0].real \n",
    "p1 = Tx_order.real\n",
    "p2 = Ty_order.real\n",
    "\n",
    "# create a very simple colormap, \n",
    "#  mapping parameter 1 to the red channel and \n",
    "#          parameter 2 to the blue channel\n",
    "green_frac = 0.2\n",
    "cmap = lambda p1,p2 : (green_frac, np.abs(p1/2), np.abs(p2/2))\n",
    "\n",
    "order_p_new = cmap(Tx_order.real, Ty_order.real)\n",
    "#print(order_p[0])\n",
    "#plt.pcolormesh(order_p[0])\n",
    "\n",
    "#for i in range(len(x)):\n",
    "#    for j in range(len(y)):\n",
    "#        circle = matplotlib.patches.Rectangle((y[j], x[i]), 3, 24, color=cmap(p1[i,j],p2[i,j]))\n",
    "#        ax.add_artist(circle)\n",
    "\n",
    "xpoints = [0,x1[0],x1[-1],x2[-1],0] #[0.3,0.6,.5,.4]\n",
    "ypoints = [-200,y1[0],y1[-1],y2[-1],200]\n",
    "ax.add_patch(matplotlib.patches.Polygon(xy=list(zip(xpoints,ypoints)), fill=True, color=cmap(p1[9,2],p2[9,2]), alpha=1))\n",
    "\n",
    "xpoints = [x1[0],x1[-1],x3[-1],x3[0]] #[0.3,0.6,.5,.4]\n",
    "ypoints = [y1[0],y1[-1],y3[-1],y3[0]]\n",
    "ax.add_patch(matplotlib.patches.Polygon(xy=list(zip(xpoints,ypoints)), fill=True, color=cmap(p1[3,35],p2[3,35]), alpha=1))\n",
    "\n",
    "xpoints = [x2[-1],x2[0],x4[0],x4[-1]] #[0.3,0.6,.5,.4]\n",
    "ypoints = [y2[-1],y2[0],y4[0],y4[-1]]\n",
    "ax.add_patch(matplotlib.patches.Polygon(xy=list(zip(xpoints,ypoints)), fill=True, color=cmap(p1[13,35],p2[13,35]), alpha=1))\n",
    "\n",
    "xpoints = [x3[0],x4[0],x4[-1]] #[0.3,0.6,.5,.4]\n",
    "ypoints = [y3[0],y4[0],y4[-1]]\n",
    "ax.add_patch(matplotlib.patches.Polygon(xy=list(zip(xpoints,ypoints)), fill=True, color=cmap(p1[9,60],p2[9,60]), alpha=1))\n",
    "\n",
    "plt.plot(x1,y1, linestyle='dashed', color='grey', linewidth=3, alpha=0.8)\n",
    "plt.plot(x2,y2, linestyle='dashed', color='grey', linewidth=3, alpha=0.8)\n",
    "plt.plot(x3,y3, linestyle='dashed', color='grey', linewidth=3, alpha=0.8)\n",
    "plt.plot(x4,y4, linestyle='dashed', color='grey', linewidth=3, alpha=0.8)\n",
    "plt.plot(x5,y5, linestyle='dashed', color='grey', linewidth=3, alpha=0.8)\n",
    "\n",
    "ax.annotate(r'FO', xy=(150, 130), xytext=(30, -10), fontsize=font_size, color='tab:red')\n",
    "ax.annotate(r'$C_2$ FD wall in $x$', xy=(150, 130), xytext=(85, 100), fontsize=font_size, color='tab:red')\n",
    "ax.annotate(r'$C_2$ FD wall in $y$', xy=(150, 130), xytext=(85, -125), fontsize=font_size, color='tab:red')\n",
    "ax.annotate(r'SP', xy=(150, 130), xytext=(280, -10), fontsize=font_size, color='tab:red')\n",
    "\n",
    "plt.xlim(0,350)\n",
    "plt.ylim(-200,200)\n",
    "\n",
    "plt.xlabel(r'$V_0/B$', fontsize=font_size)\n",
    "plt.ylabel(r'$(t_x-t_y)/B$', fontsize=font_size)\n",
    "\n",
    "plt.xticks(fontsize=font_size)\n",
    "plt.yticks(fontsize=font_size)\n",
    "\n",
    "plt.tick_params(axis='x', direction='in', length=4, top=True)\n",
    "plt.tick_params(axis='y', direction='in', length=4, right=True)\n",
    "\n",
    "plt.tick_params(which='minor', axis='y', direction='in', right=True)\n",
    "\n",
    "plt.subplots_adjust(left=0.1, right=0.65, top=0.85)\n",
    "cax = fig.add_axes([0.75,0.55,0.3,0.3])\n",
    "cp1 = np.linspace(0, 1, 100)\n",
    "cp2 = np.linspace(0, 1, 100)\n",
    "Cp1, Cp2 = np.meshgrid(cp1,cp2)\n",
    "C0 = green_frac*np.ones_like(Cp2)\n",
    "# make RGB image, p1 to red channel, p2 to blue channel\n",
    "Legend = np.dstack((C0,Cp1,Cp2))\n",
    "# parameters range between 0 and 1\n",
    "cax.imshow(Legend, origin=\"lower\", extent=[0,2,0,2])\n",
    "cax.set_xticks([0,1,2], [r'0',r'1',r'2'], fontsize=font_size)\n",
    "cax.set_yticks([0,1,2], [r'0',r'1',r'2'], fontsize=font_size)\n",
    "cax.set_xlabel(r'$\\mathcal{T}_x$', fontsize=font_size)\n",
    "cax.set_ylabel(r'$\\mathcal{T}_y$', fontsize=font_size)\n",
    "#cax.set_title(\"2D cmap legend\", fontsize=10)\n",
    "\n",
    "plt.savefig('results/phase_diagram/order_parameters_B_1.0.svg')\n",
    "plt.show()"
   ]
  },
  {
   "cell_type": "code",
   "execution_count": 387,
   "metadata": {},
   "outputs": [],
   "source": [
    "import svgutils.transform as sg \n",
    "\n",
    "fig = sg.SVGFigure(\"16cm\", \"16cm\")\n",
    "\n",
    "fig1 = sg.fromfile('results/phase_diagram/energies_B_1.0.svg')\n",
    "fig2 = sg.fromfile('results/phase_diagram/order_parameters_B_1.0.svg')\n",
    "\n",
    "plot1 = fig1.getroot()\n",
    "plot2 = fig2.getroot()\n",
    "\n",
    "plot2.moveto(470,0)\n",
    "\n",
    "txt1 = sg.TextElement(0,20, r\"a)\", size=20)\n",
    "txt2 = sg.TextElement(460,20, r\"b)\", size=20) \n",
    "\n",
    "fig.append([plot1,plot2])\n",
    "fig.append([txt1,txt2])\n",
    "\n",
    "fig.save('results/phase_diagram/phase_diagram_B_1.0.svg')"
   ]
  },
  {
   "cell_type": "code",
   "execution_count": 425,
   "metadata": {},
   "outputs": [
    {
     "data": {
      "text/plain": [
       "[<matplotlib.lines.Line2D at 0x7f1ec22c26a0>]"
      ]
     },
     "execution_count": 425,
     "metadata": {},
     "output_type": "execute_result"
    },
    {
     "data": {
      "image/png": "[encoded data removed]",
      "text/plain": [
       "<Figure size 432x288 with 1 Axes>"
      ]
     },
     "metadata": {
      "needs_background": "light"
     },
     "output_type": "display_data"
    }
   ],
   "source": [
    "V = V_0_arr.real[0]\n",
    "\n",
    "slice_index = 3\n",
    "plt.plot(V[0:23], np.abs(Tx_order[slice_index])[0:23], linestyle='solid', color='tab:blue')\n",
    "plt.plot(V[0:23], np.abs(Ty_order[slice_index])[0:23], linestyle='dashed', color='tab:blue')\n",
    "plt.plot(V[23:36], np.abs(Tx_order[slice_index])[23:36], linestyle='solid', color='tab:blue')\n",
    "plt.plot(V[23:len(Tx_order[slice_index])-1], np.abs(Ty_order[slice_index])[23:len(Tx_order[slice_index])-1], linestyle='dashed', color='tab:blue')\n",
    "plt.plot(V[36:len(Tx_order[slice_index])-1], np.abs(Tx_order[slice_index])[36:len(Tx_order[slice_index])-1], linestyle='solid', color='tab:blue')\n",
    "\n",
    "slice_index = 10\n",
    "plt.plot(V[0:23], np.abs(Tx_order[slice_index])[0:23], linestyle='solid', color='tab:blue')\n",
    "plt.plot(V[0:23], np.abs(Ty_order[slice_index])[0:23], linestyle='dashed', color='tab:blue')\n",
    "plt.plot(V[23:36], np.abs(Tx_order[slice_index])[23:36], linestyle='solid', color='tab:blue')\n",
    "plt.plot(V[23:len(Tx_order[slice_index])-1], np.abs(Ty_order[slice_index])[23:len(Tx_order[slice_index])-1], linestyle='dashed', color='tab:blue')\n",
    "plt.plot(V[36:len(Tx_order[slice_index])-1], np.abs(Tx_order[slice_index])[36:len(Tx_order[slice_index])-1], linestyle='solid', color='tab:blue')"
   ]
  },
  {
   "cell_type": "code",
   "execution_count": 424,
   "metadata": {},
   "outputs": [
    {
     "data": {
      "text/plain": [
       "[<matplotlib.lines.Line2D at 0x7f1ec4a1dc70>]"
      ]
     },
     "execution_count": 424,
     "metadata": {},
     "output_type": "execute_result"
    },
    {
     "data": {
      "image/png": "[encoded data removed]",
      "text/plain": [
       "<Figure size 432x288 with 1 Axes>"
      ]
     },
     "metadata": {
      "needs_background": "light"
     },
     "output_type": "display_data"
    }
   ],
   "source": [
    "plt.plot(V_0_arr[0].real, E_gs[8].real)\n",
    "plt.plot(V_0_arr[0].real, E_gs[5].real)\n",
    "plt.plot(V_0_arr[0].real, E_gs[2].real)"
   ]
  },
  {
   "cell_type": "code",
   "execution_count": 415,
   "metadata": {},
   "outputs": [
    {
     "name": "stdout",
     "output_type": "stream",
     "text": [
      "-175\n"
     ]
    },
    {
     "name": "stderr",
     "output_type": "stream",
     "text": [
      "/nfs/scistore12/lemesgrp/fkluiben/.local/lib/python3.9/site-packages/matplotlib/cbook/__init__.py:1335: ComplexWarning: Casting complex values to real discards the imaginary part\n",
      "  return np.asarray(x, float)\n"
     ]
    },
    {
     "data": {
      "text/plain": [
       "[<matplotlib.lines.Line2D at 0x7f1ec4f322e0>]"
      ]
     },
     "execution_count": 415,
     "metadata": {},
     "output_type": "execute_result"
    },
    {
     "data": {
      "image/png": "[encoded data removed]",
      "text/plain": [
       "<Figure size 432x288 with 1 Axes>"
      ]
     },
     "metadata": {
      "needs_background": "light"
     },
     "output_type": "display_data"
    }
   ],
   "source": [
    "symmetry_index = 1\n",
    "\n",
    "print(diff_tx_ty[symmetry_index])\n",
    "\n",
    "%matplotlib inline\n",
    "plt.plot(V_0_arr[0], E_arr_fo[symmetry_index])\n",
    "plt.plot(V_0_arr[0], E_arr_fdv[symmetry_index])\n",
    "plt.plot(V_0_arr[0], E_arr_fdh[symmetry_index])\n",
    "plt.plot(V_0_arr[0], E_arr_sp[symmetry_index])\n",
    "\n",
    "#plt.plot(V_0_arr, E_gs.T[0])"
   ]
  },
  {
   "cell_type": "code",
   "execution_count": null,
   "metadata": {
    "jupyter": {
     "source_hidden": true
    }
   },
   "outputs": [],
   "source": []
  }
 ],
 "metadata": {
  "kernelspec": {
   "display_name": "Python 3 (ipykernel)",
   "language": "python",
   "name": "python3"
  },
  "language_info": {
   "codemirror_mode": {
    "name": "ipython",
    "version": 3
   },
   "file_extension": ".py",
   "mimetype": "text/x-python",
   "name": "python",
   "nbconvert_exporter": "python",
   "pygments_lexer": "ipython3",
   "version": "3.9.9"
  },
  "vscode": {
   "interpreter": {
    "hash": "916dbcbb3f70747c44a77c7bcd40155683ae19c65e1c03b4aa3499c5328201f1"
   }
  }
 },
 "nbformat": 4,
 "nbformat_minor": 4
}
