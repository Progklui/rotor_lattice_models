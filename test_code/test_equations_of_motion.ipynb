{
 "cells": [
  {
   "cell_type": "code",
   "execution_count": 124,
   "metadata": {},
   "outputs": [],
   "source": [
    "import numpy as np\n",
    "import time"
   ]
  },
  {
   "cell_type": "code",
   "execution_count": 125,
   "metadata": {},
   "outputs": [],
   "source": [
    "def diff_matrix_2d(Mx, My, mat1, mat2):\n",
    "    diff = np.zeros((My,Mx), dtype=complex)\n",
    "    for i in range(My):\n",
    "        for j in range(Mx):\n",
    "            diff[i,j] = np.abs(mat2[i,j]-mat1[i,j])\n",
    "\n",
    "    avgdiff = np.average(diff)\n",
    "    stddiff = np.std(diff)\n",
    "    maxdiff = np.max(diff)\n",
    "    mindiff = np.min(diff)\n",
    "\n",
    "    print(\"Max value 1 =\", np.max(mat1))\n",
    "    print(\"Max value 2 =\", np.max(mat2), '\\n')\n",
    "\n",
    "    print(\"Min value 1 =\", np.min(mat1))\n",
    "    print(\"Min value 2 =\", np.min(mat2), '\\n')\n",
    "\n",
    "    print(\"Avg diff =\", avgdiff)\n",
    "    print(\"Std diff =\", stddiff)\n",
    "    print(\"Max diff =\", maxdiff)\n",
    "    print(\"Min diff =\", mindiff, '\\n')\n",
    "\n",
    "    print(\"Mat 1 [3,4] =\", mat1[3,4])\n",
    "    print(\"Mat 2 [3,4] =\", mat2[3,4])\n",
    "    print(\"Ex. diff [3,4] =\", diff[3,4])"
   ]
  },
  {
   "cell_type": "code",
   "execution_count": 126,
   "metadata": {},
   "outputs": [],
   "source": [
    "def diff_matrix_3d(Mx, My, n, mat1, mat2):\n",
    "    diff = np.zeros((My,Mx,n), dtype=complex)\n",
    "    for i in range(My):\n",
    "        for j in range(Mx):\n",
    "            for m in range(n):\n",
    "                diff[i,j,m] = np.abs(mat2[i,j,m]-mat1[i,j,m])\n",
    "\n",
    "    avgdiff = np.average(diff)\n",
    "    stddiff = np.std(diff)\n",
    "    maxdiff = np.max(diff)\n",
    "    mindiff = np.min(diff)\n",
    "\n",
    "    print(\"Max value mat 1 =\", np.max(mat1))\n",
    "    print(\"Max value mat 2 =\", np.max(mat2), '\\n')\n",
    "\n",
    "    print(\"Min value mat 1 =\", np.min(mat1))\n",
    "    print(\"Min value mat 2 =\", np.min(mat2), '\\n')\n",
    "\n",
    "    print(\"Avg diff =\", avgdiff)\n",
    "    print(\"Std diff =\", stddiff)\n",
    "    print(\"Max diff =\", maxdiff)\n",
    "    print(\"Min diff =\", mindiff, '\\n')\n",
    "\n",
    "    print(\"Mat 1 [3,4,5] =\", mat1[3,4,5])\n",
    "    print(\"Mat 2 [3,4,5] =\", mat2[3,4,5])\n",
    "    print(\"Ex. diff [3,4,5] =\", diff[3,4,5])"
   ]
  },
  {
   "attachments": {},
   "cell_type": "markdown",
   "metadata": {},
   "source": [
    "Sample parameters"
   ]
  },
  {
   "cell_type": "code",
   "execution_count": 127,
   "metadata": {},
   "outputs": [],
   "source": [
    "n = 256\n",
    "\n",
    "My = 10\n",
    "Mx = 10\n",
    "\n",
    "tx = 90\n",
    "ty = 100\n",
    "\n",
    "qx = 0.0\n",
    "qy = 0.0 \n",
    "\n",
    "B = 1.0\n",
    "\n",
    "psi = np.random.rand(My,Mx,n)"
   ]
  },
  {
   "attachments": {},
   "cell_type": "markdown",
   "metadata": {},
   "source": [
    "### Rotor kinetic energy"
   ]
  },
  {
   "cell_type": "code",
   "execution_count": 139,
   "metadata": {},
   "outputs": [
    {
     "name": "stdout",
     "output_type": "stream",
     "text": [
      "Shape of H_psi method 1 = (10, 10, 256)\n",
      "Shape of H_psi method 2 = (10, 10, 256) \n",
      "\n",
      "max diff of matrix elements 0j\n",
      "min diff of matrix elements 0j \n",
      "\n",
      "Max value mat 1 = (5896.171666165636-3.410605131648481e-13j)\n",
      "Max value mat 2 = (5896.171666165636-3.410605131648481e-13j) \n",
      "\n",
      "Min value mat 1 = (-5971.884025303724-1.7053025658242404e-13j)\n",
      "Min value mat 2 = (-5971.884025303724-1.7053025658242404e-13j) \n",
      "\n",
      "Avg diff = 0j\n",
      "Std diff = 0.0\n",
      "Max diff = 0j\n",
      "Min diff = 0j \n",
      "\n",
      "Mat 1 [3,4,5] = (-1672.3182192636987-8.100187187665142e-13j)\n",
      "Mat 2 [3,4,5] = (-1672.3182192636987-8.100187187665142e-13j)\n",
      "Ex. diff [3,4,5] = 0j\n"
     ]
    }
   ],
   "source": [
    "k2  = -np.append(np.arange(0,n/2+1),np.arange(-n/2+1,0))**2 # make second derivative matrix\n",
    "\n",
    "'''\n",
    "Method new\n",
    "'''\n",
    "H_rot1 = -B*np.fft.ifft(k2*np.fft.fft(psi)).astype(complex)\n",
    "\n",
    "'''\n",
    "Method old\n",
    "'''\n",
    "H_rot2 = np.zeros((My,Mx,n), dtype=complex)\n",
    "for i in range(My):\n",
    "    for j in range(Mx):\n",
    "        H_rot2[i,j] = -B*np.fft.ifft(k2*np.fft.fft(psi[i,j]))\n",
    "\n",
    "Hrot_diff = H_rot1-H_rot2\n",
    "\n",
    "maxdiff = np.max(Hrot_diff)\n",
    "mindiff = np.min(Hrot_diff)\n",
    "\n",
    "print(\"Shape of H_psi method 1 =\", H_rot1.shape)\n",
    "print(\"Shape of H_psi method 2 =\", H_rot2.shape, '\\n')\n",
    "\n",
    "print(\"max diff of matrix elements\", maxdiff)\n",
    "print(\"min diff of matrix elements\", mindiff, '\\n')\n",
    "\n",
    "diff_matrix_3d(Mx, My, n, H_rot1, H_rot2)"
   ]
  },
  {
   "attachments": {},
   "cell_type": "markdown",
   "metadata": {},
   "source": [
    "### Electron kinetic energy"
   ]
  },
  {
   "cell_type": "code",
   "execution_count": 129,
   "metadata": {},
   "outputs": [],
   "source": [
    "def compute_T_matrix_eom(Tarr):\n",
    "    '''\n",
    "        Computes: the transfer integrals in the equations of motion\n",
    "\n",
    "        ----\n",
    "        Inputs:\n",
    "            Tarr (2-dimensional: (My,Mx)): contains the overlaps of the single rotor wavefunctions\n",
    "        ----\n",
    "\n",
    "        ----\n",
    "        Outputs:\n",
    "            Tarr_new (3-dimensional: (My,Mx,n)): the muliplied transfer integrals except the (i,j) one\n",
    "        ----\n",
    "    '''\n",
    "    T_cur_arr = Tarr.copy()\n",
    "    Tarr_new = np.zeros(Tarr.shape, dtype=complex)\n",
    "\n",
    "    for i in range(My):\n",
    "        for j in range(Mx):\n",
    "            T_cur_arr[i,j] = 1.0+0j\n",
    "            Tarr_new[i,j] = np.prod(T_cur_arr)\n",
    "\n",
    "            T_cur_arr[i,j] = Tarr[i,j]\n",
    "\n",
    "    Tarr_new = Tarr_new[:, :, np.newaxis]\n",
    "    return Tarr_new"
   ]
  },
  {
   "cell_type": "code",
   "execution_count": 130,
   "metadata": {},
   "outputs": [],
   "source": [
    "def get_next_y_rotor(psi):\n",
    "    return np.roll(psi, -1, axis=0)\n",
    "    \n",
    "def get_prev_y_rotor(psi):\n",
    "    return np.roll(psi, 1, axis=0)\n",
    "    \n",
    "def get_next_x_rotor(psi):\n",
    "    return np.roll(psi, -1, axis=1)\n",
    "    \n",
    "def get_prev_x_rotor(psi):\n",
    "    return np.roll(psi, 1, axis=1)"
   ]
  },
  {
   "attachments": {},
   "cell_type": "markdown",
   "metadata": {},
   "source": [
    "Method 1 - now used, faster"
   ]
  },
  {
   "cell_type": "code",
   "execution_count": 131,
   "metadata": {},
   "outputs": [
    {
     "name": "stdout",
     "output_type": "stream",
     "text": [
      "\n",
      "Execution time = 0.003786802291870117\n"
     ]
    }
   ],
   "source": [
    "tic = time.time()\n",
    "\n",
    "psi_conj = np.conjugate(psi)\n",
    "\n",
    "'''\n",
    "arrays of transfer integrals: all are (My,Mx) objects\n",
    "'''\n",
    "TD_arr1 = np.einsum('ijk,ijk->ij', psi_conj, get_next_y_rotor(psi), dtype=complex)\n",
    "TU_arr1 = np.einsum('ijk,ijk->ij', psi_conj, get_prev_y_rotor(psi), dtype=complex)\n",
    "TR_arr1 = np.einsum('ijk,ijk->ij', psi_conj, get_next_x_rotor(psi), dtype=complex)\n",
    "TL_arr1 = np.einsum('ijk,ijk->ij', psi_conj, get_prev_x_rotor(psi), dtype=complex)\n",
    "\n",
    "'''\n",
    "products of transfer integrals: in every entry (i,j), the (i,j)-th produc is missing\n",
    "'''\n",
    "TDr1 = compute_T_matrix_eom(TD_arr1)\n",
    "TUr1 = compute_T_matrix_eom(TU_arr1)\n",
    "TRr1 = compute_T_matrix_eom(TR_arr1)\n",
    "TLr1 = compute_T_matrix_eom(TL_arr1)\n",
    "\n",
    "'''\n",
    "electron kinetic energy\n",
    "'''\n",
    "H_ele1 = np.zeros((My,Mx,n), dtype=complex)\n",
    "H_ele1 -= ty*( \\\n",
    "            np.exp(-1j*(2*np.pi*qy/My))*TDr1*get_next_y_rotor(psi) \\\n",
    "            + np.exp(+1j*(2*np.pi*qy/My))*TUr1*get_prev_y_rotor(psi)) \n",
    "H_ele1 -= tx*( \\\n",
    "            np.exp(-1j*(2*np.pi*qx/Mx))*TRr1*get_next_x_rotor(psi) \\\n",
    "            + np.exp(+1j*(2*np.pi*qx/Mx))*TLr1*get_prev_x_rotor(psi))\n",
    "\n",
    "toc = time.time()\n",
    "print(\"\\nExecution time =\", toc-tic)"
   ]
  },
  {
   "attachments": {},
   "cell_type": "markdown",
   "metadata": {},
   "source": [
    "Method 2 - used before, with loops"
   ]
  },
  {
   "cell_type": "code",
   "execution_count": 132,
   "metadata": {},
   "outputs": [
    {
     "name": "stdout",
     "output_type": "stream",
     "text": [
      "\n",
      "Execution time = 0.005485057830810547\n"
     ]
    }
   ],
   "source": [
    "tic = time.time()\n",
    "\n",
    "TL_arr2 = np.zeros((My,Mx), dtype=complex)\n",
    "TR_arr2 = np.zeros((My,Mx), dtype=complex)\n",
    "TU_arr2 = np.zeros((My,Mx), dtype=complex)\n",
    "TD_arr2 = np.zeros((My,Mx), dtype=complex)\n",
    "\n",
    "# compute arrays for all the pairwise (column/row wise) overlaps\n",
    "for k in range(My):\n",
    "    for p in range(Mx):\n",
    "        TD_arr2[k,p] = np.sum(np.conjugate(psi[k,p])*psi[(k+1)%My,p])\n",
    "        TU_arr2[k,p] = np.sum(np.conjugate(psi[k,p])*psi[k-1,p])\n",
    "            \n",
    "        TR_arr2[k,p] = np.sum(np.conjugate(psi[k,p])*psi[k,(p+1)%Mx])\n",
    "        TL_arr2[k,p] = np.sum(np.conjugate(psi[k,p])*psi[k,p-1])\n",
    "\n",
    "TD2 = np.prod(TD_arr2)\n",
    "TU2 = np.prod(TU_arr2)\n",
    "TR2 = np.prod(TR_arr2)\n",
    "TL2 = np.prod(TL_arr2)\n",
    "\n",
    "TLr2 = np.zeros((My,Mx), dtype=complex)\n",
    "TRr2 = np.zeros((My,Mx), dtype=complex)\n",
    "TUr2 = np.zeros((My,Mx), dtype=complex)\n",
    "TDr2 = np.zeros((My,Mx), dtype=complex)\n",
    "for i in range(My):\n",
    "    for j in range(Mx):\n",
    "        TDr2[i, j] = TD2 / TD_arr2[i, j]\n",
    "        TUr2[i, j] = TU2 / TU_arr2[i, j]\n",
    "        TRr2[i, j] = TR2 / TR_arr2[i, j]\n",
    "        TLr2[i, j] = TL2 / TL_arr2[i, j]\n",
    "\n",
    "H_ele2 = np.zeros((My,Mx,n), dtype=complex)\n",
    "for i in range(My):\n",
    "    for j in range(Mx):\n",
    "        # for every (i,j) rotor wave function we need to add the calculated transfer integrals\n",
    "        H_ele2[i,j] += - ty*( \\\n",
    "            np.exp(-1j*(2*np.pi*qy/My))*TDr2[i, j]*psi[(i+1)%My,j] \\\n",
    "            + np.exp(+1j*(2*np.pi*qy/My))*TUr2[i, j]*psi[i-1,j])\n",
    "        H_ele2[i,j] += - tx*( \\\n",
    "            np.exp(-1j*(2*np.pi*qx/Mx))*TRr2[i, j]*psi[i,(j+1)%Mx] \\\n",
    "            + np.exp(+1j*(2*np.pi*qx/Mx))*TLr2[i, j]*psi[i,j-1])\n",
    "        \n",
    "toc = time.time()\n",
    "print(\"\\nExecution time =\", toc-tic)"
   ]
  },
  {
   "cell_type": "code",
   "execution_count": 133,
   "metadata": {},
   "outputs": [
    {
     "name": "stdout",
     "output_type": "stream",
     "text": [
      "Difference of Transfer Integrals: \n",
      "\n",
      "TLr:\n",
      "\n",
      "Max value 1 = (6.2110682292959916e+178+0j)\n",
      "Max value 2 = (6.211068229295989e+178+0j) \n",
      "\n",
      "Min value 1 = (4.906455409488344e+178+0j)\n",
      "Min value 2 = (4.906455409488339e+178+0j) \n",
      "\n",
      "Avg diff = (3.944647615055475e+163+0j)\n",
      "Std diff = inf\n",
      "Max diff = (1.1517219314030583e+164+0j)\n",
      "Min diff = 0j \n",
      "\n",
      "Mat 1 [3,4] = [5.28155723e+178+0.j]\n",
      "Mat 2 [3,4] = (5.281557225576491e+178+0j)\n",
      "Ex. diff [3,4] = (3.599131035634557e+163+0j)\n"
     ]
    }
   ],
   "source": [
    "print(\"Difference of Transfer Integrals: \\n\")\n",
    "print(\"TLr:\\n\")\n",
    "diff_matrix_2d(Mx,My, TLr1, TLr2)"
   ]
  },
  {
   "cell_type": "code",
   "execution_count": 134,
   "metadata": {},
   "outputs": [
    {
     "name": "stdout",
     "output_type": "stream",
     "text": [
      "TRr:\n",
      "\n",
      "Max value 1 = (6.211068229295988e+178+0j)\n",
      "Max value 2 = (6.2110682292959894e+178+0j) \n",
      "\n",
      "Min value 1 = (4.906455409488341e+178+0j)\n",
      "Min value 2 = (4.9064554094883395e+178+0j) \n",
      "\n",
      "Avg diff = (2.5265899870154593e+163+0j)\n",
      "Std diff = inf\n",
      "Max diff = (9.357740692649848e+163+0j)\n",
      "Min diff = 0j \n",
      "\n",
      "Mat 1 [3,4] = [5.07039815e+178+0.j]\n",
      "Mat 2 [3,4] = (5.0703981497851805e+178+0j)\n",
      "Ex. diff [3,4] = (7.198262071269114e+162+0j)\n"
     ]
    }
   ],
   "source": [
    "print(\"TRr:\\n\")\n",
    "diff_matrix_2d(Mx,My, TRr1, TRr2)"
   ]
  },
  {
   "cell_type": "code",
   "execution_count": 135,
   "metadata": {},
   "outputs": [
    {
     "name": "stdout",
     "output_type": "stream",
     "text": [
      "TUr:\n",
      "\n",
      "Max value 1 = (5.278956369111059e+178+0j)\n",
      "Max value 2 = (5.278956369111052e+178+0j) \n",
      "\n",
      "Min value 1 = (4.28227687274609e+178+0j)\n",
      "Min value 2 = (4.28227687274609e+178+0j) \n",
      "\n",
      "Avg diff = (2.281849076592309e+163+0j)\n",
      "Std diff = inf\n",
      "Max diff = (7.198262071269114e+163+0j)\n",
      "Min diff = 0j \n",
      "\n",
      "Mat 1 [3,4] = [4.42757646e+178+0.j]\n",
      "Mat 2 [3,4] = (4.4275764649826666e+178+0j)\n",
      "Ex. diff [3,4] = (7.198262071269114e+162+0j)\n"
     ]
    }
   ],
   "source": [
    "print(\"TUr:\\n\")\n",
    "diff_matrix_2d(Mx,My, TUr1, TUr2)"
   ]
  },
  {
   "cell_type": "code",
   "execution_count": 136,
   "metadata": {},
   "outputs": [
    {
     "name": "stdout",
     "output_type": "stream",
     "text": [
      "TDr:\n",
      "\n",
      "Max value 1 = (5.278956369111052e+178+0j)\n",
      "Max value 2 = (5.278956369111052e+178+0j) \n",
      "\n",
      "Min value 1 = (4.2822768727460896e+178+0j)\n",
      "Min value 2 = (4.28227687274609e+178+0j) \n",
      "\n",
      "Avg diff = (2.065901214454236e+163+0j)\n",
      "Std diff = inf\n",
      "Max diff = (6.478435864142203e+163+0j)\n",
      "Min diff = 0j \n",
      "\n",
      "Mat 1 [3,4] = [4.43076438e+178+0.j]\n",
      "Mat 2 [3,4] = (4.4307643779014256e+178+0j)\n",
      "Ex. diff [3,4] = (1.439652414253823e+163+0j)\n"
     ]
    }
   ],
   "source": [
    "print(\"TDr:\\n\")\n",
    "diff_matrix_2d(Mx,My, TDr1, TDr2)"
   ]
  },
  {
   "cell_type": "code",
   "execution_count": 137,
   "metadata": {},
   "outputs": [
    {
     "name": "stdout",
     "output_type": "stream",
     "text": [
      "Difference of Hamiltonians: \n",
      "\n",
      "Max value mat 1 = (-8.086310591251115e+179+0j)\n",
      "Max value mat 2 = (-8.086310591251116e+179+0j) \n",
      "\n",
      "Min value mat 1 = (-1.939361639056334e+181+0j)\n",
      "Min value mat 2 = (-1.9393616390563346e+181+0j) \n",
      "\n",
      "Avg diff = (3.644790511735376e+165+0j)\n",
      "Std diff = inf\n",
      "Max diff = (1.8427550902448932e+166+0j)\n",
      "Min diff = 0j \n",
      "\n",
      "Mat 1 [3,4,5] = (-1.0104124419939489e+181+0j)\n",
      "Mat 2 [3,4,5] = (-1.0104124419939485e+181+0j)\n",
      "Ex. diff [3,4,5] = (3.6855101804897865e+165+0j)\n"
     ]
    }
   ],
   "source": [
    "print(\"Difference of Hamiltonians: \\n\")\n",
    "diff_matrix_3d(Mx, My, n, H_ele1, H_ele2)"
   ]
  },
  {
   "attachments": {},
   "cell_type": "markdown",
   "metadata": {},
   "source": [
    "Note: this errors are really small"
   ]
  },
  {
   "cell_type": "code",
   "execution_count": null,
   "metadata": {},
   "outputs": [],
   "source": []
  }
 ],
 "metadata": {
  "kernelspec": {
   "display_name": "Python 3",
   "language": "python",
   "name": "python3"
  },
  "language_info": {
   "codemirror_mode": {
    "name": "ipython",
    "version": 3
   },
   "file_extension": ".py",
   "mimetype": "text/x-python",
   "name": "python",
   "nbconvert_exporter": "python",
   "pygments_lexer": "ipython3",
   "version": "3.10.6"
  },
  "orig_nbformat": 4,
  "vscode": {
   "interpreter": {
    "hash": "916dbcbb3f70747c44a77c7bcd40155683ae19c65e1c03b4aa3499c5328201f1"
   }
  }
 },
 "nbformat": 4,
 "nbformat_minor": 2
}
