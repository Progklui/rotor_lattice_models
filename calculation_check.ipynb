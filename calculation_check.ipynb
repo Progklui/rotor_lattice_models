{
 "cells": [
  {
   "cell_type": "markdown",
   "metadata": {},
   "source": [
    "# Working notebook to have a look at results\n",
    "\n",
    "This notebook allows to have a look at the results of a specific calculation. For good plotting, other notebooks are used!"
   ]
  },
  {
   "cell_type": "code",
   "execution_count": 1,
   "metadata": {
    "editable": true,
    "slideshow": {
     "slide_type": ""
    },
    "tags": []
   },
   "outputs": [],
   "source": [
    "import numpy as np\n",
    "import matplotlib.pyplot as plt\n",
    "import matplotlib\n",
    "import time, os, sys, gc\n",
    "\n",
    "import svgutils.transform as sg \n",
    "\n",
    "import scipy\n",
    "from scipy.interpolate import RegularGridInterpolator\n",
    "\n",
    "import h5py \n",
    "\n",
    "import class_energy as energy\n",
    "\n",
    "import class_handle_input as h_in\n",
    "import class_handle_wavefunctions as h_wavef\n",
    "\n",
    "import class_visualization as vis\n",
    "import class_mass_size as mass_size"
   ]
  },
  {
   "attachments": {},
   "cell_type": "markdown",
   "metadata": {},
   "source": [
    "## Functions for plotting, IO and time propagation\n",
    "\n",
    "First: a function that allows quick plotting of wavefunctions"
   ]
  },
  {
   "cell_type": "code",
   "execution_count": 2,
   "metadata": {},
   "outputs": [],
   "source": [
    "def plot_rotor_wavefunction(x, chosen_My, chosen_Mx, psi):\n",
    "    A = 6\n",
    "    plt.rc('figure', figsize=[46.82 * .5**(.5 * A), 33.11 * .5**(.5 * A)])\n",
    "    ##plt.rc('text', usetex=True)\n",
    "    plt.rc('font', family='serif')\n",
    "    #plt.rc('text.latex', preambler=r'\\usepackage{textgreek}')\n",
    "    font_size = 18 \n",
    "\n",
    "    fig, axs = plt.subplots(chosen_My,chosen_Mx, subplot_kw=dict(polar=True))\n",
    "    #plt.suptitle(r'$V_0 =$'+str(V_0), fontsize=font_size)\n",
    "\n",
    "    for i in range(chosen_My):\n",
    "         for j in range(chosen_Mx):\n",
    "            axs[i, j].plot(x, psi[(i+int(chosen_My/2))%chosen_My,(j+int(chosen_My/2))%chosen_My], color='lightcoral')\n",
    "\n",
    "            axs[i, j].set_yticklabels([])\n",
    "            axs[i, j].set_xticklabels([])\n",
    "            axs[i, j].set_theta_zero_location('E')\n",
    "\n",
    "            axs[i, j].grid(linewidth=0.5)\n",
    "            axs[i, j].spines['polar'].set_linewidth(0.3) #.set_visible(False)\n",
    "\n",
    "    #axs[0, 0].set_theta_zero_location('E')\n",
    "    #lines, labels = axs[0, 0].set_thetagrids((0, 45, 90, 135, 180), (r'0', ' ', r'$\\pi/2$', ' ', r'$\\pi$'))"
   ]
  },
  {
   "cell_type": "markdown",
   "metadata": {},
   "source": [
    "Second: a function o get the energies for one symmetry scan"
   ]
  },
  {
   "cell_type": "code",
   "execution_count": 3,
   "metadata": {},
   "outputs": [],
   "source": [
    "def get_psi_properties(file_path, check_size, check_sym):\n",
    "    h5_io_object = h_in.io_hdf5()\n",
    "    file_list = [f for f in os.listdir(file_path) if check_size in f and check_sym in f]\n",
    "\n",
    "    V_0_arr = np.zeros(len(file_list), dtype=complex)\n",
    "\n",
    "    E_arr = np.zeros(len(file_list), dtype=complex)\n",
    "    B_arr = np.zeros(len(file_list), dtype=complex)\n",
    "    V_arr = np.zeros(len(file_list), dtype=complex)\n",
    "    Tx_arr = np.zeros(len(file_list), dtype=complex)\n",
    "    Ty_arr = np.zeros(len(file_list), dtype=complex)\n",
    "\n",
    "    i = 0\n",
    "    for file in file_list:\n",
    "        psi, params = h5_io_object.get_psi(file_path+file)\n",
    "\n",
    "        energy_object = energy.energy(params=params)\n",
    "\n",
    "        E = energy_object.calc_energy(psi) # in form [E, E_T, E_B, E_V]\n",
    "        Tx, Ty = energy_object.deriv_dE_dt(psi)\n",
    "\n",
    "        E_arr[i] = E[0]\n",
    "        B_arr[i] = E[2]\n",
    "        V_arr[i] = E[3]\n",
    "        Ty_arr[i] = Ty\n",
    "        Tx_arr[i] = Tx\n",
    "\n",
    "        V_0_arr[i] = params['V_0']\n",
    "\n",
    "        i += 1\n",
    "\n",
    "    index_sort = np.argsort(V_0_arr)\n",
    "\n",
    "    V_0_arr = V_0_arr[index_sort]\n",
    "\n",
    "    E_arr = E_arr[index_sort]\n",
    "    B_arr = B_arr[index_sort]\n",
    "    V_arr = V_arr[index_sort]\n",
    "    Tx_arr = Tx_arr[index_sort]\n",
    "    Ty_arr = Ty_arr[index_sort]\n",
    "\n",
    "    return V_0_arr, E_arr, B_arr, V_arr, Tx_arr, Ty_arr"
   ]
  },
  {
   "cell_type": "markdown",
   "metadata": {},
   "source": [
    "Third: Provided the sum and diff of tunneling rates, return $t_x$ and $t_y$"
   ]
  },
  {
   "cell_type": "code",
   "execution_count": 4,
   "metadata": {},
   "outputs": [],
   "source": [
    "def get_tx_ty(sum, diff):\n",
    "    '''  \n",
    "    Return tx and ty tunneling rates\n",
    "    '''\n",
    "    tx = 0.5*(sum+diff)\n",
    "    ty = 0.5*(sum-diff)\n",
    "    return tx, ty"
   ]
  },
  {
   "attachments": {},
   "cell_type": "markdown",
   "metadata": {},
   "source": [
    "## Define Calculation Parameters"
   ]
  },
  {
   "cell_type": "code",
   "execution_count": 5,
   "metadata": {},
   "outputs": [],
   "source": [
    "params = {\"n\": 256,\n",
    "\"M\": 36,\n",
    "\"Mx\": 6,\n",
    "\"Mx_display\": 4,\n",
    "\"converge_new_lattice\": \"no\",\n",
    "\"My\": 6,\n",
    "\"My_display\": 4,\n",
    "\"B\": 1.0,\n",
    "\"tx\": 100,\n",
    "\"ty\": 100,\n",
    "\"V_0\": 150.0,\n",
    "\"qx\": 0,\n",
    "\"qy\": 0,\n",
    "\"init_choice\": \"ferro_domain_vertical_wall\",\n",
    "\"external_wf_tag\": \" \",\n",
    "\"excitation_no\": 11,\n",
    "\"angle_pattern\": [0,0,0,0],\n",
    "\"V_0_pattern\": [150,150,150,150],\n",
    "\"n_states\": 0,\n",
    "\"path_to_input_wavefunction\": \" \",\n",
    "\"dt\": 0.001,\n",
    "\"tol\": 1e-9}\n",
    "\n",
    "x = (2*np.pi/params[\"n\"])*np.arange(params[\"n\"])\n",
    "\n",
    "''' \n",
    "I/O Object\n",
    "'''\n",
    "h5_io_object = h_in.io_hdf5()"
   ]
  },
  {
   "attachments": {},
   "cell_type": "markdown",
   "metadata": {},
   "source": [
    "### Read the whole folder to see what files are there"
   ]
  },
  {
   "cell_type": "code",
   "execution_count": 6,
   "metadata": {},
   "outputs": [
    {
     "name": "stdout",
     "output_type": "stream",
     "text": [
      "files:  ['tx_25.0_ty_175.0_V0_170_B_1.0_Mx_32_My_4.hfd5', 'tx_25.0_ty_175.0_V0_205_B_1.0_Mx_32_My_4.hfd5', 'tx_25.0_ty_175.0_V0_45_B_1.0_Mx_32_My_4.hfd5', 'tx_25.0_ty_175.0_V0_195_B_1.0_Mx_32_My_4.hfd5', 'tx_25.0_ty_175.0_V0_125_B_1.0_Mx_32_My_4.hfd5', 'tx_25.0_ty_175.0_V0_10_B_1.0_Mx_32_My_4.hfd5', 'tx_25.0_ty_175.0_V0_250_B_1.0_Mx_32_My_4.hfd5', 'tx_25.0_ty_175.0_V0_240_B_1.0_Mx_32_My_4.hfd5', 'tx_25.0_ty_175.0_V0_135_B_1.0_Mx_32_My_4.hfd5', 'tx_25.0_ty_175.0_V0_185_B_1.0_Mx_32_My_4.hfd5', 'tx_25.0_ty_175.0_V0_215_B_1.0_Mx_32_My_4.hfd5', 'tx_25.0_ty_175.0_V0_55_B_1.0_Mx_32_My_4.hfd5', 'tx_25.0_ty_175.0_V0_160_B_1.0_Mx_32_My_4.hfd5', 'tx_25.0_ty_175.0_V0_5_B_1.0_Mx_32_My_4.hfd5', 'tx_25.0_ty_175.0_V0_75_B_1.0_Mx_32_My_4.hfd5', 'tx_25.0_ty_175.0_V0_235_B_1.0_Mx_32_My_4.hfd5', 'tx_25.0_ty_175.0_V0_285_B_1.0_Mx_32_My_4.hfd5', 'tx_25.0_ty_175.0_V0_140_B_1.0_Mx_32_My_4.hfd5', 'tx_25.0_ty_175.0_V0_260_B_1.0_Mx_32_My_4.hfd5', 'tx_25.0_ty_175.0_V0_90_B_1.0_Mx_32_My_4.hfd5', 'tx_25.0_ty_175.0_V0_20_B_1.0_Mx_32_My_4.hfd5', 'tx_25.0_ty_175.0_V0_310_B_1.0_Mx_32_My_4.hfd5', 'tx_25.0_ty_175.0_V0_115_B_1.0_Mx_32_My_4.hfd5', 'tx_25.0_ty_175.0_V0_300_B_1.0_Mx_32_My_4.hfd5', 'tx_25.0_ty_175.0_V0_105_B_1.0_Mx_32_My_4.hfd5', 'tx_25.0_ty_175.0_V0_270_B_1.0_Mx_32_My_4.hfd5', 'tx_25.0_ty_175.0_V0_30_B_1.0_Mx_32_My_4.hfd5', 'tx_25.0_ty_175.0_V0_80_B_1.0_Mx_32_My_4.hfd5', 'tx_25.0_ty_175.0_V0_150_B_1.0_Mx_32_My_4.hfd5', 'tx_25.0_ty_175.0_V0_65_B_1.0_Mx_32_My_4.hfd5', 'tx_25.0_ty_175.0_V0_295_B_1.0_Mx_32_My_4.hfd5', 'tx_25.0_ty_175.0_V0_225_B_1.0_Mx_32_My_4.hfd5', 'tx_25.0_ty_175.0_V0_0_B_1.0_Mx_32_My_4.hfd5', 'tx_25.0_ty_175.0_V0_70_B_1.0_Mx_32_My_4.hfd5', 'tx_25.0_ty_175.0_V0_230_B_1.0_Mx_32_My_4.hfd5', 'tx_25.0_ty_175.0_V0_280_B_1.0_Mx_32_My_4.hfd5', 'tx_25.0_ty_175.0_V0_145_B_1.0_Mx_32_My_4.hfd5', 'tx_25.0_ty_175.0_V0_265_B_1.0_Mx_32_My_4.hfd5', 'tx_25.0_ty_175.0_V0_95_B_1.0_Mx_32_My_4.hfd5', 'tx_25.0_ty_175.0_V0_25_B_1.0_Mx_32_My_4.hfd5', 'tx_25.0_ty_175.0_V0_110_B_1.0_Mx_32_My_4.hfd5', 'tx_25.0_ty_175.0_V0_305_B_1.0_Mx_32_My_4.hfd5', 'tx_25.0_ty_175.0_V0_100_B_1.0_Mx_32_My_4.hfd5', 'tx_25.0_ty_175.0_V0_275_B_1.0_Mx_32_My_4.hfd5', 'tx_25.0_ty_175.0_V0_35_B_1.0_Mx_32_My_4.hfd5', 'tx_25.0_ty_175.0_V0_85_B_1.0_Mx_32_My_4.hfd5', 'tx_25.0_ty_175.0_V0_155_B_1.0_Mx_32_My_4.hfd5', 'tx_25.0_ty_175.0_V0_60_B_1.0_Mx_32_My_4.hfd5', 'tx_25.0_ty_175.0_V0_290_B_1.0_Mx_32_My_4.hfd5', 'tx_25.0_ty_175.0_V0_220_B_1.0_Mx_32_My_4.hfd5', 'tx_25.0_ty_175.0_V0_175_B_1.0_Mx_32_My_4.hfd5', 'tx_25.0_ty_175.0_V0_200_B_1.0_Mx_32_My_4.hfd5', 'tx_25.0_ty_175.0_V0_40_B_1.0_Mx_32_My_4.hfd5', 'tx_25.0_ty_175.0_V0_190_B_1.0_Mx_32_My_4.hfd5', 'tx_25.0_ty_175.0_V0_120_B_1.0_Mx_32_My_4.hfd5', 'tx_25.0_ty_175.0_V0_15_B_1.0_Mx_32_My_4.hfd5', 'tx_25.0_ty_175.0_V0_255_B_1.0_Mx_32_My_4.hfd5', 'tx_25.0_ty_175.0_V0_245_B_1.0_Mx_32_My_4.hfd5', 'tx_25.0_ty_175.0_V0_130_B_1.0_Mx_32_My_4.hfd5', 'tx_25.0_ty_175.0_V0_180_B_1.0_Mx_32_My_4.hfd5', 'tx_25.0_ty_175.0_V0_210_B_1.0_Mx_32_My_4.hfd5', 'tx_25.0_ty_175.0_V0_50_B_1.0_Mx_32_My_4.hfd5', 'tx_25.0_ty_175.0_V0_165_B_1.0_Mx_32_My_4.hfd5']\n",
      "\n",
      "B,tx,ty =  1.0 25.0 175.0\n",
      "\n",
      "V_0:  [  0.+0.j   5.+0.j  10.+0.j  15.+0.j  20.+0.j  25.+0.j  30.+0.j  35.+0.j\n",
      "  40.+0.j  45.+0.j  50.+0.j  55.+0.j  60.+0.j  65.+0.j  70.+0.j  75.+0.j\n",
      "  80.+0.j  85.+0.j  90.+0.j  95.+0.j 100.+0.j 105.+0.j 110.+0.j 115.+0.j\n",
      " 120.+0.j 125.+0.j 130.+0.j 135.+0.j 140.+0.j 145.+0.j 150.+0.j 155.+0.j\n",
      " 160.+0.j 165.+0.j 170.+0.j 175.+0.j 180.+0.j 185.+0.j 190.+0.j 195.+0.j\n",
      " 200.+0.j 205.+0.j 210.+0.j 215.+0.j 220.+0.j 225.+0.j 230.+0.j 235.+0.j\n",
      " 240.+0.j 245.+0.j 250.+0.j 255.+0.j 260.+0.j 265.+0.j 270.+0.j 275.+0.j\n",
      " 280.+0.j 285.+0.j 290.+0.j 295.+0.j 300.+0.j 305.+0.j 310.+0.j]\n"
     ]
    }
   ],
   "source": [
    "sum_tx_ty = 200\n",
    "diff_tx_ty = -150\n",
    "\n",
    "B = 1.0 \n",
    "\n",
    "Mx = 32\n",
    "My = 4\n",
    "\n",
    "tx, ty = get_tx_ty(sum_tx_ty, diff_tx_ty)\n",
    "\n",
    "check_sym  = 'tx_'+str(tx)+'_ty_'+str(ty)\n",
    "check_size = 'B_'+str(B)+'_Mx_'+str(Mx)+'_My_'+str(My)\n",
    "file_path = 'results/phase_diagram/fdh/'\n",
    "\n",
    "h5_io_object = h_in.io_hdf5()\n",
    "file_list = [f for f in os.listdir(file_path) if check_size in f and check_sym in f]\n",
    "\n",
    "V_0_list, E_arr, B_arr, V_arr, Tx_arr, Ty_arr = get_psi_properties(file_path, check_size, check_sym)\n",
    "\n",
    "print('files: ', file_list)\n",
    "\n",
    "print('\\nB,tx,ty = ', B, tx, ty)\n",
    "print('\\nV_0: ', V_0_list)"
   ]
  },
  {
   "cell_type": "markdown",
   "metadata": {},
   "source": [
    "### Results of one calculation"
   ]
  },
  {
   "cell_type": "code",
   "execution_count": 10,
   "metadata": {},
   "outputs": [
    {
     "name": "stdout",
     "output_type": "stream",
     "text": [
      "{'n': 256, 'Mx': 32, 'Mx_display': 4, 'converge_new_lattice': 'no', 'My': 4, 'M': 128, 'My_display': 4, 'B': 1.0, 'tx': 25.0, 'ty': 175.0, 'V_0': 45.0, 'qx': 0, 'qy': 0, 'init_choice': 'ferro_domain_vertical_wall', 'external_wf_tag': ' ', 'excitation_no': 0, 'angle_pattern': [0, 0, 0, 0], 'V_0_pattern': [0, 0, 0, 0], 'n_states': 0, 'path_to_input_wavefunction': ' ', 'dt': 0.001, 'tol': 1e-10}\n",
      "E = [-160.86244635+5.62658141e-17j  -24.19175133-1.85099923e-30j\n",
      "    7.43400078+5.62658141e-17j -144.1046958 +0.00000000e+00j]\n",
      "Tx = (-0.967487704831036-7.395570986446986e-32j)  Ty = (-2.6049780645017867e-05-1.2037062152420224e-35j)\n",
      "<Closed HDF5 dataset>\n"
     ]
    }
   ],
   "source": [
    "file = file_list[2]\n",
    "psi, params = h5_io_object.get_psi(file_path+file)\n",
    "e_evo, epsilon_evo = h5_io_object.get_evo_values(file_path+file)\n",
    "\n",
    "energy_object = energy.energy(params=params)\n",
    "\n",
    "E = energy_object.calc_energy(psi) # in form [E, E_T, E_B, E_V]\n",
    "Tx, Ty = energy_object.deriv_dE_dt(psi)\n",
    "\n",
    "print(params)\n",
    "print('E =', E)\n",
    "print('Tx =', Tx, ' Ty =', Ty)\n",
    "\n",
    "print(e_evo)"
   ]
  },
  {
   "cell_type": "code",
   "execution_count": 45,
   "metadata": {},
   "outputs": [
    {
     "data": {
      "image/png": "[encoded data removed]",
      "text/plain": [
       "<Figure size 421.38x297.99 with 1 Axes>"
      ]
     },
     "metadata": {
      "needs_background": "light"
     },
     "output_type": "display_data"
    }
   ],
   "source": [
    "A = 6\n",
    "plt.rc('figure', figsize=[46.82 * .5**(.5 * A), 33.11 * .5**(.5 * A)])\n",
    "plt.rc('text', usetex=True)\n",
    "plt.rc('font', family='serif')\n",
    "font_size = 15\n",
    "\n",
    "plt.plot(V_0_list.real, E_arr.real)\n",
    "plt.plot(V_0_list.real, E_arr1.real)\n",
    "\n",
    "plt.xlabel(r'$V_0/B$', fontsize=font_size)\n",
    "plt.ylabel(r'$E/B$', fontsize=font_size)\n",
    "\n",
    "plt.xticks(fontsize=font_size)\n",
    "plt.yticks(fontsize=font_size)\n",
    "\n",
    "plt.tick_params(axis='x', direction='in', length=4, top=True)\n",
    "plt.tick_params(axis='y', direction='in', length=4, right=True)\n",
    "\n",
    "plt.tick_params(which='minor', axis='y', direction='in', right=True)"
   ]
  },
  {
   "cell_type": "code",
   "execution_count": null,
   "metadata": {},
   "outputs": [],
   "source": []
  }
 ],
 "metadata": {
  "kernelspec": {
   "display_name": "Python 3 (ipykernel)",
   "language": "python",
   "name": "python3"
  },
  "language_info": {
   "codemirror_mode": {
    "name": "ipython",
    "version": 3
   },
   "file_extension": ".py",
   "mimetype": "text/x-python",
   "name": "python",
   "nbconvert_exporter": "python",
   "pygments_lexer": "ipython3",
   "version": "3.9.9"
  },
  "vscode": {
   "interpreter": {
    "hash": "916dbcbb3f70747c44a77c7bcd40155683ae19c65e1c03b4aa3499c5328201f1"
   }
  }
 },
 "nbformat": 4,
 "nbformat_minor": 4
}
