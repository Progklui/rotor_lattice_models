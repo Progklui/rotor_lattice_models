{
 "cells": [
  {
   "cell_type": "markdown",
   "metadata": {},
   "source": [
    "# Working notebook to have a quick look at results\n",
    "\n",
    "This notebook allows to have a look at the results of a specific calculation. For good plotting, other notebooks are used!"
   ]
  },
  {
   "cell_type": "code",
   "execution_count": 1,
   "metadata": {
    "editable": true,
    "slideshow": {
     "slide_type": ""
    },
    "tags": []
   },
   "outputs": [],
   "source": [
    "import numpy as np\n",
    "import matplotlib.pyplot as plt\n",
    "import matplotlib\n",
    "import time, os, sys, gc\n",
    "\n",
    "import svgutils.transform as sg \n",
    "\n",
    "import scipy\n",
    "from scipy.interpolate import RegularGridInterpolator\n",
    "\n",
    "import h5py \n",
    "\n",
    "import class_energy as energy\n",
    "\n",
    "import class_handle_input as h_in\n",
    "import class_handle_wavefunctions as h_wavef\n",
    "\n",
    "import class_visualization as vis\n",
    "import class_mass_size as mass_size"
   ]
  },
  {
   "attachments": {},
   "cell_type": "markdown",
   "metadata": {},
   "source": [
    "## Functions for plotting, IO and time propagation\n",
    "\n",
    "First: a function that allows quick plotting of wavefunctions"
   ]
  },
  {
   "cell_type": "code",
   "execution_count": 2,
   "metadata": {},
   "outputs": [],
   "source": [
    "def plot_rotor_wavefunction(x, chosen_My, chosen_Mx, psi):\n",
    "    A = 6\n",
    "    plt.rc('figure', figsize=[46.82 * .5**(.5 * A), 33.11 * .5**(.5 * A)])\n",
    "    ##plt.rc('text', usetex=True)\n",
    "    plt.rc('font', family='serif')\n",
    "    #plt.rc('text.latex', preambler=r'\\usepackage{textgreek}')\n",
    "    font_size = 18 \n",
    "\n",
    "    fig, axs = plt.subplots(chosen_My,chosen_Mx, subplot_kw=dict(polar=True))\n",
    "    #plt.suptitle(r'$V_0 =$'+str(V_0), fontsize=font_size)\n",
    "\n",
    "    for i in range(chosen_My):\n",
    "         for j in range(chosen_Mx):\n",
    "            axs[i, j].plot(x, psi[(i+int(chosen_My/2))%chosen_My,(j+int(chosen_My/2))%chosen_My], color='lightcoral')\n",
    "\n",
    "            axs[i, j].set_yticklabels([])\n",
    "            axs[i, j].set_xticklabels([])\n",
    "            axs[i, j].set_theta_zero_location('E')\n",
    "\n",
    "            axs[i, j].grid(linewidth=0.5)\n",
    "            axs[i, j].spines['polar'].set_linewidth(0.3) #.set_visible(False)\n",
    "\n",
    "    #axs[0, 0].set_theta_zero_location('E')\n",
    "    #lines, labels = axs[0, 0].set_thetagrids((0, 45, 90, 135, 180), (r'0', ' ', r'$\\pi/2$', ' ', r'$\\pi$'))"
   ]
  },
  {
   "cell_type": "markdown",
   "metadata": {},
   "source": [
    "Second: a function o get the energies for one symmetry scan"
   ]
  },
  {
   "cell_type": "code",
   "execution_count": 3,
   "metadata": {},
   "outputs": [],
   "source": [
    "def get_psi_properties(file_path, check_size, check_sym):\n",
    "    h5_io_object = h_in.io_hdf5()\n",
    "    file_list = [f for f in os.listdir(file_path) if check_size in f and check_sym in f]\n",
    "\n",
    "    V_0_arr = np.zeros(len(file_list), dtype=complex)\n",
    "\n",
    "    E_arr = np.zeros(len(file_list), dtype=complex)\n",
    "    B_arr = np.zeros(len(file_list), dtype=complex)\n",
    "    V_arr = np.zeros(len(file_list), dtype=complex)\n",
    "    Tx_arr = np.zeros(len(file_list), dtype=complex)\n",
    "    Ty_arr = np.zeros(len(file_list), dtype=complex)\n",
    "\n",
    "    i = 0\n",
    "    for file in file_list:\n",
    "        psi, params = h5_io_object.get_psi(file_path+file)\n",
    "\n",
    "        energy_object = energy.energy(params=params)\n",
    "\n",
    "        E = energy_object.calc_energy(psi) # in form [E, E_T, E_B, E_V]\n",
    "        Tx, Ty = energy_object.deriv_dE_dt(psi)\n",
    "\n",
    "        E_arr[i] = E[0]\n",
    "        B_arr[i] = E[2]\n",
    "        V_arr[i] = E[3]\n",
    "        Ty_arr[i] = Ty\n",
    "        Tx_arr[i] = Tx\n",
    "\n",
    "        V_0_arr[i] = params['V_0']\n",
    "\n",
    "        i += 1\n",
    "\n",
    "    index_sort = np.argsort(V_0_arr)\n",
    "\n",
    "    V_0_arr = V_0_arr[index_sort]\n",
    "\n",
    "    E_arr = E_arr[index_sort]\n",
    "    B_arr = B_arr[index_sort]\n",
    "    V_arr = V_arr[index_sort]\n",
    "    Tx_arr = Tx_arr[index_sort]\n",
    "    Ty_arr = Ty_arr[index_sort]\n",
    "\n",
    "    return V_0_arr, E_arr, B_arr, V_arr, Tx_arr, Ty_arr"
   ]
  },
  {
   "cell_type": "markdown",
   "metadata": {},
   "source": [
    "Third: Provided the sum and diff of tunneling rates, return $t_x$ and $t_y$"
   ]
  },
  {
   "cell_type": "code",
   "execution_count": 4,
   "metadata": {},
   "outputs": [],
   "source": [
    "def get_tx_ty(sum, diff):\n",
    "    '''  \n",
    "    Return tx and ty tunneling rates\n",
    "    '''\n",
    "    tx = 0.5*(sum+diff)\n",
    "    ty = 0.5*(sum-diff)\n",
    "    return tx, ty"
   ]
  },
  {
   "attachments": {},
   "cell_type": "markdown",
   "metadata": {},
   "source": [
    "## Define Calculation Parameters"
   ]
  },
  {
   "cell_type": "code",
   "execution_count": 5,
   "metadata": {},
   "outputs": [],
   "source": [
    "params = {\"n\": 256,\n",
    "\"M\": 36,\n",
    "\"Mx\": 6,\n",
    "\"Mx_display\": 4,\n",
    "\"converge_new_lattice\": \"no\",\n",
    "\"My\": 6,\n",
    "\"My_display\": 4,\n",
    "\"B\": 1.0,\n",
    "\"tx\": 100,\n",
    "\"ty\": 100,\n",
    "\"V_0\": 150.0,\n",
    "\"qx\": 0,\n",
    "\"qy\": 0,\n",
    "\"init_choice\": \"ferro_domain_vertical_wall\",\n",
    "\"external_wf_tag\": \" \",\n",
    "\"excitation_no\": 11,\n",
    "\"angle_pattern\": [0,0,0,0],\n",
    "\"V_0_pattern\": [150,150,150,150],\n",
    "\"n_states\": 0,\n",
    "\"path_to_input_wavefunction\": \" \",\n",
    "\"dt\": 0.001,\n",
    "\"tol\": 1e-9}\n",
    "\n",
    "x = (2*np.pi/params[\"n\"])*np.arange(params[\"n\"])\n",
    "\n",
    "''' \n",
    "I/O Object\n",
    "'''\n",
    "h5_io_object = h_in.io_hdf5()"
   ]
  },
  {
   "attachments": {},
   "cell_type": "markdown",
   "metadata": {},
   "source": [
    "### Read the whole folder to see what files are there"
   ]
  },
  {
   "cell_type": "code",
   "execution_count": 8,
   "metadata": {},
   "outputs": [
    {
     "name": "stdout",
     "output_type": "stream",
     "text": [
      "files:  ['tx_0_ty_100_V0_120.0_B_2.0_Mx_2_My_256_qx_0_qy_0.hfd5', 'tx_0_ty_100_V0_90.0_B_2.0_Mx_2_My_256_qx_0_qy_0.hfd5', 'tx_0_ty_100_V0_0.0_B_2.0_Mx_2_My_256_qx_0_qy_0.hfd5', 'tx_0_ty_100_V0_60.0_B_2.0_Mx_2_My_256_qx_0_qy_0.hfd5', 'tx_0_ty_100_V0_150.0_B_2.0_Mx_2_My_256_qx_0_qy_0.hfd5', 'tx_0_ty_100_V0_30.0_B_2.0_Mx_2_My_256_qx_0_qy_0.hfd5', 'tx_0_ty_100_V0_210.0_B_2.0_Mx_2_My_256_qx_0_qy_0.hfd5', 'tx_0_ty_100_V0_180.0_B_2.0_Mx_2_My_256_qx_0_qy_0.hfd5']\n",
      "\n",
      "B,tx,ty =  2.0 0 100\n",
      "\n",
      "V_0:  [  0.+0.j  30.+0.j  60.+0.j  90.+0.j 120.+0.j 150.+0.j 180.+0.j 210.+0.j]\n"
     ]
    }
   ],
   "source": [
    "sum_tx_ty = 200\n",
    "diff_tx_ty = 0\n",
    "\n",
    "B = 2.0 \n",
    "\n",
    "Mx = 2\n",
    "My = 256\n",
    "\n",
    "tx, ty = get_tx_ty(sum_tx_ty, diff_tx_ty)\n",
    "\n",
    "tx = 0\n",
    "ty = 100 \n",
    "\n",
    "check_sym  = 'tx_'+str(tx)+'_ty_'+str(ty)\n",
    "check_size = 'B_'+str(B)+'_Mx_'+str(Mx)+'_My_'+str(My)\n",
    "file_path = 'results/perturbation_theory/tx_0_ty_100/'\n",
    "\n",
    "h5_io_object = h_in.io_hdf5()\n",
    "file_list = [f for f in os.listdir(file_path) if check_size in f and check_sym in f]\n",
    "\n",
    "V_0_list, E_arr, B_arr, V_arr, Tx_arr, Ty_arr = get_psi_properties(file_path, check_size, check_sym)\n",
    "\n",
    "print('files: ', file_list)\n",
    "\n",
    "print('\\nB,tx,ty = ', B, tx, ty)\n",
    "print('\\nV_0: ', V_0_list)"
   ]
  },
  {
   "cell_type": "markdown",
   "metadata": {},
   "source": [
    "### Results of one calculation"
   ]
  },
  {
   "cell_type": "code",
   "execution_count": 20,
   "metadata": {},
   "outputs": [
    {
     "name": "stdout",
     "output_type": "stream",
     "text": [
      "{'n': 256, 'Mx': 2, 'Mx_display': 4, 'converge_new_lattice': 'no', 'My': 256, 'M': 512, 'My_display': 4, 'B': 2.0, 'tx': 0.0, 'ty': 100.0, 'V_0': 60.0, 'qx': 0, 'qy': 0, 'init_choice': 'ferro_domain_vertical_wall', 'external_wf_tag': ' ', 'excitation_no': 0, 'angle_pattern': [0, 0, 0, 0], 'V_0_pattern': [0, 0, 0, 0], 'n_states': 0, 'path_to_input_wavefunction': ' ', 'dt': 0.001, 'tol': 1e-10}\n",
      "E = [-312.94099689-4.96869109e-18j -176.38774644-5.71924156e-27j\n",
      "   16.55817016-4.96869109e-18j -153.11142061+0.00000000e+00j]\n",
      "Tx = (-2.0142859170972113e-08-0j)  Ty = (-1.763877464360312-5.719241562852336e-29j)\n"
     ]
    },
    {
     "data": {
      "image/png": "[encoded data removed]",
      "text/plain": [
       "<Figure size 720x360 with 2 Axes>"
      ]
     },
     "metadata": {
      "needs_background": "light"
     },
     "output_type": "display_data"
    }
   ],
   "source": [
    "file = file_list[3]\n",
    "psi, params = h5_io_object.get_psi(file_path+file)\n",
    "e_evo, epsilon_evo = h5_io_object.get_evo_values(file_path+file)\n",
    "\n",
    "energy_object = energy.energy(params=params)\n",
    "\n",
    "E = energy_object.calc_energy(psi) # in form [E, E_T, E_B, E_V]\n",
    "Tx, Ty = energy_object.deriv_dE_dt(psi)\n",
    "\n",
    "print(params)\n",
    "print('E =', E)\n",
    "print('Tx =', Tx, ' Ty =', Ty)\n",
    "\n",
    "A = 6\n",
    "plt.rc('figure', figsize=[46.82 * .5**(.5 * A), 33.11 * .5**(.5 * A)])\n",
    "plt.rc('text', usetex=True)\n",
    "plt.rc('font', family='serif')\n",
    "font_size = 15\n",
    "\n",
    "fig, axs = plt.subplots(1,2, figsize=(10,5))\n",
    "\n",
    "axs[0].plot(e_evo/B)\n",
    "axs[1].plot(epsilon_evo)\n",
    "\n",
    "axs[0].set_xscale('log')\n",
    "\n",
    "axs[1].set_xscale('log')\n",
    "#axs[1].set_yscale('log')\n",
    "\n",
    "axs[0].set_xlabel(r'iteration number', fontsize=font_size)\n",
    "axs[0].set_ylabel(r'$E/B$', fontsize=font_size)\n",
    "\n",
    "axs[1].set_xlabel(r'iteration number', fontsize=font_size)\n",
    "axs[1].set_ylabel(r'$\\varepsilon$', fontsize=font_size)\n",
    "\n",
    "axs[0].tick_params(axis='x', direction='in', length=4, top=True, labelsize=font_size)\n",
    "axs[0].tick_params(axis='y', direction='in', length=4, right=True, labelsize=font_size)\n",
    "\n",
    "axs[1].tick_params(axis='x', direction='in', length=4, top=True, labelsize=font_size)\n",
    "axs[1].tick_params(axis='y', direction='in', length=4, right=True, labelsize=font_size)\n",
    "\n",
    "axs[0].tick_params(which='minor', axis='y', direction='in', right=True)\n",
    "axs[1].tick_params(which='minor', axis='y', direction='in', right=True)"
   ]
  },
  {
   "cell_type": "markdown",
   "metadata": {},
   "source": [
    "### Results for scan over many potential points"
   ]
  },
  {
   "cell_type": "code",
   "execution_count": 10,
   "metadata": {},
   "outputs": [
    {
     "data": {
      "image/png": "[encoded data removed]",
      "text/plain": [
       "<Figure size 421.38x297.99 with 1 Axes>"
      ]
     },
     "metadata": {
      "needs_background": "light"
     },
     "output_type": "display_data"
    }
   ],
   "source": [
    "A = 6\n",
    "plt.rc('figure', figsize=[46.82 * .5**(.5 * A), 33.11 * .5**(.5 * A)])\n",
    "plt.rc('text', usetex=True)\n",
    "plt.rc('font', family='serif')\n",
    "font_size = 15\n",
    "\n",
    "plt.plot(V_0_list.real, E_arr.real)\n",
    "\n",
    "plt.xlabel(r'$V_0/B$', fontsize=font_size)\n",
    "plt.ylabel(r'$E/B$', fontsize=font_size)\n",
    "\n",
    "plt.xticks(fontsize=font_size)\n",
    "plt.yticks(fontsize=font_size)\n",
    "\n",
    "plt.tick_params(axis='x', direction='in', length=4, top=True)\n",
    "plt.tick_params(axis='y', direction='in', length=4, right=True)\n",
    "\n",
    "plt.tick_params(which='minor', axis='y', direction='in', right=True)"
   ]
  },
  {
   "cell_type": "code",
   "execution_count": 21,
   "metadata": {},
   "outputs": [
    {
     "name": "stderr",
     "output_type": "stream",
     "text": [
      "/nfs/scistore12/lemesgrp/fkluiben/.local/lib/python3.9/site-packages/matplotlib/cbook/__init__.py:1335: ComplexWarning: Casting complex values to real discards the imaginary part\n",
      "  return np.asarray(x, float)\n"
     ]
    },
    {
     "data": {
      "text/plain": [
       "[<matplotlib.lines.Line2D at 0x7f5e4a15e640>]"
      ]
     },
     "execution_count": 21,
     "metadata": {},
     "output_type": "execute_result"
    },
    {
     "data": {
      "image/png": "[encoded data removed]",
      "text/plain": [
       "<Figure size 421.38x297.99 with 1 Axes>"
      ]
     },
     "metadata": {
      "needs_background": "light"
     },
     "output_type": "display_data"
    }
   ],
   "source": [
    "plt.plot(Tx_arr)\n",
    "plt.plot(Ty_arr)"
   ]
  },
  {
   "cell_type": "code",
   "execution_count": null,
   "metadata": {},
   "outputs": [],
   "source": [
    "plot_rotor_wavefunction(x, 10, 2, np.abs(psi.T)**2)"
   ]
  },
  {
   "cell_type": "code",
   "execution_count": null,
   "metadata": {},
   "outputs": [],
   "source": []
  }
 ],
 "metadata": {
  "kernelspec": {
   "display_name": "Python 3 (ipykernel)",
   "language": "python",
   "name": "python3"
  },
  "language_info": {
   "codemirror_mode": {
    "name": "ipython",
    "version": 3
   },
   "file_extension": ".py",
   "mimetype": "text/x-python",
   "name": "python",
   "nbconvert_exporter": "python",
   "pygments_lexer": "ipython3",
   "version": "3.9.9"
  },
  "vscode": {
   "interpreter": {
    "hash": "916dbcbb3f70747c44a77c7bcd40155683ae19c65e1c03b4aa3499c5328201f1"
   }
  }
 },
 "nbformat": 4,
 "nbformat_minor": 4
}
