{
 "cells": [
  {
   "cell_type": "code",
   "execution_count": 1,
   "metadata": {},
   "outputs": [],
   "source": [
    "import numpy as np\n",
    "import scipy \n",
    "\n",
    "import matplotlib.pyplot as plt\n",
    "import matplotlib \n",
    "\n",
    "import class_diag_hamiltonian as diag_heff\n",
    "import class_energy as energy\n",
    "import class_mass_size as mass_size\n",
    "\n",
    "import class_symmetry_breaking as sym_break"
   ]
  },
  {
   "cell_type": "code",
   "execution_count": 2,
   "metadata": {},
   "outputs": [],
   "source": [
    "params = {\"n\": 256,\n",
    "\"M\": 36,\n",
    "\"Mx\": 6,\n",
    "\"converge_new_lattice\": \"no\",\n",
    "\"My\": 6,\n",
    "\"B\": 1.0,\n",
    "\"tx\": 90,\n",
    "\"ty\": 100,\n",
    "\"V_0\": 110.0,\n",
    "\"qx\": 0,\n",
    "\"qy\": 0,\n",
    "\"init_choice\": \" \",\n",
    "\"external_wf_tag\": \" \",\n",
    "\"excitation_no\": 11,\n",
    "\"n_states\": 0,\n",
    "\"path_to_input_wavefunction\": \" \",\n",
    "\"dt\": 0.001,\n",
    "\"tol\": 1e-12}\n",
    "\n",
    "x = (2*np.pi/params[\"n\"])*np.arange(params[\"n\"])\n",
    "\n",
    "Mx = params[\"Mx\"]\n",
    "My = params[\"My\"]\n",
    "\n",
    "n = params[\"n\"]\n",
    "\n",
    "tx = params[\"tx\"]\n",
    "ty = params[\"ty\"]\n",
    "\n",
    "B = params[\"B\"]\n",
    "\n",
    "scale = B \n",
    "\n",
    "exc_number = params[\"excitation_no\"]\n",
    "\n",
    "#ferro_order = np.load('matrix_results/psi_rotors_2d_python_M_10000_B_1.0_tx_90.0_ty_100.0_Vmin_10.0_Vmax_180.0/psi_rotors_2d_imag_time_prop_M_10000_Mx_100_My_100_B_1.0_tx_90.0_ty_100.0_Vmin_10.0_Vmax_180.0_qx_0_qy_0_dt_0.001_init_uniform_V0_40.0.npy')\n",
    "#ref_state = np.load('matrix_results/psi_rotors_2d_python_M_36_B_1.0_tx_90.0_ty_100.0_Vmin_80.0_Vmax_80.0/psi_rotors_2d_imag_time_prop_M_36_Mx_6_My_6_B_1.0_tx_90.0_ty_100.0_Vmin_80.0_Vmax_80.0_qx_0_qy_0_dt_0.001_init_uniform_V0_80.0.npy')\n",
    "#ref_state_fdv = np.load('matrix_results/psi_rotors_2d_python_M_36_B_1.0_tx_90.0_ty_100.0_Vmin_80.0_Vmax_80.0/psi_rotors_2d_imag_time_prop_M_36_Mx_6_My_6_B_1.0_tx_90.0_ty_100.0_Vmin_80.0_Vmax_80.0_qx_0_qy_0_dt_0.001_init_ferro_domain_vertical_wall_V0_80.0.npy')\n",
    "#ref_state_fdh = np.load('matrix_results/psi_rotors_2d_python_M_36_B_1.0_tx_90.0_ty_100.0_Vmin_80.0_Vmax_80.0/psi_rotors_2d_imag_time_prop_M_36_Mx_6_My_6_B_1.0_tx_90.0_ty_100.0_Vmin_80.0_Vmax_80.0_qx_0_qy_0_dt_0.001_init_ferro_domain_horizontal_wall_V0_80.0.npy')\n",
    "#ref_state_sp = np.load('matrix_results/psi_rotors_2d_python_M_36_B_1.0_tx_90.0_ty_100.0_Vmin_80.0_Vmax_80.0/psi_rotors_2d_imag_time_prop_M_36_Mx_6_My_6_B_1.0_tx_90.0_ty_100.0_Vmin_80.0_Vmax_80.0_qx_0_qy_0_dt_0.001_init_small_polaron_V0_80.0.npy')\n",
    "\n",
    "ref_state = np.load('matrix_results/psi_rotors_2d_python_M_36_B_1.0_tx_90.0_ty_100.0_Vmin_110.0_Vmax_110.0/psi_rotors_2d_imag_time_prop_M_36_Mx_6_My_6_B_1.0_tx_90.0_ty_100.0_Vmin_110.0_Vmax_110.0_qx_0_qy_0_dt_0.001_init_uniform_V0_110.0.npy')\n",
    "ref_state_fdv = np.load('matrix_results/psi_rotors_2d_python_M_36_B_1.0_tx_90.0_ty_100.0_Vmin_110.0_Vmax_110.0/psi_rotors_2d_imag_time_prop_M_36_Mx_6_My_6_B_1.0_tx_90.0_ty_100.0_Vmin_110.0_Vmax_110.0_qx_0_qy_0_dt_0.001_init_ferro_domain_vertical_wall_V0_110.0.npy')\n",
    "ref_state_fdh = np.load('matrix_results/psi_rotors_2d_python_M_36_B_1.0_tx_90.0_ty_100.0_Vmin_110.0_Vmax_110.0/psi_rotors_2d_imag_time_prop_M_36_Mx_6_My_6_B_1.0_tx_90.0_ty_100.0_Vmin_110.0_Vmax_110.0_qx_0_qy_0_dt_0.001_init_ferro_domain_horizontal_wall_V0_110.0.npy')\n",
    "ref_state_sp = np.load('matrix_results/psi_rotors_2d_python_M_36_B_1.0_tx_90.0_ty_100.0_Vmin_110.0_Vmax_110.0/psi_rotors_2d_imag_time_prop_M_36_Mx_6_My_6_B_1.0_tx_90.0_ty_100.0_Vmin_110.0_Vmax_110.0_qx_0_qy_0_dt_0.001_init_small_polaron_V0_110.0.npy')\n",
    "\n",
    "results_path = 'image_results/MRCI_M_36_B_1.0_tx_90_ty_100_V_110/excitation_analysis/'"
   ]
  },
  {
   "cell_type": "code",
   "execution_count": 3,
   "metadata": {},
   "outputs": [
    {
     "name": "stdout",
     "output_type": "stream",
     "text": [
      "Iter = 0 , Overlap = (0.9999999995991636+4.944475013814152e-13j)\n",
      "Iter = 1 , Overlap = (0.9999999996147673+7.399270523226022e-14j)\n",
      "Iter = 2 , Overlap = (0.9999999996243711+3.5634558782732884e-14j)\n",
      "Iter = 3 , Overlap = (0.9999999996347668+2.523971637669762e-14j)\n",
      "Iter = 4 , Overlap = (0.9999999996440156+1.9765706323350545e-14j)\n",
      "Iter = 0 , Overlap = (0.9999999997169537-1.626534936733791e-10j)\n",
      "Iter = 1 , Overlap = (0.9999999997564145+4.864962265656651e-12j)\n",
      "Iter = 2 , Overlap = (0.9999999997762593+5.184879832420131e-12j)\n",
      "Iter = 3 , Overlap = (0.9999999998017269+3.493250554701932e-12j)\n",
      "Iter = 4 , Overlap = (0.9999999998187733+2.47008415155795e-12j)\n",
      "Iter = 0 , Overlap = (0.9999999996345293+3.25582414678578e-13j)\n",
      "Iter = 1 , Overlap = (0.9999999996900248+3.93450646808687e-14j)\n",
      "Iter = 2 , Overlap = (0.9999999997173379+1.8893069803404653e-14j)\n",
      "Iter = 3 , Overlap = (0.9999999997520759+1.254390206741748e-14j)\n",
      "Iter = 4 , Overlap = (0.9999999997751629+8.846471530313033e-15j)\n",
      "Iter = 0 , Overlap = (0.9999969004472887-3.540030126385588e-11j)\n",
      "Iter = 1 , Overlap = (0.999999999794537-9.158542200025779e-12j)\n",
      "Iter = 2 , Overlap = (0.9999999999939144+2.647922197993867e-12j)\n",
      "Iter = 3 , Overlap = (0.9999999999999366-8.333138375474875e-13j)\n",
      "Iter = 4 , Overlap = (1.0000000000000029-2.5510182613771124e-13j)\n"
     ]
    }
   ],
   "source": [
    "coupl_object = energy.coupling_of_states(params=params)\n",
    "diag_object = diag_heff.diagonalization(params=params)\n",
    "mult_ref_object = diag_heff.multi_ref_ci(params=params)\n",
    "\n",
    "q = np.array([params['qx'],params['qy']])\n",
    "\n",
    "''' \n",
    "- iter_number: iterations of the SCF algorithm\n",
    "- mult_ref_object.set_phase_bool: whether to set the phase or not\n",
    "'''\n",
    "iter_number = 5\n",
    "mult_ref_object.set_phase_bool = True\n",
    "\n",
    "new_ref_gs, conv_energ_gs, overlap_arr = mult_ref_object.creat_new_ref_state(iter_number, ref_state, q)\n",
    "new_ref_gs_fdv, conv_energ_gs_fdv, overlap_arr_fdv = mult_ref_object.creat_new_ref_state(iter_number, ref_state_fdv, q)\n",
    "new_ref_gs_fdh, conv_energ_gs_fdh, overlap_arr_fdh = mult_ref_object.creat_new_ref_state(iter_number, ref_state_fdh, q)\n",
    "new_ref_gs_sp, conv_energ_gs_sp, overlap_arr_sp = mult_ref_object.creat_new_ref_state(iter_number, ref_state_sp, q)"
   ]
  },
  {
   "cell_type": "code",
   "execution_count": 4,
   "metadata": {},
   "outputs": [],
   "source": [
    "energy_exc_states, ref_exc_states = diag_object.diag_h_eff(new_ref_gs)\n",
    "energy_exc_states_fdv, ref_exc_states_fdv = diag_object.diag_h_eff(new_ref_gs_fdv)\n",
    "energy_exc_states_fdh, ref_exc_states_fdh = diag_object.diag_h_eff(new_ref_gs_fdh)\n",
    "energy_exc_states_sp, ref_exc_states_sp = diag_object.diag_h_eff(new_ref_gs_sp)"
   ]
  },
  {
   "cell_type": "code",
   "execution_count": 5,
   "metadata": {},
   "outputs": [
    {
     "name": "stdout",
     "output_type": "stream",
     "text": [
      "1444\n",
      "0\n",
      "0\n"
     ]
    }
   ],
   "source": [
    "psi_arr = []\n",
    "\n",
    "psi_arr.append(new_ref_gs)\n",
    "psi_arr.append(new_ref_gs_fdv)\n",
    "psi_arr.append(new_ref_gs_fdh)\n",
    "psi_arr.append(new_ref_gs_sp)\n",
    "\n",
    "psi_arr_s = []\n",
    "psi_arr = mult_ref_object.append_single_excitation(new_ref_gs, psi_arr, ref_exc_states)\n",
    "psi_arr = mult_ref_object.append_single_excitation(new_ref_gs_fdv, psi_arr, ref_exc_states_fdv)\n",
    "psi_arr = mult_ref_object.append_single_excitation(new_ref_gs_fdh, psi_arr, ref_exc_states_fdh)\n",
    "psi_arr = mult_ref_object.append_single_excitation(new_ref_gs_sp, psi_arr, ref_exc_states_sp)\n",
    "\n",
    "psi_arr_d = []\n",
    "#psi_arr_d = mult_ref_object.append_double_excitations(new_ref_gs, psi_arr_d, ref_exc_states)\n",
    "#psi_arr_d = mult_ref_object.append_double_excitations(new_ref_gs_fdv, psi_arr_d, ref_exc_states_fdv)\n",
    "#psi_arr_d = mult_ref_object.append_double_excitations(new_ref_gs_fdh, psi_arr_d, ref_exc_states_fdh)\n",
    "#psi_arr_d = mult_ref_object.append_double_excitations(new_ref_gs_sp, psi_arr_d, ref_exc_states_sp)\n",
    "\n",
    "n_states = len(psi_arr)\n",
    "q_arr = np.zeros((n_states,2), dtype=complex)\n",
    "\n",
    "n_states_s = len(psi_arr_s)\n",
    "q_arr_s = np.zeros((n_states_s,2), dtype=complex)\n",
    "\n",
    "n_states_d = len(psi_arr_d)\n",
    "q_arr_d = np.zeros((n_states_d,2), dtype=complex)\n",
    "\n",
    "print(n_states)\n",
    "print(n_states_s)\n",
    "print(n_states_d)"
   ]
  },
  {
   "cell_type": "code",
   "execution_count": 16,
   "metadata": {},
   "outputs": [],
   "source": [
    "coupl_indices = [365, 366, 367, 368, 371, 372, 373, 374, 377, 378, 379, 380, 383, 384, 385, \n",
    "                 386, 389, 390, 391, 392, 395, 396, 397, 398, 401, 402, 403, 404, 407, 408,\n",
    "                 409, 410, 413, 414, 415, 416, 419, 420, 421, 422, 425, 426, 427, 428, 431, \n",
    "                 432, 433, 434]\n",
    "\n",
    "psi_arr_sym_break = [psi_arr[i] for i in coupl_indices]\n",
    "\n",
    "sym_break_object = sym_break.symm_breaking(params=params)\n",
    "sym_break_object.ext_field = -0.01*np.array([5,10,5,10]) # 100*np.random.rand(4) # 1*np.array([50,50,50,50]) # np.zeros(Mx-2) #\n",
    "h_eff_sym_break, s_ove_sym_break = sym_break_object.calc_mat_bulk_symm_breaking(psi_arr_sym_break, len(coupl_indices))"
   ]
  },
  {
   "cell_type": "code",
   "execution_count": 17,
   "metadata": {},
   "outputs": [
    {
     "data": {
      "text/plain": [
       "<matplotlib.collections.PathCollection at 0x7fbe2986a770>"
      ]
     },
     "execution_count": 17,
     "metadata": {},
     "output_type": "execute_result"
    },
    {
     "data": {
      "image/png": "[encoded data removed]",
      "text/plain": [
       "<Figure size 432x288 with 1 Axes>"
      ]
     },
     "metadata": {
      "needs_background": "light"
     },
     "output_type": "display_data"
    }
   ],
   "source": [
    "eigen_values_sym_break1, eigen_vector_h_sym_break1, eigen_vector_s_sym_break1 = coupl_object.diag_hamiltonian(h_eff_sym_break, s_ove_sym_break)\n",
    "plt.scatter(np.arange(len(eigen_values_sym_break1[0:8])), eigen_values_sym_break1[0:8])"
   ]
  },
  {
   "cell_type": "code",
   "execution_count": 8,
   "metadata": {},
   "outputs": [
    {
     "data": {
      "text/plain": [
       "[<matplotlib.lines.Line2D at 0x7fbe2c4abd90>]"
      ]
     },
     "execution_count": 8,
     "metadata": {},
     "output_type": "execute_result"
    },
    {
     "data": {
      "image/png": "[encoded data removed]",
      "text/plain": [
       "<Figure size 432x288 with 1 Axes>"
      ]
     },
     "metadata": {
      "needs_background": "light"
     },
     "output_type": "display_data"
    }
   ],
   "source": [
    "trans_probs = coupl_object.transition_probabilities(48, h_eff_sym_break, s_ove_sym_break)\n",
    "\n",
    "#plt.plot(np.abs(eigen_vector_h_sym_break1[:,0]))\n",
    "#plt.plot(np.abs(eigen_vector_h_sym_break1[:,5]))\n",
    "\n",
    "%matplotlib inline\n",
    "plt.plot(trans_probs[3])\n",
    "plt.plot(trans_probs[4])"
   ]
  },
  {
   "cell_type": "code",
   "execution_count": 9,
   "metadata": {},
   "outputs": [
    {
     "data": {
      "text/plain": [
       "<matplotlib.collections.QuadMesh at 0x7fbe2c51a6b0>"
      ]
     },
     "execution_count": 9,
     "metadata": {},
     "output_type": "execute_result"
    },
    {
     "data": {
      "image/png": "[encoded data removed]",
      "text/plain": [
       "<Figure size 432x288 with 1 Axes>"
      ]
     },
     "metadata": {
      "needs_background": "light"
     },
     "output_type": "display_data"
    }
   ],
   "source": [
    "plt.pcolormesh(np.abs(h_eff_sym_break))"
   ]
  },
  {
   "cell_type": "code",
   "execution_count": 10,
   "metadata": {},
   "outputs": [
    {
     "data": {
      "text/plain": [
       "array([41.79333449, 78.32893503, 72.23992129, 67.52918474])"
      ]
     },
     "execution_count": 10,
     "metadata": {},
     "output_type": "execute_result"
    }
   ],
   "source": [
    "100*np.random.rand(4)"
   ]
  },
  {
   "cell_type": "code",
   "execution_count": 11,
   "metadata": {},
   "outputs": [
    {
     "data": {
      "text/plain": [
       "413"
      ]
     },
     "execution_count": 11,
     "metadata": {},
     "output_type": "execute_result"
    }
   ],
   "source": [
    "coupl_indices[32]"
   ]
  },
  {
   "cell_type": "code",
   "execution_count": null,
   "metadata": {},
   "outputs": [],
   "source": []
  }
 ],
 "metadata": {
  "kernelspec": {
   "display_name": "Python 3",
   "language": "python",
   "name": "python3"
  },
  "language_info": {
   "codemirror_mode": {
    "name": "ipython",
    "version": 3
   },
   "file_extension": ".py",
   "mimetype": "text/x-python",
   "name": "python",
   "nbconvert_exporter": "python",
   "pygments_lexer": "ipython3",
   "version": "3.10.12"
  },
  "orig_nbformat": 4,
  "vscode": {
   "interpreter": {
    "hash": "916dbcbb3f70747c44a77c7bcd40155683ae19c65e1c03b4aa3499c5328201f1"
   }
  }
 },
 "nbformat": 4,
 "nbformat_minor": 2
}
