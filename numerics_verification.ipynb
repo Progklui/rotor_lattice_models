{
 "cells": [
  {
   "cell_type": "code",
   "execution_count": 1,
   "metadata": {},
   "outputs": [],
   "source": [
    "import numpy as np\n",
    "import matplotlib.pyplot as plt\n",
    "import time, os, sys, gc\n",
    "\n",
    "\n",
    "import h5py \n",
    "\n",
    "import svgutils.transform as sg \n",
    "import sys \n",
    "\n",
    "import matplotlib.patches as patches\n",
    "\n",
    "from scipy.integrate import solve_ivp\n",
    "\n",
    "import class_energy as energy\n",
    "import class_equations_of_motion as eom \n",
    "\n",
    "import class_handle_input as h_in\n",
    "import class_handle_wavefunctions as h_wavef\n",
    "\n",
    "import class_visualization as vis\n",
    "import class_mass_size as mass_size"
   ]
  },
  {
   "cell_type": "code",
   "execution_count": 2,
   "metadata": {},
   "outputs": [],
   "source": [
    "def get_E_arr(Mx_list, My_list, folder, check_sys):\n",
    "    h5_io_object = h_in.io_hdf5()\n",
    "    \n",
    "    E_s_arr = np.zeros(len(Mx_list), dtype=complex)\n",
    "    for i in range(len(Mx_list)):\n",
    "        Mx = Mx_list[i]\n",
    "        My = My_list[i]\n",
    "\n",
    "        check_sym = 'Mx_'+str(Mx)+'_My_'+str(My)\n",
    "        file_list = [f for f in os.listdir(folder) if check_sys in f and check_sym in f]\n",
    "\n",
    "        if len(file_list) > 1: \n",
    "            break\n",
    "        for file in file_list:\n",
    "            file_name = folder+file\n",
    "            psi, params = h5_io_object.get_psi(file_name)\n",
    "\n",
    "            energy_object = energy.energy(params=params)\n",
    "            E, E_T, E_B, E_V = energy_object.calc_energy(psi)\n",
    "            E_s_arr[i] = E\n",
    "    return E_s_arr"
   ]
  },
  {
   "cell_type": "code",
   "execution_count": 3,
   "metadata": {},
   "outputs": [],
   "source": [
    "def plot_rotor_wavefunction(x, chosen_My, chosen_Mx, psi):\n",
    "    A = 6\n",
    "    plt.rc('figure', figsize=[46.82 * .5**(.5 * A), 33.11 * .5**(.5 * A)])\n",
    "    ##plt.rc('text', usetex=True)\n",
    "    plt.rc('font', family='serif')\n",
    "    #plt.rc('text.latex', preambler=r'\\usepackage{textgreek}')\n",
    "    font_size = 18 \n",
    "\n",
    "    fig, axs = plt.subplots(chosen_My,chosen_Mx, subplot_kw=dict(polar=True))\n",
    "    #plt.suptitle(r'$V_0 =$'+str(V_0), fontsize=font_size)\n",
    "\n",
    "    for i in range(chosen_My):\n",
    "         for j in range(chosen_Mx):\n",
    "            #axs[i, j].plot(x, psi[(i+int(chosen_My/2))%chosen_My,(j+int(chosen_My/2))%chosen_My], color='lightcoral')\n",
    "\n",
    "            axs[i, j].plot(x, psi[(i+int(chosen_My/2))%chosen_My,(j+int(chosen_Mx/2))%chosen_Mx], color='lightcoral')\n",
    "\n",
    "\n",
    "            axs[i, j].set_yticklabels([])\n",
    "            axs[i, j].set_xticklabels([])\n",
    "            axs[i, j].set_theta_zero_location('E')\n",
    "\n",
    "            axs[i, j].grid(linewidth=0.5)\n",
    "            axs[i, j].spines['polar'].set_linewidth(0.3) #.set_visible(False)\n",
    "\n",
    "    #axs[0, 0].set_theta_zero_location('E')\n",
    "    #lines, labels = axs[0, 0].set_thetagrids((0, 45, 90, 135, 180), (r'0', ' ', r'$\\pi/2$', ' ', r'$\\pi$'))"
   ]
  },
  {
   "cell_type": "code",
   "execution_count": 4,
   "metadata": {},
   "outputs": [],
   "source": [
    "params = {\"n\": 256,\n",
    "\"M\": 36,\n",
    "\"Mx\": 6,\n",
    "\"Mx_display\": 4,\n",
    "\"converge_new_lattice\": \"no\",\n",
    "\"My\": 6,\n",
    "\"My_display\": 4,\n",
    "\"B\": 1.0,\n",
    "\"tx\": 100,\n",
    "\"ty\": 100,\n",
    "\"V_0\": 150.0,\n",
    "\"qx\": 0,\n",
    "\"qy\": 0,\n",
    "\"init_choice\": \"uniform\",\n",
    "\"external_wf_tag\": \" \",\n",
    "\"excitation_no\": 11,\n",
    "\"angle_pattern\": [0,0,0,0],\n",
    "\"V_0_pattern\": [0,0,0,0],\n",
    "\"n_states\": 0,\n",
    "\"path_to_input_wavefunction\": \" \",\n",
    "\"dt\": 0.001,\n",
    "\"tol\": 1e-7}\n",
    "\n",
    "x = (2*np.pi/params[\"n\"])*np.arange(params[\"n\"])\n",
    "\n",
    "''' \n",
    "I/O Objects\n",
    "'''\n",
    "h5_io_object = h_in.io_hdf5()\n",
    "\n",
    "check_sys = 'tx_'+str(params[\"tx\"])+'_ty_'+str(params[\"ty\"])+'_V0_'+str(params[\"V_0\"])"
   ]
  },
  {
   "cell_type": "code",
   "execution_count": 25,
   "metadata": {},
   "outputs": [
    {
     "data": {
      "text/plain": [
       "[<matplotlib.lines.Line2D at 0x7ff08582cd30>]"
      ]
     },
     "execution_count": 25,
     "metadata": {},
     "output_type": "execute_result"
    },
    {
     "data": {
      "image/png": "[encoded data removed]",
      "text/plain": [
       "<Figure size 421.38x297.99 with 1 Axes>"
      ]
     },
     "metadata": {
      "needs_background": "light"
     },
     "output_type": "display_data"
    }
   ],
   "source": [
    "Mx_list_fo = 2**(np.arange(2,7))\n",
    "My_list_fo = 2**(np.arange(2,7))\n",
    "\n",
    "folder = 'results/numerics_verification/fo/'\n",
    "\n",
    "E_size_fo_arr = get_E_arr(Mx_list_fo, My_list_fo, folder, check_sys)\n",
    "plt.plot(Mx_list_fo, E_size_fo_arr.real, marker='x')"
   ]
  },
  {
   "cell_type": "code",
   "execution_count": 29,
   "metadata": {},
   "outputs": [
    {
     "data": {
      "text/plain": [
       "[<matplotlib.lines.Line2D at 0x7ff0c7fe7ee0>]"
      ]
     },
     "execution_count": 29,
     "metadata": {},
     "output_type": "execute_result"
    },
    {
     "data": {
      "image/png": "[encoded data removed]",
      "text/plain": [
       "<Figure size 421.38x297.99 with 1 Axes>"
      ]
     },
     "metadata": {
      "needs_background": "light"
     },
     "output_type": "display_data"
    }
   ],
   "source": [
    "My_list_fdv = 2**(np.arange(2,9))\n",
    "Mx_list_fdv = 4*np.ones(len(My_list_fdv), dtype=int)\n",
    "\n",
    "folder = 'results/numerics_verification/fdv/'\n",
    "\n",
    "E_size_fdv_arr = get_E_arr(Mx_list_fdv, My_list_fdv, folder, check_sys)\n",
    "plt.plot(My_list_fdv, E_size_fdv_arr.real, marker='x')"
   ]
  },
  {
   "cell_type": "code",
   "execution_count": 28,
   "metadata": {},
   "outputs": [
    {
     "data": {
      "text/plain": [
       "[<matplotlib.lines.Line2D at 0x7ff08567d070>]"
      ]
     },
     "execution_count": 28,
     "metadata": {},
     "output_type": "execute_result"
    },
    {
     "data": {
      "image/png": "[encoded data removed]",
      "text/plain": [
       "<Figure size 421.38x297.99 with 1 Axes>"
      ]
     },
     "metadata": {
      "needs_background": "light"
     },
     "output_type": "display_data"
    }
   ],
   "source": [
    "Mx_list_fdh = 2**(np.arange(2,9)) \n",
    "My_list_fdh = 4*np.ones(len(Mx_list_fdh), dtype=int)\n",
    "\n",
    "folder = 'results/numerics_verification/fdh/'\n",
    "\n",
    "E_size_fdh_arr = get_E_arr(Mx_list_fdh, My_list_fdh, folder, check_sys)\n",
    "plt.plot(Mx_list_fdh, E_size_fdh_arr.real, marker='x')"
   ]
  },
  {
   "cell_type": "code",
   "execution_count": 30,
   "metadata": {},
   "outputs": [
    {
     "name": "stdout",
     "output_type": "stream",
     "text": [
      "[-565.61131705-2.13102502e-17j -565.61131705+1.00793601e-16j\n",
      " -565.61131705+2.40229373e-16j -565.61131705-4.71780608e-17j\n",
      " -565.61131705-2.78013085e-17j]\n"
     ]
    },
    {
     "data": {
      "image/png": "[encoded data removed]",
      "text/plain": [
       "<Figure size 421.38x297.99 with 1 Axes>"
      ]
     },
     "metadata": {
      "needs_background": "light"
     },
     "output_type": "display_data"
    }
   ],
   "source": [
    "Mx_list_sp = 2**(np.arange(2,7))\n",
    "My_list_sp = 2**(np.arange(2,7))\n",
    "\n",
    "folder = 'results/numerics_verification/sp/'\n",
    "\n",
    "E_size_sp_arr = get_E_arr(Mx_list_sp, My_list_sp, folder, check_sys)\n",
    "plt.plot(Mx_list_sp, E_size_sp_arr.real, marker='x')\n",
    "print(E_size_sp_arr)"
   ]
  },
  {
   "cell_type": "code",
   "execution_count": 38,
   "metadata": {},
   "outputs": [],
   "source": [
    "def E_to_plot(E,E_0):\n",
    "    return np.abs(E-E_0)/np.abs(E_0)"
   ]
  },
  {
   "cell_type": "code",
   "execution_count": 46,
   "metadata": {},
   "outputs": [
    {
     "data": {
      "image/png": "[encoded data removed]",
      "text/plain": [
       "<Figure size 421.38x297.99 with 1 Axes>"
      ]
     },
     "metadata": {
      "needs_background": "light"
     },
     "output_type": "display_data"
    }
   ],
   "source": [
    "E_0_fo = np.min(E_size_fo_arr)\n",
    "E_0_fdv = np.max(E_size_fdv_arr)\n",
    "E_0_fdh = np.max(E_size_fdh_arr)\n",
    "E_0_sp = np.min(E_size_sp_arr)\n",
    "\n",
    "A = 6\n",
    "plt.rc('figure', figsize=[46.82 * .5**(.5 * A), 33.11 * .5**(.5 * A)])\n",
    "plt.rc('text', usetex=True)\n",
    "plt.rc('font', family='serif')\n",
    "font_size = 15\n",
    "\n",
    "fig, axs = plt.subplots()\n",
    "\n",
    "axs.plot(Mx_list_fo**2, E_to_plot(E_size_fo_arr, E_0_fo), marker='x', label=r'FO')\n",
    "axs.plot(My_list_fdv*Mx_list_fdv, E_to_plot(E_size_fdv_arr, E_0_fdv), marker='x', label=r'vertical FD')\n",
    "axs.plot(Mx_list_fdh*My_list_fdh, E_to_plot(E_size_fdh_arr, E_0_fdh), marker='x', label=r'horizontal FD')\n",
    "axs.plot(Mx_list_sp**2, E_to_plot(E_size_sp_arr, E_0_sp), marker='x', label=r'SP')\n",
    "\n",
    "\n",
    "axs.set_xlabel(r'$M$', fontsize=font_size)\n",
    "axs.set_ylabel(r'$|E_{vGH}(M) - E_{vGH}^0|/|E_{vGH}^0|$', fontsize=font_size)\n",
    "\n",
    "plt.xticks(fontsize=font_size)\n",
    "plt.yticks(fontsize=font_size)\n",
    "\n",
    "axs.set_xscale('log', base=2)\n",
    "#axs.set_yscale('log')\n",
    "\n",
    "plt.legend(fontsize=15)\n",
    "\n",
    "plt.tick_params(axis='x', direction='in', length=4, top=True)\n",
    "plt.tick_params(axis='y', direction='in', length=4, right=True)\n",
    "\n",
    "plt.tick_params(which='minor', axis='y', direction='in', right=True)"
   ]
  },
  {
   "cell_type": "code",
   "execution_count": 59,
   "metadata": {},
   "outputs": [
    {
     "name": "stdout",
     "output_type": "stream",
     "text": [
      "-590.9894147463673\n"
     ]
    }
   ],
   "source": [
    "params[\"tx\"] = 95\n",
    "params[\"ty\"] = 105\n",
    "\n",
    "params[\"Mx\"] = 4\n",
    "params[\"My\"] = 20\n",
    "\n",
    "params[\"V_0\"] = 150\n",
    "\n",
    "params[\"tol\"] = 1e-7\n",
    "\n",
    "params[\"init_choice\"] = \"ferro_domain_vertical_wall\"\n",
    "psi_fo, E_evo_fo, V, dE_dtx, dE_dty = solve_imag_time_prop(params)\n",
    "\n",
    "print(E_evo_fo[-1])"
   ]
  },
  {
   "cell_type": "code",
   "execution_count": null,
   "metadata": {},
   "outputs": [],
   "source": [
    "params[\"init_choice\"] = \"ferro_domain_vertical_wall\"\n",
    "psi_fdv, E_evo_fdv, V, dE_dtx, dE_dty = solve_imag_time_prop(params)\n",
    "\n",
    "params[\"init_choice\"] = \"ferro_domain_horizontal_wall\"\n",
    "psi_fdh, E_evo_fdh, V, dE_dtx, dE_dty = solve_imag_time_prop(params)\n",
    "\n",
    "params[\"init_choice\"] = \"small_polaron\"\n",
    "psi_sp, E_evo_sp, V, dE_dtx, dE_dty = solve_imag_time_prop(params)\n",
    "\n",
    "max_psi = np.max(np.array([np.abs(psi_fo)**2,np.abs(psi_fdv)**2,np.abs(psi_fdh)**2,np.abs(psi_sp)**2])).real"
   ]
  }
 ],
 "metadata": {
  "kernelspec": {
   "display_name": "Python 3 (ipykernel)",
   "language": "python",
   "name": "python3"
  },
  "language_info": {
   "codemirror_mode": {
    "name": "ipython",
    "version": 3
   },
   "file_extension": ".py",
   "mimetype": "text/x-python",
   "name": "python",
   "nbconvert_exporter": "python",
   "pygments_lexer": "ipython3",
   "version": "3.9.9"
  },
  "vscode": {
   "interpreter": {
    "hash": "916dbcbb3f70747c44a77c7bcd40155683ae19c65e1c03b4aa3499c5328201f1"
   }
  }
 },
 "nbformat": 4,
 "nbformat_minor": 4
}
